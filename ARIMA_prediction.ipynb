{
 "cells": [
  {
   "attachments": {},
   "cell_type": "markdown",
   "id": "d6093538",
   "metadata": {},
   "source": [
    "# ARIMA to predict tomorrow's closing price"
   ]
  },
  {
   "attachments": {},
   "cell_type": "markdown",
   "id": "a782c2d1",
   "metadata": {},
   "source": [
    "## Trial on Bitcoin csv to do feature engineering and try out different models before running the model on all of other Cryptos"
   ]
  },
  {
   "attachments": {},
   "cell_type": "markdown",
   "id": "82a659b0",
   "metadata": {},
   "source": [
    "Import packages"
   ]
  },
  {
   "cell_type": "code",
   "execution_count": 2,
   "id": "bd1b873d",
   "metadata": {},
   "outputs": [],
   "source": [
    "import os\n",
    "import pandas as pd\n",
    "import csv\n",
    "import numpy as np\n",
    "from stockstats import wrap\n",
    "import os\n",
    "import warnings\n",
    "warnings.filterwarnings('ignore')\n",
    "import numpy as np\n",
    "import pandas as pd\n",
    "import matplotlib.pyplot as plt\n",
    "plt.style.use('fivethirtyeight')\n",
    "from pylab import rcParams\n",
    "rcParams['figure.figsize'] = 10, 6\n",
    "from statsmodels.tsa.stattools import adfuller\n",
    "from statsmodels.tsa.seasonal import seasonal_decompose\n",
    "from statsmodels.tsa.arima_model import ARIMA\n",
    "from pmdarima.arima import auto_arima\n",
    "import statsmodels.api as sm\n",
    "from sklearn.metrics import mean_squared_error, mean_absolute_error\n",
    "import math"
   ]
  },
  {
   "cell_type": "code",
   "execution_count": 3,
   "id": "089137fd",
   "metadata": {},
   "outputs": [
    {
     "data": {
      "text/html": [
       "<div>\n",
       "<style scoped>\n",
       "    .dataframe tbody tr th:only-of-type {\n",
       "        vertical-align: middle;\n",
       "    }\n",
       "\n",
       "    .dataframe tbody tr th {\n",
       "        vertical-align: top;\n",
       "    }\n",
       "\n",
       "    .dataframe thead th {\n",
       "        text-align: right;\n",
       "    }\n",
       "</style>\n",
       "<table border=\"1\" class=\"dataframe\">\n",
       "  <thead>\n",
       "    <tr style=\"text-align: right;\">\n",
       "      <th></th>\n",
       "      <th>Open</th>\n",
       "      <th>High</th>\n",
       "      <th>Low</th>\n",
       "      <th>Close</th>\n",
       "      <th>Volume</th>\n",
       "      <th>Currency</th>\n",
       "    </tr>\n",
       "    <tr>\n",
       "      <th>Date</th>\n",
       "      <th></th>\n",
       "      <th></th>\n",
       "      <th></th>\n",
       "      <th></th>\n",
       "      <th></th>\n",
       "      <th></th>\n",
       "    </tr>\n",
       "  </thead>\n",
       "  <tbody>\n",
       "    <tr>\n",
       "      <th>2010-07-18</th>\n",
       "      <td>0.0</td>\n",
       "      <td>0.1</td>\n",
       "      <td>0.1</td>\n",
       "      <td>0.1</td>\n",
       "      <td>75</td>\n",
       "      <td>USD</td>\n",
       "    </tr>\n",
       "    <tr>\n",
       "      <th>2010-07-19</th>\n",
       "      <td>0.1</td>\n",
       "      <td>0.1</td>\n",
       "      <td>0.1</td>\n",
       "      <td>0.1</td>\n",
       "      <td>574</td>\n",
       "      <td>USD</td>\n",
       "    </tr>\n",
       "    <tr>\n",
       "      <th>2010-07-20</th>\n",
       "      <td>0.1</td>\n",
       "      <td>0.1</td>\n",
       "      <td>0.1</td>\n",
       "      <td>0.1</td>\n",
       "      <td>262</td>\n",
       "      <td>USD</td>\n",
       "    </tr>\n",
       "    <tr>\n",
       "      <th>2010-07-21</th>\n",
       "      <td>0.1</td>\n",
       "      <td>0.1</td>\n",
       "      <td>0.1</td>\n",
       "      <td>0.1</td>\n",
       "      <td>575</td>\n",
       "      <td>USD</td>\n",
       "    </tr>\n",
       "    <tr>\n",
       "      <th>2010-07-22</th>\n",
       "      <td>0.1</td>\n",
       "      <td>0.1</td>\n",
       "      <td>0.1</td>\n",
       "      <td>0.1</td>\n",
       "      <td>2160</td>\n",
       "      <td>USD</td>\n",
       "    </tr>\n",
       "  </tbody>\n",
       "</table>\n",
       "</div>"
      ],
      "text/plain": [
       "            Open  High  Low  Close  Volume Currency\n",
       "Date                                               \n",
       "2010-07-18   0.0   0.1  0.1    0.1      75      USD\n",
       "2010-07-19   0.1   0.1  0.1    0.1     574      USD\n",
       "2010-07-20   0.1   0.1  0.1    0.1     262      USD\n",
       "2010-07-21   0.1   0.1  0.1    0.1     575      USD\n",
       "2010-07-22   0.1   0.1  0.1    0.1    2160      USD"
      ]
     },
     "execution_count": 3,
     "metadata": {},
     "output_type": "execute_result"
    }
   ],
   "source": [
    "df=pd.read_csv('data/bitcoin.csv',index_col='Date')  \n",
    "\n",
    "df.head()"
   ]
  },
  {
   "cell_type": "code",
   "execution_count": 4,
   "id": "0e1d33d2",
   "metadata": {},
   "outputs": [
    {
     "data": {
      "text/plain": [
       "DatetimeIndex(['2010-07-18', '2010-07-19', '2010-07-20', '2010-07-21',\n",
       "               '2010-07-22', '2010-07-23', '2010-07-24', '2010-07-25',\n",
       "               '2010-07-26', '2010-07-27',\n",
       "               ...\n",
       "               '2022-08-14', '2022-08-15', '2022-08-16', '2022-08-17',\n",
       "               '2022-08-18', '2022-08-19', '2022-08-20', '2022-08-21',\n",
       "               '2022-08-22', '2022-08-23'],\n",
       "              dtype='datetime64[ns]', name='Date', length=4420, freq=None)"
      ]
     },
     "execution_count": 4,
     "metadata": {},
     "output_type": "execute_result"
    }
   ],
   "source": [
    "df.index = pd.to_datetime(df.index) \n",
    "df.index"
   ]
  },
  {
   "cell_type": "code",
   "execution_count": 5,
   "id": "6ce48c0f",
   "metadata": {},
   "outputs": [
    {
     "data": {
      "text/plain": [
       "Date\n",
       "2010-07-18    0.1\n",
       "2010-07-19    0.1\n",
       "2010-07-20    0.1\n",
       "2010-07-21    0.1\n",
       "2010-07-22    0.1\n",
       "Name: Close, dtype: float64"
      ]
     },
     "execution_count": 5,
     "metadata": {},
     "output_type": "execute_result"
    }
   ],
   "source": [
    "ts=df['Close'] \n",
    "ts.head() "
   ]
  },
  {
   "cell_type": "code",
   "execution_count": 6,
   "id": "55a4c2b5",
   "metadata": {},
   "outputs": [
    {
     "data": {
      "text/plain": [
       "Text(0, 0.5, 'Close Prices')"
      ]
     },
     "execution_count": 6,
     "metadata": {},
     "output_type": "execute_result"
    },
    {
     "data": {
      "image/png": "[encoded data removed]",
      "text/plain": [
       "<Figure size 432x288 with 1 Axes>"
      ]
     },
     "metadata": {
      "needs_background": "light"
     },
     "output_type": "display_data"
    }
   ],
   "source": [
    "plt.rcParams['axes.unicode_minus'] = False  \n",
    "ts.plot()         \n",
    "plt.title(\"Bitcoin\") \n",
    "plt.xticks(rotation=45)    \n",
    "plt.xlabel('Date')   \n",
    "plt.ylabel('Close Prices')"
   ]
  },
  {
   "attachments": {},
   "cell_type": "markdown",
   "id": "06f00850",
   "metadata": {},
   "source": [
    "Distribution of the dataset"
   ]
  },
  {
   "cell_type": "code",
   "execution_count": 7,
   "id": "4cc1966d",
   "metadata": {},
   "outputs": [
    {
     "data": {
      "text/plain": [
       "<AxesSubplot:ylabel='Density'>"
      ]
     },
     "execution_count": 7,
     "metadata": {},
     "output_type": "execute_result"
    },
    {
     "data": {
      "image/png": "[encoded data removed]",
      "text/plain": [
       "<Figure size 432x288 with 1 Axes>"
      ]
     },
     "metadata": {
      "needs_background": "light"
     },
     "output_type": "display_data"
    }
   ],
   "source": [
    "ts.plot(kind='kde')"
   ]
  },
  {
   "attachments": {},
   "cell_type": "markdown",
   "id": "f7d620b6",
   "metadata": {},
   "source": [
    "Test for stationarity"
   ]
  },
  {
   "cell_type": "code",
   "execution_count": 8,
   "id": "88f465f6",
   "metadata": {},
   "outputs": [
    {
     "data": {
      "image/png": "[encoded data removed]",
      "text/plain": [
       "<Figure size 432x288 with 1 Axes>"
      ]
     },
     "metadata": {
      "needs_background": "light"
     },
     "output_type": "display_data"
    },
    {
     "name": "stdout",
     "output_type": "stream",
     "text": [
      "Results of dickey fuller test\n",
      "Test Statistics                  -1.750985\n",
      "p-value                           0.405053\n",
      "No. of lags used                 31.000000\n",
      "Number of observations used    4388.000000\n",
      "critical value (1%)              -3.431841\n",
      "critical value (5%)              -2.862199\n",
      "critical value (10%)             -2.567121\n",
      "dtype: float64\n"
     ]
    }
   ],
   "source": [
    "def test_stationarity(timeseries):\n",
    "    # Determing rolling statistics\n",
    "    rolmean = timeseries.rolling(12).mean()\n",
    "    rolstd = timeseries.rolling(12).std()\n",
    "    # Plot rolling statistics:\n",
    "    plt.plot(timeseries, color='blue',label='Original')\n",
    "    plt.plot(rolmean, color='red', label='Rolling Mean')\n",
    "    plt.plot(rolstd, color='black', label = 'Rolling Std')\n",
    "    plt.legend(loc='best')\n",
    "    plt.title('Rolling Mean and Standard Deviation')\n",
    "    plt.show(block=False)\n",
    "    \n",
    "    print(\"Results of dickey fuller test\")\n",
    "    adft = adfuller(timeseries,autolag='AIC')\n",
    "    output = pd.Series(adft[0:4],index=['Test Statistics','p-value','No. of lags used','Number of observations used'])\n",
    "    for key,values in adft[4].items():\n",
    "        output['critical value (%s)'%key] =  values\n",
    "    print(output)\n",
    "    \n",
    "test_stationarity(ts)"
   ]
  },
  {
   "attachments": {},
   "cell_type": "markdown",
   "id": "769a1b9e",
   "metadata": {},
   "source": [
    "Through the above graph, we can see the varying mean and standard deviation and hence our series is not stationary.\n",
    "\n",
    "We see that the p-value is greater than 0.05 so we cannot reject the null hypothesis. Also, the test statistics is greater than the critical values. All these justification lead to the conclusion that the series is not stationary."
   ]
  },
  {
   "attachments": {},
   "cell_type": "markdown",
   "id": "ac2a2a3f",
   "metadata": {},
   "source": [
    "To separate the trend and the seasonality from a time series, we decompose the series as follows."
   ]
  },
  {
   "cell_type": "code",
   "execution_count": 9,
   "id": "81aa0c39",
   "metadata": {},
   "outputs": [
    {
     "data": {
      "text/plain": [
       "<Figure size 432x288 with 0 Axes>"
      ]
     },
     "metadata": {},
     "output_type": "display_data"
    },
    {
     "data": {
      "image/png": "[encoded data removed]",
      "text/plain": [
       "<Figure size 1152x648 with 4 Axes>"
      ]
     },
     "metadata": {
      "needs_background": "light"
     },
     "output_type": "display_data"
    }
   ],
   "source": [
    "result = seasonal_decompose(ts, model='multiplicative')\n",
    "fig = plt.figure()  \n",
    "fig = result.plot()  \n",
    "fig.set_size_inches(16, 9)"
   ]
  },
  {
   "attachments": {},
   "cell_type": "markdown",
   "id": "d7da4b02",
   "metadata": {},
   "source": [
    "Eliminate trend"
   ]
  },
  {
   "cell_type": "code",
   "execution_count": 10,
   "id": "5e05ad6e",
   "metadata": {},
   "outputs": [
    {
     "name": "stderr",
     "output_type": "stream",
     "text": [
      "No artists with labels found to put in legend.  Note that artists whose label start with an underscore are ignored when legend() is called with no argument.\n"
     ]
    },
    {
     "data": {
      "image/png": "[encoded data removed]",
      "text/plain": [
       "<Figure size 720x432 with 1 Axes>"
      ]
     },
     "metadata": {
      "needs_background": "light"
     },
     "output_type": "display_data"
    }
   ],
   "source": [
    "from pylab import rcParams\n",
    "rcParams['figure.figsize'] = 10, 6\n",
    "moving_avg = ts.rolling(12).mean()\n",
    "std_dev = ts.rolling(12).std()\n",
    "plt.legend(loc='best')\n",
    "plt.title('Moving Average')\n",
    "plt.plot(std_dev, color =\"black\", label = \"Standard Deviation\")\n",
    "plt.plot(moving_avg, color=\"red\", label = \"Mean\")\n",
    "plt.legend()\n",
    "plt.show()"
   ]
  },
  {
   "attachments": {},
   "cell_type": "markdown",
   "id": "9ef6646e",
   "metadata": {},
   "source": [
    "Split data into train and training set"
   ]
  },
  {
   "cell_type": "code",
   "execution_count": 11,
   "id": "4dc120bb",
   "metadata": {},
   "outputs": [
    {
     "data": {
      "text/plain": [
       "<matplotlib.legend.Legend at 0x7f840824b5b0>"
      ]
     },
     "execution_count": 11,
     "metadata": {},
     "output_type": "execute_result"
    },
    {
     "data": {
      "image/png": "[encoded data removed]",
      "text/plain": [
       "<Figure size 720x432 with 1 Axes>"
      ]
     },
     "metadata": {
      "needs_background": "light"
     },
     "output_type": "display_data"
    }
   ],
   "source": [
    "train_data, test_data = ts[:pd.to_datetime('2021-08-27')], ts[pd.to_datetime('2021-08-27'):]\n",
    "plt.figure(figsize=(10,6))\n",
    "plt.grid(True)\n",
    "plt.xlabel('Dates')\n",
    "plt.ylabel('Close Prices')\n",
    "plt.plot(ts, 'green', label='Train data')\n",
    "plt.plot(test_data, 'blue', label='Test data')\n",
    "plt.legend()"
   ]
  },
  {
   "attachments": {},
   "cell_type": "markdown",
   "id": "70fb3aac",
   "metadata": {},
   "source": [
    "Use AutoARIMA function to find the best params"
   ]
  },
  {
   "cell_type": "code",
   "execution_count": 12,
   "id": "d256275c",
   "metadata": {},
   "outputs": [
    {
     "name": "stdout",
     "output_type": "stream",
     "text": [
      "Performing stepwise search to minimize aic\n",
      " ARIMA(0,1,0)(0,0,0)[0] intercept   : AIC=62382.298, Time=0.11 sec\n",
      " ARIMA(1,1,0)(0,0,0)[0] intercept   : AIC=62364.424, Time=0.12 sec\n",
      " ARIMA(0,1,1)(0,0,0)[0] intercept   : AIC=62367.088, Time=0.18 sec\n",
      " ARIMA(0,1,0)(0,0,0)[0]             : AIC=62382.435, Time=0.04 sec\n",
      " ARIMA(2,1,0)(0,0,0)[0] intercept   : AIC=62345.042, Time=0.16 sec\n",
      " ARIMA(3,1,0)(0,0,0)[0] intercept   : AIC=62340.681, Time=0.20 sec\n",
      " ARIMA(3,1,1)(0,0,0)[0] intercept   : AIC=62341.074, Time=0.71 sec\n",
      " ARIMA(2,1,1)(0,0,0)[0] intercept   : AIC=62339.991, Time=0.53 sec\n",
      " ARIMA(1,1,1)(0,0,0)[0] intercept   : AIC=62355.480, Time=0.53 sec\n",
      " ARIMA(2,1,2)(0,0,0)[0] intercept   : AIC=62341.353, Time=0.67 sec\n",
      " ARIMA(1,1,2)(0,0,0)[0] intercept   : AIC=62339.419, Time=0.53 sec\n",
      " ARIMA(0,1,2)(0,0,0)[0] intercept   : AIC=62343.128, Time=0.23 sec\n",
      " ARIMA(1,1,3)(0,0,0)[0] intercept   : AIC=62341.373, Time=0.92 sec\n",
      " ARIMA(0,1,3)(0,0,0)[0] intercept   : AIC=62341.121, Time=0.30 sec\n",
      " ARIMA(2,1,3)(0,0,0)[0] intercept   : AIC=62341.857, Time=1.69 sec\n",
      " ARIMA(1,1,2)(0,0,0)[0]             : AIC=62338.295, Time=0.32 sec\n",
      " ARIMA(0,1,2)(0,0,0)[0]             : AIC=62343.239, Time=0.14 sec\n",
      " ARIMA(1,1,1)(0,0,0)[0]             : AIC=62355.612, Time=0.30 sec\n",
      " ARIMA(2,1,2)(0,0,0)[0]             : AIC=62340.153, Time=0.40 sec\n",
      " ARIMA(1,1,3)(0,0,0)[0]             : AIC=62340.196, Time=0.67 sec\n",
      " ARIMA(0,1,1)(0,0,0)[0]             : AIC=62367.494, Time=0.09 sec\n",
      " ARIMA(0,1,3)(0,0,0)[0]             : AIC=62341.119, Time=0.18 sec\n",
      " ARIMA(2,1,1)(0,0,0)[0]             : AIC=62338.265, Time=0.31 sec\n",
      " ARIMA(2,1,0)(0,0,0)[0]             : AIC=62345.153, Time=0.10 sec\n",
      " ARIMA(3,1,1)(0,0,0)[0]             : AIC=62340.176, Time=0.50 sec\n",
      " ARIMA(1,1,0)(0,0,0)[0]             : AIC=62364.866, Time=0.07 sec\n",
      " ARIMA(3,1,0)(0,0,0)[0]             : AIC=62340.634, Time=0.12 sec\n",
      " ARIMA(3,1,2)(0,0,0)[0]             : AIC=62342.255, Time=0.55 sec\n",
      "\n",
      "Best model:  ARIMA(2,1,1)(0,0,0)[0]          \n",
      "Total fit time: 10.701 seconds\n",
      "                               SARIMAX Results                                \n",
      "==============================================================================\n",
      "Dep. Variable:                      y   No. Observations:                 4059\n",
      "Model:               SARIMAX(2, 1, 1)   Log Likelihood              -31165.132\n",
      "Date:                Mon, 12 Dec 2022   AIC                          62338.265\n",
      "Time:                        21:45:07   BIC                          62363.499\n",
      "Sample:                    07-18-2010   HQIC                         62347.203\n",
      "                         - 08-27-2021                                         \n",
      "Covariance Type:                  opg                                         \n",
      "==============================================================================\n",
      "                 coef    std err          z      P>|z|      [0.025      0.975]\n",
      "------------------------------------------------------------------------------\n",
      "ar.L1          0.4481      0.040     11.094      0.000       0.369       0.527\n",
      "ar.L2          0.1102      0.004     24.988      0.000       0.102       0.119\n",
      "ma.L1         -0.5166      0.041    -12.740      0.000      -0.596      -0.437\n",
      "sigma2      2.747e+05   1275.097    215.456      0.000    2.72e+05    2.77e+05\n",
      "===================================================================================\n",
      "Ljung-Box (L1) (Q):                   0.00   Jarque-Bera (JB):            364009.96\n",
      "Prob(Q):                              0.96   Prob(JB):                         0.00\n",
      "Heteroskedasticity (H):            1105.73   Skew:                             0.22\n",
      "Prob(H) (two-sided):                  0.00   Kurtosis:                        49.40\n",
      "===================================================================================\n",
      "\n",
      "Warnings:\n",
      "[1] Covariance matrix calculated using the outer product of gradients (complex-step).\n"
     ]
    },
    {
     "data": {
      "image/png": "[encoded data removed]",
      "text/plain": [
       "<Figure size 1080x576 with 4 Axes>"
      ]
     },
     "metadata": {
      "needs_background": "light"
     },
     "output_type": "display_data"
    }
   ],
   "source": [
    "model_autoARIMA = auto_arima(train_data, start_p=0, start_q=0,\n",
    "                      test='adf',       # use adftest to find optimal 'd'\n",
    "                      max_p=3, max_q=3, # maximum p and q\n",
    "                      m=1,              # frequency of series\n",
    "                      d=None,           # let model determine 'd'\n",
    "                      seasonal=False,   # No Seasonality\n",
    "                      start_P=0, \n",
    "                      D=0, \n",
    "                      trace=True,\n",
    "                      error_action='ignore',  \n",
    "                      suppress_warnings=True, \n",
    "                      stepwise=True)\n",
    "print(model_autoARIMA.summary())\n",
    "model_autoARIMA.plot_diagnostics(figsize=(15,8))\n",
    "plt.show()"
   ]
  },
  {
   "attachments": {},
   "cell_type": "markdown",
   "id": "6c9926ce",
   "metadata": {},
   "source": [
    "interpret:\n",
    "\n",
    "Top left: The residual errors seem to fluctuate around a mean of zero and have a uniform variance.\n",
    "\n",
    "Top Right: The density plot suggest normal distribution with mean zero.\n",
    "\n",
    "Bottom left: All the dots should fall perfectly in line with the red line. \n",
    "\n",
    "Bottom Right: The Correlogram, aka, ACF plot shows the residual errors are not autocorrelated. \n",
    "\n",
    "Overall, it seems to be a good fit. then we start forecasting the stock prices."
   ]
  },
  {
   "attachments": {},
   "cell_type": "markdown",
   "id": "3136b15b",
   "metadata": {},
   "source": [
    "Build Model"
   ]
  },
  {
   "cell_type": "code",
   "execution_count": 13,
   "id": "61c6f4b0",
   "metadata": {},
   "outputs": [
    {
     "name": "stderr",
     "output_type": "stream",
     "text": [
      "/Users/xiyan/.conda/envs/pythonPKG/lib/python3.9/site-packages/statsmodels/tsa/base/tsa_model.py:471: ValueWarning: No frequency information was provided, so inferred frequency D will be used.\n",
      "  self._init_dates(dates, freq)\n",
      "/Users/xiyan/.conda/envs/pythonPKG/lib/python3.9/site-packages/statsmodels/tsa/base/tsa_model.py:471: ValueWarning: No frequency information was provided, so inferred frequency D will be used.\n",
      "  self._init_dates(dates, freq)\n",
      "/Users/xiyan/.conda/envs/pythonPKG/lib/python3.9/site-packages/statsmodels/tsa/base/tsa_model.py:471: ValueWarning: No frequency information was provided, so inferred frequency D will be used.\n",
      "  self._init_dates(dates, freq)\n"
     ]
    },
    {
     "name": "stdout",
     "output_type": "stream",
     "text": [
      "                               SARIMAX Results                                \n",
      "==============================================================================\n",
      "Dep. Variable:                  Close   No. Observations:                 4059\n",
      "Model:                 ARIMA(2, 1, 1)   Log Likelihood              -31165.132\n",
      "Date:                Mon, 12 Dec 2022   AIC                          62338.265\n",
      "Time:                        21:45:08   BIC                          62363.499\n",
      "Sample:                    07-18-2010   HQIC                         62347.203\n",
      "                         - 08-27-2021                                         \n",
      "Covariance Type:                  opg                                         \n",
      "==============================================================================\n",
      "                 coef    std err          z      P>|z|      [0.025      0.975]\n",
      "------------------------------------------------------------------------------\n",
      "ar.L1          0.4481      0.040     11.094      0.000       0.369       0.527\n",
      "ar.L2          0.1102      0.004     24.988      0.000       0.102       0.119\n",
      "ma.L1         -0.5166      0.041    -12.740      0.000      -0.596      -0.437\n",
      "sigma2      2.747e+05   1275.097    215.456      0.000    2.72e+05    2.77e+05\n",
      "===================================================================================\n",
      "Ljung-Box (L1) (Q):                   0.00   Jarque-Bera (JB):            364009.96\n",
      "Prob(Q):                              0.96   Prob(JB):                         0.00\n",
      "Heteroskedasticity (H):            1105.73   Skew:                             0.22\n",
      "Prob(H) (two-sided):                  0.00   Kurtosis:                        49.40\n",
      "===================================================================================\n",
      "\n",
      "Warnings:\n",
      "[1] Covariance matrix calculated using the outer product of gradients (complex-step).\n"
     ]
    }
   ],
   "source": [
    "model = sm.tsa.arima.ARIMA(train_data, order=model_autoARIMA.order)\n",
    "fitted = model.fit()\n",
    "\n",
    "print(fitted.summary())"
   ]
  },
  {
   "cell_type": "code",
   "execution_count": 14,
   "id": "06e2e989",
   "metadata": {},
   "outputs": [
    {
     "data": {
      "text/plain": [
       "2021-08-28    48771.066644\n",
       "2021-08-29    48885.754692\n",
       "2021-08-30    48904.826869\n",
       "2021-08-31    48926.014066\n",
       "2021-09-01    48937.610271\n",
       "                  ...     \n",
       "2022-08-20    48957.556309\n",
       "2022-08-21    48957.556309\n",
       "2022-08-22    48957.556309\n",
       "2022-08-23    48957.556309\n",
       "2022-08-24    48957.556309\n",
       "Freq: D, Name: predicted_mean, Length: 362, dtype: float64"
      ]
     },
     "execution_count": 14,
     "metadata": {},
     "output_type": "execute_result"
    }
   ],
   "source": [
    "close_pred = fitted.forecast(test_data.size, alpha=0.05)\n",
    "close_pred"
   ]
  },
  {
   "attachments": {},
   "cell_type": "markdown",
   "id": "e9cd6b77",
   "metadata": {},
   "source": [
    "plot results"
   ]
  },
  {
   "cell_type": "code",
   "execution_count": 15,
   "id": "662c9b05",
   "metadata": {},
   "outputs": [
    {
     "data": {
      "image/png": "[encoded data removed]",
      "text/plain": [
       "<Figure size 1000x500 with 1 Axes>"
      ]
     },
     "metadata": {
      "needs_background": "light"
     },
     "output_type": "display_data"
    }
   ],
   "source": [
    "close_pred_series = pd.Series(close_pred, index=test_data.index)\n",
    "\n",
    "# Plot\n",
    "plt.figure(figsize=(10,5), dpi=100)\n",
    "plt.plot(train_data, label='training data')\n",
    "plt.plot(test_data, color = 'blue', label='Actual Cryptocurrency Price')\n",
    "plt.plot(close_pred_series, color = 'orange',label='Predicted Cryptocurrency Price')\n",
    "\n",
    "plt.title('Close Price Prediction')\n",
    "plt.xlabel('Time')\n",
    "plt.ylabel('Close Price Price')\n",
    "plt.legend(loc='upper left', fontsize=8)\n",
    "plt.show()"
   ]
  },
  {
   "attachments": {},
   "cell_type": "markdown",
   "id": "9e597d18",
   "metadata": {},
   "source": [
    "report performance"
   ]
  },
  {
   "cell_type": "code",
   "execution_count": 16,
   "id": "3931e097",
   "metadata": {},
   "outputs": [
    {
     "name": "stdout",
     "output_type": "stream",
     "text": [
      "MSE: 231337464.6419244\n",
      "MAE: 12279.679489599499\n",
      "RMSE: 15209.78187358137\n",
      "MAPE: 0.422316677398636\n"
     ]
    }
   ],
   "source": [
    "mse = mean_squared_error(test_data, close_pred)\n",
    "print('MSE: '+str(mse))\n",
    "mae = mean_absolute_error(test_data, close_pred)\n",
    "print('MAE: '+str(mae))\n",
    "rmse = math.sqrt(mean_squared_error(test_data, close_pred))\n",
    "print('RMSE: '+str(rmse))\n",
    "mape = np.mean(np.abs(close_pred - test_data)/np.abs(test_data))\n",
    "print('MAPE: '+str(mape))"
   ]
  },
  {
   "attachments": {},
   "cell_type": "markdown",
   "id": "eb6472d6",
   "metadata": {},
   "source": [
    "## Apply this model in all of the crypto currencies"
   ]
  },
  {
   "attachments": {},
   "cell_type": "markdown",
   "id": "dc5aceaf",
   "metadata": {},
   "source": [
    "Get crypto file names"
   ]
  },
  {
   "cell_type": "code",
   "execution_count": 17,
   "id": "7723dd8c",
   "metadata": {},
   "outputs": [],
   "source": [
    "def files(dir):\n",
    "    names = []\n",
    "    for root, dirs, files in os.walk(dir):  \n",
    "        for file in files:  \n",
    "            if os.path.splitext(file)[1] == '.csv':  # csv files\n",
    "                names.append(file)\n",
    "    return names"
   ]
  },
  {
   "cell_type": "code",
   "execution_count": 18,
   "id": "182149a6",
   "metadata": {},
   "outputs": [],
   "source": [
    "names = files(os.getcwd() + \"/data\")"
   ]
  },
  {
   "cell_type": "code",
   "execution_count": 19,
   "id": "4191dd77",
   "metadata": {},
   "outputs": [
    {
     "name": "stdout",
     "output_type": "stream",
     "text": [
      "Performing stepwise search to minimize aic\n",
      " ARIMA(0,1,0)(0,0,0)[0] intercept   : AIC=-1165.107, Time=0.11 sec\n",
      " ARIMA(1,1,0)(0,0,0)[0] intercept   : AIC=-1164.293, Time=0.08 sec\n",
      " ARIMA(0,1,1)(0,0,0)[0] intercept   : AIC=-1164.175, Time=0.12 sec\n",
      " ARIMA(0,1,0)(0,0,0)[0]             : AIC=-1165.564, Time=0.05 sec\n",
      " ARIMA(1,1,1)(0,0,0)[0] intercept   : AIC=-1175.208, Time=0.33 sec\n",
      " ARIMA(2,1,1)(0,0,0)[0] intercept   : AIC=-1174.492, Time=0.46 sec\n",
      " ARIMA(1,1,2)(0,0,0)[0] intercept   : AIC=-1169.675, Time=0.46 sec\n",
      " ARIMA(0,1,2)(0,0,0)[0] intercept   : AIC=-1164.679, Time=0.14 sec\n",
      " ARIMA(2,1,0)(0,0,0)[0] intercept   : AIC=-1165.441, Time=0.08 sec\n",
      " ARIMA(2,1,2)(0,0,0)[0] intercept   : AIC=-1171.560, Time=0.75 sec\n",
      " ARIMA(1,1,1)(0,0,0)[0]             : AIC=-1175.565, Time=0.17 sec\n",
      " ARIMA(0,1,1)(0,0,0)[0]             : AIC=-1164.537, Time=0.06 sec\n",
      " ARIMA(1,1,0)(0,0,0)[0]             : AIC=-1164.647, Time=0.08 sec\n",
      " ARIMA(2,1,1)(0,0,0)[0]             : AIC=-1174.961, Time=0.24 sec\n",
      " ARIMA(1,1,2)(0,0,0)[0]             : AIC=-1170.595, Time=0.33 sec\n",
      " ARIMA(0,1,2)(0,0,0)[0]             : AIC=-1165.168, Time=0.07 sec\n",
      " ARIMA(2,1,0)(0,0,0)[0]             : AIC=-1165.967, Time=0.10 sec\n",
      " ARIMA(2,1,2)(0,0,0)[0]             : AIC=-1171.568, Time=0.23 sec\n",
      "\n",
      "Best model:  ARIMA(1,1,1)(0,0,0)[0]          \n",
      "Total fit time: 3.863 seconds\n"
     ]
    },
    {
     "name": "stderr",
     "output_type": "stream",
     "text": [
      "/Users/xiyan/.conda/envs/pythonPKG/lib/python3.9/site-packages/statsmodels/tsa/base/tsa_model.py:471: ValueWarning: A date index has been provided, but it has no associated frequency information and so will be ignored when e.g. forecasting.\n",
      "  self._init_dates(dates, freq)\n",
      "/Users/xiyan/.conda/envs/pythonPKG/lib/python3.9/site-packages/statsmodels/tsa/base/tsa_model.py:471: ValueWarning: A date index has been provided, but it has no associated frequency information and so will be ignored when e.g. forecasting.\n",
      "  self._init_dates(dates, freq)\n",
      "/Users/xiyan/.conda/envs/pythonPKG/lib/python3.9/site-packages/statsmodels/tsa/base/tsa_model.py:471: ValueWarning: A date index has been provided, but it has no associated frequency information and so will be ignored when e.g. forecasting.\n",
      "  self._init_dates(dates, freq)\n",
      "/Users/xiyan/.conda/envs/pythonPKG/lib/python3.9/site-packages/statsmodels/tsa/base/tsa_model.py:834: ValueWarning: No supported index is available. Prediction results will be given with an integer index beginning at `start`.\n",
      "  return get_prediction_index(\n"
     ]
    },
    {
     "name": "stdout",
     "output_type": "stream",
     "text": [
      "Performing stepwise search to minimize aic\n",
      " ARIMA(0,1,0)(0,0,0)[0] intercept   : AIC=-2162.012, Time=0.15 sec\n",
      " ARIMA(1,1,0)(0,0,0)[0] intercept   : AIC=-2160.418, Time=0.09 sec\n",
      " ARIMA(0,1,1)(0,0,0)[0] intercept   : AIC=-2160.363, Time=0.14 sec\n",
      " ARIMA(0,1,0)(0,0,0)[0]             : AIC=-2163.997, Time=0.08 sec\n",
      " ARIMA(1,1,1)(0,0,0)[0] intercept   : AIC=-2158.026, Time=0.18 sec\n",
      "\n",
      "Best model:  ARIMA(0,1,0)(0,0,0)[0]          \n",
      "Total fit time: 0.645 seconds\n"
     ]
    },
    {
     "name": "stderr",
     "output_type": "stream",
     "text": [
      "/Users/xiyan/.conda/envs/pythonPKG/lib/python3.9/site-packages/statsmodels/tsa/base/tsa_model.py:471: ValueWarning: No frequency information was provided, so inferred frequency D will be used.\n",
      "  self._init_dates(dates, freq)\n",
      "/Users/xiyan/.conda/envs/pythonPKG/lib/python3.9/site-packages/statsmodels/tsa/base/tsa_model.py:471: ValueWarning: No frequency information was provided, so inferred frequency D will be used.\n",
      "  self._init_dates(dates, freq)\n",
      "/Users/xiyan/.conda/envs/pythonPKG/lib/python3.9/site-packages/statsmodels/tsa/base/tsa_model.py:471: ValueWarning: No frequency information was provided, so inferred frequency D will be used.\n",
      "  self._init_dates(dates, freq)\n"
     ]
    },
    {
     "name": "stdout",
     "output_type": "stream",
     "text": [
      "Performing stepwise search to minimize aic\n",
      " ARIMA(0,1,0)(0,0,0)[0] intercept   : AIC=1256.121, Time=0.01 sec\n",
      " ARIMA(1,1,0)(0,0,0)[0] intercept   : AIC=1258.119, Time=0.03 sec\n",
      " ARIMA(0,1,1)(0,0,0)[0] intercept   : AIC=1258.119, Time=0.03 sec\n",
      " ARIMA(0,1,0)(0,0,0)[0]             : AIC=1258.587, Time=0.01 sec\n",
      " ARIMA(1,1,1)(0,0,0)[0] intercept   : AIC=1247.665, Time=0.07 sec\n",
      " ARIMA(2,1,1)(0,0,0)[0] intercept   : AIC=1242.218, Time=0.07 sec\n",
      " ARIMA(2,1,0)(0,0,0)[0] intercept   : AIC=1248.911, Time=0.03 sec\n",
      " ARIMA(3,1,1)(0,0,0)[0] intercept   : AIC=1243.898, Time=0.11 sec\n",
      " ARIMA(2,1,2)(0,0,0)[0] intercept   : AIC=1243.937, Time=0.11 sec\n",
      " ARIMA(1,1,2)(0,0,0)[0] intercept   : AIC=1242.934, Time=0.09 sec\n",
      " ARIMA(3,1,0)(0,0,0)[0] intercept   : AIC=1247.739, Time=0.05 sec\n",
      " ARIMA(3,1,2)(0,0,0)[0] intercept   : AIC=1246.216, Time=0.10 sec\n",
      " ARIMA(2,1,1)(0,0,0)[0]             : AIC=1243.777, Time=0.05 sec\n",
      "\n",
      "Best model:  ARIMA(2,1,1)(0,0,0)[0] intercept\n",
      "Total fit time: 0.768 seconds\n"
     ]
    },
    {
     "name": "stderr",
     "output_type": "stream",
     "text": [
      "/Users/xiyan/.conda/envs/pythonPKG/lib/python3.9/site-packages/statsmodels/tsa/base/tsa_model.py:471: ValueWarning: No frequency information was provided, so inferred frequency D will be used.\n",
      "  self._init_dates(dates, freq)\n",
      "/Users/xiyan/.conda/envs/pythonPKG/lib/python3.9/site-packages/statsmodels/tsa/base/tsa_model.py:471: ValueWarning: No frequency information was provided, so inferred frequency D will be used.\n",
      "  self._init_dates(dates, freq)\n",
      "/Users/xiyan/.conda/envs/pythonPKG/lib/python3.9/site-packages/statsmodels/tsa/base/tsa_model.py:471: ValueWarning: No frequency information was provided, so inferred frequency D will be used.\n",
      "  self._init_dates(dates, freq)\n"
     ]
    },
    {
     "name": "stdout",
     "output_type": "stream",
     "text": [
      "Performing stepwise search to minimize aic\n",
      " ARIMA(0,1,0)(0,0,0)[0] intercept   : AIC=3818.102, Time=0.02 sec\n",
      " ARIMA(1,1,0)(0,0,0)[0] intercept   : AIC=3755.878, Time=0.07 sec\n",
      " ARIMA(0,1,1)(0,0,0)[0] intercept   : AIC=3766.882, Time=0.08 sec\n",
      " ARIMA(0,1,0)(0,0,0)[0]             : AIC=3816.560, Time=0.02 sec\n",
      " ARIMA(2,1,0)(0,0,0)[0] intercept   : AIC=3747.483, Time=0.09 sec\n",
      " ARIMA(3,1,0)(0,0,0)[0] intercept   : AIC=3747.747, Time=0.11 sec\n",
      " ARIMA(2,1,1)(0,0,0)[0] intercept   : AIC=3741.607, Time=0.24 sec\n",
      " ARIMA(1,1,1)(0,0,0)[0] intercept   : AIC=3740.248, Time=0.15 sec\n",
      " ARIMA(1,1,2)(0,0,0)[0] intercept   : AIC=3741.577, Time=0.24 sec\n",
      " ARIMA(0,1,2)(0,0,0)[0] intercept   : AIC=3752.580, Time=0.11 sec\n",
      " ARIMA(2,1,2)(0,0,0)[0] intercept   : AIC=3742.142, Time=1.00 sec\n",
      " ARIMA(1,1,1)(0,0,0)[0]             : AIC=3738.839, Time=0.09 sec\n",
      " ARIMA(0,1,1)(0,0,0)[0]             : AIC=3765.584, Time=0.04 sec\n",
      " ARIMA(1,1,0)(0,0,0)[0]             : AIC=3754.576, Time=0.04 sec\n",
      " ARIMA(2,1,1)(0,0,0)[0]             : AIC=3740.222, Time=0.12 sec\n",
      " ARIMA(1,1,2)(0,0,0)[0]             : AIC=3740.194, Time=0.14 sec\n",
      " ARIMA(0,1,2)(0,0,0)[0]             : AIC=3751.145, Time=0.07 sec\n",
      " ARIMA(2,1,0)(0,0,0)[0]             : AIC=3746.064, Time=0.06 sec\n",
      " ARIMA(2,1,2)(0,0,0)[0]             : AIC=3732.659, Time=0.88 sec\n",
      " ARIMA(3,1,2)(0,0,0)[0]             : AIC=3744.157, Time=0.33 sec\n",
      " ARIMA(2,1,3)(0,0,0)[0]             : AIC=3728.003, Time=0.33 sec\n",
      " ARIMA(1,1,3)(0,0,0)[0]             : AIC=3742.100, Time=0.16 sec\n",
      " ARIMA(3,1,3)(0,0,0)[0]             : AIC=3711.691, Time=0.95 sec\n",
      " ARIMA(3,1,3)(0,0,0)[0] intercept   : AIC=3713.076, Time=1.29 sec\n",
      "\n",
      "Best model:  ARIMA(3,1,3)(0,0,0)[0]          \n",
      "Total fit time: 6.631 seconds\n"
     ]
    },
    {
     "name": "stderr",
     "output_type": "stream",
     "text": [
      "/Users/xiyan/.conda/envs/pythonPKG/lib/python3.9/site-packages/statsmodels/tsa/base/tsa_model.py:471: ValueWarning: No frequency information was provided, so inferred frequency D will be used.\n",
      "  self._init_dates(dates, freq)\n",
      "/Users/xiyan/.conda/envs/pythonPKG/lib/python3.9/site-packages/statsmodels/tsa/base/tsa_model.py:471: ValueWarning: No frequency information was provided, so inferred frequency D will be used.\n",
      "  self._init_dates(dates, freq)\n",
      "/Users/xiyan/.conda/envs/pythonPKG/lib/python3.9/site-packages/statsmodels/tsa/base/tsa_model.py:471: ValueWarning: No frequency information was provided, so inferred frequency D will be used.\n",
      "  self._init_dates(dates, freq)\n",
      "/Users/xiyan/.conda/envs/pythonPKG/lib/python3.9/site-packages/statsmodels/base/model.py:604: ConvergenceWarning: Maximum Likelihood optimization failed to converge. Check mle_retvals\n",
      "  warnings.warn(\"Maximum Likelihood optimization failed to \"\n"
     ]
    },
    {
     "name": "stdout",
     "output_type": "stream",
     "text": [
      "Performing stepwise search to minimize aic\n",
      " ARIMA(0,1,0)(0,0,0)[0] intercept   : AIC=6320.931, Time=0.02 sec\n",
      " ARIMA(1,1,0)(0,0,0)[0] intercept   : AIC=6292.368, Time=0.03 sec\n",
      " ARIMA(0,1,1)(0,0,0)[0] intercept   : AIC=6291.002, Time=0.06 sec\n",
      " ARIMA(0,1,0)(0,0,0)[0]             : AIC=6319.208, Time=0.01 sec\n",
      " ARIMA(1,1,1)(0,0,0)[0] intercept   : AIC=6293.000, Time=0.10 sec\n",
      " ARIMA(0,1,2)(0,0,0)[0] intercept   : AIC=6293.001, Time=0.12 sec\n",
      " ARIMA(1,1,2)(0,0,0)[0] intercept   : AIC=6291.670, Time=0.14 sec\n",
      " ARIMA(0,1,1)(0,0,0)[0]             : AIC=6289.453, Time=0.04 sec\n",
      " ARIMA(1,1,1)(0,0,0)[0]             : AIC=6291.452, Time=0.06 sec\n",
      " ARIMA(0,1,2)(0,0,0)[0]             : AIC=6291.452, Time=0.06 sec\n",
      " ARIMA(1,1,0)(0,0,0)[0]             : AIC=6290.774, Time=0.02 sec\n",
      " ARIMA(1,1,2)(0,0,0)[0]             : AIC=6290.442, Time=0.11 sec\n",
      "\n",
      "Best model:  ARIMA(0,1,1)(0,0,0)[0]          \n",
      "Total fit time: 0.785 seconds\n",
      "Performing stepwise search to minimize aic\n"
     ]
    },
    {
     "name": "stderr",
     "output_type": "stream",
     "text": [
      "/Users/xiyan/.conda/envs/pythonPKG/lib/python3.9/site-packages/statsmodels/tsa/base/tsa_model.py:471: ValueWarning: No frequency information was provided, so inferred frequency D will be used.\n",
      "  self._init_dates(dates, freq)\n",
      "/Users/xiyan/.conda/envs/pythonPKG/lib/python3.9/site-packages/statsmodels/tsa/base/tsa_model.py:471: ValueWarning: No frequency information was provided, so inferred frequency D will be used.\n",
      "  self._init_dates(dates, freq)\n",
      "/Users/xiyan/.conda/envs/pythonPKG/lib/python3.9/site-packages/statsmodels/tsa/base/tsa_model.py:471: ValueWarning: No frequency information was provided, so inferred frequency D will be used.\n",
      "  self._init_dates(dates, freq)\n"
     ]
    },
    {
     "name": "stdout",
     "output_type": "stream",
     "text": [
      " ARIMA(0,1,0)(0,0,0)[0] intercept   : AIC=-4238.070, Time=0.05 sec\n",
      " ARIMA(1,1,0)(0,0,0)[0] intercept   : AIC=-4298.741, Time=0.11 sec\n",
      " ARIMA(0,1,1)(0,0,0)[0] intercept   : AIC=-4287.744, Time=0.18 sec\n",
      " ARIMA(0,1,0)(0,0,0)[0]             : AIC=-4239.814, Time=0.06 sec\n",
      " ARIMA(2,1,0)(0,0,0)[0] intercept   : AIC=-4300.218, Time=0.28 sec\n",
      " ARIMA(3,1,0)(0,0,0)[0] intercept   : AIC=-4298.430, Time=0.34 sec\n",
      " ARIMA(2,1,1)(0,0,0)[0] intercept   : AIC=-4299.197, Time=0.32 sec\n",
      " ARIMA(1,1,1)(0,0,0)[0] intercept   : AIC=-4301.085, Time=0.14 sec\n",
      " ARIMA(1,1,2)(0,0,0)[0] intercept   : AIC=-4298.407, Time=0.16 sec\n",
      " ARIMA(0,1,2)(0,0,0)[0] intercept   : AIC=-4298.176, Time=0.07 sec\n",
      " ARIMA(2,1,2)(0,0,0)[0] intercept   : AIC=-4296.132, Time=0.12 sec\n",
      " ARIMA(1,1,1)(0,0,0)[0]             : AIC=-4302.709, Time=0.08 sec\n",
      " ARIMA(0,1,1)(0,0,0)[0]             : AIC=-4289.266, Time=0.09 sec\n",
      " ARIMA(1,1,0)(0,0,0)[0]             : AIC=-4300.291, Time=0.06 sec\n",
      " ARIMA(2,1,1)(0,0,0)[0]             : AIC=-4300.851, Time=0.09 sec\n",
      " ARIMA(1,1,2)(0,0,0)[0]             : AIC=-4299.967, Time=0.10 sec\n",
      " ARIMA(0,1,2)(0,0,0)[0]             : AIC=-4300.045, Time=0.14 sec\n",
      " ARIMA(2,1,0)(0,0,0)[0]             : AIC=-4301.838, Time=0.04 sec\n",
      " ARIMA(2,1,2)(0,0,0)[0]             : AIC=-4297.723, Time=0.24 sec\n",
      "\n",
      "Best model:  ARIMA(1,1,1)(0,0,0)[0]          \n",
      "Total fit time: 2.700 seconds\n"
     ]
    },
    {
     "name": "stderr",
     "output_type": "stream",
     "text": [
      "/Users/xiyan/.conda/envs/pythonPKG/lib/python3.9/site-packages/statsmodels/tsa/base/tsa_model.py:471: ValueWarning: No frequency information was provided, so inferred frequency D will be used.\n",
      "  self._init_dates(dates, freq)\n",
      "/Users/xiyan/.conda/envs/pythonPKG/lib/python3.9/site-packages/statsmodels/tsa/base/tsa_model.py:471: ValueWarning: No frequency information was provided, so inferred frequency D will be used.\n",
      "  self._init_dates(dates, freq)\n",
      "/Users/xiyan/.conda/envs/pythonPKG/lib/python3.9/site-packages/statsmodels/tsa/base/tsa_model.py:471: ValueWarning: No frequency information was provided, so inferred frequency D will be used.\n",
      "  self._init_dates(dates, freq)\n"
     ]
    },
    {
     "name": "stdout",
     "output_type": "stream",
     "text": [
      "Performing stepwise search to minimize aic\n",
      " ARIMA(0,1,0)(0,0,0)[0] intercept   : AIC=16911.407, Time=0.03 sec\n",
      " ARIMA(1,1,0)(0,0,0)[0] intercept   : AIC=16909.969, Time=0.05 sec\n",
      " ARIMA(0,1,1)(0,0,0)[0] intercept   : AIC=16908.993, Time=0.06 sec\n",
      " ARIMA(0,1,0)(0,0,0)[0]             : AIC=16909.420, Time=0.02 sec\n",
      " ARIMA(1,1,1)(0,0,0)[0] intercept   : AIC=16903.412, Time=0.25 sec\n",
      " ARIMA(2,1,1)(0,0,0)[0] intercept   : AIC=16886.324, Time=0.21 sec\n",
      " ARIMA(2,1,0)(0,0,0)[0] intercept   : AIC=16892.399, Time=0.07 sec\n",
      " ARIMA(3,1,1)(0,0,0)[0] intercept   : AIC=16888.224, Time=0.33 sec\n",
      " ARIMA(2,1,2)(0,0,0)[0] intercept   : AIC=16882.801, Time=0.66 sec\n",
      " ARIMA(1,1,2)(0,0,0)[0] intercept   : AIC=16886.834, Time=0.24 sec\n",
      " ARIMA(3,1,2)(0,0,0)[0] intercept   : AIC=16880.445, Time=1.06 sec\n",
      " ARIMA(3,1,3)(0,0,0)[0] intercept   : AIC=16880.955, Time=1.68 sec\n",
      " ARIMA(2,1,3)(0,0,0)[0] intercept   : AIC=16890.857, Time=0.30 sec\n",
      " ARIMA(3,1,2)(0,0,0)[0]             : AIC=16878.455, Time=0.67 sec\n",
      " ARIMA(2,1,2)(0,0,0)[0]             : AIC=16880.825, Time=0.27 sec\n",
      " ARIMA(3,1,1)(0,0,0)[0]             : AIC=16886.240, Time=0.19 sec\n",
      " ARIMA(3,1,3)(0,0,0)[0]             : AIC=16878.968, Time=0.93 sec\n",
      " ARIMA(2,1,1)(0,0,0)[0]             : AIC=16884.341, Time=0.17 sec\n",
      " ARIMA(2,1,3)(0,0,0)[0]             : AIC=16888.876, Time=0.18 sec\n",
      "\n",
      "Best model:  ARIMA(3,1,2)(0,0,0)[0]          \n",
      "Total fit time: 7.380 seconds\n"
     ]
    },
    {
     "name": "stderr",
     "output_type": "stream",
     "text": [
      "/Users/xiyan/.conda/envs/pythonPKG/lib/python3.9/site-packages/statsmodels/tsa/base/tsa_model.py:471: ValueWarning: No frequency information was provided, so inferred frequency D will be used.\n",
      "  self._init_dates(dates, freq)\n",
      "/Users/xiyan/.conda/envs/pythonPKG/lib/python3.9/site-packages/statsmodels/tsa/base/tsa_model.py:471: ValueWarning: No frequency information was provided, so inferred frequency D will be used.\n",
      "  self._init_dates(dates, freq)\n",
      "/Users/xiyan/.conda/envs/pythonPKG/lib/python3.9/site-packages/statsmodels/tsa/base/tsa_model.py:471: ValueWarning: No frequency information was provided, so inferred frequency D will be used.\n",
      "  self._init_dates(dates, freq)\n"
     ]
    },
    {
     "name": "stdout",
     "output_type": "stream",
     "text": [
      "Performing stepwise search to minimize aic\n",
      " ARIMA(0,1,0)(0,0,0)[0] intercept   : AIC=118.991, Time=0.04 sec\n",
      " ARIMA(1,1,0)(0,0,0)[0] intercept   : AIC=108.986, Time=0.04 sec\n",
      " ARIMA(0,1,1)(0,0,0)[0] intercept   : AIC=110.272, Time=0.09 sec\n",
      " ARIMA(0,1,0)(0,0,0)[0]             : AIC=117.996, Time=0.04 sec\n",
      " ARIMA(2,1,0)(0,0,0)[0] intercept   : AIC=109.218, Time=0.07 sec\n",
      " ARIMA(1,1,1)(0,0,0)[0] intercept   : AIC=107.768, Time=0.12 sec\n",
      " ARIMA(2,1,1)(0,0,0)[0] intercept   : AIC=109.522, Time=0.25 sec\n",
      " ARIMA(1,1,2)(0,0,0)[0] intercept   : AIC=109.515, Time=0.18 sec\n",
      " ARIMA(0,1,2)(0,0,0)[0] intercept   : AIC=109.460, Time=0.09 sec\n",
      " ARIMA(2,1,2)(0,0,0)[0] intercept   : AIC=111.515, Time=0.36 sec\n",
      " ARIMA(1,1,1)(0,0,0)[0]             : AIC=106.931, Time=0.08 sec\n",
      " ARIMA(0,1,1)(0,0,0)[0]             : AIC=109.578, Time=0.03 sec\n",
      " ARIMA(1,1,0)(0,0,0)[0]             : AIC=108.287, Time=0.03 sec\n",
      " ARIMA(2,1,1)(0,0,0)[0]             : AIC=110.382, Time=0.05 sec\n",
      " ARIMA(1,1,2)(0,0,0)[0]             : AIC=108.722, Time=0.12 sec\n",
      " ARIMA(0,1,2)(0,0,0)[0]             : AIC=108.619, Time=0.05 sec\n",
      " ARIMA(2,1,0)(0,0,0)[0]             : AIC=108.382, Time=0.04 sec\n",
      " ARIMA(2,1,2)(0,0,0)[0]             : AIC=110.722, Time=0.21 sec\n",
      "\n",
      "Best model:  ARIMA(1,1,1)(0,0,0)[0]          \n",
      "Total fit time: 1.885 seconds\n",
      "Performing stepwise search to minimize aic\n"
     ]
    },
    {
     "name": "stderr",
     "output_type": "stream",
     "text": [
      "/Users/xiyan/.conda/envs/pythonPKG/lib/python3.9/site-packages/statsmodels/tsa/base/tsa_model.py:471: ValueWarning: No frequency information was provided, so inferred frequency D will be used.\n",
      "  self._init_dates(dates, freq)\n",
      "/Users/xiyan/.conda/envs/pythonPKG/lib/python3.9/site-packages/statsmodels/tsa/base/tsa_model.py:471: ValueWarning: No frequency information was provided, so inferred frequency D will be used.\n",
      "  self._init_dates(dates, freq)\n",
      "/Users/xiyan/.conda/envs/pythonPKG/lib/python3.9/site-packages/statsmodels/tsa/base/tsa_model.py:471: ValueWarning: No frequency information was provided, so inferred frequency D will be used.\n",
      "  self._init_dates(dates, freq)\n"
     ]
    },
    {
     "name": "stdout",
     "output_type": "stream",
     "text": [
      " ARIMA(0,1,0)(0,0,0)[0] intercept   : AIC=2486.227, Time=0.01 sec\n",
      " ARIMA(1,1,0)(0,0,0)[0] intercept   : AIC=2488.099, Time=0.03 sec\n",
      " ARIMA(0,1,1)(0,0,0)[0] intercept   : AIC=2488.120, Time=0.04 sec\n",
      " ARIMA(0,1,0)(0,0,0)[0]             : AIC=2484.923, Time=0.01 sec\n",
      " ARIMA(1,1,1)(0,0,0)[0] intercept   : AIC=2488.307, Time=0.08 sec\n",
      "\n",
      "Best model:  ARIMA(0,1,0)(0,0,0)[0]          \n",
      "Total fit time: 0.179 seconds\n"
     ]
    },
    {
     "name": "stderr",
     "output_type": "stream",
     "text": [
      "/Users/xiyan/.conda/envs/pythonPKG/lib/python3.9/site-packages/statsmodels/tsa/base/tsa_model.py:471: ValueWarning: No frequency information was provided, so inferred frequency D will be used.\n",
      "  self._init_dates(dates, freq)\n",
      "/Users/xiyan/.conda/envs/pythonPKG/lib/python3.9/site-packages/statsmodels/tsa/base/tsa_model.py:471: ValueWarning: No frequency information was provided, so inferred frequency D will be used.\n",
      "  self._init_dates(dates, freq)\n",
      "/Users/xiyan/.conda/envs/pythonPKG/lib/python3.9/site-packages/statsmodels/tsa/base/tsa_model.py:471: ValueWarning: No frequency information was provided, so inferred frequency D will be used.\n",
      "  self._init_dates(dates, freq)\n"
     ]
    },
    {
     "name": "stdout",
     "output_type": "stream",
     "text": [
      "Performing stepwise search to minimize aic\n",
      " ARIMA(0,1,0)(0,0,0)[0] intercept   : AIC=1032.586, Time=0.03 sec\n",
      " ARIMA(1,1,0)(0,0,0)[0] intercept   : AIC=1010.293, Time=0.03 sec\n",
      " ARIMA(0,1,1)(0,0,0)[0] intercept   : AIC=1011.315, Time=0.04 sec\n",
      " ARIMA(0,1,0)(0,0,0)[0]             : AIC=1032.506, Time=0.01 sec\n",
      " ARIMA(2,1,0)(0,0,0)[0] intercept   : AIC=1011.917, Time=0.04 sec\n",
      " ARIMA(1,1,1)(0,0,0)[0] intercept   : AIC=1012.105, Time=0.07 sec\n",
      " ARIMA(2,1,1)(0,0,0)[0] intercept   : AIC=1008.593, Time=0.19 sec\n",
      " ARIMA(3,1,1)(0,0,0)[0] intercept   : AIC=1010.137, Time=0.16 sec\n",
      " ARIMA(2,1,2)(0,0,0)[0] intercept   : AIC=999.667, Time=0.26 sec\n",
      " ARIMA(1,1,2)(0,0,0)[0] intercept   : AIC=1011.169, Time=0.13 sec\n",
      " ARIMA(3,1,2)(0,0,0)[0] intercept   : AIC=inf, Time=0.43 sec\n",
      " ARIMA(2,1,3)(0,0,0)[0] intercept   : AIC=inf, Time=0.24 sec\n",
      " ARIMA(1,1,3)(0,0,0)[0] intercept   : AIC=1008.169, Time=0.16 sec\n",
      " ARIMA(3,1,3)(0,0,0)[0] intercept   : AIC=inf, Time=0.52 sec\n",
      " ARIMA(2,1,2)(0,0,0)[0]             : AIC=999.911, Time=0.22 sec\n",
      "\n",
      "Best model:  ARIMA(2,1,2)(0,0,0)[0] intercept\n",
      "Total fit time: 2.555 seconds\n"
     ]
    },
    {
     "name": "stderr",
     "output_type": "stream",
     "text": [
      "/Users/xiyan/.conda/envs/pythonPKG/lib/python3.9/site-packages/statsmodels/tsa/base/tsa_model.py:471: ValueWarning: No frequency information was provided, so inferred frequency D will be used.\n",
      "  self._init_dates(dates, freq)\n",
      "/Users/xiyan/.conda/envs/pythonPKG/lib/python3.9/site-packages/statsmodels/tsa/base/tsa_model.py:471: ValueWarning: No frequency information was provided, so inferred frequency D will be used.\n",
      "  self._init_dates(dates, freq)\n",
      "/Users/xiyan/.conda/envs/pythonPKG/lib/python3.9/site-packages/statsmodels/tsa/base/tsa_model.py:471: ValueWarning: No frequency information was provided, so inferred frequency D will be used.\n",
      "  self._init_dates(dates, freq)\n"
     ]
    },
    {
     "name": "stdout",
     "output_type": "stream",
     "text": [
      "Performing stepwise search to minimize aic\n",
      " ARIMA(0,0,0)(0,0,0)[0]             : AIC=1342.928, Time=0.01 sec\n",
      " ARIMA(1,0,0)(0,0,0)[0]             : AIC=inf, Time=0.02 sec\n",
      " ARIMA(0,0,1)(0,0,0)[0]             : AIC=1218.764, Time=0.02 sec\n",
      " ARIMA(1,0,1)(0,0,0)[0]             : AIC=941.887, Time=0.02 sec\n",
      " ARIMA(2,0,1)(0,0,0)[0]             : AIC=941.790, Time=0.05 sec\n",
      " ARIMA(2,0,0)(0,0,0)[0]             : AIC=inf, Time=0.02 sec\n",
      " ARIMA(3,0,1)(0,0,0)[0]             : AIC=941.683, Time=0.05 sec\n",
      " ARIMA(3,0,0)(0,0,0)[0]             : AIC=inf, Time=0.03 sec\n",
      " ARIMA(3,0,2)(0,0,0)[0]             : AIC=inf, Time=0.13 sec\n",
      " ARIMA(2,0,2)(0,0,0)[0]             : AIC=943.152, Time=0.08 sec\n",
      " ARIMA(3,0,1)(0,0,0)[0] intercept   : AIC=942.509, Time=0.08 sec\n",
      "\n",
      "Best model:  ARIMA(3,0,1)(0,0,0)[0]          \n",
      "Total fit time: 0.529 seconds\n"
     ]
    },
    {
     "name": "stderr",
     "output_type": "stream",
     "text": [
      "/Users/xiyan/.conda/envs/pythonPKG/lib/python3.9/site-packages/statsmodels/tsa/base/tsa_model.py:471: ValueWarning: No frequency information was provided, so inferred frequency D will be used.\n",
      "  self._init_dates(dates, freq)\n",
      "/Users/xiyan/.conda/envs/pythonPKG/lib/python3.9/site-packages/statsmodels/tsa/base/tsa_model.py:471: ValueWarning: No frequency information was provided, so inferred frequency D will be used.\n",
      "  self._init_dates(dates, freq)\n",
      "/Users/xiyan/.conda/envs/pythonPKG/lib/python3.9/site-packages/statsmodels/tsa/base/tsa_model.py:471: ValueWarning: No frequency information was provided, so inferred frequency D will be used.\n",
      "  self._init_dates(dates, freq)\n"
     ]
    },
    {
     "name": "stdout",
     "output_type": "stream",
     "text": [
      "Performing stepwise search to minimize aic\n",
      " ARIMA(0,0,0)(0,0,0)[0]             : AIC=1353.220, Time=0.01 sec\n",
      " ARIMA(1,0,0)(0,0,0)[0]             : AIC=inf, Time=0.01 sec\n",
      " ARIMA(0,0,1)(0,0,0)[0]             : AIC=1207.712, Time=0.02 sec\n",
      " ARIMA(1,0,1)(0,0,0)[0]             : AIC=833.935, Time=0.03 sec\n",
      " ARIMA(2,0,1)(0,0,0)[0]             : AIC=835.429, Time=0.04 sec\n",
      " ARIMA(1,0,2)(0,0,0)[0]             : AIC=834.027, Time=0.04 sec\n",
      " ARIMA(0,0,2)(0,0,0)[0]             : AIC=1092.313, Time=0.05 sec\n",
      " ARIMA(2,0,0)(0,0,0)[0]             : AIC=inf, Time=0.02 sec\n",
      " ARIMA(2,0,2)(0,0,0)[0]             : AIC=824.915, Time=0.05 sec\n",
      " ARIMA(3,0,2)(0,0,0)[0]             : AIC=822.426, Time=0.13 sec\n",
      " ARIMA(3,0,1)(0,0,0)[0]             : AIC=834.702, Time=0.05 sec\n",
      " ARIMA(3,0,3)(0,0,0)[0]             : AIC=828.855, Time=0.16 sec\n",
      " ARIMA(2,0,3)(0,0,0)[0]             : AIC=821.660, Time=0.08 sec\n",
      " ARIMA(1,0,3)(0,0,0)[0]             : AIC=820.882, Time=0.05 sec\n",
      " ARIMA(0,0,3)(0,0,0)[0]             : AIC=1023.507, Time=0.12 sec\n",
      " ARIMA(1,0,3)(0,0,0)[0] intercept   : AIC=821.431, Time=0.08 sec\n",
      "\n",
      "Best model:  ARIMA(1,0,3)(0,0,0)[0]          \n",
      "Total fit time: 0.950 seconds\n"
     ]
    },
    {
     "name": "stderr",
     "output_type": "stream",
     "text": [
      "/Users/xiyan/.conda/envs/pythonPKG/lib/python3.9/site-packages/statsmodels/tsa/base/tsa_model.py:471: ValueWarning: No frequency information was provided, so inferred frequency D will be used.\n",
      "  self._init_dates(dates, freq)\n",
      "/Users/xiyan/.conda/envs/pythonPKG/lib/python3.9/site-packages/statsmodels/tsa/base/tsa_model.py:471: ValueWarning: No frequency information was provided, so inferred frequency D will be used.\n",
      "  self._init_dates(dates, freq)\n",
      "/Users/xiyan/.conda/envs/pythonPKG/lib/python3.9/site-packages/statsmodels/tsa/base/tsa_model.py:471: ValueWarning: No frequency information was provided, so inferred frequency D will be used.\n",
      "  self._init_dates(dates, freq)\n"
     ]
    },
    {
     "name": "stdout",
     "output_type": "stream",
     "text": [
      "Performing stepwise search to minimize aic\n",
      " ARIMA(0,0,0)(0,0,0)[0]             : AIC=3066.169, Time=0.09 sec\n",
      " ARIMA(1,0,0)(0,0,0)[0]             : AIC=inf, Time=0.10 sec\n",
      " ARIMA(0,0,1)(0,0,0)[0]             : AIC=-35.429, Time=0.41 sec\n",
      " ARIMA(1,0,1)(0,0,0)[0]             : AIC=-8278.689, Time=0.19 sec\n",
      " ARIMA(2,0,1)(0,0,0)[0]             : AIC=-8297.314, Time=0.76 sec\n",
      " ARIMA(2,0,0)(0,0,0)[0]             : AIC=inf, Time=0.15 sec\n",
      " ARIMA(3,0,1)(0,0,0)[0]             : AIC=-8274.741, Time=0.37 sec\n",
      " ARIMA(2,0,2)(0,0,0)[0]             : AIC=inf, Time=2.33 sec\n",
      " ARIMA(1,0,2)(0,0,0)[0]             : AIC=-8277.208, Time=0.10 sec\n",
      " ARIMA(3,0,0)(0,0,0)[0]             : AIC=inf, Time=0.24 sec\n",
      " ARIMA(3,0,2)(0,0,0)[0]             : AIC=-8273.761, Time=1.33 sec\n",
      " ARIMA(2,0,1)(0,0,0)[0] intercept   : AIC=-8294.573, Time=1.73 sec\n",
      "\n",
      "Best model:  ARIMA(2,0,1)(0,0,0)[0]          \n",
      "Total fit time: 7.828 seconds\n"
     ]
    },
    {
     "name": "stderr",
     "output_type": "stream",
     "text": [
      "/Users/xiyan/.conda/envs/pythonPKG/lib/python3.9/site-packages/statsmodels/tsa/base/tsa_model.py:471: ValueWarning: No frequency information was provided, so inferred frequency D will be used.\n",
      "  self._init_dates(dates, freq)\n",
      "/Users/xiyan/.conda/envs/pythonPKG/lib/python3.9/site-packages/statsmodels/tsa/base/tsa_model.py:471: ValueWarning: No frequency information was provided, so inferred frequency D will be used.\n",
      "  self._init_dates(dates, freq)\n",
      "/Users/xiyan/.conda/envs/pythonPKG/lib/python3.9/site-packages/statsmodels/tsa/base/tsa_model.py:471: ValueWarning: No frequency information was provided, so inferred frequency D will be used.\n",
      "  self._init_dates(dates, freq)\n",
      "/Users/xiyan/.conda/envs/pythonPKG/lib/python3.9/site-packages/statsmodels/base/model.py:604: ConvergenceWarning: Maximum Likelihood optimization failed to converge. Check mle_retvals\n",
      "  warnings.warn(\"Maximum Likelihood optimization failed to \"\n"
     ]
    },
    {
     "name": "stdout",
     "output_type": "stream",
     "text": [
      "Performing stepwise search to minimize aic\n",
      " ARIMA(0,1,0)(0,0,0)[0] intercept   : AIC=254.341, Time=0.10 sec\n",
      " ARIMA(1,1,0)(0,0,0)[0] intercept   : AIC=227.878, Time=0.06 sec\n",
      " ARIMA(0,1,1)(0,0,0)[0] intercept   : AIC=230.197, Time=0.11 sec\n",
      " ARIMA(0,1,0)(0,0,0)[0]             : AIC=252.832, Time=0.06 sec\n",
      " ARIMA(2,1,0)(0,0,0)[0] intercept   : AIC=227.565, Time=0.08 sec\n",
      " ARIMA(3,1,0)(0,0,0)[0] intercept   : AIC=225.213, Time=0.10 sec\n",
      " ARIMA(3,1,1)(0,0,0)[0] intercept   : AIC=226.389, Time=0.43 sec\n",
      " ARIMA(2,1,1)(0,0,0)[0] intercept   : AIC=226.559, Time=0.47 sec\n",
      " ARIMA(3,1,0)(0,0,0)[0]             : AIC=223.882, Time=0.06 sec\n",
      " ARIMA(2,1,0)(0,0,0)[0]             : AIC=226.159, Time=0.05 sec\n",
      " ARIMA(3,1,1)(0,0,0)[0]             : AIC=225.043, Time=0.32 sec\n",
      " ARIMA(2,1,1)(0,0,0)[0]             : AIC=225.157, Time=0.23 sec\n",
      "\n",
      "Best model:  ARIMA(3,1,0)(0,0,0)[0]          \n",
      "Total fit time: 2.074 seconds\n"
     ]
    },
    {
     "name": "stderr",
     "output_type": "stream",
     "text": [
      "/Users/xiyan/.conda/envs/pythonPKG/lib/python3.9/site-packages/statsmodels/tsa/base/tsa_model.py:471: ValueWarning: No frequency information was provided, so inferred frequency D will be used.\n",
      "  self._init_dates(dates, freq)\n",
      "/Users/xiyan/.conda/envs/pythonPKG/lib/python3.9/site-packages/statsmodels/tsa/base/tsa_model.py:471: ValueWarning: No frequency information was provided, so inferred frequency D will be used.\n",
      "  self._init_dates(dates, freq)\n",
      "/Users/xiyan/.conda/envs/pythonPKG/lib/python3.9/site-packages/statsmodels/tsa/base/tsa_model.py:471: ValueWarning: No frequency information was provided, so inferred frequency D will be used.\n",
      "  self._init_dates(dates, freq)\n"
     ]
    },
    {
     "name": "stdout",
     "output_type": "stream",
     "text": [
      "Performing stepwise search to minimize aic\n",
      " ARIMA(0,1,0)(0,0,0)[0] intercept   : AIC=10771.669, Time=0.02 sec\n",
      " ARIMA(1,1,0)(0,0,0)[0] intercept   : AIC=10764.731, Time=0.09 sec\n",
      " ARIMA(0,1,1)(0,0,0)[0] intercept   : AIC=10762.366, Time=0.15 sec\n",
      " ARIMA(0,1,0)(0,0,0)[0]             : AIC=10769.708, Time=0.02 sec\n",
      " ARIMA(1,1,1)(0,0,0)[0] intercept   : AIC=10708.882, Time=0.24 sec\n",
      " ARIMA(2,1,1)(0,0,0)[0] intercept   : AIC=10707.591, Time=0.47 sec\n",
      " ARIMA(2,1,0)(0,0,0)[0] intercept   : AIC=10749.481, Time=0.25 sec\n",
      " ARIMA(3,1,1)(0,0,0)[0] intercept   : AIC=10709.054, Time=0.38 sec\n",
      " ARIMA(2,1,2)(0,0,0)[0] intercept   : AIC=10685.257, Time=1.11 sec\n",
      " ARIMA(1,1,2)(0,0,0)[0] intercept   : AIC=10707.757, Time=0.34 sec\n",
      " ARIMA(3,1,2)(0,0,0)[0] intercept   : AIC=10709.142, Time=0.53 sec\n",
      " ARIMA(2,1,3)(0,0,0)[0] intercept   : AIC=10700.069, Time=0.95 sec\n",
      " ARIMA(1,1,3)(0,0,0)[0] intercept   : AIC=10712.271, Time=0.55 sec\n",
      " ARIMA(3,1,3)(0,0,0)[0] intercept   : AIC=10664.220, Time=1.87 sec\n",
      " ARIMA(3,1,3)(0,0,0)[0]             : AIC=10662.753, Time=0.83 sec\n",
      " ARIMA(2,1,3)(0,0,0)[0]             : AIC=10698.186, Time=0.42 sec\n",
      " ARIMA(3,1,2)(0,0,0)[0]             : AIC=10707.621, Time=0.32 sec\n",
      " ARIMA(2,1,2)(0,0,0)[0]             : AIC=10681.960, Time=0.64 sec\n",
      "\n",
      "Best model:  ARIMA(3,1,3)(0,0,0)[0]          \n",
      "Total fit time: 9.178 seconds\n"
     ]
    },
    {
     "name": "stderr",
     "output_type": "stream",
     "text": [
      "/Users/xiyan/.conda/envs/pythonPKG/lib/python3.9/site-packages/statsmodels/tsa/base/tsa_model.py:471: ValueWarning: No frequency information was provided, so inferred frequency D will be used.\n",
      "  self._init_dates(dates, freq)\n",
      "/Users/xiyan/.conda/envs/pythonPKG/lib/python3.9/site-packages/statsmodels/tsa/base/tsa_model.py:471: ValueWarning: No frequency information was provided, so inferred frequency D will be used.\n",
      "  self._init_dates(dates, freq)\n",
      "/Users/xiyan/.conda/envs/pythonPKG/lib/python3.9/site-packages/statsmodels/tsa/base/tsa_model.py:471: ValueWarning: No frequency information was provided, so inferred frequency D will be used.\n",
      "  self._init_dates(dates, freq)\n"
     ]
    },
    {
     "name": "stdout",
     "output_type": "stream",
     "text": [
      "Performing stepwise search to minimize aic\n",
      " ARIMA(0,1,0)(0,0,0)[0] intercept   : AIC=10052.840, Time=0.02 sec\n",
      " ARIMA(1,1,0)(0,0,0)[0] intercept   : AIC=10048.518, Time=0.10 sec\n",
      " ARIMA(0,1,1)(0,0,0)[0] intercept   : AIC=10047.931, Time=0.09 sec\n",
      " ARIMA(0,1,0)(0,0,0)[0]             : AIC=10051.256, Time=0.02 sec\n",
      " ARIMA(1,1,1)(0,0,0)[0] intercept   : AIC=10047.997, Time=0.28 sec\n",
      " ARIMA(0,1,2)(0,0,0)[0] intercept   : AIC=10047.753, Time=0.20 sec\n",
      " ARIMA(1,1,2)(0,0,0)[0] intercept   : AIC=10049.492, Time=0.37 sec\n",
      " ARIMA(0,1,3)(0,0,0)[0] intercept   : AIC=10047.870, Time=0.28 sec\n",
      " ARIMA(1,1,3)(0,0,0)[0] intercept   : AIC=10047.982, Time=0.39 sec\n",
      " ARIMA(0,1,2)(0,0,0)[0]             : AIC=10046.301, Time=0.09 sec\n",
      " ARIMA(0,1,1)(0,0,0)[0]             : AIC=10046.428, Time=0.04 sec\n",
      " ARIMA(1,1,2)(0,0,0)[0]             : AIC=10048.046, Time=0.17 sec\n",
      " ARIMA(0,1,3)(0,0,0)[0]             : AIC=10046.445, Time=0.13 sec\n",
      " ARIMA(1,1,1)(0,0,0)[0]             : AIC=10046.542, Time=0.13 sec\n",
      " ARIMA(1,1,3)(0,0,0)[0]             : AIC=10046.558, Time=0.23 sec\n",
      "\n",
      "Best model:  ARIMA(0,1,2)(0,0,0)[0]          \n",
      "Total fit time: 2.545 seconds\n",
      "Performing stepwise search to minimize aic\n"
     ]
    },
    {
     "name": "stderr",
     "output_type": "stream",
     "text": [
      "/Users/xiyan/.conda/envs/pythonPKG/lib/python3.9/site-packages/statsmodels/tsa/base/tsa_model.py:471: ValueWarning: No frequency information was provided, so inferred frequency D will be used.\n",
      "  self._init_dates(dates, freq)\n",
      "/Users/xiyan/.conda/envs/pythonPKG/lib/python3.9/site-packages/statsmodels/tsa/base/tsa_model.py:471: ValueWarning: No frequency information was provided, so inferred frequency D will be used.\n",
      "  self._init_dates(dates, freq)\n",
      "/Users/xiyan/.conda/envs/pythonPKG/lib/python3.9/site-packages/statsmodels/tsa/base/tsa_model.py:471: ValueWarning: No frequency information was provided, so inferred frequency D will be used.\n",
      "  self._init_dates(dates, freq)\n"
     ]
    },
    {
     "name": "stdout",
     "output_type": "stream",
     "text": [
      " ARIMA(0,1,0)(0,0,0)[0] intercept   : AIC=155.678, Time=0.03 sec\n",
      " ARIMA(1,1,0)(0,0,0)[0] intercept   : AIC=152.546, Time=0.05 sec\n",
      " ARIMA(0,1,1)(0,0,0)[0] intercept   : AIC=153.261, Time=0.04 sec\n",
      " ARIMA(0,1,0)(0,0,0)[0]             : AIC=154.267, Time=0.02 sec\n",
      " ARIMA(2,1,0)(0,0,0)[0] intercept   : AIC=152.653, Time=0.03 sec\n",
      " ARIMA(1,1,1)(0,0,0)[0] intercept   : AIC=150.997, Time=0.07 sec\n",
      " ARIMA(2,1,1)(0,0,0)[0] intercept   : AIC=152.953, Time=0.09 sec\n",
      " ARIMA(1,1,2)(0,0,0)[0] intercept   : AIC=152.949, Time=0.10 sec\n",
      " ARIMA(0,1,2)(0,0,0)[0] intercept   : AIC=153.265, Time=0.05 sec\n",
      " ARIMA(2,1,2)(0,0,0)[0] intercept   : AIC=148.893, Time=0.21 sec\n",
      " ARIMA(3,1,2)(0,0,0)[0] intercept   : AIC=150.494, Time=0.30 sec\n",
      " ARIMA(2,1,3)(0,0,0)[0] intercept   : AIC=150.885, Time=0.38 sec\n",
      " ARIMA(1,1,3)(0,0,0)[0] intercept   : AIC=154.645, Time=0.16 sec\n",
      " ARIMA(3,1,1)(0,0,0)[0] intercept   : AIC=154.821, Time=0.18 sec\n",
      " ARIMA(3,1,3)(0,0,0)[0] intercept   : AIC=153.250, Time=0.40 sec\n",
      " ARIMA(2,1,2)(0,0,0)[0]             : AIC=147.525, Time=0.17 sec\n",
      " ARIMA(1,1,2)(0,0,0)[0]             : AIC=151.602, Time=0.05 sec\n",
      " ARIMA(2,1,1)(0,0,0)[0]             : AIC=151.607, Time=0.06 sec\n",
      " ARIMA(3,1,2)(0,0,0)[0]             : AIC=149.171, Time=0.21 sec\n",
      " ARIMA(2,1,3)(0,0,0)[0]             : AIC=149.171, Time=0.22 sec\n",
      " ARIMA(1,1,1)(0,0,0)[0]             : AIC=149.670, Time=0.04 sec\n",
      " ARIMA(1,1,3)(0,0,0)[0]             : AIC=153.337, Time=0.08 sec\n",
      " ARIMA(3,1,1)(0,0,0)[0]             : AIC=153.502, Time=0.10 sec\n",
      " ARIMA(3,1,3)(0,0,0)[0]             : AIC=150.482, Time=0.32 sec\n",
      "\n",
      "Best model:  ARIMA(2,1,2)(0,0,0)[0]          \n",
      "Total fit time: 3.384 seconds\n"
     ]
    },
    {
     "name": "stderr",
     "output_type": "stream",
     "text": [
      "/Users/xiyan/.conda/envs/pythonPKG/lib/python3.9/site-packages/statsmodels/tsa/base/tsa_model.py:471: ValueWarning: No frequency information was provided, so inferred frequency D will be used.\n",
      "  self._init_dates(dates, freq)\n",
      "/Users/xiyan/.conda/envs/pythonPKG/lib/python3.9/site-packages/statsmodels/tsa/base/tsa_model.py:471: ValueWarning: No frequency information was provided, so inferred frequency D will be used.\n",
      "  self._init_dates(dates, freq)\n",
      "/Users/xiyan/.conda/envs/pythonPKG/lib/python3.9/site-packages/statsmodels/tsa/base/tsa_model.py:471: ValueWarning: No frequency information was provided, so inferred frequency D will be used.\n",
      "  self._init_dates(dates, freq)\n"
     ]
    },
    {
     "name": "stdout",
     "output_type": "stream",
     "text": [
      "Performing stepwise search to minimize aic\n",
      " ARIMA(0,1,0)(0,0,0)[0] intercept   : AIC=2178.163, Time=0.08 sec\n",
      " ARIMA(1,1,0)(0,0,0)[0] intercept   : AIC=2155.063, Time=0.06 sec\n",
      " ARIMA(0,1,1)(0,0,0)[0] intercept   : AIC=2152.426, Time=0.11 sec\n",
      " ARIMA(0,1,0)(0,0,0)[0]             : AIC=2176.496, Time=0.03 sec\n",
      " ARIMA(1,1,1)(0,0,0)[0] intercept   : AIC=2153.096, Time=0.22 sec\n",
      " ARIMA(0,1,2)(0,0,0)[0] intercept   : AIC=2152.967, Time=0.15 sec\n",
      " ARIMA(1,1,2)(0,0,0)[0] intercept   : AIC=2154.934, Time=0.34 sec\n",
      " ARIMA(0,1,1)(0,0,0)[0]             : AIC=2150.895, Time=0.05 sec\n",
      " ARIMA(1,1,1)(0,0,0)[0]             : AIC=2151.597, Time=0.10 sec\n",
      " ARIMA(0,1,2)(0,0,0)[0]             : AIC=2151.468, Time=0.08 sec\n",
      " ARIMA(1,1,0)(0,0,0)[0]             : AIC=2153.498, Time=0.03 sec\n",
      " ARIMA(1,1,2)(0,0,0)[0]             : AIC=2153.437, Time=0.15 sec\n",
      "\n",
      "Best model:  ARIMA(0,1,1)(0,0,0)[0]          \n",
      "Total fit time: 1.391 seconds\n"
     ]
    },
    {
     "name": "stderr",
     "output_type": "stream",
     "text": [
      "/Users/xiyan/.conda/envs/pythonPKG/lib/python3.9/site-packages/statsmodels/tsa/base/tsa_model.py:471: ValueWarning: No frequency information was provided, so inferred frequency D will be used.\n",
      "  self._init_dates(dates, freq)\n",
      "/Users/xiyan/.conda/envs/pythonPKG/lib/python3.9/site-packages/statsmodels/tsa/base/tsa_model.py:471: ValueWarning: No frequency information was provided, so inferred frequency D will be used.\n",
      "  self._init_dates(dates, freq)\n",
      "/Users/xiyan/.conda/envs/pythonPKG/lib/python3.9/site-packages/statsmodels/tsa/base/tsa_model.py:471: ValueWarning: No frequency information was provided, so inferred frequency D will be used.\n",
      "  self._init_dates(dates, freq)\n"
     ]
    },
    {
     "name": "stdout",
     "output_type": "stream",
     "text": [
      "Performing stepwise search to minimize aic\n",
      " ARIMA(0,1,0)(0,0,0)[0] intercept   : AIC=17564.355, Time=0.04 sec\n",
      " ARIMA(1,1,0)(0,0,0)[0] intercept   : AIC=17475.687, Time=0.08 sec\n",
      " ARIMA(0,1,1)(0,0,0)[0] intercept   : AIC=17483.523, Time=0.21 sec\n",
      " ARIMA(0,1,0)(0,0,0)[0]             : AIC=17562.825, Time=0.03 sec\n",
      " ARIMA(2,1,0)(0,0,0)[0] intercept   : AIC=17474.564, Time=0.22 sec\n",
      " ARIMA(3,1,0)(0,0,0)[0] intercept   : AIC=17474.769, Time=0.26 sec\n",
      " ARIMA(2,1,1)(0,0,0)[0] intercept   : AIC=17474.135, Time=0.54 sec\n",
      " ARIMA(1,1,1)(0,0,0)[0] intercept   : AIC=17473.674, Time=0.23 sec\n",
      " ARIMA(1,1,2)(0,0,0)[0] intercept   : AIC=17474.022, Time=0.67 sec\n",
      " ARIMA(0,1,2)(0,0,0)[0] intercept   : AIC=17477.725, Time=0.36 sec\n",
      " ARIMA(2,1,2)(0,0,0)[0] intercept   : AIC=17475.965, Time=1.50 sec\n",
      " ARIMA(1,1,1)(0,0,0)[0]             : AIC=17472.302, Time=0.12 sec\n",
      " ARIMA(0,1,1)(0,0,0)[0]             : AIC=17482.226, Time=0.10 sec\n",
      " ARIMA(1,1,0)(0,0,0)[0]             : AIC=17474.364, Time=0.04 sec\n",
      " ARIMA(2,1,1)(0,0,0)[0]             : AIC=17472.779, Time=0.27 sec\n",
      " ARIMA(1,1,2)(0,0,0)[0]             : AIC=17472.675, Time=0.29 sec\n",
      " ARIMA(0,1,2)(0,0,0)[0]             : AIC=17476.345, Time=0.14 sec\n",
      " ARIMA(2,1,0)(0,0,0)[0]             : AIC=17473.194, Time=0.12 sec\n",
      " ARIMA(2,1,2)(0,0,0)[0]             : AIC=17474.632, Time=0.53 sec\n",
      "\n",
      "Best model:  ARIMA(1,1,1)(0,0,0)[0]          \n",
      "Total fit time: 5.776 seconds\n"
     ]
    },
    {
     "name": "stderr",
     "output_type": "stream",
     "text": [
      "/Users/xiyan/.conda/envs/pythonPKG/lib/python3.9/site-packages/statsmodels/tsa/base/tsa_model.py:471: ValueWarning: No frequency information was provided, so inferred frequency D will be used.\n",
      "  self._init_dates(dates, freq)\n",
      "/Users/xiyan/.conda/envs/pythonPKG/lib/python3.9/site-packages/statsmodels/tsa/base/tsa_model.py:471: ValueWarning: No frequency information was provided, so inferred frequency D will be used.\n",
      "  self._init_dates(dates, freq)\n",
      "/Users/xiyan/.conda/envs/pythonPKG/lib/python3.9/site-packages/statsmodels/tsa/base/tsa_model.py:471: ValueWarning: No frequency information was provided, so inferred frequency D will be used.\n",
      "  self._init_dates(dates, freq)\n"
     ]
    },
    {
     "name": "stdout",
     "output_type": "stream",
     "text": [
      "Performing stepwise search to minimize aic\n",
      " ARIMA(0,1,0)(0,0,0)[0] intercept   : AIC=-1017.753, Time=0.04 sec\n",
      " ARIMA(1,1,0)(0,0,0)[0] intercept   : AIC=-1016.417, Time=0.06 sec\n",
      " ARIMA(0,1,1)(0,0,0)[0] intercept   : AIC=-1015.087, Time=0.07 sec\n",
      " ARIMA(0,1,0)(0,0,0)[0]             : AIC=-1025.609, Time=0.02 sec\n",
      " ARIMA(1,1,1)(0,0,0)[0] intercept   : AIC=-1009.583, Time=0.06 sec\n",
      "\n",
      "Best model:  ARIMA(0,1,0)(0,0,0)[0]          \n",
      "Total fit time: 0.261 seconds\n",
      "Performing stepwise search to minimize aic\n",
      " ARIMA(0,1,0)(0,0,0)[0] intercept   : AIC=849.119, Time=0.01 sec\n",
      " ARIMA(1,1,0)(0,0,0)[0] intercept   : AIC=851.057, Time=0.02 sec\n",
      " ARIMA(0,1,1)(0,0,0)[0] intercept   : AIC=851.052, Time=0.02 sec\n",
      " ARIMA(0,1,0)(0,0,0)[0]             : AIC=847.468, Time=0.01 sec\n"
     ]
    },
    {
     "name": "stderr",
     "output_type": "stream",
     "text": [
      "/Users/xiyan/.conda/envs/pythonPKG/lib/python3.9/site-packages/statsmodels/tsa/base/tsa_model.py:471: ValueWarning: No frequency information was provided, so inferred frequency D will be used.\n",
      "  self._init_dates(dates, freq)\n",
      "/Users/xiyan/.conda/envs/pythonPKG/lib/python3.9/site-packages/statsmodels/tsa/base/tsa_model.py:471: ValueWarning: No frequency information was provided, so inferred frequency D will be used.\n",
      "  self._init_dates(dates, freq)\n",
      "/Users/xiyan/.conda/envs/pythonPKG/lib/python3.9/site-packages/statsmodels/tsa/base/tsa_model.py:471: ValueWarning: No frequency information was provided, so inferred frequency D will be used.\n",
      "  self._init_dates(dates, freq)\n",
      "/Users/xiyan/.conda/envs/pythonPKG/lib/python3.9/site-packages/statsmodels/base/model.py:604: ConvergenceWarning: Maximum Likelihood optimization failed to converge. Check mle_retvals\n",
      "  warnings.warn(\"Maximum Likelihood optimization failed to \"\n"
     ]
    },
    {
     "name": "stdout",
     "output_type": "stream",
     "text": [
      " ARIMA(1,1,1)(0,0,0)[0] intercept   : AIC=847.894, Time=0.09 sec\n",
      "\n",
      "Best model:  ARIMA(0,1,0)(0,0,0)[0]          \n",
      "Total fit time: 0.164 seconds\n"
     ]
    },
    {
     "name": "stderr",
     "output_type": "stream",
     "text": [
      "/Users/xiyan/.conda/envs/pythonPKG/lib/python3.9/site-packages/statsmodels/tsa/base/tsa_model.py:471: ValueWarning: No frequency information was provided, so inferred frequency D will be used.\n",
      "  self._init_dates(dates, freq)\n",
      "/Users/xiyan/.conda/envs/pythonPKG/lib/python3.9/site-packages/statsmodels/tsa/base/tsa_model.py:471: ValueWarning: No frequency information was provided, so inferred frequency D will be used.\n",
      "  self._init_dates(dates, freq)\n",
      "/Users/xiyan/.conda/envs/pythonPKG/lib/python3.9/site-packages/statsmodels/tsa/base/tsa_model.py:471: ValueWarning: No frequency information was provided, so inferred frequency D will be used.\n",
      "  self._init_dates(dates, freq)\n"
     ]
    },
    {
     "name": "stdout",
     "output_type": "stream",
     "text": [
      "Performing stepwise search to minimize aic\n",
      " ARIMA(0,1,0)(0,0,0)[0] intercept   : AIC=2026.514, Time=0.08 sec\n",
      " ARIMA(1,1,0)(0,0,0)[0] intercept   : AIC=2025.694, Time=0.08 sec\n",
      " ARIMA(0,1,1)(0,0,0)[0] intercept   : AIC=2025.816, Time=0.13 sec\n",
      " ARIMA(0,1,0)(0,0,0)[0]             : AIC=2024.971, Time=0.05 sec\n",
      " ARIMA(1,1,1)(0,0,0)[0] intercept   : AIC=2016.921, Time=0.36 sec\n",
      " ARIMA(2,1,1)(0,0,0)[0] intercept   : AIC=2015.717, Time=0.45 sec\n",
      " ARIMA(2,1,0)(0,0,0)[0] intercept   : AIC=2026.708, Time=0.10 sec\n",
      " ARIMA(3,1,1)(0,0,0)[0] intercept   : AIC=2000.534, Time=0.37 sec\n",
      " ARIMA(3,1,0)(0,0,0)[0] intercept   : AIC=2008.989, Time=0.15 sec\n",
      " ARIMA(3,1,2)(0,0,0)[0] intercept   : AIC=1970.049, Time=0.88 sec\n",
      " ARIMA(2,1,2)(0,0,0)[0] intercept   : AIC=1977.885, Time=0.68 sec\n",
      " ARIMA(3,1,3)(0,0,0)[0] intercept   : AIC=1971.762, Time=1.46 sec\n",
      " ARIMA(2,1,3)(0,0,0)[0] intercept   : AIC=1969.778, Time=0.68 sec\n",
      " ARIMA(1,1,3)(0,0,0)[0] intercept   : AIC=1989.966, Time=0.45 sec\n",
      " ARIMA(1,1,2)(0,0,0)[0] intercept   : AIC=2014.193, Time=0.49 sec\n",
      " ARIMA(2,1,3)(0,0,0)[0]             : AIC=1968.075, Time=0.38 sec\n",
      " ARIMA(1,1,3)(0,0,0)[0]             : AIC=1988.206, Time=0.30 sec\n",
      " ARIMA(2,1,2)(0,0,0)[0]             : AIC=1976.234, Time=0.27 sec\n",
      " ARIMA(3,1,3)(0,0,0)[0]             : AIC=1970.061, Time=0.81 sec\n",
      " ARIMA(1,1,2)(0,0,0)[0]             : AIC=2012.465, Time=0.15 sec\n",
      " ARIMA(3,1,2)(0,0,0)[0]             : AIC=1968.339, Time=0.31 sec\n",
      "\n",
      "Best model:  ARIMA(2,1,3)(0,0,0)[0]          \n",
      "Total fit time: 8.628 seconds\n"
     ]
    },
    {
     "name": "stderr",
     "output_type": "stream",
     "text": [
      "/Users/xiyan/.conda/envs/pythonPKG/lib/python3.9/site-packages/statsmodels/tsa/base/tsa_model.py:471: ValueWarning: No frequency information was provided, so inferred frequency D will be used.\n",
      "  self._init_dates(dates, freq)\n",
      "/Users/xiyan/.conda/envs/pythonPKG/lib/python3.9/site-packages/statsmodels/tsa/base/tsa_model.py:471: ValueWarning: No frequency information was provided, so inferred frequency D will be used.\n",
      "  self._init_dates(dates, freq)\n",
      "/Users/xiyan/.conda/envs/pythonPKG/lib/python3.9/site-packages/statsmodels/tsa/base/tsa_model.py:471: ValueWarning: No frequency information was provided, so inferred frequency D will be used.\n",
      "  self._init_dates(dates, freq)\n"
     ]
    },
    {
     "name": "stdout",
     "output_type": "stream",
     "text": [
      "Performing stepwise search to minimize aic\n",
      " ARIMA(0,1,0)(0,0,0)[0] intercept   : AIC=170.906, Time=0.04 sec\n",
      " ARIMA(1,1,0)(0,0,0)[0] intercept   : AIC=165.710, Time=0.06 sec\n",
      " ARIMA(0,1,1)(0,0,0)[0] intercept   : AIC=162.538, Time=0.05 sec\n",
      " ARIMA(0,1,0)(0,0,0)[0]             : AIC=169.193, Time=0.02 sec\n",
      " ARIMA(1,1,1)(0,0,0)[0] intercept   : AIC=157.094, Time=0.13 sec\n",
      " ARIMA(2,1,1)(0,0,0)[0] intercept   : AIC=156.899, Time=0.15 sec\n",
      " ARIMA(2,1,0)(0,0,0)[0] intercept   : AIC=155.099, Time=0.07 sec\n",
      " ARIMA(3,1,0)(0,0,0)[0] intercept   : AIC=156.935, Time=0.09 sec\n",
      " ARIMA(3,1,1)(0,0,0)[0] intercept   : AIC=158.899, Time=0.28 sec\n",
      " ARIMA(2,1,0)(0,0,0)[0]             : AIC=153.469, Time=0.04 sec\n",
      " ARIMA(1,1,0)(0,0,0)[0]             : AIC=164.026, Time=0.03 sec\n",
      " ARIMA(3,1,0)(0,0,0)[0]             : AIC=155.298, Time=0.06 sec\n",
      " ARIMA(2,1,1)(0,0,0)[0]             : AIC=155.262, Time=0.09 sec\n",
      " ARIMA(1,1,1)(0,0,0)[0]             : AIC=155.548, Time=0.06 sec\n",
      " ARIMA(3,1,1)(0,0,0)[0]             : AIC=157.262, Time=0.12 sec\n",
      "\n",
      "Best model:  ARIMA(2,1,0)(0,0,0)[0]          \n",
      "Total fit time: 1.274 seconds\n"
     ]
    },
    {
     "name": "stderr",
     "output_type": "stream",
     "text": [
      "/Users/xiyan/.conda/envs/pythonPKG/lib/python3.9/site-packages/statsmodels/tsa/base/tsa_model.py:471: ValueWarning: No frequency information was provided, so inferred frequency D will be used.\n",
      "  self._init_dates(dates, freq)\n",
      "/Users/xiyan/.conda/envs/pythonPKG/lib/python3.9/site-packages/statsmodels/tsa/base/tsa_model.py:471: ValueWarning: No frequency information was provided, so inferred frequency D will be used.\n",
      "  self._init_dates(dates, freq)\n",
      "/Users/xiyan/.conda/envs/pythonPKG/lib/python3.9/site-packages/statsmodels/tsa/base/tsa_model.py:471: ValueWarning: No frequency information was provided, so inferred frequency D will be used.\n",
      "  self._init_dates(dates, freq)\n"
     ]
    },
    {
     "name": "stdout",
     "output_type": "stream",
     "text": [
      "Performing stepwise search to minimize aic\n",
      " ARIMA(0,1,0)(0,0,0)[0] intercept   : AIC=-9625.335, Time=0.15 sec\n",
      " ARIMA(1,1,0)(0,0,0)[0] intercept   : AIC=-9666.291, Time=0.28 sec\n",
      " ARIMA(0,1,1)(0,0,0)[0] intercept   : AIC=-9659.943, Time=0.48 sec\n",
      " ARIMA(0,1,0)(0,0,0)[0]             : AIC=-9627.324, Time=0.07 sec\n",
      " ARIMA(2,1,0)(0,0,0)[0] intercept   : AIC=-9670.648, Time=0.60 sec\n",
      " ARIMA(3,1,0)(0,0,0)[0] intercept   : AIC=-9670.335, Time=0.13 sec\n",
      " ARIMA(2,1,1)(0,0,0)[0] intercept   : AIC=-9676.852, Time=0.53 sec\n",
      " ARIMA(1,1,1)(0,0,0)[0] intercept   : AIC=-9675.298, Time=0.27 sec\n",
      " ARIMA(3,1,1)(0,0,0)[0] intercept   : AIC=-9667.739, Time=0.31 sec\n",
      " ARIMA(2,1,2)(0,0,0)[0] intercept   : AIC=-9676.965, Time=0.21 sec\n",
      " ARIMA(1,1,2)(0,0,0)[0] intercept   : AIC=-9679.174, Time=0.18 sec\n",
      " ARIMA(0,1,2)(0,0,0)[0] intercept   : AIC=-9667.351, Time=0.64 sec\n",
      " ARIMA(1,1,3)(0,0,0)[0] intercept   : AIC=-9677.121, Time=1.47 sec\n",
      " ARIMA(0,1,3)(0,0,0)[0] intercept   : AIC=-9665.320, Time=0.34 sec\n",
      " ARIMA(2,1,3)(0,0,0)[0] intercept   : AIC=-9674.624, Time=1.20 sec\n",
      " ARIMA(1,1,2)(0,0,0)[0]             : AIC=-9681.158, Time=0.19 sec\n",
      " ARIMA(0,1,2)(0,0,0)[0]             : AIC=-9669.339, Time=0.15 sec\n",
      " ARIMA(1,1,1)(0,0,0)[0]             : AIC=-9677.092, Time=0.27 sec\n",
      " ARIMA(2,1,2)(0,0,0)[0]             : AIC=-9678.953, Time=0.25 sec\n",
      " ARIMA(1,1,3)(0,0,0)[0]             : AIC=-9677.930, Time=0.61 sec\n",
      " ARIMA(0,1,1)(0,0,0)[0]             : AIC=-9661.929, Time=0.20 sec\n",
      " ARIMA(0,1,3)(0,0,0)[0]             : AIC=-9667.309, Time=0.51 sec\n",
      " ARIMA(2,1,1)(0,0,0)[0]             : AIC=-9677.837, Time=0.40 sec\n",
      " ARIMA(2,1,3)(0,0,0)[0]             : AIC=-9674.149, Time=0.19 sec\n",
      "\n",
      "Best model:  ARIMA(1,1,2)(0,0,0)[0]          \n",
      "Total fit time: 9.639 seconds\n"
     ]
    },
    {
     "name": "stderr",
     "output_type": "stream",
     "text": [
      "/Users/xiyan/.conda/envs/pythonPKG/lib/python3.9/site-packages/statsmodels/tsa/base/tsa_model.py:471: ValueWarning: No frequency information was provided, so inferred frequency D will be used.\n",
      "  self._init_dates(dates, freq)\n",
      "/Users/xiyan/.conda/envs/pythonPKG/lib/python3.9/site-packages/statsmodels/tsa/base/tsa_model.py:471: ValueWarning: No frequency information was provided, so inferred frequency D will be used.\n",
      "  self._init_dates(dates, freq)\n",
      "/Users/xiyan/.conda/envs/pythonPKG/lib/python3.9/site-packages/statsmodels/tsa/base/tsa_model.py:471: ValueWarning: No frequency information was provided, so inferred frequency D will be used.\n",
      "  self._init_dates(dates, freq)\n"
     ]
    },
    {
     "name": "stdout",
     "output_type": "stream",
     "text": [
      "Performing stepwise search to minimize aic\n",
      " ARIMA(0,1,0)(0,0,0)[0] intercept   : AIC=333.975, Time=0.01 sec\n",
      " ARIMA(1,1,0)(0,0,0)[0] intercept   : AIC=325.154, Time=0.02 sec\n",
      " ARIMA(0,1,1)(0,0,0)[0] intercept   : AIC=322.455, Time=0.02 sec\n",
      " ARIMA(0,1,0)(0,0,0)[0]             : AIC=332.003, Time=0.01 sec\n",
      " ARIMA(1,1,1)(0,0,0)[0] intercept   : AIC=324.455, Time=0.03 sec\n",
      " ARIMA(0,1,2)(0,0,0)[0] intercept   : AIC=324.455, Time=0.02 sec\n",
      " ARIMA(1,1,2)(0,0,0)[0] intercept   : AIC=inf, Time=0.09 sec\n",
      " ARIMA(0,1,1)(0,0,0)[0]             : AIC=320.498, Time=0.02 sec\n",
      " ARIMA(1,1,1)(0,0,0)[0]             : AIC=322.498, Time=0.03 sec\n",
      " ARIMA(0,1,2)(0,0,0)[0]             : AIC=322.498, Time=0.02 sec\n",
      " ARIMA(1,1,0)(0,0,0)[0]             : AIC=323.190, Time=0.01 sec\n",
      " ARIMA(1,1,2)(0,0,0)[0]             : AIC=320.190, Time=0.04 sec\n",
      " ARIMA(2,1,2)(0,0,0)[0]             : AIC=321.027, Time=0.04 sec\n",
      " ARIMA(1,1,3)(0,0,0)[0]             : AIC=321.355, Time=0.05 sec\n",
      " ARIMA(0,1,3)(0,0,0)[0]             : AIC=322.744, Time=0.02 sec\n",
      " ARIMA(2,1,1)(0,0,0)[0]             : AIC=319.308, Time=0.03 sec\n",
      " ARIMA(2,1,0)(0,0,0)[0]             : AIC=321.500, Time=0.02 sec\n",
      " ARIMA(3,1,1)(0,0,0)[0]             : AIC=321.106, Time=0.05 sec\n",
      " ARIMA(3,1,0)(0,0,0)[0]             : AIC=322.780, Time=0.02 sec\n",
      " ARIMA(3,1,2)(0,0,0)[0]             : AIC=322.918, Time=0.07 sec\n",
      " ARIMA(2,1,1)(0,0,0)[0] intercept   : AIC=321.252, Time=0.04 sec\n",
      "\n",
      "Best model:  ARIMA(2,1,1)(0,0,0)[0]          \n",
      "Total fit time: 0.667 seconds\n",
      "Performing stepwise search to minimize aic\n",
      " ARIMA(0,1,0)(0,0,0)[0] intercept   : AIC=1974.042, Time=0.01 sec\n"
     ]
    },
    {
     "name": "stderr",
     "output_type": "stream",
     "text": [
      "/Users/xiyan/.conda/envs/pythonPKG/lib/python3.9/site-packages/statsmodels/tsa/base/tsa_model.py:471: ValueWarning: No frequency information was provided, so inferred frequency D will be used.\n",
      "  self._init_dates(dates, freq)\n",
      "/Users/xiyan/.conda/envs/pythonPKG/lib/python3.9/site-packages/statsmodels/tsa/base/tsa_model.py:471: ValueWarning: No frequency information was provided, so inferred frequency D will be used.\n",
      "  self._init_dates(dates, freq)\n",
      "/Users/xiyan/.conda/envs/pythonPKG/lib/python3.9/site-packages/statsmodels/tsa/base/tsa_model.py:471: ValueWarning: No frequency information was provided, so inferred frequency D will be used.\n",
      "  self._init_dates(dates, freq)\n"
     ]
    },
    {
     "name": "stdout",
     "output_type": "stream",
     "text": [
      " ARIMA(1,1,0)(0,0,0)[0] intercept   : AIC=1959.660, Time=0.03 sec\n",
      " ARIMA(0,1,1)(0,0,0)[0] intercept   : AIC=1962.783, Time=0.04 sec\n",
      " ARIMA(0,1,0)(0,0,0)[0]             : AIC=1975.578, Time=0.01 sec\n",
      " ARIMA(2,1,0)(0,0,0)[0] intercept   : AIC=1958.430, Time=0.04 sec\n",
      " ARIMA(3,1,0)(0,0,0)[0] intercept   : AIC=1957.585, Time=0.06 sec\n",
      " ARIMA(3,1,1)(0,0,0)[0] intercept   : AIC=1958.490, Time=0.10 sec\n",
      " ARIMA(2,1,1)(0,0,0)[0] intercept   : AIC=1955.518, Time=0.22 sec\n",
      " ARIMA(1,1,1)(0,0,0)[0] intercept   : AIC=1959.476, Time=0.07 sec\n",
      " ARIMA(2,1,2)(0,0,0)[0] intercept   : AIC=1948.151, Time=0.32 sec\n",
      " ARIMA(1,1,2)(0,0,0)[0] intercept   : AIC=1955.046, Time=0.09 sec\n",
      " ARIMA(3,1,2)(0,0,0)[0] intercept   : AIC=1959.290, Time=0.33 sec\n",
      " ARIMA(2,1,3)(0,0,0)[0] intercept   : AIC=1949.912, Time=0.26 sec\n",
      " ARIMA(1,1,3)(0,0,0)[0] intercept   : AIC=1956.140, Time=0.16 sec\n",
      " ARIMA(3,1,3)(0,0,0)[0] intercept   : AIC=1940.144, Time=0.43 sec\n",
      " ARIMA(3,1,3)(0,0,0)[0]             : AIC=1943.169, Time=0.24 sec\n",
      "\n",
      "Best model:  ARIMA(3,1,3)(0,0,0)[0] intercept\n",
      "Total fit time: 2.418 seconds\n"
     ]
    },
    {
     "name": "stderr",
     "output_type": "stream",
     "text": [
      "/Users/xiyan/.conda/envs/pythonPKG/lib/python3.9/site-packages/statsmodels/tsa/base/tsa_model.py:471: ValueWarning: A date index has been provided, but it has no associated frequency information and so will be ignored when e.g. forecasting.\n",
      "  self._init_dates(dates, freq)\n",
      "/Users/xiyan/.conda/envs/pythonPKG/lib/python3.9/site-packages/statsmodels/tsa/base/tsa_model.py:471: ValueWarning: A date index has been provided, but it has no associated frequency information and so will be ignored when e.g. forecasting.\n",
      "  self._init_dates(dates, freq)\n",
      "/Users/xiyan/.conda/envs/pythonPKG/lib/python3.9/site-packages/statsmodels/tsa/base/tsa_model.py:471: ValueWarning: A date index has been provided, but it has no associated frequency information and so will be ignored when e.g. forecasting.\n",
      "  self._init_dates(dates, freq)\n",
      "/Users/xiyan/.conda/envs/pythonPKG/lib/python3.9/site-packages/statsmodels/tsa/base/tsa_model.py:834: ValueWarning: No supported index is available. Prediction results will be given with an integer index beginning at `start`.\n",
      "  return get_prediction_index(\n"
     ]
    },
    {
     "name": "stdout",
     "output_type": "stream",
     "text": [
      "Performing stepwise search to minimize aic\n",
      " ARIMA(0,0,0)(0,0,0)[0]             : AIC=-5601.954, Time=0.05 sec\n",
      " ARIMA(1,0,0)(0,0,0)[0]             : AIC=-10256.894, Time=0.06 sec\n",
      " ARIMA(0,0,1)(0,0,0)[0]             : AIC=-7294.749, Time=0.13 sec\n",
      " ARIMA(2,0,0)(0,0,0)[0]             : AIC=-10261.419, Time=0.09 sec\n",
      " ARIMA(3,0,0)(0,0,0)[0]             : AIC=-10308.734, Time=0.15 sec\n",
      " ARIMA(3,0,1)(0,0,0)[0]             : AIC=-10357.711, Time=0.21 sec\n",
      " ARIMA(2,0,1)(0,0,0)[0]             : AIC=-10375.287, Time=0.55 sec\n",
      " ARIMA(1,0,1)(0,0,0)[0]             : AIC=-10266.090, Time=0.08 sec\n",
      " ARIMA(2,0,2)(0,0,0)[0]             : AIC=-10317.090, Time=0.80 sec\n",
      " ARIMA(1,0,2)(0,0,0)[0]             : AIC=-10392.577, Time=0.47 sec\n",
      " ARIMA(0,0,2)(0,0,0)[0]             : AIC=-8301.088, Time=0.47 sec\n",
      " ARIMA(1,0,3)(0,0,0)[0]             : AIC=-10369.279, Time=0.77 sec\n",
      " ARIMA(0,0,3)(0,0,0)[0]             : AIC=-8869.614, Time=0.54 sec\n",
      " ARIMA(2,0,3)(0,0,0)[0]             : AIC=-10349.582, Time=0.66 sec\n",
      " ARIMA(1,0,2)(0,0,0)[0] intercept   : AIC=-10329.859, Time=0.81 sec\n",
      "\n",
      "Best model:  ARIMA(1,0,2)(0,0,0)[0]          \n",
      "Total fit time: 5.847 seconds\n"
     ]
    },
    {
     "name": "stderr",
     "output_type": "stream",
     "text": [
      "/Users/xiyan/.conda/envs/pythonPKG/lib/python3.9/site-packages/statsmodels/tsa/base/tsa_model.py:471: ValueWarning: No frequency information was provided, so inferred frequency D will be used.\n",
      "  self._init_dates(dates, freq)\n",
      "/Users/xiyan/.conda/envs/pythonPKG/lib/python3.9/site-packages/statsmodels/tsa/base/tsa_model.py:471: ValueWarning: No frequency information was provided, so inferred frequency D will be used.\n",
      "  self._init_dates(dates, freq)\n",
      "/Users/xiyan/.conda/envs/pythonPKG/lib/python3.9/site-packages/statsmodels/tsa/base/tsa_model.py:471: ValueWarning: No frequency information was provided, so inferred frequency D will be used.\n",
      "  self._init_dates(dates, freq)\n",
      "/Users/xiyan/.conda/envs/pythonPKG/lib/python3.9/site-packages/statsmodels/base/model.py:604: ConvergenceWarning: Maximum Likelihood optimization failed to converge. Check mle_retvals\n",
      "  warnings.warn(\"Maximum Likelihood optimization failed to \"\n"
     ]
    },
    {
     "name": "stdout",
     "output_type": "stream",
     "text": [
      "Performing stepwise search to minimize aic\n",
      " ARIMA(0,1,0)(0,0,0)[0] intercept   : AIC=-13091.574, Time=0.11 sec\n",
      " ARIMA(1,1,0)(0,0,0)[0] intercept   : AIC=-13115.908, Time=0.33 sec\n",
      " ARIMA(0,1,1)(0,0,0)[0] intercept   : AIC=-13110.012, Time=0.38 sec\n",
      " ARIMA(0,1,0)(0,0,0)[0]             : AIC=-13093.275, Time=0.07 sec\n",
      " ARIMA(2,1,0)(0,0,0)[0] intercept   : AIC=-13131.755, Time=0.43 sec\n",
      " ARIMA(3,1,0)(0,0,0)[0] intercept   : AIC=-13132.294, Time=0.55 sec\n",
      " ARIMA(3,1,1)(0,0,0)[0] intercept   : AIC=-13129.489, Time=0.62 sec\n",
      " ARIMA(2,1,1)(0,0,0)[0] intercept   : AIC=-13137.613, Time=0.49 sec\n",
      " ARIMA(1,1,1)(0,0,0)[0] intercept   : AIC=-13138.854, Time=0.41 sec\n",
      " ARIMA(1,1,2)(0,0,0)[0] intercept   : AIC=-13138.616, Time=0.32 sec\n",
      " ARIMA(0,1,2)(0,0,0)[0] intercept   : AIC=-13123.672, Time=0.44 sec\n",
      " ARIMA(2,1,2)(0,0,0)[0] intercept   : AIC=-13134.905, Time=0.61 sec\n",
      " ARIMA(1,1,1)(0,0,0)[0]             : AIC=-13140.736, Time=0.21 sec\n",
      " ARIMA(0,1,1)(0,0,0)[0]             : AIC=-13111.618, Time=0.16 sec\n",
      " ARIMA(1,1,0)(0,0,0)[0]             : AIC=-13117.501, Time=0.12 sec\n",
      " ARIMA(2,1,1)(0,0,0)[0]             : AIC=-13139.255, Time=0.29 sec\n",
      " ARIMA(1,1,2)(0,0,0)[0]             : AIC=-13140.363, Time=0.19 sec\n",
      " ARIMA(0,1,2)(0,0,0)[0]             : AIC=-13125.301, Time=0.14 sec\n",
      " ARIMA(2,1,0)(0,0,0)[0]             : AIC=-13133.443, Time=0.23 sec\n",
      " ARIMA(2,1,2)(0,0,0)[0]             : AIC=-13136.835, Time=0.59 sec\n",
      "\n",
      "Best model:  ARIMA(1,1,1)(0,0,0)[0]          \n",
      "Total fit time: 6.736 seconds\n"
     ]
    },
    {
     "name": "stderr",
     "output_type": "stream",
     "text": [
      "/Users/xiyan/.conda/envs/pythonPKG/lib/python3.9/site-packages/statsmodels/tsa/base/tsa_model.py:471: ValueWarning: No frequency information was provided, so inferred frequency D will be used.\n",
      "  self._init_dates(dates, freq)\n",
      "/Users/xiyan/.conda/envs/pythonPKG/lib/python3.9/site-packages/statsmodels/tsa/base/tsa_model.py:471: ValueWarning: No frequency information was provided, so inferred frequency D will be used.\n",
      "  self._init_dates(dates, freq)\n",
      "/Users/xiyan/.conda/envs/pythonPKG/lib/python3.9/site-packages/statsmodels/tsa/base/tsa_model.py:471: ValueWarning: No frequency information was provided, so inferred frequency D will be used.\n",
      "  self._init_dates(dates, freq)\n",
      "/Users/xiyan/.conda/envs/pythonPKG/lib/python3.9/site-packages/statsmodels/base/model.py:604: ConvergenceWarning: Maximum Likelihood optimization failed to converge. Check mle_retvals\n",
      "  warnings.warn(\"Maximum Likelihood optimization failed to \"\n"
     ]
    },
    {
     "name": "stdout",
     "output_type": "stream",
     "text": [
      "Performing stepwise search to minimize aic\n",
      " ARIMA(0,1,0)(0,0,0)[0] intercept   : AIC=2870.782, Time=0.09 sec\n",
      " ARIMA(1,1,0)(0,0,0)[0] intercept   : AIC=2856.086, Time=0.06 sec\n",
      " ARIMA(0,1,1)(0,0,0)[0] intercept   : AIC=2858.020, Time=0.09 sec\n",
      " ARIMA(0,1,0)(0,0,0)[0]             : AIC=2869.388, Time=0.03 sec\n",
      " ARIMA(2,1,0)(0,0,0)[0] intercept   : AIC=2853.425, Time=0.10 sec\n",
      " ARIMA(3,1,0)(0,0,0)[0] intercept   : AIC=2855.166, Time=0.14 sec\n",
      " ARIMA(2,1,1)(0,0,0)[0] intercept   : AIC=2844.047, Time=0.37 sec\n",
      " ARIMA(1,1,1)(0,0,0)[0] intercept   : AIC=2846.324, Time=0.23 sec\n",
      " ARIMA(3,1,1)(0,0,0)[0] intercept   : AIC=2845.539, Time=0.53 sec\n",
      " ARIMA(2,1,2)(0,0,0)[0] intercept   : AIC=inf, Time=0.74 sec\n",
      " ARIMA(1,1,2)(0,0,0)[0] intercept   : AIC=2848.283, Time=0.30 sec\n",
      " ARIMA(3,1,2)(0,0,0)[0] intercept   : AIC=2842.607, Time=0.86 sec\n",
      " ARIMA(3,1,3)(0,0,0)[0] intercept   : AIC=2828.084, Time=1.25 sec\n",
      " ARIMA(2,1,3)(0,0,0)[0] intercept   : AIC=2840.735, Time=0.74 sec\n",
      " ARIMA(3,1,3)(0,0,0)[0]             : AIC=2826.594, Time=0.77 sec\n",
      " ARIMA(2,1,3)(0,0,0)[0]             : AIC=2839.147, Time=0.35 sec\n",
      " ARIMA(3,1,2)(0,0,0)[0]             : AIC=2841.034, Time=0.40 sec\n",
      " ARIMA(2,1,2)(0,0,0)[0]             : AIC=2835.004, Time=0.76 sec\n",
      "\n",
      "Best model:  ARIMA(3,1,3)(0,0,0)[0]          \n",
      "Total fit time: 7.829 seconds\n"
     ]
    },
    {
     "name": "stderr",
     "output_type": "stream",
     "text": [
      "/Users/xiyan/.conda/envs/pythonPKG/lib/python3.9/site-packages/statsmodels/tsa/base/tsa_model.py:471: ValueWarning: No frequency information was provided, so inferred frequency D will be used.\n",
      "  self._init_dates(dates, freq)\n",
      "/Users/xiyan/.conda/envs/pythonPKG/lib/python3.9/site-packages/statsmodels/tsa/base/tsa_model.py:471: ValueWarning: No frequency information was provided, so inferred frequency D will be used.\n",
      "  self._init_dates(dates, freq)\n",
      "/Users/xiyan/.conda/envs/pythonPKG/lib/python3.9/site-packages/statsmodels/tsa/base/tsa_model.py:471: ValueWarning: No frequency information was provided, so inferred frequency D will be used.\n",
      "  self._init_dates(dates, freq)\n"
     ]
    },
    {
     "name": "stdout",
     "output_type": "stream",
     "text": [
      "Performing stepwise search to minimize aic\n",
      " ARIMA(0,1,0)(0,0,0)[0] intercept   : AIC=1175.700, Time=0.01 sec\n",
      " ARIMA(1,1,0)(0,0,0)[0] intercept   : AIC=1169.821, Time=0.02 sec\n",
      " ARIMA(0,1,1)(0,0,0)[0] intercept   : AIC=1171.064, Time=0.03 sec\n",
      " ARIMA(0,1,0)(0,0,0)[0]             : AIC=1174.365, Time=0.01 sec\n",
      " ARIMA(2,1,0)(0,0,0)[0] intercept   : AIC=1169.328, Time=0.03 sec\n",
      " ARIMA(3,1,0)(0,0,0)[0] intercept   : AIC=1169.845, Time=0.04 sec\n",
      " ARIMA(2,1,1)(0,0,0)[0] intercept   : AIC=1164.835, Time=0.08 sec\n",
      " ARIMA(1,1,1)(0,0,0)[0] intercept   : AIC=1162.842, Time=0.05 sec\n",
      " ARIMA(1,1,2)(0,0,0)[0] intercept   : AIC=1164.834, Time=0.10 sec\n",
      " ARIMA(0,1,2)(0,0,0)[0] intercept   : AIC=1170.516, Time=0.04 sec\n",
      " ARIMA(2,1,2)(0,0,0)[0] intercept   : AIC=1166.565, Time=0.15 sec\n",
      " ARIMA(1,1,1)(0,0,0)[0]             : AIC=1161.636, Time=0.03 sec\n",
      " ARIMA(0,1,1)(0,0,0)[0]             : AIC=1169.963, Time=0.02 sec\n",
      " ARIMA(1,1,0)(0,0,0)[0]             : AIC=1168.725, Time=0.02 sec\n",
      " ARIMA(2,1,1)(0,0,0)[0]             : AIC=1163.620, Time=0.04 sec\n",
      " ARIMA(1,1,2)(0,0,0)[0]             : AIC=1163.618, Time=0.06 sec\n",
      " ARIMA(0,1,2)(0,0,0)[0]             : AIC=1169.261, Time=0.03 sec\n",
      " ARIMA(2,1,0)(0,0,0)[0]             : AIC=1168.081, Time=0.02 sec\n",
      " ARIMA(2,1,2)(0,0,0)[0]             : AIC=1165.504, Time=0.09 sec\n",
      "\n",
      "Best model:  ARIMA(1,1,1)(0,0,0)[0]          \n",
      "Total fit time: 0.882 seconds\n"
     ]
    },
    {
     "name": "stderr",
     "output_type": "stream",
     "text": [
      "/Users/xiyan/.conda/envs/pythonPKG/lib/python3.9/site-packages/statsmodels/tsa/base/tsa_model.py:471: ValueWarning: No frequency information was provided, so inferred frequency D will be used.\n",
      "  self._init_dates(dates, freq)\n",
      "/Users/xiyan/.conda/envs/pythonPKG/lib/python3.9/site-packages/statsmodels/tsa/base/tsa_model.py:471: ValueWarning: No frequency information was provided, so inferred frequency D will be used.\n",
      "  self._init_dates(dates, freq)\n",
      "/Users/xiyan/.conda/envs/pythonPKG/lib/python3.9/site-packages/statsmodels/tsa/base/tsa_model.py:471: ValueWarning: No frequency information was provided, so inferred frequency D will be used.\n",
      "  self._init_dates(dates, freq)\n"
     ]
    },
    {
     "name": "stdout",
     "output_type": "stream",
     "text": [
      "Performing stepwise search to minimize aic\n",
      " ARIMA(0,0,0)(0,0,0)[0]             : AIC=1632.634, Time=0.03 sec\n",
      " ARIMA(1,0,0)(0,0,0)[0]             : AIC=inf, Time=0.10 sec\n",
      " ARIMA(0,0,1)(0,0,0)[0]             : AIC=inf, Time=0.07 sec\n",
      " ARIMA(1,0,1)(0,0,0)[0]             : AIC=-3984.085, Time=0.24 sec\n",
      " ARIMA(2,0,1)(0,0,0)[0]             : AIC=-3855.220, Time=0.21 sec\n",
      " ARIMA(1,0,2)(0,0,0)[0]             : AIC=-4001.143, Time=0.31 sec\n",
      " ARIMA(0,0,2)(0,0,0)[0]             : AIC=118.696, Time=0.11 sec\n",
      " ARIMA(2,0,2)(0,0,0)[0]             : AIC=inf, Time=0.27 sec\n",
      " ARIMA(1,0,3)(0,0,0)[0]             : AIC=-4002.469, Time=0.17 sec\n",
      " ARIMA(0,0,3)(0,0,0)[0]             : AIC=-486.213, Time=0.19 sec\n",
      " ARIMA(2,0,3)(0,0,0)[0]             : AIC=inf, Time=0.41 sec\n",
      " ARIMA(1,0,3)(0,0,0)[0] intercept   : AIC=-4022.562, Time=0.39 sec\n",
      " ARIMA(0,0,3)(0,0,0)[0] intercept   : AIC=-3989.210, Time=0.33 sec\n",
      " ARIMA(1,0,2)(0,0,0)[0] intercept   : AIC=-4021.326, Time=0.46 sec\n",
      " ARIMA(2,0,3)(0,0,0)[0] intercept   : AIC=-4020.326, Time=0.38 sec\n",
      " ARIMA(0,0,2)(0,0,0)[0] intercept   : AIC=-3967.947, Time=0.23 sec\n",
      " ARIMA(2,0,2)(0,0,0)[0] intercept   : AIC=-4021.292, Time=0.37 sec\n",
      "\n",
      "Best model:  ARIMA(1,0,3)(0,0,0)[0] intercept\n",
      "Total fit time: 4.282 seconds\n"
     ]
    },
    {
     "name": "stderr",
     "output_type": "stream",
     "text": [
      "/Users/xiyan/.conda/envs/pythonPKG/lib/python3.9/site-packages/statsmodels/tsa/base/tsa_model.py:471: ValueWarning: No frequency information was provided, so inferred frequency D will be used.\n",
      "  self._init_dates(dates, freq)\n",
      "/Users/xiyan/.conda/envs/pythonPKG/lib/python3.9/site-packages/statsmodels/tsa/base/tsa_model.py:471: ValueWarning: No frequency information was provided, so inferred frequency D will be used.\n",
      "  self._init_dates(dates, freq)\n",
      "/Users/xiyan/.conda/envs/pythonPKG/lib/python3.9/site-packages/statsmodels/tsa/base/tsa_model.py:471: ValueWarning: No frequency information was provided, so inferred frequency D will be used.\n",
      "  self._init_dates(dates, freq)\n"
     ]
    },
    {
     "name": "stdout",
     "output_type": "stream",
     "text": [
      "Performing stepwise search to minimize aic\n",
      " ARIMA(0,1,0)(0,0,0)[0] intercept   : AIC=5526.352, Time=0.02 sec\n",
      " ARIMA(1,1,0)(0,0,0)[0] intercept   : AIC=5499.018, Time=0.05 sec\n",
      " ARIMA(0,1,1)(0,0,0)[0] intercept   : AIC=5499.669, Time=0.06 sec\n",
      " ARIMA(0,1,0)(0,0,0)[0]             : AIC=5528.444, Time=0.02 sec\n",
      " ARIMA(2,1,0)(0,0,0)[0] intercept   : AIC=5499.799, Time=0.09 sec\n",
      " ARIMA(1,1,1)(0,0,0)[0] intercept   : AIC=5500.665, Time=0.12 sec\n",
      " ARIMA(2,1,1)(0,0,0)[0] intercept   : AIC=5466.590, Time=0.30 sec\n",
      " ARIMA(3,1,1)(0,0,0)[0] intercept   : AIC=5457.897, Time=0.20 sec\n",
      " ARIMA(3,1,0)(0,0,0)[0] intercept   : AIC=5458.255, Time=0.10 sec\n",
      " ARIMA(3,1,2)(0,0,0)[0] intercept   : AIC=5453.476, Time=0.40 sec\n",
      " ARIMA(2,1,2)(0,0,0)[0] intercept   : AIC=inf, Time=0.86 sec\n",
      " ARIMA(3,1,3)(0,0,0)[0] intercept   : AIC=5436.641, Time=1.02 sec\n",
      " ARIMA(2,1,3)(0,0,0)[0] intercept   : AIC=5454.658, Time=0.62 sec\n",
      " ARIMA(3,1,3)(0,0,0)[0]             : AIC=5440.174, Time=0.38 sec\n",
      "\n",
      "Best model:  ARIMA(3,1,3)(0,0,0)[0] intercept\n",
      "Total fit time: 4.257 seconds\n"
     ]
    },
    {
     "name": "stderr",
     "output_type": "stream",
     "text": [
      "/Users/xiyan/.conda/envs/pythonPKG/lib/python3.9/site-packages/statsmodels/tsa/base/tsa_model.py:471: ValueWarning: No frequency information was provided, so inferred frequency D will be used.\n",
      "  self._init_dates(dates, freq)\n",
      "/Users/xiyan/.conda/envs/pythonPKG/lib/python3.9/site-packages/statsmodels/tsa/base/tsa_model.py:471: ValueWarning: No frequency information was provided, so inferred frequency D will be used.\n",
      "  self._init_dates(dates, freq)\n",
      "/Users/xiyan/.conda/envs/pythonPKG/lib/python3.9/site-packages/statsmodels/tsa/base/tsa_model.py:471: ValueWarning: No frequency information was provided, so inferred frequency D will be used.\n",
      "  self._init_dates(dates, freq)\n"
     ]
    },
    {
     "name": "stdout",
     "output_type": "stream",
     "text": [
      "Performing stepwise search to minimize aic\n",
      " ARIMA(0,1,0)(0,0,0)[0] intercept   : AIC=1464.010, Time=0.01 sec\n",
      " ARIMA(1,1,0)(0,0,0)[0] intercept   : AIC=1460.764, Time=0.03 sec\n",
      " ARIMA(0,1,1)(0,0,0)[0] intercept   : AIC=1461.644, Time=0.03 sec\n",
      " ARIMA(0,1,0)(0,0,0)[0]             : AIC=1462.506, Time=0.01 sec\n",
      " ARIMA(2,1,0)(0,0,0)[0] intercept   : AIC=1459.495, Time=0.04 sec\n",
      " ARIMA(3,1,0)(0,0,0)[0] intercept   : AIC=1461.466, Time=0.05 sec\n",
      " ARIMA(2,1,1)(0,0,0)[0] intercept   : AIC=1461.365, Time=0.08 sec\n",
      " ARIMA(1,1,1)(0,0,0)[0] intercept   : AIC=1456.772, Time=0.07 sec\n",
      " ARIMA(1,1,2)(0,0,0)[0] intercept   : AIC=1460.808, Time=0.09 sec\n",
      " ARIMA(0,1,2)(0,0,0)[0] intercept   : AIC=1459.526, Time=0.04 sec\n",
      " ARIMA(2,1,2)(0,0,0)[0] intercept   : AIC=1455.413, Time=0.37 sec\n",
      " ARIMA(3,1,2)(0,0,0)[0] intercept   : AIC=1462.616, Time=0.34 sec\n",
      " ARIMA(2,1,3)(0,0,0)[0] intercept   : AIC=1462.310, Time=0.19 sec\n",
      " ARIMA(1,1,3)(0,0,0)[0] intercept   : AIC=1460.611, Time=0.18 sec\n",
      " ARIMA(3,1,1)(0,0,0)[0] intercept   : AIC=1463.365, Time=0.11 sec\n",
      " ARIMA(3,1,3)(0,0,0)[0] intercept   : AIC=1455.959, Time=0.26 sec\n",
      " ARIMA(2,1,2)(0,0,0)[0]             : AIC=1453.923, Time=0.19 sec\n",
      " ARIMA(1,1,2)(0,0,0)[0]             : AIC=1459.265, Time=0.06 sec\n",
      " ARIMA(2,1,1)(0,0,0)[0]             : AIC=1459.850, Time=0.06 sec\n",
      " ARIMA(3,1,2)(0,0,0)[0]             : AIC=1461.187, Time=0.17 sec\n",
      " ARIMA(2,1,3)(0,0,0)[0]             : AIC=1460.797, Time=0.12 sec\n",
      " ARIMA(1,1,1)(0,0,0)[0]             : AIC=1455.329, Time=0.04 sec\n",
      " ARIMA(1,1,3)(0,0,0)[0]             : AIC=1459.164, Time=0.10 sec\n",
      " ARIMA(3,1,1)(0,0,0)[0]             : AIC=1461.850, Time=0.07 sec\n",
      " ARIMA(3,1,3)(0,0,0)[0]             : AIC=1454.442, Time=0.16 sec\n",
      "\n",
      "Best model:  ARIMA(2,1,2)(0,0,0)[0]          \n",
      "Total fit time: 2.877 seconds\n"
     ]
    },
    {
     "name": "stderr",
     "output_type": "stream",
     "text": [
      "/Users/xiyan/.conda/envs/pythonPKG/lib/python3.9/site-packages/statsmodels/tsa/base/tsa_model.py:471: ValueWarning: No frequency information was provided, so inferred frequency D will be used.\n",
      "  self._init_dates(dates, freq)\n",
      "/Users/xiyan/.conda/envs/pythonPKG/lib/python3.9/site-packages/statsmodels/tsa/base/tsa_model.py:471: ValueWarning: No frequency information was provided, so inferred frequency D will be used.\n",
      "  self._init_dates(dates, freq)\n",
      "/Users/xiyan/.conda/envs/pythonPKG/lib/python3.9/site-packages/statsmodels/tsa/base/tsa_model.py:471: ValueWarning: No frequency information was provided, so inferred frequency D will be used.\n",
      "  self._init_dates(dates, freq)\n"
     ]
    },
    {
     "name": "stdout",
     "output_type": "stream",
     "text": [
      "Performing stepwise search to minimize aic\n",
      " ARIMA(0,1,0)(0,0,0)[0] intercept   : AIC=8161.843, Time=0.03 sec\n",
      " ARIMA(1,1,0)(0,0,0)[0] intercept   : AIC=8163.698, Time=0.07 sec\n",
      " ARIMA(0,1,1)(0,0,0)[0] intercept   : AIC=8163.718, Time=0.09 sec\n",
      " ARIMA(0,1,0)(0,0,0)[0]             : AIC=8160.286, Time=0.03 sec\n",
      " ARIMA(1,1,1)(0,0,0)[0] intercept   : AIC=8162.531, Time=0.24 sec\n",
      "\n",
      "Best model:  ARIMA(0,1,0)(0,0,0)[0]          \n",
      "Total fit time: 0.483 seconds\n"
     ]
    },
    {
     "name": "stderr",
     "output_type": "stream",
     "text": [
      "/Users/xiyan/.conda/envs/pythonPKG/lib/python3.9/site-packages/statsmodels/tsa/base/tsa_model.py:471: ValueWarning: No frequency information was provided, so inferred frequency D will be used.\n",
      "  self._init_dates(dates, freq)\n",
      "/Users/xiyan/.conda/envs/pythonPKG/lib/python3.9/site-packages/statsmodels/tsa/base/tsa_model.py:471: ValueWarning: No frequency information was provided, so inferred frequency D will be used.\n",
      "  self._init_dates(dates, freq)\n",
      "/Users/xiyan/.conda/envs/pythonPKG/lib/python3.9/site-packages/statsmodels/tsa/base/tsa_model.py:471: ValueWarning: No frequency information was provided, so inferred frequency D will be used.\n",
      "  self._init_dates(dates, freq)\n"
     ]
    },
    {
     "name": "stdout",
     "output_type": "stream",
     "text": [
      "Performing stepwise search to minimize aic\n",
      " ARIMA(0,1,0)(0,0,0)[0] intercept   : AIC=-4900.377, Time=0.09 sec\n",
      " ARIMA(1,1,0)(0,0,0)[0] intercept   : AIC=-4898.445, Time=0.07 sec\n",
      " ARIMA(0,1,1)(0,0,0)[0] intercept   : AIC=-4898.472, Time=0.17 sec\n",
      " ARIMA(0,1,0)(0,0,0)[0]             : AIC=-4902.330, Time=0.13 sec\n",
      " ARIMA(1,1,1)(0,0,0)[0] intercept   : AIC=-4898.017, Time=0.54 sec\n",
      "\n",
      "Best model:  ARIMA(0,1,0)(0,0,0)[0]          \n",
      "Total fit time: 0.997 seconds\n",
      "Performing stepwise search to minimize aic\n",
      " ARIMA(0,1,0)(0,0,0)[0] intercept   : AIC=3068.142, Time=0.01 sec\n"
     ]
    },
    {
     "name": "stderr",
     "output_type": "stream",
     "text": [
      "/Users/xiyan/.conda/envs/pythonPKG/lib/python3.9/site-packages/statsmodels/tsa/base/tsa_model.py:471: ValueWarning: No frequency information was provided, so inferred frequency D will be used.\n",
      "  self._init_dates(dates, freq)\n",
      "/Users/xiyan/.conda/envs/pythonPKG/lib/python3.9/site-packages/statsmodels/tsa/base/tsa_model.py:471: ValueWarning: No frequency information was provided, so inferred frequency D will be used.\n",
      "  self._init_dates(dates, freq)\n",
      "/Users/xiyan/.conda/envs/pythonPKG/lib/python3.9/site-packages/statsmodels/tsa/base/tsa_model.py:471: ValueWarning: No frequency information was provided, so inferred frequency D will be used.\n",
      "  self._init_dates(dates, freq)\n",
      "/Users/xiyan/.conda/envs/pythonPKG/lib/python3.9/site-packages/statsmodels/base/model.py:604: ConvergenceWarning: Maximum Likelihood optimization failed to converge. Check mle_retvals\n",
      "  warnings.warn(\"Maximum Likelihood optimization failed to \"\n"
     ]
    },
    {
     "name": "stdout",
     "output_type": "stream",
     "text": [
      " ARIMA(1,1,0)(0,0,0)[0] intercept   : AIC=3066.963, Time=0.06 sec\n",
      " ARIMA(0,1,1)(0,0,0)[0] intercept   : AIC=3067.369, Time=0.04 sec\n",
      " ARIMA(0,1,0)(0,0,0)[0]             : AIC=3066.789, Time=0.01 sec\n",
      " ARIMA(1,1,1)(0,0,0)[0] intercept   : AIC=3058.023, Time=0.10 sec\n",
      " ARIMA(2,1,1)(0,0,0)[0] intercept   : AIC=3058.762, Time=0.15 sec\n",
      " ARIMA(1,1,2)(0,0,0)[0] intercept   : AIC=3058.320, Time=0.15 sec\n",
      " ARIMA(0,1,2)(0,0,0)[0] intercept   : AIC=3068.011, Time=0.06 sec\n",
      " ARIMA(2,1,0)(0,0,0)[0] intercept   : AIC=3066.905, Time=0.08 sec\n",
      " ARIMA(2,1,2)(0,0,0)[0] intercept   : AIC=3042.036, Time=0.32 sec\n",
      " ARIMA(3,1,2)(0,0,0)[0] intercept   : AIC=3044.187, Time=0.34 sec\n",
      " ARIMA(2,1,3)(0,0,0)[0] intercept   : AIC=3044.035, Time=0.27 sec\n",
      " ARIMA(1,1,3)(0,0,0)[0] intercept   : AIC=3053.278, Time=0.17 sec\n",
      " ARIMA(3,1,1)(0,0,0)[0] intercept   : AIC=3057.751, Time=0.17 sec\n",
      " ARIMA(3,1,3)(0,0,0)[0] intercept   : AIC=3049.924, Time=0.38 sec\n",
      " ARIMA(2,1,2)(0,0,0)[0]             : AIC=3060.755, Time=0.08 sec\n",
      "\n",
      "Best model:  ARIMA(2,1,2)(0,0,0)[0] intercept\n",
      "Total fit time: 2.426 seconds\n"
     ]
    },
    {
     "name": "stderr",
     "output_type": "stream",
     "text": [
      "/Users/xiyan/.conda/envs/pythonPKG/lib/python3.9/site-packages/statsmodels/tsa/base/tsa_model.py:471: ValueWarning: No frequency information was provided, so inferred frequency D will be used.\n",
      "  self._init_dates(dates, freq)\n",
      "/Users/xiyan/.conda/envs/pythonPKG/lib/python3.9/site-packages/statsmodels/tsa/base/tsa_model.py:471: ValueWarning: No frequency information was provided, so inferred frequency D will be used.\n",
      "  self._init_dates(dates, freq)\n",
      "/Users/xiyan/.conda/envs/pythonPKG/lib/python3.9/site-packages/statsmodels/tsa/base/tsa_model.py:471: ValueWarning: No frequency information was provided, so inferred frequency D will be used.\n",
      "  self._init_dates(dates, freq)\n"
     ]
    },
    {
     "name": "stdout",
     "output_type": "stream",
     "text": [
      "Performing stepwise search to minimize aic\n",
      " ARIMA(0,1,0)(0,0,0)[0] intercept   : AIC=11506.106, Time=0.02 sec\n",
      " ARIMA(1,1,0)(0,0,0)[0] intercept   : AIC=11499.768, Time=0.11 sec\n",
      " ARIMA(0,1,1)(0,0,0)[0] intercept   : AIC=11498.417, Time=0.12 sec\n",
      " ARIMA(0,1,0)(0,0,0)[0]             : AIC=11504.143, Time=0.02 sec\n",
      " ARIMA(1,1,1)(0,0,0)[0] intercept   : AIC=11497.775, Time=0.23 sec\n",
      " ARIMA(2,1,1)(0,0,0)[0] intercept   : AIC=11491.530, Time=0.30 sec\n",
      " ARIMA(2,1,0)(0,0,0)[0] intercept   : AIC=11493.412, Time=0.07 sec\n",
      " ARIMA(3,1,1)(0,0,0)[0] intercept   : AIC=11492.020, Time=0.45 sec\n",
      " ARIMA(2,1,2)(0,0,0)[0] intercept   : AIC=11435.476, Time=1.09 sec\n",
      " ARIMA(1,1,2)(0,0,0)[0] intercept   : AIC=11493.432, Time=0.28 sec\n",
      " ARIMA(3,1,2)(0,0,0)[0] intercept   : AIC=11432.477, Time=1.17 sec\n",
      " ARIMA(3,1,3)(0,0,0)[0] intercept   : AIC=11437.335, Time=0.87 sec\n",
      " ARIMA(2,1,3)(0,0,0)[0] intercept   : AIC=11432.681, Time=1.02 sec\n",
      " ARIMA(3,1,2)(0,0,0)[0]             : AIC=11430.519, Time=0.65 sec\n",
      " ARIMA(2,1,2)(0,0,0)[0]             : AIC=11433.402, Time=0.71 sec\n",
      " ARIMA(3,1,1)(0,0,0)[0]             : AIC=11490.063, Time=0.21 sec\n",
      " ARIMA(3,1,3)(0,0,0)[0]             : AIC=11435.390, Time=0.46 sec\n",
      " ARIMA(2,1,1)(0,0,0)[0]             : AIC=11489.576, Time=0.17 sec\n",
      " ARIMA(2,1,3)(0,0,0)[0]             : AIC=11430.719, Time=0.67 sec\n",
      "\n",
      "Best model:  ARIMA(3,1,2)(0,0,0)[0]          \n",
      "Total fit time: 8.636 seconds\n"
     ]
    },
    {
     "name": "stderr",
     "output_type": "stream",
     "text": [
      "/Users/xiyan/.conda/envs/pythonPKG/lib/python3.9/site-packages/statsmodels/tsa/base/tsa_model.py:471: ValueWarning: No frequency information was provided, so inferred frequency D will be used.\n",
      "  self._init_dates(dates, freq)\n",
      "/Users/xiyan/.conda/envs/pythonPKG/lib/python3.9/site-packages/statsmodels/tsa/base/tsa_model.py:471: ValueWarning: No frequency information was provided, so inferred frequency D will be used.\n",
      "  self._init_dates(dates, freq)\n",
      "/Users/xiyan/.conda/envs/pythonPKG/lib/python3.9/site-packages/statsmodels/tsa/base/tsa_model.py:471: ValueWarning: No frequency information was provided, so inferred frequency D will be used.\n",
      "  self._init_dates(dates, freq)\n"
     ]
    },
    {
     "name": "stdout",
     "output_type": "stream",
     "text": [
      "Performing stepwise search to minimize aic\n",
      " ARIMA(0,1,0)(0,0,0)[0] intercept   : AIC=-1480.045, Time=0.04 sec\n",
      " ARIMA(1,1,0)(0,0,0)[0] intercept   : AIC=-1480.646, Time=0.06 sec\n",
      " ARIMA(0,1,1)(0,0,0)[0] intercept   : AIC=-1480.215, Time=0.11 sec\n",
      " ARIMA(0,1,0)(0,0,0)[0]             : AIC=-1481.103, Time=0.03 sec\n",
      " ARIMA(1,1,1)(0,0,0)[0] intercept   : AIC=-1487.902, Time=0.14 sec\n",
      " ARIMA(2,1,1)(0,0,0)[0] intercept   : AIC=-1488.449, Time=0.25 sec\n",
      " ARIMA(2,1,0)(0,0,0)[0] intercept   : AIC=-1482.836, Time=0.03 sec\n",
      " ARIMA(3,1,1)(0,0,0)[0] intercept   : AIC=-1489.314, Time=0.33 sec\n",
      " ARIMA(3,1,0)(0,0,0)[0] intercept   : AIC=-1487.380, Time=0.08 sec\n",
      " ARIMA(3,1,2)(0,0,0)[0] intercept   : AIC=-1489.794, Time=0.31 sec\n",
      " ARIMA(2,1,2)(0,0,0)[0] intercept   : AIC=-1490.268, Time=0.23 sec\n",
      " ARIMA(1,1,2)(0,0,0)[0] intercept   : AIC=-1489.327, Time=0.21 sec\n",
      " ARIMA(2,1,3)(0,0,0)[0] intercept   : AIC=-1489.431, Time=0.42 sec\n",
      " ARIMA(1,1,3)(0,0,0)[0] intercept   : AIC=-1490.874, Time=0.32 sec\n",
      " ARIMA(0,1,3)(0,0,0)[0] intercept   : AIC=-1485.383, Time=0.16 sec\n",
      " ARIMA(0,1,2)(0,0,0)[0] intercept   : AIC=-1480.842, Time=0.11 sec\n",
      " ARIMA(1,1,3)(0,0,0)[0]             : AIC=-1491.843, Time=0.17 sec\n",
      " ARIMA(0,1,3)(0,0,0)[0]             : AIC=-1486.275, Time=0.08 sec\n",
      " ARIMA(1,1,2)(0,0,0)[0]             : AIC=-1490.470, Time=0.14 sec\n",
      " ARIMA(2,1,3)(0,0,0)[0]             : AIC=-1490.418, Time=0.27 sec\n",
      " ARIMA(0,1,2)(0,0,0)[0]             : AIC=-1481.929, Time=0.07 sec\n",
      " ARIMA(2,1,2)(0,0,0)[0]             : AIC=-1491.580, Time=0.17 sec\n",
      "\n",
      "Best model:  ARIMA(1,1,3)(0,0,0)[0]          \n",
      "Total fit time: 3.745 seconds\n"
     ]
    },
    {
     "name": "stderr",
     "output_type": "stream",
     "text": [
      "/Users/xiyan/.conda/envs/pythonPKG/lib/python3.9/site-packages/statsmodels/tsa/base/tsa_model.py:471: ValueWarning: No frequency information was provided, so inferred frequency D will be used.\n",
      "  self._init_dates(dates, freq)\n",
      "/Users/xiyan/.conda/envs/pythonPKG/lib/python3.9/site-packages/statsmodels/tsa/base/tsa_model.py:471: ValueWarning: No frequency information was provided, so inferred frequency D will be used.\n",
      "  self._init_dates(dates, freq)\n",
      "/Users/xiyan/.conda/envs/pythonPKG/lib/python3.9/site-packages/statsmodels/tsa/base/tsa_model.py:471: ValueWarning: No frequency information was provided, so inferred frequency D will be used.\n",
      "  self._init_dates(dates, freq)\n"
     ]
    },
    {
     "name": "stdout",
     "output_type": "stream",
     "text": [
      "Performing stepwise search to minimize aic\n",
      " ARIMA(0,1,0)(0,0,0)[0] intercept   : AIC=-5561.619, Time=0.15 sec\n",
      " ARIMA(1,1,0)(0,0,0)[0] intercept   : AIC=-5570.906, Time=0.08 sec\n",
      " ARIMA(0,1,1)(0,0,0)[0] intercept   : AIC=-5570.826, Time=0.08 sec\n",
      " ARIMA(0,1,0)(0,0,0)[0]             : AIC=-5563.300, Time=0.05 sec\n",
      " ARIMA(2,1,0)(0,0,0)[0] intercept   : AIC=-5568.912, Time=0.11 sec\n",
      " ARIMA(1,1,1)(0,0,0)[0] intercept   : AIC=-5568.921, Time=0.17 sec\n",
      " ARIMA(2,1,1)(0,0,0)[0] intercept   : AIC=-5566.906, Time=0.26 sec\n",
      " ARIMA(1,1,0)(0,0,0)[0]             : AIC=-5572.526, Time=0.07 sec\n",
      " ARIMA(2,1,0)(0,0,0)[0]             : AIC=-5570.535, Time=0.11 sec\n",
      " ARIMA(1,1,1)(0,0,0)[0]             : AIC=-5570.545, Time=0.16 sec\n",
      " ARIMA(0,1,1)(0,0,0)[0]             : AIC=-5572.441, Time=0.10 sec\n",
      " ARIMA(2,1,1)(0,0,0)[0]             : AIC=-5568.528, Time=0.23 sec\n",
      "\n",
      "Best model:  ARIMA(1,1,0)(0,0,0)[0]          \n",
      "Total fit time: 1.574 seconds\n"
     ]
    },
    {
     "name": "stderr",
     "output_type": "stream",
     "text": [
      "/Users/xiyan/.conda/envs/pythonPKG/lib/python3.9/site-packages/statsmodels/tsa/base/tsa_model.py:471: ValueWarning: No frequency information was provided, so inferred frequency D will be used.\n",
      "  self._init_dates(dates, freq)\n",
      "/Users/xiyan/.conda/envs/pythonPKG/lib/python3.9/site-packages/statsmodels/tsa/base/tsa_model.py:471: ValueWarning: No frequency information was provided, so inferred frequency D will be used.\n",
      "  self._init_dates(dates, freq)\n",
      "/Users/xiyan/.conda/envs/pythonPKG/lib/python3.9/site-packages/statsmodels/tsa/base/tsa_model.py:471: ValueWarning: No frequency information was provided, so inferred frequency D will be used.\n",
      "  self._init_dates(dates, freq)\n"
     ]
    },
    {
     "name": "stdout",
     "output_type": "stream",
     "text": [
      "Performing stepwise search to minimize aic\n",
      " ARIMA(0,1,0)(0,0,0)[0] intercept   : AIC=-8888.049, Time=0.09 sec\n",
      " ARIMA(1,1,0)(0,0,0)[0] intercept   : AIC=-8936.575, Time=0.20 sec\n",
      " ARIMA(0,1,1)(0,0,0)[0] intercept   : AIC=-8930.190, Time=0.33 sec\n",
      " ARIMA(0,1,0)(0,0,0)[0]             : AIC=-8889.764, Time=0.06 sec\n",
      " ARIMA(2,1,0)(0,0,0)[0] intercept   : AIC=-8937.513, Time=0.18 sec\n",
      " ARIMA(3,1,0)(0,0,0)[0] intercept   : AIC=-8949.093, Time=0.39 sec\n",
      " ARIMA(3,1,1)(0,0,0)[0] intercept   : AIC=-8947.986, Time=0.29 sec\n",
      " ARIMA(2,1,1)(0,0,0)[0] intercept   : AIC=-8936.734, Time=1.01 sec\n",
      " ARIMA(3,1,0)(0,0,0)[0]             : AIC=-8950.790, Time=0.31 sec\n",
      " ARIMA(2,1,0)(0,0,0)[0]             : AIC=-8939.148, Time=0.15 sec\n",
      " ARIMA(3,1,1)(0,0,0)[0]             : AIC=-8949.703, Time=0.29 sec\n",
      " ARIMA(2,1,1)(0,0,0)[0]             : AIC=-8941.347, Time=0.52 sec\n",
      "\n",
      "Best model:  ARIMA(3,1,0)(0,0,0)[0]          \n",
      "Total fit time: 3.841 seconds\n"
     ]
    },
    {
     "name": "stderr",
     "output_type": "stream",
     "text": [
      "/Users/xiyan/.conda/envs/pythonPKG/lib/python3.9/site-packages/statsmodels/tsa/base/tsa_model.py:471: ValueWarning: No frequency information was provided, so inferred frequency D will be used.\n",
      "  self._init_dates(dates, freq)\n",
      "/Users/xiyan/.conda/envs/pythonPKG/lib/python3.9/site-packages/statsmodels/tsa/base/tsa_model.py:471: ValueWarning: No frequency information was provided, so inferred frequency D will be used.\n",
      "  self._init_dates(dates, freq)\n",
      "/Users/xiyan/.conda/envs/pythonPKG/lib/python3.9/site-packages/statsmodels/tsa/base/tsa_model.py:471: ValueWarning: No frequency information was provided, so inferred frequency D will be used.\n",
      "  self._init_dates(dates, freq)\n"
     ]
    },
    {
     "name": "stdout",
     "output_type": "stream",
     "text": [
      "Performing stepwise search to minimize aic\n",
      " ARIMA(0,1,0)(0,0,0)[0] intercept   : AIC=-979.719, Time=0.04 sec\n",
      " ARIMA(1,1,0)(0,0,0)[0] intercept   : AIC=-978.510, Time=0.05 sec\n",
      " ARIMA(0,1,1)(0,0,0)[0] intercept   : AIC=-978.281, Time=0.07 sec\n",
      " ARIMA(0,1,0)(0,0,0)[0]             : AIC=-981.123, Time=0.03 sec\n",
      " ARIMA(1,1,1)(0,0,0)[0] intercept   : AIC=-986.025, Time=0.17 sec\n",
      " ARIMA(2,1,1)(0,0,0)[0] intercept   : AIC=-999.290, Time=0.29 sec\n",
      " ARIMA(2,1,0)(0,0,0)[0] intercept   : AIC=-998.700, Time=0.04 sec\n",
      " ARIMA(3,1,1)(0,0,0)[0] intercept   : AIC=-998.609, Time=0.37 sec\n",
      " ARIMA(2,1,2)(0,0,0)[0] intercept   : AIC=-1000.473, Time=0.33 sec\n",
      " ARIMA(1,1,2)(0,0,0)[0] intercept   : AIC=-1002.097, Time=0.26 sec\n",
      " ARIMA(0,1,2)(0,0,0)[0] intercept   : AIC=-998.265, Time=0.13 sec\n",
      " ARIMA(1,1,3)(0,0,0)[0] intercept   : AIC=-1000.472, Time=0.33 sec\n",
      " ARIMA(0,1,3)(0,0,0)[0] intercept   : AIC=-1002.147, Time=0.17 sec\n",
      " ARIMA(0,1,3)(0,0,0)[0]             : AIC=-1003.780, Time=0.09 sec\n",
      " ARIMA(0,1,2)(0,0,0)[0]             : AIC=-999.833, Time=0.08 sec\n",
      " ARIMA(1,1,3)(0,0,0)[0]             : AIC=-1002.128, Time=0.17 sec\n",
      " ARIMA(1,1,2)(0,0,0)[0]             : AIC=-1003.766, Time=0.12 sec\n",
      "\n",
      "Best model:  ARIMA(0,1,3)(0,0,0)[0]          \n",
      "Total fit time: 2.729 seconds\n"
     ]
    },
    {
     "name": "stderr",
     "output_type": "stream",
     "text": [
      "/Users/xiyan/.conda/envs/pythonPKG/lib/python3.9/site-packages/statsmodels/tsa/base/tsa_model.py:471: ValueWarning: No frequency information was provided, so inferred frequency D will be used.\n",
      "  self._init_dates(dates, freq)\n",
      "/Users/xiyan/.conda/envs/pythonPKG/lib/python3.9/site-packages/statsmodels/tsa/base/tsa_model.py:471: ValueWarning: No frequency information was provided, so inferred frequency D will be used.\n",
      "  self._init_dates(dates, freq)\n",
      "/Users/xiyan/.conda/envs/pythonPKG/lib/python3.9/site-packages/statsmodels/tsa/base/tsa_model.py:471: ValueWarning: No frequency information was provided, so inferred frequency D will be used.\n",
      "  self._init_dates(dates, freq)\n"
     ]
    },
    {
     "name": "stdout",
     "output_type": "stream",
     "text": [
      "Performing stepwise search to minimize aic\n",
      " ARIMA(0,0,0)(0,0,0)[0]             : AIC=2012.794, Time=0.01 sec\n",
      " ARIMA(1,0,0)(0,0,0)[0]             : AIC=inf, Time=0.06 sec\n",
      " ARIMA(0,0,1)(0,0,0)[0]             : AIC=inf, Time=0.11 sec\n",
      " ARIMA(1,0,1)(0,0,0)[0]             : AIC=-5920.289, Time=0.09 sec\n",
      " ARIMA(2,0,1)(0,0,0)[0]             : AIC=-5957.301, Time=0.20 sec\n",
      " ARIMA(2,0,0)(0,0,0)[0]             : AIC=inf, Time=0.08 sec\n",
      " ARIMA(3,0,1)(0,0,0)[0]             : AIC=-5863.973, Time=0.11 sec\n",
      " ARIMA(2,0,2)(0,0,0)[0]             : AIC=-5934.465, Time=0.26 sec\n",
      " ARIMA(1,0,2)(0,0,0)[0]             : AIC=-5924.967, Time=0.18 sec\n",
      " ARIMA(3,0,0)(0,0,0)[0]             : AIC=inf, Time=0.07 sec\n",
      " ARIMA(3,0,2)(0,0,0)[0]             : AIC=-5936.681, Time=0.33 sec\n",
      " ARIMA(2,0,1)(0,0,0)[0] intercept   : AIC=-5965.755, Time=2.81 sec\n",
      " ARIMA(1,0,1)(0,0,0)[0] intercept   : AIC=-5959.523, Time=0.20 sec\n",
      " ARIMA(2,0,0)(0,0,0)[0] intercept   : AIC=-5966.497, Time=0.26 sec\n",
      " ARIMA(1,0,0)(0,0,0)[0] intercept   : AIC=-5947.745, Time=0.05 sec\n",
      " ARIMA(3,0,0)(0,0,0)[0] intercept   : AIC=-5980.660, Time=0.17 sec\n",
      " ARIMA(3,0,1)(0,0,0)[0] intercept   : AIC=-5978.162, Time=0.42 sec\n",
      "\n",
      "Best model:  ARIMA(3,0,0)(0,0,0)[0] intercept\n",
      "Total fit time: 5.428 seconds\n"
     ]
    },
    {
     "name": "stderr",
     "output_type": "stream",
     "text": [
      "/Users/xiyan/.conda/envs/pythonPKG/lib/python3.9/site-packages/statsmodels/tsa/base/tsa_model.py:471: ValueWarning: No frequency information was provided, so inferred frequency D will be used.\n",
      "  self._init_dates(dates, freq)\n",
      "/Users/xiyan/.conda/envs/pythonPKG/lib/python3.9/site-packages/statsmodels/tsa/base/tsa_model.py:471: ValueWarning: No frequency information was provided, so inferred frequency D will be used.\n",
      "  self._init_dates(dates, freq)\n",
      "/Users/xiyan/.conda/envs/pythonPKG/lib/python3.9/site-packages/statsmodels/tsa/base/tsa_model.py:471: ValueWarning: No frequency information was provided, so inferred frequency D will be used.\n",
      "  self._init_dates(dates, freq)\n"
     ]
    },
    {
     "name": "stdout",
     "output_type": "stream",
     "text": [
      "Performing stepwise search to minimize aic\n",
      " ARIMA(0,1,0)(0,0,0)[0] intercept   : AIC=5397.466, Time=0.02 sec\n",
      " ARIMA(1,1,0)(0,0,0)[0] intercept   : AIC=5397.271, Time=0.05 sec\n",
      " ARIMA(0,1,1)(0,0,0)[0] intercept   : AIC=5397.171, Time=0.06 sec\n",
      " ARIMA(0,1,0)(0,0,0)[0]             : AIC=5395.912, Time=0.01 sec\n",
      " ARIMA(1,1,1)(0,0,0)[0] intercept   : AIC=5399.034, Time=0.18 sec\n",
      "\n",
      "Best model:  ARIMA(0,1,0)(0,0,0)[0]          \n",
      "Total fit time: 0.323 seconds\n",
      "Performing stepwise search to minimize aic\n",
      " ARIMA(0,0,0)(0,0,0)[0]             : AIC=-8323.679, Time=0.05 sec\n"
     ]
    },
    {
     "name": "stderr",
     "output_type": "stream",
     "text": [
      "/Users/xiyan/.conda/envs/pythonPKG/lib/python3.9/site-packages/statsmodels/tsa/base/tsa_model.py:471: ValueWarning: No frequency information was provided, so inferred frequency D will be used.\n",
      "  self._init_dates(dates, freq)\n",
      "/Users/xiyan/.conda/envs/pythonPKG/lib/python3.9/site-packages/statsmodels/tsa/base/tsa_model.py:471: ValueWarning: No frequency information was provided, so inferred frequency D will be used.\n",
      "  self._init_dates(dates, freq)\n",
      "/Users/xiyan/.conda/envs/pythonPKG/lib/python3.9/site-packages/statsmodels/tsa/base/tsa_model.py:471: ValueWarning: No frequency information was provided, so inferred frequency D will be used.\n",
      "  self._init_dates(dates, freq)\n"
     ]
    },
    {
     "name": "stdout",
     "output_type": "stream",
     "text": [
      " ARIMA(1,0,0)(0,0,0)[0]             : AIC=-9355.129, Time=0.06 sec\n",
      " ARIMA(0,0,1)(0,0,0)[0]             : AIC=-8713.337, Time=0.07 sec\n",
      " ARIMA(2,0,0)(0,0,0)[0]             : AIC=-9393.634, Time=0.07 sec\n",
      " ARIMA(3,0,0)(0,0,0)[0]             : AIC=-9392.434, Time=0.11 sec\n",
      " ARIMA(2,0,1)(0,0,0)[0]             : AIC=-9389.658, Time=0.10 sec\n",
      " ARIMA(1,0,1)(0,0,0)[0]             : AIC=-9393.028, Time=0.08 sec\n",
      " ARIMA(3,0,1)(0,0,0)[0]             : AIC=-9389.141, Time=0.12 sec\n",
      " ARIMA(2,0,0)(0,0,0)[0] intercept   : AIC=-8380.742, Time=0.23 sec\n",
      "\n",
      "Best model:  ARIMA(2,0,0)(0,0,0)[0]          \n",
      "Total fit time: 0.902 seconds\n"
     ]
    },
    {
     "name": "stderr",
     "output_type": "stream",
     "text": [
      "/Users/xiyan/.conda/envs/pythonPKG/lib/python3.9/site-packages/statsmodels/tsa/base/tsa_model.py:471: ValueWarning: No frequency information was provided, so inferred frequency D will be used.\n",
      "  self._init_dates(dates, freq)\n",
      "/Users/xiyan/.conda/envs/pythonPKG/lib/python3.9/site-packages/statsmodels/tsa/base/tsa_model.py:471: ValueWarning: No frequency information was provided, so inferred frequency D will be used.\n",
      "  self._init_dates(dates, freq)\n",
      "/Users/xiyan/.conda/envs/pythonPKG/lib/python3.9/site-packages/statsmodels/tsa/base/tsa_model.py:471: ValueWarning: No frequency information was provided, so inferred frequency D will be used.\n",
      "  self._init_dates(dates, freq)\n",
      "/Users/xiyan/.conda/envs/pythonPKG/lib/python3.9/site-packages/statsmodels/base/model.py:604: ConvergenceWarning: Maximum Likelihood optimization failed to converge. Check mle_retvals\n",
      "  warnings.warn(\"Maximum Likelihood optimization failed to \"\n"
     ]
    },
    {
     "name": "stdout",
     "output_type": "stream",
     "text": [
      "Performing stepwise search to minimize aic\n",
      " ARIMA(0,1,0)(0,0,0)[0] intercept   : AIC=7622.684, Time=0.03 sec\n",
      " ARIMA(1,1,0)(0,0,0)[0] intercept   : AIC=7621.735, Time=0.08 sec\n",
      " ARIMA(0,1,1)(0,0,0)[0] intercept   : AIC=7621.665, Time=0.09 sec\n",
      " ARIMA(0,1,0)(0,0,0)[0]             : AIC=7620.712, Time=0.03 sec\n",
      " ARIMA(1,1,1)(0,0,0)[0] intercept   : AIC=7623.352, Time=0.18 sec\n",
      "\n",
      "Best model:  ARIMA(0,1,0)(0,0,0)[0]          \n",
      "Total fit time: 0.405 seconds\n"
     ]
    },
    {
     "name": "stderr",
     "output_type": "stream",
     "text": [
      "/Users/xiyan/.conda/envs/pythonPKG/lib/python3.9/site-packages/statsmodels/tsa/base/tsa_model.py:471: ValueWarning: No frequency information was provided, so inferred frequency D will be used.\n",
      "  self._init_dates(dates, freq)\n",
      "/Users/xiyan/.conda/envs/pythonPKG/lib/python3.9/site-packages/statsmodels/tsa/base/tsa_model.py:471: ValueWarning: No frequency information was provided, so inferred frequency D will be used.\n",
      "  self._init_dates(dates, freq)\n",
      "/Users/xiyan/.conda/envs/pythonPKG/lib/python3.9/site-packages/statsmodels/tsa/base/tsa_model.py:471: ValueWarning: No frequency information was provided, so inferred frequency D will be used.\n",
      "  self._init_dates(dates, freq)\n"
     ]
    },
    {
     "name": "stdout",
     "output_type": "stream",
     "text": [
      "Performing stepwise search to minimize aic\n",
      " ARIMA(0,1,0)(0,0,0)[0] intercept   : AIC=-1960.350, Time=0.06 sec\n",
      " ARIMA(1,1,0)(0,0,0)[0] intercept   : AIC=-1965.052, Time=0.05 sec\n",
      " ARIMA(0,1,1)(0,0,0)[0] intercept   : AIC=-1965.707, Time=0.10 sec\n",
      " ARIMA(0,1,0)(0,0,0)[0]             : AIC=-1961.970, Time=0.04 sec\n",
      " ARIMA(1,1,1)(0,0,0)[0] intercept   : AIC=-1960.777, Time=0.24 sec\n",
      " ARIMA(0,1,2)(0,0,0)[0] intercept   : AIC=-1964.937, Time=0.21 sec\n",
      " ARIMA(1,1,2)(0,0,0)[0] intercept   : AIC=-1961.715, Time=0.36 sec\n",
      " ARIMA(0,1,1)(0,0,0)[0]             : AIC=-1967.241, Time=0.05 sec\n",
      " ARIMA(1,1,1)(0,0,0)[0]             : AIC=-1966.348, Time=0.14 sec\n",
      " ARIMA(0,1,2)(0,0,0)[0]             : AIC=-1966.439, Time=0.06 sec\n",
      " ARIMA(1,1,0)(0,0,0)[0]             : AIC=-1966.603, Time=0.06 sec\n",
      " ARIMA(1,1,2)(0,0,0)[0]             : AIC=-1963.259, Time=0.14 sec\n",
      "\n",
      "Best model:  ARIMA(0,1,1)(0,0,0)[0]          \n",
      "Total fit time: 1.520 seconds\n"
     ]
    },
    {
     "name": "stderr",
     "output_type": "stream",
     "text": [
      "/Users/xiyan/.conda/envs/pythonPKG/lib/python3.9/site-packages/statsmodels/tsa/base/tsa_model.py:471: ValueWarning: No frequency information was provided, so inferred frequency D will be used.\n",
      "  self._init_dates(dates, freq)\n",
      "/Users/xiyan/.conda/envs/pythonPKG/lib/python3.9/site-packages/statsmodels/tsa/base/tsa_model.py:471: ValueWarning: No frequency information was provided, so inferred frequency D will be used.\n",
      "  self._init_dates(dates, freq)\n",
      "/Users/xiyan/.conda/envs/pythonPKG/lib/python3.9/site-packages/statsmodels/tsa/base/tsa_model.py:471: ValueWarning: No frequency information was provided, so inferred frequency D will be used.\n",
      "  self._init_dates(dates, freq)\n"
     ]
    },
    {
     "name": "stdout",
     "output_type": "stream",
     "text": [
      "Performing stepwise search to minimize aic\n",
      " ARIMA(0,1,0)(0,0,0)[0] intercept   : AIC=1978.147, Time=0.05 sec\n",
      " ARIMA(1,1,0)(0,0,0)[0] intercept   : AIC=1960.949, Time=0.06 sec\n",
      " ARIMA(0,1,1)(0,0,0)[0] intercept   : AIC=1964.427, Time=0.06 sec\n",
      " ARIMA(0,1,0)(0,0,0)[0]             : AIC=1976.633, Time=0.02 sec\n",
      " ARIMA(2,1,0)(0,0,0)[0] intercept   : AIC=1954.499, Time=0.06 sec\n",
      " ARIMA(3,1,0)(0,0,0)[0] intercept   : AIC=1956.453, Time=0.08 sec\n",
      " ARIMA(2,1,1)(0,0,0)[0] intercept   : AIC=1956.388, Time=0.19 sec\n",
      " ARIMA(1,1,1)(0,0,0)[0] intercept   : AIC=1952.349, Time=0.15 sec\n",
      " ARIMA(1,1,2)(0,0,0)[0] intercept   : AIC=1954.348, Time=0.19 sec\n",
      " ARIMA(0,1,2)(0,0,0)[0] intercept   : AIC=1954.354, Time=0.09 sec\n",
      " ARIMA(2,1,2)(0,0,0)[0] intercept   : AIC=1956.349, Time=0.17 sec\n",
      " ARIMA(1,1,1)(0,0,0)[0]             : AIC=1950.915, Time=0.08 sec\n",
      " ARIMA(0,1,1)(0,0,0)[0]             : AIC=1963.053, Time=0.04 sec\n",
      " ARIMA(1,1,0)(0,0,0)[0]             : AIC=1959.585, Time=0.03 sec\n",
      " ARIMA(2,1,1)(0,0,0)[0]             : AIC=1954.893, Time=0.10 sec\n",
      " ARIMA(1,1,2)(0,0,0)[0]             : AIC=1952.915, Time=0.10 sec\n",
      " ARIMA(0,1,2)(0,0,0)[0]             : AIC=1952.860, Time=0.05 sec\n",
      " ARIMA(2,1,0)(0,0,0)[0]             : AIC=1953.020, Time=0.04 sec\n",
      " ARIMA(2,1,2)(0,0,0)[0]             : AIC=1954.547, Time=0.22 sec\n",
      "\n",
      "Best model:  ARIMA(1,1,1)(0,0,0)[0]          \n",
      "Total fit time: 1.774 seconds\n"
     ]
    },
    {
     "name": "stderr",
     "output_type": "stream",
     "text": [
      "/Users/xiyan/.conda/envs/pythonPKG/lib/python3.9/site-packages/statsmodels/tsa/base/tsa_model.py:471: ValueWarning: No frequency information was provided, so inferred frequency D will be used.\n",
      "  self._init_dates(dates, freq)\n",
      "/Users/xiyan/.conda/envs/pythonPKG/lib/python3.9/site-packages/statsmodels/tsa/base/tsa_model.py:471: ValueWarning: No frequency information was provided, so inferred frequency D will be used.\n",
      "  self._init_dates(dates, freq)\n",
      "/Users/xiyan/.conda/envs/pythonPKG/lib/python3.9/site-packages/statsmodels/tsa/base/tsa_model.py:471: ValueWarning: No frequency information was provided, so inferred frequency D will be used.\n",
      "  self._init_dates(dates, freq)\n"
     ]
    },
    {
     "name": "stdout",
     "output_type": "stream",
     "text": [
      "Performing stepwise search to minimize aic\n",
      " ARIMA(0,1,0)(0,0,0)[0] intercept   : AIC=-5412.568, Time=0.09 sec\n",
      " ARIMA(1,1,0)(0,0,0)[0] intercept   : AIC=-5425.104, Time=0.07 sec\n",
      " ARIMA(0,1,1)(0,0,0)[0] intercept   : AIC=-5426.281, Time=0.22 sec\n",
      " ARIMA(0,1,0)(0,0,0)[0]             : AIC=-5414.568, Time=0.05 sec\n",
      " ARIMA(1,1,1)(0,0,0)[0] intercept   : AIC=-5424.493, Time=0.23 sec\n",
      " ARIMA(0,1,2)(0,0,0)[0] intercept   : AIC=-5425.168, Time=0.35 sec\n",
      " ARIMA(1,1,2)(0,0,0)[0] intercept   : AIC=-5422.352, Time=0.74 sec\n",
      " ARIMA(0,1,1)(0,0,0)[0]             : AIC=-5428.241, Time=0.04 sec\n",
      " ARIMA(1,1,1)(0,0,0)[0]             : AIC=-5426.466, Time=0.06 sec\n",
      " ARIMA(0,1,2)(0,0,0)[0]             : AIC=-5427.165, Time=0.11 sec\n",
      " ARIMA(1,1,0)(0,0,0)[0]             : AIC=-5427.104, Time=0.05 sec\n",
      " ARIMA(1,1,2)(0,0,0)[0]             : AIC=-5424.349, Time=0.35 sec\n",
      "\n",
      "Best model:  ARIMA(0,1,1)(0,0,0)[0]          \n",
      "Total fit time: 2.364 seconds\n",
      "Performing stepwise search to minimize aic\n",
      " ARIMA(0,1,0)(0,0,0)[0] intercept   : AIC=170.369, Time=0.02 sec\n",
      " ARIMA(1,1,0)(0,0,0)[0] intercept   : AIC=170.936, Time=0.03 sec\n"
     ]
    },
    {
     "name": "stderr",
     "output_type": "stream",
     "text": [
      "/Users/xiyan/.conda/envs/pythonPKG/lib/python3.9/site-packages/statsmodels/tsa/base/tsa_model.py:471: ValueWarning: No frequency information was provided, so inferred frequency D will be used.\n",
      "  self._init_dates(dates, freq)\n",
      "/Users/xiyan/.conda/envs/pythonPKG/lib/python3.9/site-packages/statsmodels/tsa/base/tsa_model.py:471: ValueWarning: No frequency information was provided, so inferred frequency D will be used.\n",
      "  self._init_dates(dates, freq)\n",
      "/Users/xiyan/.conda/envs/pythonPKG/lib/python3.9/site-packages/statsmodels/tsa/base/tsa_model.py:471: ValueWarning: No frequency information was provided, so inferred frequency D will be used.\n",
      "  self._init_dates(dates, freq)\n"
     ]
    },
    {
     "name": "stdout",
     "output_type": "stream",
     "text": [
      " ARIMA(0,1,1)(0,0,0)[0] intercept   : AIC=171.082, Time=0.03 sec\n",
      " ARIMA(0,1,0)(0,0,0)[0]             : AIC=169.037, Time=0.01 sec\n",
      " ARIMA(1,1,1)(0,0,0)[0] intercept   : AIC=171.586, Time=0.09 sec\n",
      "\n",
      "Best model:  ARIMA(0,1,0)(0,0,0)[0]          \n",
      "Total fit time: 0.203 seconds\n"
     ]
    },
    {
     "name": "stderr",
     "output_type": "stream",
     "text": [
      "/Users/xiyan/.conda/envs/pythonPKG/lib/python3.9/site-packages/statsmodels/tsa/base/tsa_model.py:471: ValueWarning: No frequency information was provided, so inferred frequency D will be used.\n",
      "  self._init_dates(dates, freq)\n",
      "/Users/xiyan/.conda/envs/pythonPKG/lib/python3.9/site-packages/statsmodels/tsa/base/tsa_model.py:471: ValueWarning: No frequency information was provided, so inferred frequency D will be used.\n",
      "  self._init_dates(dates, freq)\n",
      "/Users/xiyan/.conda/envs/pythonPKG/lib/python3.9/site-packages/statsmodels/tsa/base/tsa_model.py:471: ValueWarning: No frequency information was provided, so inferred frequency D will be used.\n",
      "  self._init_dates(dates, freq)\n"
     ]
    },
    {
     "name": "stdout",
     "output_type": "stream",
     "text": [
      "Performing stepwise search to minimize aic\n",
      " ARIMA(0,1,0)(0,0,0)[0] intercept   : AIC=-5753.648, Time=0.08 sec\n",
      " ARIMA(1,1,0)(0,0,0)[0] intercept   : AIC=-5784.494, Time=0.15 sec\n",
      " ARIMA(0,1,1)(0,0,0)[0] intercept   : AIC=-5779.392, Time=0.18 sec\n",
      " ARIMA(0,1,0)(0,0,0)[0]             : AIC=-5754.994, Time=0.04 sec\n",
      " ARIMA(2,1,0)(0,0,0)[0] intercept   : AIC=-5795.067, Time=0.16 sec\n",
      " ARIMA(3,1,0)(0,0,0)[0] intercept   : AIC=-5807.580, Time=0.58 sec\n",
      " ARIMA(3,1,1)(0,0,0)[0] intercept   : AIC=-5808.331, Time=0.85 sec\n",
      " ARIMA(2,1,1)(0,0,0)[0] intercept   : AIC=-5806.212, Time=0.81 sec\n",
      " ARIMA(3,1,2)(0,0,0)[0] intercept   : AIC=-5806.821, Time=1.12 sec\n",
      " ARIMA(2,1,2)(0,0,0)[0] intercept   : AIC=-5807.311, Time=0.65 sec\n",
      " ARIMA(3,1,1)(0,0,0)[0]             : AIC=-5805.887, Time=0.08 sec\n",
      "\n",
      "Best model:  ARIMA(3,1,1)(0,0,0)[0] intercept\n",
      "Total fit time: 4.720 seconds\n"
     ]
    },
    {
     "name": "stderr",
     "output_type": "stream",
     "text": [
      "/Users/xiyan/.conda/envs/pythonPKG/lib/python3.9/site-packages/statsmodels/tsa/base/tsa_model.py:471: ValueWarning: No frequency information was provided, so inferred frequency D will be used.\n",
      "  self._init_dates(dates, freq)\n",
      "/Users/xiyan/.conda/envs/pythonPKG/lib/python3.9/site-packages/statsmodels/tsa/base/tsa_model.py:471: ValueWarning: No frequency information was provided, so inferred frequency D will be used.\n",
      "  self._init_dates(dates, freq)\n",
      "/Users/xiyan/.conda/envs/pythonPKG/lib/python3.9/site-packages/statsmodels/tsa/base/tsa_model.py:471: ValueWarning: No frequency information was provided, so inferred frequency D will be used.\n",
      "  self._init_dates(dates, freq)\n"
     ]
    },
    {
     "name": "stdout",
     "output_type": "stream",
     "text": [
      "Performing stepwise search to minimize aic\n",
      " ARIMA(0,1,0)(0,0,0)[0] intercept   : AIC=-7136.740, Time=0.06 sec\n",
      " ARIMA(1,1,0)(0,0,0)[0] intercept   : AIC=-7157.243, Time=0.15 sec\n",
      " ARIMA(0,1,1)(0,0,0)[0] intercept   : AIC=-7157.859, Time=0.13 sec\n",
      " ARIMA(0,1,0)(0,0,0)[0]             : AIC=-7138.288, Time=0.06 sec\n",
      " ARIMA(1,1,1)(0,0,0)[0] intercept   : AIC=-7155.852, Time=0.15 sec\n",
      " ARIMA(0,1,2)(0,0,0)[0] intercept   : AIC=-7155.845, Time=0.13 sec\n",
      " ARIMA(1,1,2)(0,0,0)[0] intercept   : AIC=-7153.743, Time=0.27 sec\n",
      " ARIMA(0,1,1)(0,0,0)[0]             : AIC=-7159.221, Time=0.07 sec\n",
      " ARIMA(1,1,1)(0,0,0)[0]             : AIC=-7157.221, Time=0.10 sec\n",
      " ARIMA(0,1,2)(0,0,0)[0]             : AIC=-7157.210, Time=0.08 sec\n",
      " ARIMA(1,1,0)(0,0,0)[0]             : AIC=-7158.638, Time=0.07 sec\n",
      " ARIMA(1,1,2)(0,0,0)[0]             : AIC=-7155.152, Time=0.22 sec\n",
      "\n",
      "Best model:  ARIMA(0,1,1)(0,0,0)[0]          \n",
      "Total fit time: 1.489 seconds\n"
     ]
    },
    {
     "name": "stderr",
     "output_type": "stream",
     "text": [
      "/Users/xiyan/.conda/envs/pythonPKG/lib/python3.9/site-packages/statsmodels/tsa/base/tsa_model.py:471: ValueWarning: No frequency information was provided, so inferred frequency D will be used.\n",
      "  self._init_dates(dates, freq)\n",
      "/Users/xiyan/.conda/envs/pythonPKG/lib/python3.9/site-packages/statsmodels/tsa/base/tsa_model.py:471: ValueWarning: No frequency information was provided, so inferred frequency D will be used.\n",
      "  self._init_dates(dates, freq)\n",
      "/Users/xiyan/.conda/envs/pythonPKG/lib/python3.9/site-packages/statsmodels/tsa/base/tsa_model.py:471: ValueWarning: No frequency information was provided, so inferred frequency D will be used.\n",
      "  self._init_dates(dates, freq)\n"
     ]
    },
    {
     "name": "stdout",
     "output_type": "stream",
     "text": [
      "Performing stepwise search to minimize aic\n",
      " ARIMA(0,1,0)(0,0,0)[0] intercept   : AIC=-8224.881, Time=0.18 sec\n",
      " ARIMA(1,1,0)(0,0,0)[0] intercept   : AIC=-8233.005, Time=0.46 sec\n",
      " ARIMA(0,1,1)(0,0,0)[0] intercept   : AIC=-8232.235, Time=0.14 sec\n",
      " ARIMA(0,1,0)(0,0,0)[0]             : AIC=-8226.687, Time=0.06 sec\n",
      " ARIMA(2,1,0)(0,0,0)[0] intercept   : AIC=-8232.890, Time=0.23 sec\n",
      " ARIMA(1,1,1)(0,0,0)[0] intercept   : AIC=-8231.858, Time=0.25 sec\n",
      " ARIMA(2,1,1)(0,0,0)[0] intercept   : AIC=-8231.043, Time=0.50 sec\n",
      " ARIMA(1,1,0)(0,0,0)[0]             : AIC=-8234.780, Time=0.10 sec\n",
      " ARIMA(2,1,0)(0,0,0)[0]             : AIC=-8234.680, Time=0.16 sec\n",
      " ARIMA(1,1,1)(0,0,0)[0]             : AIC=-8233.631, Time=0.11 sec\n",
      " ARIMA(0,1,1)(0,0,0)[0]             : AIC=-8234.011, Time=0.08 sec\n",
      " ARIMA(2,1,1)(0,0,0)[0]             : AIC=-8232.834, Time=0.26 sec\n",
      "\n",
      "Best model:  ARIMA(1,1,0)(0,0,0)[0]          \n",
      "Total fit time: 2.559 seconds\n"
     ]
    },
    {
     "name": "stderr",
     "output_type": "stream",
     "text": [
      "/Users/xiyan/.conda/envs/pythonPKG/lib/python3.9/site-packages/statsmodels/tsa/base/tsa_model.py:471: ValueWarning: No frequency information was provided, so inferred frequency D will be used.\n",
      "  self._init_dates(dates, freq)\n",
      "/Users/xiyan/.conda/envs/pythonPKG/lib/python3.9/site-packages/statsmodels/tsa/base/tsa_model.py:471: ValueWarning: No frequency information was provided, so inferred frequency D will be used.\n",
      "  self._init_dates(dates, freq)\n",
      "/Users/xiyan/.conda/envs/pythonPKG/lib/python3.9/site-packages/statsmodels/tsa/base/tsa_model.py:471: ValueWarning: No frequency information was provided, so inferred frequency D will be used.\n",
      "  self._init_dates(dates, freq)\n"
     ]
    },
    {
     "name": "stdout",
     "output_type": "stream",
     "text": [
      "Performing stepwise search to minimize aic\n",
      " ARIMA(0,0,0)(0,0,0)[0]             : AIC=1669.960, Time=0.03 sec\n",
      " ARIMA(1,0,0)(0,0,0)[0]             : AIC=inf, Time=0.09 sec\n",
      " ARIMA(0,0,1)(0,0,0)[0]             : AIC=680.001, Time=0.06 sec\n",
      " ARIMA(1,0,1)(0,0,0)[0]             : AIC=-2033.140, Time=0.13 sec\n",
      " ARIMA(2,0,1)(0,0,0)[0]             : AIC=-2036.939, Time=0.36 sec\n",
      " ARIMA(2,0,0)(0,0,0)[0]             : AIC=inf, Time=0.16 sec\n",
      " ARIMA(3,0,1)(0,0,0)[0]             : AIC=-2061.042, Time=0.32 sec\n",
      " ARIMA(3,0,0)(0,0,0)[0]             : AIC=inf, Time=0.24 sec\n",
      " ARIMA(3,0,2)(0,0,0)[0]             : AIC=-2053.670, Time=0.49 sec\n",
      " ARIMA(2,0,2)(0,0,0)[0]             : AIC=-2059.224, Time=0.48 sec\n",
      " ARIMA(3,0,1)(0,0,0)[0] intercept   : AIC=-2060.564, Time=0.57 sec\n",
      "\n",
      "Best model:  ARIMA(3,0,1)(0,0,0)[0]          \n",
      "Total fit time: 2.943 seconds\n"
     ]
    },
    {
     "name": "stderr",
     "output_type": "stream",
     "text": [
      "/Users/xiyan/.conda/envs/pythonPKG/lib/python3.9/site-packages/statsmodels/tsa/base/tsa_model.py:471: ValueWarning: No frequency information was provided, so inferred frequency D will be used.\n",
      "  self._init_dates(dates, freq)\n",
      "/Users/xiyan/.conda/envs/pythonPKG/lib/python3.9/site-packages/statsmodels/tsa/base/tsa_model.py:471: ValueWarning: No frequency information was provided, so inferred frequency D will be used.\n",
      "  self._init_dates(dates, freq)\n",
      "/Users/xiyan/.conda/envs/pythonPKG/lib/python3.9/site-packages/statsmodels/tsa/base/tsa_model.py:471: ValueWarning: No frequency information was provided, so inferred frequency D will be used.\n",
      "  self._init_dates(dates, freq)\n",
      "/Users/xiyan/.conda/envs/pythonPKG/lib/python3.9/site-packages/statsmodels/base/model.py:604: ConvergenceWarning: Maximum Likelihood optimization failed to converge. Check mle_retvals\n",
      "  warnings.warn(\"Maximum Likelihood optimization failed to \"\n"
     ]
    },
    {
     "name": "stdout",
     "output_type": "stream",
     "text": [
      "Performing stepwise search to minimize aic\n",
      " ARIMA(0,1,0)(0,0,0)[0] intercept   : AIC=1604.013, Time=0.01 sec\n",
      " ARIMA(1,1,0)(0,0,0)[0] intercept   : AIC=1601.956, Time=0.03 sec\n",
      " ARIMA(0,1,1)(0,0,0)[0] intercept   : AIC=1602.422, Time=0.04 sec\n",
      " ARIMA(0,1,0)(0,0,0)[0]             : AIC=1603.622, Time=0.01 sec\n",
      " ARIMA(2,1,0)(0,0,0)[0] intercept   : AIC=1602.009, Time=0.04 sec\n",
      " ARIMA(1,1,1)(0,0,0)[0] intercept   : AIC=1600.305, Time=0.09 sec\n",
      " ARIMA(2,1,1)(0,0,0)[0] intercept   : AIC=1601.648, Time=0.10 sec\n",
      " ARIMA(1,1,2)(0,0,0)[0] intercept   : AIC=1601.364, Time=0.08 sec\n",
      " ARIMA(0,1,2)(0,0,0)[0] intercept   : AIC=1603.189, Time=0.05 sec\n",
      " ARIMA(2,1,2)(0,0,0)[0] intercept   : AIC=1585.245, Time=0.28 sec\n",
      " ARIMA(3,1,2)(0,0,0)[0] intercept   : AIC=1587.567, Time=0.52 sec\n",
      " ARIMA(2,1,3)(0,0,0)[0] intercept   : AIC=1602.205, Time=0.18 sec\n",
      " ARIMA(1,1,3)(0,0,0)[0] intercept   : AIC=1600.306, Time=0.13 sec\n",
      " ARIMA(3,1,1)(0,0,0)[0] intercept   : AIC=1600.108, Time=0.11 sec\n",
      " ARIMA(3,1,3)(0,0,0)[0] intercept   : AIC=1588.982, Time=0.52 sec\n",
      " ARIMA(2,1,2)(0,0,0)[0]             : AIC=1584.892, Time=0.23 sec\n",
      " ARIMA(1,1,2)(0,0,0)[0]             : AIC=1601.020, Time=0.05 sec\n",
      " ARIMA(2,1,1)(0,0,0)[0]             : AIC=1601.333, Time=0.06 sec\n",
      " ARIMA(3,1,2)(0,0,0)[0]             : AIC=1587.349, Time=0.27 sec\n",
      " ARIMA(2,1,3)(0,0,0)[0]             : AIC=1602.202, Time=0.12 sec\n",
      " ARIMA(1,1,1)(0,0,0)[0]             : AIC=1600.095, Time=0.05 sec\n",
      " ARIMA(1,1,3)(0,0,0)[0]             : AIC=1600.315, Time=0.05 sec\n",
      " ARIMA(3,1,1)(0,0,0)[0]             : AIC=1600.125, Time=0.06 sec\n",
      " ARIMA(3,1,3)(0,0,0)[0]             : AIC=1588.913, Time=0.52 sec\n",
      "\n",
      "Best model:  ARIMA(2,1,2)(0,0,0)[0]          \n",
      "Total fit time: 3.613 seconds\n"
     ]
    },
    {
     "name": "stderr",
     "output_type": "stream",
     "text": [
      "/Users/xiyan/.conda/envs/pythonPKG/lib/python3.9/site-packages/statsmodels/tsa/base/tsa_model.py:471: ValueWarning: No frequency information was provided, so inferred frequency D will be used.\n",
      "  self._init_dates(dates, freq)\n",
      "/Users/xiyan/.conda/envs/pythonPKG/lib/python3.9/site-packages/statsmodels/tsa/base/tsa_model.py:471: ValueWarning: No frequency information was provided, so inferred frequency D will be used.\n",
      "  self._init_dates(dates, freq)\n",
      "/Users/xiyan/.conda/envs/pythonPKG/lib/python3.9/site-packages/statsmodels/tsa/base/tsa_model.py:471: ValueWarning: No frequency information was provided, so inferred frequency D will be used.\n",
      "  self._init_dates(dates, freq)\n"
     ]
    },
    {
     "name": "stdout",
     "output_type": "stream",
     "text": [
      "Performing stepwise search to minimize aic\n",
      " ARIMA(0,0,0)(0,0,0)[0]             : AIC=8816.502, Time=0.02 sec\n",
      " ARIMA(1,0,0)(0,0,0)[0]             : AIC=inf, Time=0.04 sec\n",
      " ARIMA(0,0,1)(0,0,0)[0]             : AIC=7054.075, Time=0.08 sec\n",
      " ARIMA(1,0,1)(0,0,0)[0]             : AIC=2155.978, Time=0.07 sec\n",
      " ARIMA(2,0,1)(0,0,0)[0]             : AIC=2154.948, Time=0.21 sec\n",
      " ARIMA(2,0,0)(0,0,0)[0]             : AIC=inf, Time=0.13 sec\n",
      " ARIMA(3,0,1)(0,0,0)[0]             : AIC=2156.221, Time=0.33 sec\n",
      " ARIMA(2,0,2)(0,0,0)[0]             : AIC=2155.719, Time=0.14 sec\n",
      " ARIMA(1,0,2)(0,0,0)[0]             : AIC=2153.887, Time=0.18 sec\n",
      " ARIMA(0,0,2)(0,0,0)[0]             : AIC=5834.078, Time=0.15 sec\n",
      " ARIMA(1,0,3)(0,0,0)[0]             : AIC=2155.279, Time=0.26 sec\n",
      " ARIMA(0,0,3)(0,0,0)[0]             : AIC=5149.653, Time=0.90 sec\n",
      " ARIMA(2,0,3)(0,0,0)[0]             : AIC=2155.836, Time=0.43 sec\n",
      " ARIMA(1,0,2)(0,0,0)[0] intercept   : AIC=2148.100, Time=0.33 sec\n",
      " ARIMA(0,0,2)(0,0,0)[0] intercept   : AIC=4480.583, Time=0.24 sec\n",
      " ARIMA(1,0,1)(0,0,0)[0] intercept   : AIC=2150.868, Time=0.28 sec\n",
      " ARIMA(2,0,2)(0,0,0)[0] intercept   : AIC=2149.995, Time=0.24 sec\n",
      " ARIMA(1,0,3)(0,0,0)[0] intercept   : AIC=2149.756, Time=0.44 sec\n",
      " ARIMA(0,0,1)(0,0,0)[0] intercept   : AIC=5424.514, Time=0.13 sec\n",
      " ARIMA(0,0,3)(0,0,0)[0] intercept   : AIC=3805.136, Time=0.33 sec\n",
      " ARIMA(2,0,1)(0,0,0)[0] intercept   : AIC=2149.710, Time=0.34 sec\n",
      " ARIMA(2,0,3)(0,0,0)[0] intercept   : AIC=2152.077, Time=0.36 sec\n",
      "\n",
      "Best model:  ARIMA(1,0,2)(0,0,0)[0] intercept\n",
      "Total fit time: 5.617 seconds\n"
     ]
    },
    {
     "name": "stderr",
     "output_type": "stream",
     "text": [
      "/Users/xiyan/.conda/envs/pythonPKG/lib/python3.9/site-packages/statsmodels/tsa/base/tsa_model.py:471: ValueWarning: No frequency information was provided, so inferred frequency D will be used.\n",
      "  self._init_dates(dates, freq)\n",
      "/Users/xiyan/.conda/envs/pythonPKG/lib/python3.9/site-packages/statsmodels/tsa/base/tsa_model.py:471: ValueWarning: No frequency information was provided, so inferred frequency D will be used.\n",
      "  self._init_dates(dates, freq)\n",
      "/Users/xiyan/.conda/envs/pythonPKG/lib/python3.9/site-packages/statsmodels/tsa/base/tsa_model.py:471: ValueWarning: No frequency information was provided, so inferred frequency D will be used.\n",
      "  self._init_dates(dates, freq)\n"
     ]
    },
    {
     "name": "stdout",
     "output_type": "stream",
     "text": [
      "Performing stepwise search to minimize aic\n",
      " ARIMA(0,1,0)(0,0,0)[0] intercept   : AIC=1206.758, Time=0.01 sec\n",
      " ARIMA(1,1,0)(0,0,0)[0] intercept   : AIC=1196.484, Time=0.02 sec\n",
      " ARIMA(0,1,1)(0,0,0)[0] intercept   : AIC=1198.542, Time=0.03 sec\n",
      " ARIMA(0,1,0)(0,0,0)[0]             : AIC=1205.617, Time=0.01 sec\n",
      " ARIMA(2,1,0)(0,0,0)[0] intercept   : AIC=1197.265, Time=0.04 sec\n",
      " ARIMA(1,1,1)(0,0,0)[0] intercept   : AIC=1197.991, Time=0.05 sec\n",
      " ARIMA(2,1,1)(0,0,0)[0] intercept   : AIC=1194.338, Time=0.10 sec\n",
      " ARIMA(3,1,1)(0,0,0)[0] intercept   : AIC=1192.363, Time=0.09 sec\n",
      " ARIMA(3,1,0)(0,0,0)[0] intercept   : AIC=1191.330, Time=0.04 sec\n",
      " ARIMA(3,1,0)(0,0,0)[0]             : AIC=1190.151, Time=0.02 sec\n",
      " ARIMA(2,1,0)(0,0,0)[0]             : AIC=1196.367, Time=0.02 sec\n",
      " ARIMA(3,1,1)(0,0,0)[0]             : AIC=1191.110, Time=0.06 sec\n",
      " ARIMA(2,1,1)(0,0,0)[0]             : AIC=1192.996, Time=0.06 sec\n",
      "\n",
      "Best model:  ARIMA(3,1,0)(0,0,0)[0]          \n",
      "Total fit time: 0.558 seconds\n",
      "Performing stepwise search to minimize aic\n",
      " ARIMA(0,1,0)(0,0,0)[0] intercept   : AIC=6.680, Time=0.01 sec\n"
     ]
    },
    {
     "name": "stderr",
     "output_type": "stream",
     "text": [
      "/Users/xiyan/.conda/envs/pythonPKG/lib/python3.9/site-packages/statsmodels/tsa/base/tsa_model.py:471: ValueWarning: No frequency information was provided, so inferred frequency D will be used.\n",
      "  self._init_dates(dates, freq)\n",
      "/Users/xiyan/.conda/envs/pythonPKG/lib/python3.9/site-packages/statsmodels/tsa/base/tsa_model.py:471: ValueWarning: No frequency information was provided, so inferred frequency D will be used.\n",
      "  self._init_dates(dates, freq)\n",
      "/Users/xiyan/.conda/envs/pythonPKG/lib/python3.9/site-packages/statsmodels/tsa/base/tsa_model.py:471: ValueWarning: No frequency information was provided, so inferred frequency D will be used.\n",
      "  self._init_dates(dates, freq)\n"
     ]
    },
    {
     "name": "stdout",
     "output_type": "stream",
     "text": [
      " ARIMA(1,1,0)(0,0,0)[0] intercept   : AIC=8.590, Time=0.02 sec\n",
      " ARIMA(0,1,1)(0,0,0)[0] intercept   : AIC=8.518, Time=0.03 sec\n",
      " ARIMA(0,1,0)(0,0,0)[0]             : AIC=4.694, Time=0.01 sec\n",
      " ARIMA(1,1,1)(0,0,0)[0] intercept   : AIC=9.840, Time=0.05 sec\n",
      "\n",
      "Best model:  ARIMA(0,1,0)(0,0,0)[0]          \n",
      "Total fit time: 0.133 seconds\n"
     ]
    },
    {
     "name": "stderr",
     "output_type": "stream",
     "text": [
      "/Users/xiyan/.conda/envs/pythonPKG/lib/python3.9/site-packages/statsmodels/tsa/base/tsa_model.py:471: ValueWarning: No frequency information was provided, so inferred frequency D will be used.\n",
      "  self._init_dates(dates, freq)\n",
      "/Users/xiyan/.conda/envs/pythonPKG/lib/python3.9/site-packages/statsmodels/tsa/base/tsa_model.py:471: ValueWarning: No frequency information was provided, so inferred frequency D will be used.\n",
      "  self._init_dates(dates, freq)\n",
      "/Users/xiyan/.conda/envs/pythonPKG/lib/python3.9/site-packages/statsmodels/tsa/base/tsa_model.py:471: ValueWarning: No frequency information was provided, so inferred frequency D will be used.\n",
      "  self._init_dates(dates, freq)\n"
     ]
    },
    {
     "name": "stdout",
     "output_type": "stream",
     "text": [
      "Performing stepwise search to minimize aic\n",
      " ARIMA(0,1,0)(0,0,0)[0] intercept   : AIC=283.219, Time=0.03 sec\n",
      " ARIMA(1,1,0)(0,0,0)[0] intercept   : AIC=270.026, Time=0.05 sec\n",
      " ARIMA(0,1,1)(0,0,0)[0] intercept   : AIC=275.809, Time=0.06 sec\n",
      " ARIMA(0,1,0)(0,0,0)[0]             : AIC=283.134, Time=0.04 sec\n",
      " ARIMA(2,1,0)(0,0,0)[0] intercept   : AIC=253.869, Time=0.08 sec\n",
      " ARIMA(3,1,0)(0,0,0)[0] intercept   : AIC=255.771, Time=0.12 sec\n",
      " ARIMA(2,1,1)(0,0,0)[0] intercept   : AIC=255.778, Time=0.18 sec\n",
      " ARIMA(1,1,1)(0,0,0)[0] intercept   : AIC=257.263, Time=0.14 sec\n",
      " ARIMA(3,1,1)(0,0,0)[0] intercept   : AIC=257.756, Time=0.12 sec\n",
      " ARIMA(2,1,0)(0,0,0)[0]             : AIC=253.049, Time=0.08 sec\n",
      " ARIMA(1,1,0)(0,0,0)[0]             : AIC=269.493, Time=0.03 sec\n",
      " ARIMA(3,1,0)(0,0,0)[0]             : AIC=254.935, Time=0.05 sec\n",
      " ARIMA(2,1,1)(0,0,0)[0]             : AIC=254.941, Time=0.09 sec\n",
      " ARIMA(1,1,1)(0,0,0)[0]             : AIC=256.301, Time=0.08 sec\n",
      " ARIMA(3,1,1)(0,0,0)[0]             : AIC=256.921, Time=0.08 sec\n",
      "\n",
      "Best model:  ARIMA(2,1,0)(0,0,0)[0]          \n",
      "Total fit time: 1.227 seconds\n"
     ]
    },
    {
     "name": "stderr",
     "output_type": "stream",
     "text": [
      "/Users/xiyan/.conda/envs/pythonPKG/lib/python3.9/site-packages/statsmodels/tsa/base/tsa_model.py:471: ValueWarning: No frequency information was provided, so inferred frequency D will be used.\n",
      "  self._init_dates(dates, freq)\n",
      "/Users/xiyan/.conda/envs/pythonPKG/lib/python3.9/site-packages/statsmodels/tsa/base/tsa_model.py:471: ValueWarning: No frequency information was provided, so inferred frequency D will be used.\n",
      "  self._init_dates(dates, freq)\n",
      "/Users/xiyan/.conda/envs/pythonPKG/lib/python3.9/site-packages/statsmodels/tsa/base/tsa_model.py:471: ValueWarning: No frequency information was provided, so inferred frequency D will be used.\n",
      "  self._init_dates(dates, freq)\n"
     ]
    },
    {
     "name": "stdout",
     "output_type": "stream",
     "text": [
      "Performing stepwise search to minimize aic\n",
      " ARIMA(0,1,0)(0,0,0)[0] intercept   : AIC=8597.847, Time=0.02 sec\n",
      " ARIMA(1,1,0)(0,0,0)[0] intercept   : AIC=8576.507, Time=0.06 sec\n",
      " ARIMA(0,1,1)(0,0,0)[0] intercept   : AIC=8574.446, Time=0.08 sec\n",
      " ARIMA(0,1,0)(0,0,0)[0]             : AIC=8595.879, Time=0.02 sec\n",
      " ARIMA(1,1,1)(0,0,0)[0] intercept   : AIC=8575.412, Time=0.16 sec\n",
      " ARIMA(0,1,2)(0,0,0)[0] intercept   : AIC=8575.503, Time=0.13 sec\n",
      " ARIMA(1,1,2)(0,0,0)[0] intercept   : AIC=8577.411, Time=0.29 sec\n",
      " ARIMA(0,1,1)(0,0,0)[0]             : AIC=8572.488, Time=0.04 sec\n",
      " ARIMA(1,1,1)(0,0,0)[0]             : AIC=8573.456, Time=0.09 sec\n",
      " ARIMA(0,1,2)(0,0,0)[0]             : AIC=8573.547, Time=0.07 sec\n",
      " ARIMA(1,1,0)(0,0,0)[0]             : AIC=8574.548, Time=0.02 sec\n",
      " ARIMA(1,1,2)(0,0,0)[0]             : AIC=8575.455, Time=0.15 sec\n",
      "\n",
      "Best model:  ARIMA(0,1,1)(0,0,0)[0]          \n",
      "Total fit time: 1.140 seconds\n"
     ]
    },
    {
     "name": "stderr",
     "output_type": "stream",
     "text": [
      "/Users/xiyan/.conda/envs/pythonPKG/lib/python3.9/site-packages/statsmodels/tsa/base/tsa_model.py:471: ValueWarning: No frequency information was provided, so inferred frequency D will be used.\n",
      "  self._init_dates(dates, freq)\n",
      "/Users/xiyan/.conda/envs/pythonPKG/lib/python3.9/site-packages/statsmodels/tsa/base/tsa_model.py:471: ValueWarning: No frequency information was provided, so inferred frequency D will be used.\n",
      "  self._init_dates(dates, freq)\n",
      "/Users/xiyan/.conda/envs/pythonPKG/lib/python3.9/site-packages/statsmodels/tsa/base/tsa_model.py:471: ValueWarning: No frequency information was provided, so inferred frequency D will be used.\n",
      "  self._init_dates(dates, freq)\n"
     ]
    },
    {
     "name": "stdout",
     "output_type": "stream",
     "text": [
      "Performing stepwise search to minimize aic\n",
      " ARIMA(0,0,0)(0,0,0)[0]             : AIC=4530.595, Time=0.02 sec\n",
      " ARIMA(1,0,0)(0,0,0)[0]             : AIC=inf, Time=0.11 sec\n",
      " ARIMA(0,0,1)(0,0,0)[0]             : AIC=inf, Time=0.17 sec\n",
      " ARIMA(1,0,1)(0,0,0)[0]             : AIC=-12507.748, Time=0.64 sec\n",
      " ARIMA(2,0,1)(0,0,0)[0]             : AIC=-12319.265, Time=0.46 sec\n",
      " ARIMA(1,0,2)(0,0,0)[0]             : AIC=-12490.744, Time=0.63 sec\n",
      " ARIMA(0,0,2)(0,0,0)[0]             : AIC=inf, Time=0.62 sec\n",
      " ARIMA(2,0,0)(0,0,0)[0]             : AIC=inf, Time=0.16 sec\n",
      " ARIMA(2,0,2)(0,0,0)[0]             : AIC=inf, Time=0.91 sec\n",
      " ARIMA(1,0,1)(0,0,0)[0] intercept   : AIC=-12536.655, Time=0.29 sec\n",
      " ARIMA(0,0,1)(0,0,0)[0] intercept   : AIC=-11025.628, Time=0.40 sec\n",
      " ARIMA(1,0,0)(0,0,0)[0] intercept   : AIC=-12418.819, Time=0.23 sec\n",
      " ARIMA(2,0,1)(0,0,0)[0] intercept   : AIC=-12536.112, Time=0.42 sec\n",
      " ARIMA(1,0,2)(0,0,0)[0] intercept   : AIC=-12527.485, Time=0.41 sec\n",
      " ARIMA(0,0,0)(0,0,0)[0] intercept   : AIC=-9910.416, Time=0.15 sec\n",
      " ARIMA(0,0,2)(0,0,0)[0] intercept   : AIC=-11582.336, Time=0.90 sec\n",
      " ARIMA(2,0,0)(0,0,0)[0] intercept   : AIC=-12531.146, Time=0.21 sec\n",
      " ARIMA(2,0,2)(0,0,0)[0] intercept   : AIC=-12363.261, Time=0.76 sec\n",
      "\n",
      "Best model:  ARIMA(1,0,1)(0,0,0)[0] intercept\n",
      "Total fit time: 7.514 seconds\n"
     ]
    },
    {
     "name": "stderr",
     "output_type": "stream",
     "text": [
      "/Users/xiyan/.conda/envs/pythonPKG/lib/python3.9/site-packages/statsmodels/tsa/base/tsa_model.py:471: ValueWarning: A date index has been provided, but it has no associated frequency information and so will be ignored when e.g. forecasting.\n",
      "  self._init_dates(dates, freq)\n",
      "/Users/xiyan/.conda/envs/pythonPKG/lib/python3.9/site-packages/statsmodels/tsa/base/tsa_model.py:471: ValueWarning: A date index has been provided, but it has no associated frequency information and so will be ignored when e.g. forecasting.\n",
      "  self._init_dates(dates, freq)\n",
      "/Users/xiyan/.conda/envs/pythonPKG/lib/python3.9/site-packages/statsmodels/tsa/base/tsa_model.py:471: ValueWarning: A date index has been provided, but it has no associated frequency information and so will be ignored when e.g. forecasting.\n",
      "  self._init_dates(dates, freq)\n",
      "/Users/xiyan/.conda/envs/pythonPKG/lib/python3.9/site-packages/statsmodels/tsa/base/tsa_model.py:834: ValueWarning: No supported index is available. Prediction results will be given with an integer index beginning at `start`.\n",
      "  return get_prediction_index(\n"
     ]
    },
    {
     "name": "stdout",
     "output_type": "stream",
     "text": [
      "Performing stepwise search to minimize aic\n",
      " ARIMA(0,1,0)(0,0,0)[0] intercept   : AIC=8165.234, Time=0.02 sec\n",
      " ARIMA(1,1,0)(0,0,0)[0] intercept   : AIC=8150.310, Time=0.07 sec\n",
      " ARIMA(0,1,1)(0,0,0)[0] intercept   : AIC=8151.010, Time=0.09 sec\n",
      " ARIMA(0,1,0)(0,0,0)[0]             : AIC=8163.958, Time=0.02 sec\n",
      " ARIMA(2,1,0)(0,0,0)[0] intercept   : AIC=8151.969, Time=0.09 sec\n",
      " ARIMA(1,1,1)(0,0,0)[0] intercept   : AIC=8151.878, Time=0.28 sec\n",
      " ARIMA(2,1,1)(0,0,0)[0] intercept   : AIC=8151.374, Time=0.39 sec\n",
      " ARIMA(1,1,0)(0,0,0)[0]             : AIC=8149.212, Time=0.04 sec\n",
      " ARIMA(2,1,0)(0,0,0)[0]             : AIC=8150.842, Time=0.05 sec\n",
      " ARIMA(1,1,1)(0,0,0)[0]             : AIC=8150.741, Time=0.11 sec\n",
      " ARIMA(0,1,1)(0,0,0)[0]             : AIC=8149.925, Time=0.05 sec\n",
      " ARIMA(2,1,1)(0,0,0)[0]             : AIC=8150.242, Time=0.21 sec\n",
      "\n",
      "Best model:  ARIMA(1,1,0)(0,0,0)[0]          \n",
      "Total fit time: 1.450 seconds\n",
      "Performing stepwise search to minimize aic\n",
      " ARIMA(0,0,0)(0,0,0)[0]             : AIC=3033.033, Time=0.01 sec\n"
     ]
    },
    {
     "name": "stderr",
     "output_type": "stream",
     "text": [
      "/Users/xiyan/.conda/envs/pythonPKG/lib/python3.9/site-packages/statsmodels/tsa/base/tsa_model.py:471: ValueWarning: No frequency information was provided, so inferred frequency D will be used.\n",
      "  self._init_dates(dates, freq)\n",
      "/Users/xiyan/.conda/envs/pythonPKG/lib/python3.9/site-packages/statsmodels/tsa/base/tsa_model.py:471: ValueWarning: No frequency information was provided, so inferred frequency D will be used.\n",
      "  self._init_dates(dates, freq)\n",
      "/Users/xiyan/.conda/envs/pythonPKG/lib/python3.9/site-packages/statsmodels/tsa/base/tsa_model.py:471: ValueWarning: No frequency information was provided, so inferred frequency D will be used.\n",
      "  self._init_dates(dates, freq)\n"
     ]
    },
    {
     "name": "stdout",
     "output_type": "stream",
     "text": [
      " ARIMA(1,0,0)(0,0,0)[0]             : AIC=inf, Time=0.03 sec\n",
      " ARIMA(0,0,1)(0,0,0)[0]             : AIC=inf, Time=0.11 sec\n",
      " ARIMA(1,0,1)(0,0,0)[0]             : AIC=-8844.261, Time=0.15 sec\n",
      " ARIMA(2,0,1)(0,0,0)[0]             : AIC=-8518.001, Time=0.51 sec\n",
      " ARIMA(1,0,2)(0,0,0)[0]             : AIC=-8872.330, Time=0.14 sec\n",
      " ARIMA(0,0,2)(0,0,0)[0]             : AIC=193.847, Time=0.18 sec\n",
      " ARIMA(2,0,2)(0,0,0)[0]             : AIC=-8873.044, Time=0.33 sec\n",
      " ARIMA(3,0,2)(0,0,0)[0]             : AIC=-8862.070, Time=0.20 sec\n",
      " ARIMA(2,0,3)(0,0,0)[0]             : AIC=-8865.385, Time=0.15 sec\n",
      " ARIMA(1,0,3)(0,0,0)[0]             : AIC=-8866.234, Time=0.17 sec\n",
      " ARIMA(3,0,1)(0,0,0)[0]             : AIC=-8806.789, Time=0.12 sec\n",
      " ARIMA(3,0,3)(0,0,0)[0]             : AIC=inf, Time=2.24 sec\n",
      " ARIMA(2,0,2)(0,0,0)[0] intercept   : AIC=-8887.171, Time=2.24 sec\n",
      " ARIMA(1,0,2)(0,0,0)[0] intercept   : AIC=-8848.829, Time=0.49 sec\n",
      " ARIMA(2,0,1)(0,0,0)[0] intercept   : AIC=-8875.993, Time=1.70 sec\n",
      " ARIMA(3,0,2)(0,0,0)[0] intercept   : AIC=-8889.862, Time=2.87 sec\n",
      " ARIMA(3,0,1)(0,0,0)[0] intercept   : AIC=-8873.065, Time=0.51 sec\n",
      " ARIMA(3,0,3)(0,0,0)[0] intercept   : AIC=inf, Time=1.59 sec\n",
      " ARIMA(2,0,3)(0,0,0)[0] intercept   : AIC=-8854.995, Time=0.30 sec\n",
      "\n",
      "Best model:  ARIMA(3,0,2)(0,0,0)[0] intercept\n",
      "Total fit time: 14.056 seconds\n"
     ]
    },
    {
     "name": "stderr",
     "output_type": "stream",
     "text": [
      "/Users/xiyan/.conda/envs/pythonPKG/lib/python3.9/site-packages/statsmodels/tsa/base/tsa_model.py:471: ValueWarning: No frequency information was provided, so inferred frequency D will be used.\n",
      "  self._init_dates(dates, freq)\n",
      "/Users/xiyan/.conda/envs/pythonPKG/lib/python3.9/site-packages/statsmodels/tsa/base/tsa_model.py:471: ValueWarning: No frequency information was provided, so inferred frequency D will be used.\n",
      "  self._init_dates(dates, freq)\n",
      "/Users/xiyan/.conda/envs/pythonPKG/lib/python3.9/site-packages/statsmodels/tsa/base/tsa_model.py:471: ValueWarning: No frequency information was provided, so inferred frequency D will be used.\n",
      "  self._init_dates(dates, freq)\n"
     ]
    },
    {
     "name": "stdout",
     "output_type": "stream",
     "text": [
      "Performing stepwise search to minimize aic\n",
      " ARIMA(0,1,0)(0,0,0)[0] intercept   : AIC=1336.508, Time=0.05 sec\n",
      " ARIMA(1,1,0)(0,0,0)[0] intercept   : AIC=1290.830, Time=0.06 sec\n",
      " ARIMA(0,1,1)(0,0,0)[0] intercept   : AIC=1300.363, Time=0.10 sec\n",
      " ARIMA(0,1,0)(0,0,0)[0]             : AIC=1334.927, Time=0.02 sec\n",
      " ARIMA(2,1,0)(0,0,0)[0] intercept   : AIC=1281.705, Time=0.08 sec\n",
      " ARIMA(3,1,0)(0,0,0)[0] intercept   : AIC=1275.222, Time=0.10 sec\n",
      " ARIMA(3,1,1)(0,0,0)[0] intercept   : AIC=1272.364, Time=0.24 sec\n",
      " ARIMA(2,1,1)(0,0,0)[0] intercept   : AIC=1294.258, Time=0.28 sec\n",
      " ARIMA(3,1,2)(0,0,0)[0] intercept   : AIC=1275.314, Time=0.49 sec\n",
      " ARIMA(2,1,2)(0,0,0)[0] intercept   : AIC=1274.589, Time=0.40 sec\n",
      " ARIMA(3,1,1)(0,0,0)[0]             : AIC=1270.987, Time=0.13 sec\n",
      " ARIMA(2,1,1)(0,0,0)[0]             : AIC=1271.632, Time=0.25 sec\n",
      " ARIMA(3,1,0)(0,0,0)[0]             : AIC=1273.874, Time=0.05 sec\n",
      " ARIMA(3,1,2)(0,0,0)[0]             : AIC=1274.007, Time=0.26 sec\n",
      " ARIMA(2,1,0)(0,0,0)[0]             : AIC=1280.231, Time=0.04 sec\n",
      " ARIMA(2,1,2)(0,0,0)[0]             : AIC=1273.254, Time=0.20 sec\n",
      "\n",
      "Best model:  ARIMA(3,1,1)(0,0,0)[0]          \n",
      "Total fit time: 2.750 seconds\n"
     ]
    },
    {
     "name": "stderr",
     "output_type": "stream",
     "text": [
      "/Users/xiyan/.conda/envs/pythonPKG/lib/python3.9/site-packages/statsmodels/tsa/base/tsa_model.py:471: ValueWarning: No frequency information was provided, so inferred frequency D will be used.\n",
      "  self._init_dates(dates, freq)\n",
      "/Users/xiyan/.conda/envs/pythonPKG/lib/python3.9/site-packages/statsmodels/tsa/base/tsa_model.py:471: ValueWarning: No frequency information was provided, so inferred frequency D will be used.\n",
      "  self._init_dates(dates, freq)\n",
      "/Users/xiyan/.conda/envs/pythonPKG/lib/python3.9/site-packages/statsmodels/tsa/base/tsa_model.py:471: ValueWarning: No frequency information was provided, so inferred frequency D will be used.\n",
      "  self._init_dates(dates, freq)\n"
     ]
    },
    {
     "name": "stdout",
     "output_type": "stream",
     "text": [
      "Performing stepwise search to minimize aic\n",
      " ARIMA(0,1,0)(0,0,0)[0] intercept   : AIC=-2107.046, Time=0.06 sec\n",
      " ARIMA(1,1,0)(0,0,0)[0] intercept   : AIC=-2129.484, Time=0.11 sec\n",
      " ARIMA(0,1,1)(0,0,0)[0] intercept   : AIC=-2125.454, Time=0.10 sec\n",
      " ARIMA(0,1,0)(0,0,0)[0]             : AIC=-2108.350, Time=0.03 sec\n",
      " ARIMA(2,1,0)(0,0,0)[0] intercept   : AIC=-2136.380, Time=0.25 sec\n",
      " ARIMA(3,1,0)(0,0,0)[0] intercept   : AIC=-2144.604, Time=0.07 sec\n",
      " ARIMA(3,1,1)(0,0,0)[0] intercept   : AIC=-2160.533, Time=0.61 sec\n",
      " ARIMA(2,1,1)(0,0,0)[0] intercept   : AIC=-2152.826, Time=0.43 sec\n",
      " ARIMA(3,1,2)(0,0,0)[0] intercept   : AIC=-2159.587, Time=0.65 sec\n",
      " ARIMA(2,1,2)(0,0,0)[0] intercept   : AIC=-2157.357, Time=0.67 sec\n",
      " ARIMA(3,1,1)(0,0,0)[0]             : AIC=-2160.784, Time=0.26 sec\n",
      " ARIMA(2,1,1)(0,0,0)[0]             : AIC=-2154.003, Time=0.21 sec\n",
      " ARIMA(3,1,0)(0,0,0)[0]             : AIC=-2145.632, Time=0.05 sec\n",
      " ARIMA(3,1,2)(0,0,0)[0]             : AIC=-2162.297, Time=0.41 sec\n",
      " ARIMA(2,1,2)(0,0,0)[0]             : AIC=-2158.420, Time=0.38 sec\n",
      " ARIMA(3,1,3)(0,0,0)[0]             : AIC=-2174.300, Time=0.53 sec\n",
      " ARIMA(2,1,3)(0,0,0)[0]             : AIC=-2161.228, Time=0.47 sec\n",
      " ARIMA(3,1,3)(0,0,0)[0] intercept   : AIC=-2161.500, Time=0.79 sec\n",
      "\n",
      "Best model:  ARIMA(3,1,3)(0,0,0)[0]          \n",
      "Total fit time: 6.079 seconds\n"
     ]
    },
    {
     "name": "stderr",
     "output_type": "stream",
     "text": [
      "/Users/xiyan/.conda/envs/pythonPKG/lib/python3.9/site-packages/statsmodels/tsa/base/tsa_model.py:471: ValueWarning: No frequency information was provided, so inferred frequency D will be used.\n",
      "  self._init_dates(dates, freq)\n",
      "/Users/xiyan/.conda/envs/pythonPKG/lib/python3.9/site-packages/statsmodels/tsa/base/tsa_model.py:471: ValueWarning: No frequency information was provided, so inferred frequency D will be used.\n",
      "  self._init_dates(dates, freq)\n",
      "/Users/xiyan/.conda/envs/pythonPKG/lib/python3.9/site-packages/statsmodels/tsa/base/tsa_model.py:471: ValueWarning: No frequency information was provided, so inferred frequency D will be used.\n",
      "  self._init_dates(dates, freq)\n",
      "/Users/xiyan/.conda/envs/pythonPKG/lib/python3.9/site-packages/statsmodels/base/model.py:604: ConvergenceWarning: Maximum Likelihood optimization failed to converge. Check mle_retvals\n",
      "  warnings.warn(\"Maximum Likelihood optimization failed to \"\n"
     ]
    },
    {
     "name": "stdout",
     "output_type": "stream",
     "text": [
      "Performing stepwise search to minimize aic\n",
      " ARIMA(0,1,0)(0,0,0)[0] intercept   : AIC=21560.605, Time=0.03 sec\n",
      " ARIMA(1,1,0)(0,0,0)[0] intercept   : AIC=21516.493, Time=0.06 sec\n",
      " ARIMA(0,1,1)(0,0,0)[0] intercept   : AIC=21525.961, Time=0.23 sec\n",
      " ARIMA(0,1,0)(0,0,0)[0]             : AIC=21560.462, Time=0.02 sec\n",
      " ARIMA(2,1,0)(0,0,0)[0] intercept   : AIC=21490.202, Time=0.08 sec\n",
      " ARIMA(3,1,0)(0,0,0)[0] intercept   : AIC=21492.012, Time=0.10 sec\n",
      " ARIMA(2,1,1)(0,0,0)[0] intercept   : AIC=21490.796, Time=0.51 sec\n",
      " ARIMA(1,1,1)(0,0,0)[0] intercept   : AIC=21477.689, Time=0.57 sec\n",
      " ARIMA(1,1,2)(0,0,0)[0] intercept   : AIC=21479.670, Time=0.76 sec\n",
      " ARIMA(0,1,2)(0,0,0)[0] intercept   : AIC=21491.360, Time=0.27 sec\n",
      " ARIMA(2,1,2)(0,0,0)[0] intercept   : AIC=21476.098, Time=0.65 sec\n",
      " ARIMA(3,1,2)(0,0,0)[0] intercept   : AIC=21472.691, Time=1.06 sec\n",
      " ARIMA(3,1,1)(0,0,0)[0] intercept   : AIC=21490.076, Time=0.67 sec\n",
      " ARIMA(3,1,3)(0,0,0)[0] intercept   : AIC=21377.869, Time=1.74 sec\n",
      " ARIMA(2,1,3)(0,0,0)[0] intercept   : AIC=21471.780, Time=1.26 sec\n",
      " ARIMA(3,1,3)(0,0,0)[0]             : AIC=21377.131, Time=1.10 sec\n",
      " ARIMA(2,1,3)(0,0,0)[0]             : AIC=21471.325, Time=0.67 sec\n",
      " ARIMA(3,1,2)(0,0,0)[0]             : AIC=21472.252, Time=0.68 sec\n",
      " ARIMA(2,1,2)(0,0,0)[0]             : AIC=21475.733, Time=0.38 sec\n",
      "\n",
      "Best model:  ARIMA(3,1,3)(0,0,0)[0]          \n",
      "Total fit time: 10.858 seconds\n"
     ]
    },
    {
     "name": "stderr",
     "output_type": "stream",
     "text": [
      "/Users/xiyan/.conda/envs/pythonPKG/lib/python3.9/site-packages/statsmodels/tsa/base/tsa_model.py:471: ValueWarning: No frequency information was provided, so inferred frequency D will be used.\n",
      "  self._init_dates(dates, freq)\n",
      "/Users/xiyan/.conda/envs/pythonPKG/lib/python3.9/site-packages/statsmodels/tsa/base/tsa_model.py:471: ValueWarning: No frequency information was provided, so inferred frequency D will be used.\n",
      "  self._init_dates(dates, freq)\n",
      "/Users/xiyan/.conda/envs/pythonPKG/lib/python3.9/site-packages/statsmodels/tsa/base/tsa_model.py:471: ValueWarning: No frequency information was provided, so inferred frequency D will be used.\n",
      "  self._init_dates(dates, freq)\n"
     ]
    },
    {
     "name": "stdout",
     "output_type": "stream",
     "text": [
      "Performing stepwise search to minimize aic\n",
      " ARIMA(0,1,0)(0,0,0)[0] intercept   : AIC=13765.468, Time=0.02 sec\n",
      " ARIMA(1,1,0)(0,0,0)[0] intercept   : AIC=13741.684, Time=0.04 sec\n",
      " ARIMA(0,1,1)(0,0,0)[0] intercept   : AIC=13743.850, Time=0.04 sec\n",
      " ARIMA(0,1,0)(0,0,0)[0]             : AIC=13764.600, Time=0.01 sec\n",
      " ARIMA(2,1,0)(0,0,0)[0] intercept   : AIC=13743.391, Time=0.05 sec\n",
      " ARIMA(1,1,1)(0,0,0)[0] intercept   : AIC=13743.529, Time=0.08 sec\n",
      " ARIMA(2,1,1)(0,0,0)[0] intercept   : AIC=13744.370, Time=0.16 sec\n",
      " ARIMA(1,1,0)(0,0,0)[0]             : AIC=13741.347, Time=0.02 sec\n",
      " ARIMA(2,1,0)(0,0,0)[0]             : AIC=13742.982, Time=0.03 sec\n",
      " ARIMA(1,1,1)(0,0,0)[0]             : AIC=13743.139, Time=0.05 sec\n",
      " ARIMA(0,1,1)(0,0,0)[0]             : AIC=13743.513, Time=0.02 sec\n",
      " ARIMA(2,1,1)(0,0,0)[0]             : AIC=13742.505, Time=0.18 sec\n",
      "\n",
      "Best model:  ARIMA(1,1,0)(0,0,0)[0]          \n",
      "Total fit time: 0.713 seconds\n",
      "Performing stepwise search to minimize aic\n"
     ]
    },
    {
     "name": "stderr",
     "output_type": "stream",
     "text": [
      "/Users/xiyan/.conda/envs/pythonPKG/lib/python3.9/site-packages/statsmodels/tsa/base/tsa_model.py:471: ValueWarning: No frequency information was provided, so inferred frequency D will be used.\n",
      "  self._init_dates(dates, freq)\n",
      "/Users/xiyan/.conda/envs/pythonPKG/lib/python3.9/site-packages/statsmodels/tsa/base/tsa_model.py:471: ValueWarning: No frequency information was provided, so inferred frequency D will be used.\n",
      "  self._init_dates(dates, freq)\n",
      "/Users/xiyan/.conda/envs/pythonPKG/lib/python3.9/site-packages/statsmodels/tsa/base/tsa_model.py:471: ValueWarning: No frequency information was provided, so inferred frequency D will be used.\n",
      "  self._init_dates(dates, freq)\n"
     ]
    },
    {
     "name": "stdout",
     "output_type": "stream",
     "text": [
      " ARIMA(0,1,0)(0,0,0)[0] intercept   : AIC=-8658.184, Time=0.07 sec\n",
      " ARIMA(1,1,0)(0,0,0)[0] intercept   : AIC=-8708.597, Time=0.13 sec\n",
      " ARIMA(0,1,1)(0,0,0)[0] intercept   : AIC=-8692.923, Time=0.15 sec\n",
      " ARIMA(0,1,0)(0,0,0)[0]             : AIC=-8659.740, Time=0.04 sec\n",
      " ARIMA(2,1,0)(0,0,0)[0] intercept   : AIC=-8744.248, Time=0.25 sec\n",
      " ARIMA(3,1,0)(0,0,0)[0] intercept   : AIC=-8742.335, Time=0.51 sec\n",
      " ARIMA(2,1,1)(0,0,0)[0] intercept   : AIC=-8742.372, Time=0.51 sec\n",
      " ARIMA(1,1,1)(0,0,0)[0] intercept   : AIC=-8734.395, Time=0.24 sec\n",
      " ARIMA(3,1,1)(0,0,0)[0] intercept   : AIC=-8740.388, Time=0.35 sec\n",
      " ARIMA(2,1,0)(0,0,0)[0]             : AIC=-8745.790, Time=0.11 sec\n",
      " ARIMA(1,1,0)(0,0,0)[0]             : AIC=-8709.934, Time=0.04 sec\n",
      " ARIMA(3,1,0)(0,0,0)[0]             : AIC=-8743.885, Time=0.13 sec\n",
      " ARIMA(2,1,1)(0,0,0)[0]             : AIC=-8743.927, Time=0.24 sec\n",
      " ARIMA(1,1,1)(0,0,0)[0]             : AIC=-8734.698, Time=0.21 sec\n",
      " ARIMA(3,1,1)(0,0,0)[0]             : AIC=-8741.942, Time=0.10 sec\n",
      "\n",
      "Best model:  ARIMA(2,1,0)(0,0,0)[0]          \n",
      "Total fit time: 3.101 seconds\n"
     ]
    },
    {
     "name": "stderr",
     "output_type": "stream",
     "text": [
      "/Users/xiyan/.conda/envs/pythonPKG/lib/python3.9/site-packages/statsmodels/tsa/base/tsa_model.py:471: ValueWarning: No frequency information was provided, so inferred frequency D will be used.\n",
      "  self._init_dates(dates, freq)\n",
      "/Users/xiyan/.conda/envs/pythonPKG/lib/python3.9/site-packages/statsmodels/tsa/base/tsa_model.py:471: ValueWarning: No frequency information was provided, so inferred frequency D will be used.\n",
      "  self._init_dates(dates, freq)\n",
      "/Users/xiyan/.conda/envs/pythonPKG/lib/python3.9/site-packages/statsmodels/tsa/base/tsa_model.py:471: ValueWarning: No frequency information was provided, so inferred frequency D will be used.\n",
      "  self._init_dates(dates, freq)\n"
     ]
    },
    {
     "name": "stdout",
     "output_type": "stream",
     "text": [
      "Performing stepwise search to minimize aic\n",
      " ARIMA(0,1,0)(0,0,0)[0] intercept   : AIC=193.262, Time=0.02 sec\n",
      " ARIMA(1,1,0)(0,0,0)[0] intercept   : AIC=193.969, Time=0.03 sec\n",
      " ARIMA(0,1,1)(0,0,0)[0] intercept   : AIC=194.047, Time=0.03 sec\n",
      " ARIMA(0,1,0)(0,0,0)[0]             : AIC=191.287, Time=0.01 sec\n",
      " ARIMA(1,1,1)(0,0,0)[0] intercept   : AIC=195.875, Time=0.06 sec\n",
      "\n",
      "Best model:  ARIMA(0,1,0)(0,0,0)[0]          \n",
      "Total fit time: 0.168 seconds\n"
     ]
    },
    {
     "name": "stderr",
     "output_type": "stream",
     "text": [
      "/Users/xiyan/.conda/envs/pythonPKG/lib/python3.9/site-packages/statsmodels/tsa/base/tsa_model.py:471: ValueWarning: No frequency information was provided, so inferred frequency D will be used.\n",
      "  self._init_dates(dates, freq)\n",
      "/Users/xiyan/.conda/envs/pythonPKG/lib/python3.9/site-packages/statsmodels/tsa/base/tsa_model.py:471: ValueWarning: No frequency information was provided, so inferred frequency D will be used.\n",
      "  self._init_dates(dates, freq)\n",
      "/Users/xiyan/.conda/envs/pythonPKG/lib/python3.9/site-packages/statsmodels/tsa/base/tsa_model.py:471: ValueWarning: No frequency information was provided, so inferred frequency D will be used.\n",
      "  self._init_dates(dates, freq)\n"
     ]
    },
    {
     "name": "stdout",
     "output_type": "stream",
     "text": [
      "Performing stepwise search to minimize aic\n",
      " ARIMA(0,1,0)(0,0,0)[0] intercept   : AIC=-719.818, Time=0.02 sec\n",
      " ARIMA(1,1,0)(0,0,0)[0] intercept   : AIC=-726.042, Time=0.03 sec\n",
      " ARIMA(0,1,1)(0,0,0)[0] intercept   : AIC=-728.541, Time=0.09 sec\n",
      " ARIMA(0,1,0)(0,0,0)[0]             : AIC=-721.640, Time=0.04 sec\n",
      " ARIMA(1,1,1)(0,0,0)[0] intercept   : AIC=-727.054, Time=0.11 sec\n",
      " ARIMA(0,1,2)(0,0,0)[0] intercept   : AIC=-727.357, Time=0.06 sec\n",
      " ARIMA(1,1,2)(0,0,0)[0] intercept   : AIC=-727.281, Time=0.06 sec\n",
      " ARIMA(0,1,1)(0,0,0)[0]             : AIC=-730.062, Time=0.03 sec\n",
      " ARIMA(1,1,1)(0,0,0)[0]             : AIC=-728.489, Time=0.05 sec\n",
      " ARIMA(0,1,2)(0,0,0)[0]             : AIC=-728.755, Time=0.06 sec\n",
      " ARIMA(1,1,0)(0,0,0)[0]             : AIC=-727.734, Time=0.01 sec\n",
      " ARIMA(1,1,2)(0,0,0)[0]             : AIC=-728.653, Time=0.06 sec\n",
      "\n",
      "Best model:  ARIMA(0,1,1)(0,0,0)[0]          \n",
      "Total fit time: 0.643 seconds\n"
     ]
    },
    {
     "name": "stderr",
     "output_type": "stream",
     "text": [
      "/Users/xiyan/.conda/envs/pythonPKG/lib/python3.9/site-packages/statsmodels/tsa/base/tsa_model.py:471: ValueWarning: No frequency information was provided, so inferred frequency D will be used.\n",
      "  self._init_dates(dates, freq)\n",
      "/Users/xiyan/.conda/envs/pythonPKG/lib/python3.9/site-packages/statsmodels/tsa/base/tsa_model.py:471: ValueWarning: No frequency information was provided, so inferred frequency D will be used.\n",
      "  self._init_dates(dates, freq)\n",
      "/Users/xiyan/.conda/envs/pythonPKG/lib/python3.9/site-packages/statsmodels/tsa/base/tsa_model.py:471: ValueWarning: No frequency information was provided, so inferred frequency D will be used.\n",
      "  self._init_dates(dates, freq)\n"
     ]
    },
    {
     "name": "stdout",
     "output_type": "stream",
     "text": [
      "Performing stepwise search to minimize aic\n",
      " ARIMA(0,1,0)(0,0,0)[0] intercept   : AIC=12863.627, Time=0.03 sec\n",
      " ARIMA(1,1,0)(0,0,0)[0] intercept   : AIC=12860.839, Time=0.09 sec\n",
      " ARIMA(0,1,1)(0,0,0)[0] intercept   : AIC=12860.752, Time=0.13 sec\n",
      " ARIMA(0,1,0)(0,0,0)[0]             : AIC=12861.872, Time=0.03 sec\n",
      " ARIMA(1,1,1)(0,0,0)[0] intercept   : AIC=12862.724, Time=0.20 sec\n",
      " ARIMA(0,1,2)(0,0,0)[0] intercept   : AIC=12862.694, Time=0.22 sec\n",
      " ARIMA(1,1,2)(0,0,0)[0] intercept   : AIC=12864.656, Time=0.27 sec\n",
      " ARIMA(0,1,1)(0,0,0)[0]             : AIC=12859.024, Time=0.07 sec\n",
      " ARIMA(1,1,1)(0,0,0)[0]             : AIC=12860.998, Time=0.10 sec\n",
      " ARIMA(0,1,2)(0,0,0)[0]             : AIC=12860.969, Time=0.12 sec\n",
      " ARIMA(1,1,0)(0,0,0)[0]             : AIC=12859.109, Time=0.05 sec\n",
      " ARIMA(1,1,2)(0,0,0)[0]             : AIC=12862.931, Time=0.15 sec\n",
      "\n",
      "Best model:  ARIMA(0,1,1)(0,0,0)[0]          \n",
      "Total fit time: 1.481 seconds\n"
     ]
    },
    {
     "name": "stderr",
     "output_type": "stream",
     "text": [
      "/Users/xiyan/.conda/envs/pythonPKG/lib/python3.9/site-packages/statsmodels/tsa/base/tsa_model.py:471: ValueWarning: No frequency information was provided, so inferred frequency D will be used.\n",
      "  self._init_dates(dates, freq)\n",
      "/Users/xiyan/.conda/envs/pythonPKG/lib/python3.9/site-packages/statsmodels/tsa/base/tsa_model.py:471: ValueWarning: No frequency information was provided, so inferred frequency D will be used.\n",
      "  self._init_dates(dates, freq)\n",
      "/Users/xiyan/.conda/envs/pythonPKG/lib/python3.9/site-packages/statsmodels/tsa/base/tsa_model.py:471: ValueWarning: No frequency information was provided, so inferred frequency D will be used.\n",
      "  self._init_dates(dates, freq)\n"
     ]
    },
    {
     "name": "stdout",
     "output_type": "stream",
     "text": [
      "Performing stepwise search to minimize aic\n",
      " ARIMA(0,1,0)(0,0,0)[0] intercept   : AIC=5633.064, Time=0.02 sec\n",
      " ARIMA(1,1,0)(0,0,0)[0] intercept   : AIC=5629.096, Time=0.07 sec\n",
      " ARIMA(0,1,1)(0,0,0)[0] intercept   : AIC=5624.262, Time=0.07 sec\n",
      " ARIMA(0,1,0)(0,0,0)[0]             : AIC=5631.064, Time=0.02 sec\n",
      " ARIMA(1,1,1)(0,0,0)[0] intercept   : AIC=5595.916, Time=0.18 sec\n",
      " ARIMA(2,1,1)(0,0,0)[0] intercept   : AIC=5557.653, Time=0.24 sec\n",
      " ARIMA(2,1,0)(0,0,0)[0] intercept   : AIC=5556.285, Time=0.11 sec\n",
      " ARIMA(3,1,0)(0,0,0)[0] intercept   : AIC=5558.152, Time=0.13 sec\n",
      " ARIMA(3,1,1)(0,0,0)[0] intercept   : AIC=5557.741, Time=0.41 sec\n",
      " ARIMA(2,1,0)(0,0,0)[0]             : AIC=5554.285, Time=0.05 sec\n",
      " ARIMA(1,1,0)(0,0,0)[0]             : AIC=5627.096, Time=0.04 sec\n",
      " ARIMA(3,1,0)(0,0,0)[0]             : AIC=5556.153, Time=0.07 sec\n",
      " ARIMA(2,1,1)(0,0,0)[0]             : AIC=5555.654, Time=0.14 sec\n",
      " ARIMA(1,1,1)(0,0,0)[0]             : AIC=5593.916, Time=0.10 sec\n",
      " ARIMA(3,1,1)(0,0,0)[0]             : AIC=5555.741, Time=0.21 sec\n",
      "\n",
      "Best model:  ARIMA(2,1,0)(0,0,0)[0]          \n",
      "Total fit time: 1.878 seconds\n",
      "Performing stepwise search to minimize aic\n",
      " ARIMA(0,1,0)(0,0,0)[0] intercept   : AIC=-1376.856, Time=0.03 sec\n"
     ]
    },
    {
     "name": "stderr",
     "output_type": "stream",
     "text": [
      "/Users/xiyan/.conda/envs/pythonPKG/lib/python3.9/site-packages/statsmodels/tsa/base/tsa_model.py:471: ValueWarning: No frequency information was provided, so inferred frequency D will be used.\n",
      "  self._init_dates(dates, freq)\n",
      "/Users/xiyan/.conda/envs/pythonPKG/lib/python3.9/site-packages/statsmodels/tsa/base/tsa_model.py:471: ValueWarning: No frequency information was provided, so inferred frequency D will be used.\n",
      "  self._init_dates(dates, freq)\n",
      "/Users/xiyan/.conda/envs/pythonPKG/lib/python3.9/site-packages/statsmodels/tsa/base/tsa_model.py:471: ValueWarning: No frequency information was provided, so inferred frequency D will be used.\n",
      "  self._init_dates(dates, freq)\n"
     ]
    },
    {
     "name": "stdout",
     "output_type": "stream",
     "text": [
      " ARIMA(1,1,0)(0,0,0)[0] intercept   : AIC=-1377.666, Time=0.05 sec\n",
      " ARIMA(0,1,1)(0,0,0)[0] intercept   : AIC=-1377.511, Time=0.07 sec\n",
      " ARIMA(0,1,0)(0,0,0)[0]             : AIC=-1377.698, Time=0.02 sec\n",
      " ARIMA(1,1,1)(0,0,0)[0] intercept   : AIC=-1375.707, Time=0.19 sec\n",
      "\n",
      "Best model:  ARIMA(0,1,0)(0,0,0)[0]          \n",
      "Total fit time: 0.363 seconds\n"
     ]
    },
    {
     "name": "stderr",
     "output_type": "stream",
     "text": [
      "/Users/xiyan/.conda/envs/pythonPKG/lib/python3.9/site-packages/statsmodels/tsa/base/tsa_model.py:471: ValueWarning: No frequency information was provided, so inferred frequency D will be used.\n",
      "  self._init_dates(dates, freq)\n",
      "/Users/xiyan/.conda/envs/pythonPKG/lib/python3.9/site-packages/statsmodels/tsa/base/tsa_model.py:471: ValueWarning: No frequency information was provided, so inferred frequency D will be used.\n",
      "  self._init_dates(dates, freq)\n",
      "/Users/xiyan/.conda/envs/pythonPKG/lib/python3.9/site-packages/statsmodels/tsa/base/tsa_model.py:471: ValueWarning: No frequency information was provided, so inferred frequency D will be used.\n",
      "  self._init_dates(dates, freq)\n"
     ]
    },
    {
     "name": "stdout",
     "output_type": "stream",
     "text": [
      "Performing stepwise search to minimize aic\n",
      " ARIMA(0,1,0)(0,0,0)[0] intercept   : AIC=62382.298, Time=0.06 sec\n",
      " ARIMA(1,1,0)(0,0,0)[0] intercept   : AIC=62364.424, Time=0.12 sec\n",
      " ARIMA(0,1,1)(0,0,0)[0] intercept   : AIC=62367.088, Time=0.16 sec\n",
      " ARIMA(0,1,0)(0,0,0)[0]             : AIC=62382.435, Time=0.04 sec\n",
      " ARIMA(2,1,0)(0,0,0)[0] intercept   : AIC=62345.042, Time=0.16 sec\n",
      " ARIMA(3,1,0)(0,0,0)[0] intercept   : AIC=62340.681, Time=0.19 sec\n",
      " ARIMA(3,1,1)(0,0,0)[0] intercept   : AIC=62341.074, Time=0.70 sec\n",
      " ARIMA(2,1,1)(0,0,0)[0] intercept   : AIC=62339.991, Time=0.51 sec\n",
      " ARIMA(1,1,1)(0,0,0)[0] intercept   : AIC=62355.480, Time=0.53 sec\n",
      " ARIMA(2,1,2)(0,0,0)[0] intercept   : AIC=62341.353, Time=0.66 sec\n",
      " ARIMA(1,1,2)(0,0,0)[0] intercept   : AIC=62339.419, Time=0.53 sec\n",
      " ARIMA(0,1,2)(0,0,0)[0] intercept   : AIC=62343.128, Time=0.23 sec\n",
      " ARIMA(1,1,3)(0,0,0)[0] intercept   : AIC=62341.373, Time=0.91 sec\n",
      " ARIMA(0,1,3)(0,0,0)[0] intercept   : AIC=62341.121, Time=0.30 sec\n",
      " ARIMA(2,1,3)(0,0,0)[0] intercept   : AIC=62341.857, Time=1.67 sec\n",
      " ARIMA(1,1,2)(0,0,0)[0]             : AIC=62338.295, Time=0.31 sec\n",
      " ARIMA(0,1,2)(0,0,0)[0]             : AIC=62343.239, Time=0.14 sec\n",
      " ARIMA(1,1,1)(0,0,0)[0]             : AIC=62355.612, Time=0.30 sec\n",
      " ARIMA(2,1,2)(0,0,0)[0]             : AIC=62340.153, Time=0.39 sec\n",
      " ARIMA(1,1,3)(0,0,0)[0]             : AIC=62340.196, Time=0.67 sec\n",
      " ARIMA(0,1,1)(0,0,0)[0]             : AIC=62367.494, Time=0.09 sec\n",
      " ARIMA(0,1,3)(0,0,0)[0]             : AIC=62341.119, Time=0.18 sec\n",
      " ARIMA(2,1,1)(0,0,0)[0]             : AIC=62338.265, Time=0.30 sec\n",
      " ARIMA(2,1,0)(0,0,0)[0]             : AIC=62345.153, Time=0.09 sec\n",
      " ARIMA(3,1,1)(0,0,0)[0]             : AIC=62340.176, Time=0.49 sec\n",
      " ARIMA(1,1,0)(0,0,0)[0]             : AIC=62364.866, Time=0.07 sec\n",
      " ARIMA(3,1,0)(0,0,0)[0]             : AIC=62340.634, Time=0.12 sec\n",
      " ARIMA(3,1,2)(0,0,0)[0]             : AIC=62342.255, Time=0.57 sec\n",
      "\n",
      "Best model:  ARIMA(2,1,1)(0,0,0)[0]          \n",
      "Total fit time: 10.519 seconds\n"
     ]
    },
    {
     "name": "stderr",
     "output_type": "stream",
     "text": [
      "/Users/xiyan/.conda/envs/pythonPKG/lib/python3.9/site-packages/statsmodels/tsa/base/tsa_model.py:471: ValueWarning: No frequency information was provided, so inferred frequency D will be used.\n",
      "  self._init_dates(dates, freq)\n",
      "/Users/xiyan/.conda/envs/pythonPKG/lib/python3.9/site-packages/statsmodels/tsa/base/tsa_model.py:471: ValueWarning: No frequency information was provided, so inferred frequency D will be used.\n",
      "  self._init_dates(dates, freq)\n",
      "/Users/xiyan/.conda/envs/pythonPKG/lib/python3.9/site-packages/statsmodels/tsa/base/tsa_model.py:471: ValueWarning: No frequency information was provided, so inferred frequency D will be used.\n",
      "  self._init_dates(dates, freq)\n"
     ]
    },
    {
     "name": "stdout",
     "output_type": "stream",
     "text": [
      "Performing stepwise search to minimize aic\n",
      " ARIMA(0,1,0)(0,0,0)[0] intercept   : AIC=-4401.922, Time=0.10 sec\n",
      " ARIMA(1,1,0)(0,0,0)[0] intercept   : AIC=-4412.810, Time=0.15 sec\n",
      " ARIMA(0,1,1)(0,0,0)[0] intercept   : AIC=-4411.120, Time=0.16 sec\n",
      " ARIMA(0,1,0)(0,0,0)[0]             : AIC=-4402.189, Time=0.04 sec\n",
      " ARIMA(2,1,0)(0,0,0)[0] intercept   : AIC=-4419.537, Time=0.09 sec\n",
      " ARIMA(3,1,0)(0,0,0)[0] intercept   : AIC=-4440.502, Time=0.27 sec\n",
      " ARIMA(3,1,1)(0,0,0)[0] intercept   : AIC=-4441.821, Time=0.82 sec\n",
      " ARIMA(2,1,1)(0,0,0)[0] intercept   : AIC=-4433.779, Time=0.62 sec\n",
      " ARIMA(3,1,2)(0,0,0)[0] intercept   : AIC=-4447.839, Time=1.26 sec\n",
      " ARIMA(2,1,2)(0,0,0)[0] intercept   : AIC=-4447.785, Time=0.97 sec\n",
      " ARIMA(3,1,3)(0,0,0)[0] intercept   : AIC=-4436.919, Time=1.35 sec\n",
      " ARIMA(2,1,3)(0,0,0)[0] intercept   : AIC=-4448.409, Time=1.26 sec\n",
      " ARIMA(1,1,3)(0,0,0)[0] intercept   : AIC=-4445.554, Time=1.09 sec\n",
      " ARIMA(1,1,2)(0,0,0)[0] intercept   : AIC=-4434.977, Time=0.77 sec\n",
      " ARIMA(2,1,3)(0,0,0)[0]             : AIC=-4449.098, Time=0.73 sec\n",
      " ARIMA(1,1,3)(0,0,0)[0]             : AIC=-4445.470, Time=0.46 sec\n",
      " ARIMA(2,1,2)(0,0,0)[0]             : AIC=-4447.928, Time=0.55 sec\n",
      " ARIMA(3,1,3)(0,0,0)[0]             : AIC=-4436.954, Time=0.75 sec\n",
      " ARIMA(1,1,2)(0,0,0)[0]             : AIC=-4435.241, Time=0.35 sec\n",
      " ARIMA(3,1,2)(0,0,0)[0]             : AIC=-4448.982, Time=0.71 sec\n",
      "\n",
      "Best model:  ARIMA(2,1,3)(0,0,0)[0]          \n",
      "Total fit time: 12.526 seconds\n"
     ]
    },
    {
     "name": "stderr",
     "output_type": "stream",
     "text": [
      "/Users/xiyan/.conda/envs/pythonPKG/lib/python3.9/site-packages/statsmodels/tsa/base/tsa_model.py:471: ValueWarning: No frequency information was provided, so inferred frequency D will be used.\n",
      "  self._init_dates(dates, freq)\n",
      "/Users/xiyan/.conda/envs/pythonPKG/lib/python3.9/site-packages/statsmodels/tsa/base/tsa_model.py:471: ValueWarning: No frequency information was provided, so inferred frequency D will be used.\n",
      "  self._init_dates(dates, freq)\n",
      "/Users/xiyan/.conda/envs/pythonPKG/lib/python3.9/site-packages/statsmodels/tsa/base/tsa_model.py:471: ValueWarning: No frequency information was provided, so inferred frequency D will be used.\n",
      "  self._init_dates(dates, freq)\n",
      "/Users/xiyan/.conda/envs/pythonPKG/lib/python3.9/site-packages/statsmodels/base/model.py:604: ConvergenceWarning: Maximum Likelihood optimization failed to converge. Check mle_retvals\n",
      "  warnings.warn(\"Maximum Likelihood optimization failed to \"\n"
     ]
    },
    {
     "name": "stdout",
     "output_type": "stream",
     "text": [
      "Performing stepwise search to minimize aic\n",
      " ARIMA(0,1,0)(0,0,0)[0] intercept   : AIC=-1426.071, Time=0.04 sec\n",
      " ARIMA(1,1,0)(0,0,0)[0] intercept   : AIC=-1436.980, Time=0.06 sec\n",
      " ARIMA(0,1,1)(0,0,0)[0] intercept   : AIC=-1444.173, Time=0.10 sec\n",
      " ARIMA(0,1,0)(0,0,0)[0]             : AIC=-1427.751, Time=0.04 sec\n",
      " ARIMA(1,1,1)(0,0,0)[0] intercept   : AIC=-1454.624, Time=0.28 sec\n",
      " ARIMA(2,1,1)(0,0,0)[0] intercept   : AIC=-1459.100, Time=0.41 sec\n",
      " ARIMA(2,1,0)(0,0,0)[0] intercept   : AIC=-1458.751, Time=0.05 sec\n",
      " ARIMA(3,1,1)(0,0,0)[0] intercept   : AIC=-1457.252, Time=0.43 sec\n",
      " ARIMA(2,1,2)(0,0,0)[0] intercept   : AIC=-1457.275, Time=0.37 sec\n",
      " ARIMA(1,1,2)(0,0,0)[0] intercept   : AIC=-1458.984, Time=0.25 sec\n",
      " ARIMA(3,1,0)(0,0,0)[0] intercept   : AIC=-1458.366, Time=0.07 sec\n",
      " ARIMA(3,1,2)(0,0,0)[0] intercept   : AIC=-1455.228, Time=0.57 sec\n",
      " ARIMA(2,1,1)(0,0,0)[0]             : AIC=-1460.354, Time=0.16 sec\n",
      " ARIMA(1,1,1)(0,0,0)[0]             : AIC=-1455.856, Time=0.12 sec\n",
      " ARIMA(2,1,0)(0,0,0)[0]             : AIC=-1460.133, Time=0.03 sec\n",
      " ARIMA(3,1,1)(0,0,0)[0]             : AIC=-1458.499, Time=0.23 sec\n",
      " ARIMA(2,1,2)(0,0,0)[0]             : AIC=-1458.520, Time=0.28 sec\n",
      " ARIMA(1,1,0)(0,0,0)[0]             : AIC=-1438.562, Time=0.04 sec\n",
      " ARIMA(1,1,2)(0,0,0)[0]             : AIC=-1460.207, Time=0.07 sec\n",
      " ARIMA(3,1,0)(0,0,0)[0]             : AIC=-1459.684, Time=0.03 sec\n",
      " ARIMA(3,1,2)(0,0,0)[0]             : AIC=-1456.470, Time=0.23 sec\n",
      "\n",
      "Best model:  ARIMA(2,1,1)(0,0,0)[0]          \n",
      "Total fit time: 3.883 seconds\n"
     ]
    },
    {
     "name": "stderr",
     "output_type": "stream",
     "text": [
      "/Users/xiyan/.conda/envs/pythonPKG/lib/python3.9/site-packages/statsmodels/tsa/base/tsa_model.py:471: ValueWarning: No frequency information was provided, so inferred frequency D will be used.\n",
      "  self._init_dates(dates, freq)\n",
      "/Users/xiyan/.conda/envs/pythonPKG/lib/python3.9/site-packages/statsmodels/tsa/base/tsa_model.py:471: ValueWarning: No frequency information was provided, so inferred frequency D will be used.\n",
      "  self._init_dates(dates, freq)\n",
      "/Users/xiyan/.conda/envs/pythonPKG/lib/python3.9/site-packages/statsmodels/tsa/base/tsa_model.py:471: ValueWarning: No frequency information was provided, so inferred frequency D will be used.\n",
      "  self._init_dates(dates, freq)\n"
     ]
    },
    {
     "name": "stdout",
     "output_type": "stream",
     "text": [
      "Performing stepwise search to minimize aic\n",
      " ARIMA(0,1,0)(0,0,0)[0] intercept   : AIC=12812.393, Time=0.03 sec\n",
      " ARIMA(1,1,0)(0,0,0)[0] intercept   : AIC=12795.245, Time=0.05 sec\n",
      " ARIMA(0,1,1)(0,0,0)[0] intercept   : AIC=12793.774, Time=0.12 sec\n",
      " ARIMA(0,1,0)(0,0,0)[0]             : AIC=12810.401, Time=0.02 sec\n",
      " ARIMA(1,1,1)(0,0,0)[0] intercept   : AIC=12795.562, Time=0.16 sec\n",
      " ARIMA(0,1,2)(0,0,0)[0] intercept   : AIC=12795.231, Time=0.19 sec\n",
      " ARIMA(1,1,2)(0,0,0)[0] intercept   : AIC=12792.615, Time=0.41 sec\n",
      " ARIMA(2,1,2)(0,0,0)[0] intercept   : AIC=12762.685, Time=0.61 sec\n",
      " ARIMA(2,1,1)(0,0,0)[0] intercept   : AIC=12788.796, Time=0.34 sec\n",
      " ARIMA(3,1,2)(0,0,0)[0] intercept   : AIC=12752.549, Time=1.08 sec\n",
      " ARIMA(3,1,1)(0,0,0)[0] intercept   : AIC=12784.509, Time=0.60 sec\n",
      " ARIMA(3,1,3)(0,0,0)[0] intercept   : AIC=12765.813, Time=1.29 sec\n",
      " ARIMA(2,1,3)(0,0,0)[0] intercept   : AIC=12753.080, Time=1.32 sec\n",
      " ARIMA(3,1,2)(0,0,0)[0]             : AIC=12750.595, Time=0.71 sec\n",
      " ARIMA(2,1,2)(0,0,0)[0]             : AIC=12760.692, Time=0.38 sec\n",
      " ARIMA(3,1,1)(0,0,0)[0]             : AIC=12782.516, Time=0.24 sec\n",
      " ARIMA(3,1,3)(0,0,0)[0]             : AIC=12763.814, Time=0.95 sec\n",
      " ARIMA(2,1,1)(0,0,0)[0]             : AIC=12786.806, Time=0.20 sec\n",
      " ARIMA(2,1,3)(0,0,0)[0]             : AIC=12751.136, Time=0.80 sec\n",
      "\n",
      "Best model:  ARIMA(3,1,2)(0,0,0)[0]          \n",
      "Total fit time: 9.484 seconds\n"
     ]
    },
    {
     "name": "stderr",
     "output_type": "stream",
     "text": [
      "/Users/xiyan/.conda/envs/pythonPKG/lib/python3.9/site-packages/statsmodels/tsa/base/tsa_model.py:471: ValueWarning: No frequency information was provided, so inferred frequency D will be used.\n",
      "  self._init_dates(dates, freq)\n",
      "/Users/xiyan/.conda/envs/pythonPKG/lib/python3.9/site-packages/statsmodels/tsa/base/tsa_model.py:471: ValueWarning: No frequency information was provided, so inferred frequency D will be used.\n",
      "  self._init_dates(dates, freq)\n",
      "/Users/xiyan/.conda/envs/pythonPKG/lib/python3.9/site-packages/statsmodels/tsa/base/tsa_model.py:471: ValueWarning: No frequency information was provided, so inferred frequency D will be used.\n",
      "  self._init_dates(dates, freq)\n",
      "/Users/xiyan/.conda/envs/pythonPKG/lib/python3.9/site-packages/statsmodels/base/model.py:604: ConvergenceWarning: Maximum Likelihood optimization failed to converge. Check mle_retvals\n",
      "  warnings.warn(\"Maximum Likelihood optimization failed to \"\n"
     ]
    },
    {
     "name": "stdout",
     "output_type": "stream",
     "text": [
      "Performing stepwise search to minimize aic\n",
      " ARIMA(0,1,0)(0,0,0)[0] intercept   : AIC=-3744.189, Time=0.09 sec\n",
      " ARIMA(1,1,0)(0,0,0)[0] intercept   : AIC=-3763.802, Time=0.12 sec\n",
      " ARIMA(0,1,1)(0,0,0)[0] intercept   : AIC=-3761.092, Time=0.50 sec\n",
      " ARIMA(0,1,0)(0,0,0)[0]             : AIC=-3745.470, Time=0.05 sec\n",
      " ARIMA(2,1,0)(0,0,0)[0] intercept   : AIC=-3768.356, Time=0.25 sec\n",
      " ARIMA(3,1,0)(0,0,0)[0] intercept   : AIC=-3768.101, Time=0.20 sec\n",
      " ARIMA(2,1,1)(0,0,0)[0] intercept   : AIC=-3773.937, Time=0.61 sec\n",
      " ARIMA(1,1,1)(0,0,0)[0] intercept   : AIC=-3775.929, Time=0.32 sec\n",
      " ARIMA(1,1,2)(0,0,0)[0] intercept   : AIC=-3773.937, Time=0.95 sec\n",
      " ARIMA(0,1,2)(0,0,0)[0] intercept   : AIC=-3766.246, Time=0.23 sec\n",
      " ARIMA(2,1,2)(0,0,0)[0] intercept   : AIC=-3771.957, Time=1.21 sec\n",
      " ARIMA(1,1,1)(0,0,0)[0]             : AIC=-3777.116, Time=0.17 sec\n",
      " ARIMA(0,1,1)(0,0,0)[0]             : AIC=-3762.186, Time=0.15 sec\n",
      " ARIMA(1,1,0)(0,0,0)[0]             : AIC=-3764.894, Time=0.16 sec\n",
      " ARIMA(2,1,1)(0,0,0)[0]             : AIC=-3775.121, Time=0.32 sec\n",
      " ARIMA(1,1,2)(0,0,0)[0]             : AIC=-3775.121, Time=0.45 sec\n",
      " ARIMA(0,1,2)(0,0,0)[0]             : AIC=-3767.461, Time=0.11 sec\n",
      " ARIMA(2,1,0)(0,0,0)[0]             : AIC=-3769.568, Time=0.09 sec\n",
      " ARIMA(2,1,2)(0,0,0)[0]             : AIC=-3773.178, Time=0.24 sec\n",
      "\n",
      "Best model:  ARIMA(1,1,1)(0,0,0)[0]          \n",
      "Total fit time: 6.234 seconds\n"
     ]
    },
    {
     "name": "stderr",
     "output_type": "stream",
     "text": [
      "/Users/xiyan/.conda/envs/pythonPKG/lib/python3.9/site-packages/statsmodels/tsa/base/tsa_model.py:471: ValueWarning: No frequency information was provided, so inferred frequency D will be used.\n",
      "  self._init_dates(dates, freq)\n",
      "/Users/xiyan/.conda/envs/pythonPKG/lib/python3.9/site-packages/statsmodels/tsa/base/tsa_model.py:471: ValueWarning: No frequency information was provided, so inferred frequency D will be used.\n",
      "  self._init_dates(dates, freq)\n",
      "/Users/xiyan/.conda/envs/pythonPKG/lib/python3.9/site-packages/statsmodels/tsa/base/tsa_model.py:471: ValueWarning: No frequency information was provided, so inferred frequency D will be used.\n",
      "  self._init_dates(dates, freq)\n"
     ]
    },
    {
     "name": "stdout",
     "output_type": "stream",
     "text": [
      "Performing stepwise search to minimize aic\n",
      " ARIMA(0,0,0)(0,0,0)[0]             : AIC=2827.748, Time=0.04 sec\n",
      " ARIMA(1,0,0)(0,0,0)[0]             : AIC=inf, Time=0.07 sec\n",
      " ARIMA(0,0,1)(0,0,0)[0]             : AIC=1477.237, Time=0.08 sec\n",
      " ARIMA(1,0,1)(0,0,0)[0]             : AIC=-6531.788, Time=0.12 sec\n",
      " ARIMA(2,0,1)(0,0,0)[0]             : AIC=-6536.841, Time=0.22 sec\n",
      " ARIMA(2,0,0)(0,0,0)[0]             : AIC=inf, Time=0.12 sec\n",
      " ARIMA(3,0,1)(0,0,0)[0]             : AIC=-6448.706, Time=0.15 sec\n",
      " ARIMA(2,0,2)(0,0,0)[0]             : AIC=-6517.783, Time=0.13 sec\n",
      " ARIMA(1,0,2)(0,0,0)[0]             : AIC=-6537.596, Time=0.22 sec\n",
      " ARIMA(0,0,2)(0,0,0)[0]             : AIC=inf, Time=0.36 sec\n",
      " ARIMA(1,0,3)(0,0,0)[0]             : AIC=-6558.605, Time=0.21 sec\n",
      " ARIMA(0,0,3)(0,0,0)[0]             : AIC=inf, Time=0.52 sec\n",
      " ARIMA(2,0,3)(0,0,0)[0]             : AIC=-6556.231, Time=0.15 sec\n",
      " ARIMA(1,0,3)(0,0,0)[0] intercept   : AIC=-6608.226, Time=1.06 sec\n",
      " ARIMA(0,0,3)(0,0,0)[0] intercept   : AIC=-6595.516, Time=0.56 sec\n",
      " ARIMA(1,0,2)(0,0,0)[0] intercept   : AIC=-6607.215, Time=0.70 sec\n",
      " ARIMA(2,0,3)(0,0,0)[0] intercept   : AIC=-6606.373, Time=1.24 sec\n",
      " ARIMA(0,0,2)(0,0,0)[0] intercept   : AIC=-6583.500, Time=0.41 sec\n",
      " ARIMA(2,0,2)(0,0,0)[0] intercept   : AIC=-6612.060, Time=0.42 sec\n",
      " ARIMA(2,0,1)(0,0,0)[0] intercept   : AIC=-6611.386, Time=0.17 sec\n",
      " ARIMA(3,0,2)(0,0,0)[0] intercept   : AIC=-6611.578, Time=1.39 sec\n",
      " ARIMA(1,0,1)(0,0,0)[0] intercept   : AIC=-6595.153, Time=1.66 sec\n",
      " ARIMA(3,0,1)(0,0,0)[0] intercept   : AIC=-6608.196, Time=0.24 sec\n",
      " ARIMA(3,0,3)(0,0,0)[0] intercept   : AIC=-6606.022, Time=3.54 sec\n",
      "\n",
      "Best model:  ARIMA(2,0,2)(0,0,0)[0] intercept\n",
      "Total fit time: 13.797 seconds\n"
     ]
    },
    {
     "name": "stderr",
     "output_type": "stream",
     "text": [
      "/Users/xiyan/.conda/envs/pythonPKG/lib/python3.9/site-packages/statsmodels/tsa/base/tsa_model.py:471: ValueWarning: No frequency information was provided, so inferred frequency D will be used.\n",
      "  self._init_dates(dates, freq)\n",
      "/Users/xiyan/.conda/envs/pythonPKG/lib/python3.9/site-packages/statsmodels/tsa/base/tsa_model.py:471: ValueWarning: No frequency information was provided, so inferred frequency D will be used.\n",
      "  self._init_dates(dates, freq)\n",
      "/Users/xiyan/.conda/envs/pythonPKG/lib/python3.9/site-packages/statsmodels/tsa/base/tsa_model.py:471: ValueWarning: No frequency information was provided, so inferred frequency D will be used.\n",
      "  self._init_dates(dates, freq)\n"
     ]
    },
    {
     "name": "stdout",
     "output_type": "stream",
     "text": [
      "Performing stepwise search to minimize aic\n",
      " ARIMA(0,1,0)(0,0,0)[0] intercept   : AIC=337.541, Time=0.09 sec\n",
      " ARIMA(1,1,0)(0,0,0)[0] intercept   : AIC=331.495, Time=0.08 sec\n",
      " ARIMA(0,1,1)(0,0,0)[0] intercept   : AIC=332.469, Time=0.13 sec\n",
      " ARIMA(0,1,0)(0,0,0)[0]             : AIC=335.661, Time=0.07 sec\n",
      " ARIMA(2,1,0)(0,0,0)[0] intercept   : AIC=325.326, Time=0.11 sec\n",
      " ARIMA(3,1,0)(0,0,0)[0] intercept   : AIC=293.816, Time=0.17 sec\n",
      " ARIMA(3,1,1)(0,0,0)[0] intercept   : AIC=295.359, Time=0.40 sec\n",
      " ARIMA(2,1,1)(0,0,0)[0] intercept   : AIC=307.682, Time=0.52 sec\n",
      " ARIMA(3,1,0)(0,0,0)[0]             : AIC=291.964, Time=0.10 sec\n",
      " ARIMA(2,1,0)(0,0,0)[0]             : AIC=323.443, Time=0.05 sec\n",
      " ARIMA(3,1,1)(0,0,0)[0]             : AIC=293.501, Time=0.22 sec\n",
      " ARIMA(2,1,1)(0,0,0)[0]             : AIC=305.796, Time=0.20 sec\n",
      "\n",
      "Best model:  ARIMA(3,1,0)(0,0,0)[0]          \n",
      "Total fit time: 2.159 seconds\n"
     ]
    },
    {
     "name": "stderr",
     "output_type": "stream",
     "text": [
      "/Users/xiyan/.conda/envs/pythonPKG/lib/python3.9/site-packages/statsmodels/tsa/base/tsa_model.py:471: ValueWarning: No frequency information was provided, so inferred frequency D will be used.\n",
      "  self._init_dates(dates, freq)\n",
      "/Users/xiyan/.conda/envs/pythonPKG/lib/python3.9/site-packages/statsmodels/tsa/base/tsa_model.py:471: ValueWarning: No frequency information was provided, so inferred frequency D will be used.\n",
      "  self._init_dates(dates, freq)\n",
      "/Users/xiyan/.conda/envs/pythonPKG/lib/python3.9/site-packages/statsmodels/tsa/base/tsa_model.py:471: ValueWarning: No frequency information was provided, so inferred frequency D will be used.\n",
      "  self._init_dates(dates, freq)\n"
     ]
    },
    {
     "name": "stdout",
     "output_type": "stream",
     "text": [
      "Performing stepwise search to minimize aic\n",
      " ARIMA(0,1,0)(0,0,0)[0] intercept   : AIC=2573.296, Time=0.14 sec\n",
      " ARIMA(1,1,0)(0,0,0)[0] intercept   : AIC=2553.010, Time=0.26 sec\n",
      " ARIMA(0,1,1)(0,0,0)[0] intercept   : AIC=2560.804, Time=0.44 sec\n",
      " ARIMA(0,1,0)(0,0,0)[0]             : AIC=2571.598, Time=0.03 sec\n",
      " ARIMA(2,1,0)(0,0,0)[0] intercept   : AIC=2460.684, Time=0.28 sec\n",
      " ARIMA(3,1,0)(0,0,0)[0] intercept   : AIC=2462.642, Time=0.50 sec\n",
      " ARIMA(2,1,1)(0,0,0)[0] intercept   : AIC=2462.659, Time=0.78 sec\n",
      " ARIMA(1,1,1)(0,0,0)[0] intercept   : AIC=2510.393, Time=0.40 sec\n",
      " ARIMA(3,1,1)(0,0,0)[0] intercept   : AIC=2463.960, Time=0.66 sec\n",
      " ARIMA(2,1,0)(0,0,0)[0]             : AIC=2458.908, Time=0.06 sec\n",
      " ARIMA(1,1,0)(0,0,0)[0]             : AIC=2551.396, Time=0.04 sec\n",
      " ARIMA(3,1,0)(0,0,0)[0]             : AIC=2460.863, Time=0.06 sec\n",
      " ARIMA(2,1,1)(0,0,0)[0]             : AIC=2460.882, Time=0.16 sec\n",
      " ARIMA(1,1,1)(0,0,0)[0]             : AIC=2508.765, Time=0.44 sec\n",
      " ARIMA(3,1,1)(0,0,0)[0]             : AIC=2462.177, Time=0.59 sec\n",
      "\n",
      "Best model:  ARIMA(2,1,0)(0,0,0)[0]          \n",
      "Total fit time: 5.022 seconds\n"
     ]
    },
    {
     "name": "stderr",
     "output_type": "stream",
     "text": [
      "/Users/xiyan/.conda/envs/pythonPKG/lib/python3.9/site-packages/statsmodels/tsa/base/tsa_model.py:471: ValueWarning: No frequency information was provided, so inferred frequency D will be used.\n",
      "  self._init_dates(dates, freq)\n",
      "/Users/xiyan/.conda/envs/pythonPKG/lib/python3.9/site-packages/statsmodels/tsa/base/tsa_model.py:471: ValueWarning: No frequency information was provided, so inferred frequency D will be used.\n",
      "  self._init_dates(dates, freq)\n",
      "/Users/xiyan/.conda/envs/pythonPKG/lib/python3.9/site-packages/statsmodels/tsa/base/tsa_model.py:471: ValueWarning: No frequency information was provided, so inferred frequency D will be used.\n",
      "  self._init_dates(dates, freq)\n"
     ]
    },
    {
     "name": "stdout",
     "output_type": "stream",
     "text": [
      "Performing stepwise search to minimize aic\n",
      " ARIMA(0,1,0)(0,0,0)[0] intercept   : AIC=-3068.227, Time=0.08 sec\n",
      " ARIMA(1,1,0)(0,0,0)[0] intercept   : AIC=-3115.240, Time=0.08 sec\n",
      " ARIMA(0,1,1)(0,0,0)[0] intercept   : AIC=-3101.820, Time=0.14 sec\n",
      " ARIMA(0,1,0)(0,0,0)[0]             : AIC=-3069.687, Time=0.12 sec\n",
      " ARIMA(2,1,0)(0,0,0)[0] intercept   : AIC=-3154.418, Time=0.25 sec\n",
      " ARIMA(3,1,0)(0,0,0)[0] intercept   : AIC=-3157.471, Time=0.17 sec\n",
      " ARIMA(3,1,1)(0,0,0)[0] intercept   : AIC=-3177.687, Time=0.68 sec\n",
      " ARIMA(2,1,1)(0,0,0)[0] intercept   : AIC=-3179.559, Time=0.48 sec\n",
      " ARIMA(1,1,1)(0,0,0)[0] intercept   : AIC=-3179.499, Time=0.34 sec\n",
      " ARIMA(2,1,2)(0,0,0)[0] intercept   : AIC=-3180.811, Time=0.61 sec\n",
      " ARIMA(1,1,2)(0,0,0)[0] intercept   : AIC=-3179.518, Time=0.50 sec\n",
      " ARIMA(3,1,2)(0,0,0)[0] intercept   : AIC=-3178.581, Time=0.67 sec\n",
      " ARIMA(2,1,3)(0,0,0)[0] intercept   : AIC=-3175.942, Time=1.07 sec\n",
      " ARIMA(1,1,3)(0,0,0)[0] intercept   : AIC=-3177.526, Time=0.45 sec\n",
      " ARIMA(3,1,3)(0,0,0)[0] intercept   : AIC=-3188.643, Time=1.17 sec\n",
      " ARIMA(3,1,3)(0,0,0)[0]             : AIC=-3198.544, Time=0.78 sec\n",
      " ARIMA(2,1,3)(0,0,0)[0]             : AIC=-3180.055, Time=0.64 sec\n",
      " ARIMA(3,1,2)(0,0,0)[0]             : AIC=-3180.860, Time=0.59 sec\n",
      " ARIMA(2,1,2)(0,0,0)[0]             : AIC=-3182.349, Time=0.31 sec\n",
      "\n",
      "Best model:  ARIMA(3,1,3)(0,0,0)[0]          \n",
      "Total fit time: 9.141 seconds\n"
     ]
    },
    {
     "name": "stderr",
     "output_type": "stream",
     "text": [
      "/Users/xiyan/.conda/envs/pythonPKG/lib/python3.9/site-packages/statsmodels/tsa/base/tsa_model.py:471: ValueWarning: A date index has been provided, but it has no associated frequency information and so will be ignored when e.g. forecasting.\n",
      "  self._init_dates(dates, freq)\n",
      "/Users/xiyan/.conda/envs/pythonPKG/lib/python3.9/site-packages/statsmodels/tsa/base/tsa_model.py:471: ValueWarning: A date index has been provided, but it has no associated frequency information and so will be ignored when e.g. forecasting.\n",
      "  self._init_dates(dates, freq)\n",
      "/Users/xiyan/.conda/envs/pythonPKG/lib/python3.9/site-packages/statsmodels/tsa/base/tsa_model.py:471: ValueWarning: A date index has been provided, but it has no associated frequency information and so will be ignored when e.g. forecasting.\n",
      "  self._init_dates(dates, freq)\n",
      "/Users/xiyan/.conda/envs/pythonPKG/lib/python3.9/site-packages/statsmodels/tsa/base/tsa_model.py:834: ValueWarning: No supported index is available. Prediction results will be given with an integer index beginning at `start`.\n",
      "  return get_prediction_index(\n"
     ]
    },
    {
     "name": "stdout",
     "output_type": "stream",
     "text": [
      "Performing stepwise search to minimize aic\n",
      " ARIMA(0,1,0)(0,0,0)[0] intercept   : AIC=2167.022, Time=0.01 sec\n",
      " ARIMA(1,1,0)(0,0,0)[0] intercept   : AIC=2156.032, Time=0.04 sec\n",
      " ARIMA(0,1,1)(0,0,0)[0] intercept   : AIC=2159.585, Time=0.05 sec\n",
      " ARIMA(0,1,0)(0,0,0)[0]             : AIC=2166.874, Time=0.01 sec\n",
      " ARIMA(2,1,0)(0,0,0)[0] intercept   : AIC=2137.923, Time=0.05 sec\n",
      " ARIMA(3,1,0)(0,0,0)[0] intercept   : AIC=2139.769, Time=0.06 sec\n",
      " ARIMA(2,1,1)(0,0,0)[0] intercept   : AIC=2139.458, Time=0.12 sec\n",
      " ARIMA(1,1,1)(0,0,0)[0] intercept   : AIC=2138.838, Time=0.11 sec\n",
      " ARIMA(3,1,1)(0,0,0)[0] intercept   : AIC=2140.634, Time=0.18 sec\n",
      " ARIMA(2,1,0)(0,0,0)[0]             : AIC=2137.604, Time=0.03 sec\n",
      " ARIMA(1,1,0)(0,0,0)[0]             : AIC=2156.457, Time=0.02 sec\n",
      " ARIMA(3,1,0)(0,0,0)[0]             : AIC=2139.394, Time=0.04 sec\n",
      " ARIMA(2,1,1)(0,0,0)[0]             : AIC=2138.980, Time=0.06 sec\n",
      " ARIMA(1,1,1)(0,0,0)[0]             : AIC=2139.040, Time=0.06 sec\n",
      " ARIMA(3,1,1)(0,0,0)[0]             : AIC=2139.943, Time=0.12 sec\n",
      "\n",
      "Best model:  ARIMA(2,1,0)(0,0,0)[0]          \n",
      "Total fit time: 0.963 seconds\n"
     ]
    },
    {
     "name": "stderr",
     "output_type": "stream",
     "text": [
      "/Users/xiyan/.conda/envs/pythonPKG/lib/python3.9/site-packages/statsmodels/tsa/base/tsa_model.py:471: ValueWarning: No frequency information was provided, so inferred frequency D will be used.\n",
      "  self._init_dates(dates, freq)\n",
      "/Users/xiyan/.conda/envs/pythonPKG/lib/python3.9/site-packages/statsmodels/tsa/base/tsa_model.py:471: ValueWarning: No frequency information was provided, so inferred frequency D will be used.\n",
      "  self._init_dates(dates, freq)\n",
      "/Users/xiyan/.conda/envs/pythonPKG/lib/python3.9/site-packages/statsmodels/tsa/base/tsa_model.py:471: ValueWarning: No frequency information was provided, so inferred frequency D will be used.\n",
      "  self._init_dates(dates, freq)\n"
     ]
    },
    {
     "name": "stdout",
     "output_type": "stream",
     "text": [
      "Performing stepwise search to minimize aic\n",
      " ARIMA(0,0,0)(0,0,0)[0]             : AIC=3695.043, Time=0.01 sec\n",
      " ARIMA(1,0,0)(0,0,0)[0]             : AIC=inf, Time=0.08 sec\n",
      " ARIMA(0,0,1)(0,0,0)[0]             : AIC=1923.471, Time=0.10 sec\n",
      " ARIMA(1,0,1)(0,0,0)[0]             : AIC=-8947.294, Time=0.14 sec\n",
      " ARIMA(2,0,1)(0,0,0)[0]             : AIC=-8970.730, Time=0.97 sec\n",
      " ARIMA(2,0,0)(0,0,0)[0]             : AIC=inf, Time=0.10 sec\n",
      " ARIMA(3,0,1)(0,0,0)[0]             : AIC=-8898.722, Time=0.35 sec\n",
      " ARIMA(2,0,2)(0,0,0)[0]             : AIC=-8962.170, Time=0.28 sec\n",
      " ARIMA(1,0,2)(0,0,0)[0]             : AIC=-8967.487, Time=0.16 sec\n",
      " ARIMA(3,0,0)(0,0,0)[0]             : AIC=inf, Time=0.20 sec\n",
      " ARIMA(3,0,2)(0,0,0)[0]             : AIC=-8971.137, Time=1.30 sec\n",
      " ARIMA(3,0,3)(0,0,0)[0]             : AIC=-8972.450, Time=0.55 sec\n",
      " ARIMA(2,0,3)(0,0,0)[0]             : AIC=-8972.819, Time=0.40 sec\n",
      " ARIMA(1,0,3)(0,0,0)[0]             : AIC=-8969.909, Time=0.42 sec\n",
      " ARIMA(2,0,3)(0,0,0)[0] intercept   : AIC=-9000.578, Time=0.75 sec\n",
      " ARIMA(1,0,3)(0,0,0)[0] intercept   : AIC=-8970.070, Time=0.26 sec\n",
      " ARIMA(2,0,2)(0,0,0)[0] intercept   : AIC=-8988.323, Time=0.39 sec\n",
      " ARIMA(3,0,3)(0,0,0)[0] intercept   : AIC=-9003.258, Time=2.08 sec\n",
      " ARIMA(3,0,2)(0,0,0)[0] intercept   : AIC=-8987.719, Time=0.39 sec\n",
      "\n",
      "Best model:  ARIMA(3,0,3)(0,0,0)[0] intercept\n",
      "Total fit time: 8.951 seconds\n"
     ]
    },
    {
     "name": "stderr",
     "output_type": "stream",
     "text": [
      "/Users/xiyan/.conda/envs/pythonPKG/lib/python3.9/site-packages/statsmodels/tsa/base/tsa_model.py:471: ValueWarning: A date index has been provided, but it has no associated frequency information and so will be ignored when e.g. forecasting.\n",
      "  self._init_dates(dates, freq)\n",
      "/Users/xiyan/.conda/envs/pythonPKG/lib/python3.9/site-packages/statsmodels/tsa/base/tsa_model.py:471: ValueWarning: A date index has been provided, but it has no associated frequency information and so will be ignored when e.g. forecasting.\n",
      "  self._init_dates(dates, freq)\n",
      "/Users/xiyan/.conda/envs/pythonPKG/lib/python3.9/site-packages/statsmodels/tsa/base/tsa_model.py:471: ValueWarning: A date index has been provided, but it has no associated frequency information and so will be ignored when e.g. forecasting.\n",
      "  self._init_dates(dates, freq)\n",
      "/Users/xiyan/.conda/envs/pythonPKG/lib/python3.9/site-packages/statsmodels/tsa/base/tsa_model.py:834: ValueWarning: No supported index is available. Prediction results will be given with an integer index beginning at `start`.\n",
      "  return get_prediction_index(\n"
     ]
    },
    {
     "name": "stdout",
     "output_type": "stream",
     "text": [
      "Performing stepwise search to minimize aic\n",
      " ARIMA(0,0,0)(0,0,0)[0]             : AIC=3617.375, Time=0.01 sec\n",
      " ARIMA(1,0,0)(0,0,0)[0]             : AIC=inf, Time=0.09 sec\n",
      " ARIMA(0,0,1)(0,0,0)[0]             : AIC=inf, Time=0.19 sec\n",
      " ARIMA(1,0,1)(0,0,0)[0]             : AIC=-10017.749, Time=0.14 sec\n",
      " ARIMA(2,0,1)(0,0,0)[0]             : AIC=-10000.726, Time=0.54 sec\n",
      " ARIMA(1,0,2)(0,0,0)[0]             : AIC=-10024.705, Time=0.19 sec\n",
      " ARIMA(0,0,2)(0,0,0)[0]             : AIC=253.999, Time=0.27 sec\n",
      " ARIMA(2,0,2)(0,0,0)[0]             : AIC=-10031.179, Time=0.29 sec\n",
      " ARIMA(3,0,2)(0,0,0)[0]             : AIC=-10033.532, Time=0.22 sec\n",
      " ARIMA(3,0,1)(0,0,0)[0]             : AIC=-9956.808, Time=0.81 sec\n",
      " ARIMA(3,0,3)(0,0,0)[0]             : AIC=-10021.653, Time=0.27 sec\n",
      " ARIMA(2,0,3)(0,0,0)[0]             : AIC=-9833.893, Time=0.79 sec\n",
      " ARIMA(3,0,2)(0,0,0)[0] intercept   : AIC=-10034.826, Time=0.75 sec\n",
      " ARIMA(2,0,2)(0,0,0)[0] intercept   : AIC=-10055.402, Time=0.34 sec\n",
      " ARIMA(1,0,2)(0,0,0)[0] intercept   : AIC=-10028.577, Time=0.51 sec\n",
      " ARIMA(2,0,1)(0,0,0)[0] intercept   : AIC=-10031.718, Time=0.29 sec\n",
      " ARIMA(2,0,3)(0,0,0)[0] intercept   : AIC=-10043.304, Time=0.78 sec\n",
      " ARIMA(1,0,1)(0,0,0)[0] intercept   : AIC=-9981.842, Time=0.18 sec\n",
      " ARIMA(1,0,3)(0,0,0)[0] intercept   : AIC=-10016.185, Time=0.70 sec\n",
      " ARIMA(3,0,1)(0,0,0)[0] intercept   : AIC=-10034.957, Time=0.42 sec\n",
      " ARIMA(3,0,3)(0,0,0)[0] intercept   : AIC=-10061.165, Time=0.37 sec\n",
      "\n",
      "Best model:  ARIMA(3,0,3)(0,0,0)[0] intercept\n",
      "Total fit time: 8.150 seconds\n"
     ]
    },
    {
     "name": "stderr",
     "output_type": "stream",
     "text": [
      "/Users/xiyan/.conda/envs/pythonPKG/lib/python3.9/site-packages/statsmodels/tsa/base/tsa_model.py:471: ValueWarning: No frequency information was provided, so inferred frequency D will be used.\n",
      "  self._init_dates(dates, freq)\n",
      "/Users/xiyan/.conda/envs/pythonPKG/lib/python3.9/site-packages/statsmodels/tsa/base/tsa_model.py:471: ValueWarning: No frequency information was provided, so inferred frequency D will be used.\n",
      "  self._init_dates(dates, freq)\n",
      "/Users/xiyan/.conda/envs/pythonPKG/lib/python3.9/site-packages/statsmodels/tsa/base/tsa_model.py:471: ValueWarning: No frequency information was provided, so inferred frequency D will be used.\n",
      "  self._init_dates(dates, freq)\n",
      "/Users/xiyan/.conda/envs/pythonPKG/lib/python3.9/site-packages/statsmodels/base/model.py:604: ConvergenceWarning: Maximum Likelihood optimization failed to converge. Check mle_retvals\n",
      "  warnings.warn(\"Maximum Likelihood optimization failed to \"\n"
     ]
    },
    {
     "name": "stdout",
     "output_type": "stream",
     "text": [
      "Performing stepwise search to minimize aic\n",
      " ARIMA(0,1,0)(0,0,0)[0] intercept   : AIC=-10801.667, Time=0.14 sec\n",
      " ARIMA(1,1,0)(0,0,0)[0] intercept   : AIC=-10800.774, Time=0.16 sec\n",
      " ARIMA(0,1,1)(0,0,0)[0] intercept   : AIC=-10800.088, Time=0.22 sec\n",
      " ARIMA(0,1,0)(0,0,0)[0]             : AIC=-10803.440, Time=0.05 sec\n",
      " ARIMA(1,1,1)(0,0,0)[0] intercept   : AIC=-10799.242, Time=0.47 sec\n",
      "\n",
      "Best model:  ARIMA(0,1,0)(0,0,0)[0]          \n",
      "Total fit time: 1.042 seconds\n",
      "Performing stepwise search to minimize aic\n"
     ]
    },
    {
     "name": "stderr",
     "output_type": "stream",
     "text": [
      "/Users/xiyan/.conda/envs/pythonPKG/lib/python3.9/site-packages/statsmodels/tsa/base/tsa_model.py:471: ValueWarning: No frequency information was provided, so inferred frequency D will be used.\n",
      "  self._init_dates(dates, freq)\n",
      "/Users/xiyan/.conda/envs/pythonPKG/lib/python3.9/site-packages/statsmodels/tsa/base/tsa_model.py:471: ValueWarning: No frequency information was provided, so inferred frequency D will be used.\n",
      "  self._init_dates(dates, freq)\n",
      "/Users/xiyan/.conda/envs/pythonPKG/lib/python3.9/site-packages/statsmodels/tsa/base/tsa_model.py:471: ValueWarning: No frequency information was provided, so inferred frequency D will be used.\n",
      "  self._init_dates(dates, freq)\n"
     ]
    },
    {
     "name": "stdout",
     "output_type": "stream",
     "text": [
      " ARIMA(0,1,0)(0,0,0)[0] intercept   : AIC=-4875.472, Time=0.12 sec\n",
      " ARIMA(1,1,0)(0,0,0)[0] intercept   : AIC=-4897.162, Time=0.14 sec\n",
      " ARIMA(0,1,1)(0,0,0)[0] intercept   : AIC=-4891.593, Time=0.21 sec\n",
      " ARIMA(0,1,0)(0,0,0)[0]             : AIC=-4877.057, Time=0.07 sec\n",
      " ARIMA(2,1,0)(0,0,0)[0] intercept   : AIC=-4918.053, Time=0.18 sec\n",
      " ARIMA(3,1,0)(0,0,0)[0] intercept   : AIC=-4916.564, Time=0.16 sec\n",
      " ARIMA(2,1,1)(0,0,0)[0] intercept   : AIC=-4916.895, Time=0.20 sec\n",
      " ARIMA(1,1,1)(0,0,0)[0] intercept   : AIC=-4916.111, Time=0.20 sec\n",
      " ARIMA(3,1,1)(0,0,0)[0] intercept   : AIC=-4914.488, Time=0.13 sec\n",
      " ARIMA(2,1,0)(0,0,0)[0]             : AIC=-4919.651, Time=0.07 sec\n",
      " ARIMA(1,1,0)(0,0,0)[0]             : AIC=-4898.618, Time=0.06 sec\n",
      " ARIMA(3,1,0)(0,0,0)[0]             : AIC=-4918.144, Time=0.14 sec\n",
      " ARIMA(2,1,1)(0,0,0)[0]             : AIC=-4918.460, Time=0.21 sec\n",
      " ARIMA(1,1,1)(0,0,0)[0]             : AIC=-4917.614, Time=0.10 sec\n",
      " ARIMA(3,1,1)(0,0,0)[0]             : AIC=-4916.068, Time=0.17 sec\n",
      "\n",
      "Best model:  ARIMA(2,1,0)(0,0,0)[0]          \n",
      "Total fit time: 2.165 seconds\n"
     ]
    },
    {
     "name": "stderr",
     "output_type": "stream",
     "text": [
      "/Users/xiyan/.conda/envs/pythonPKG/lib/python3.9/site-packages/statsmodels/tsa/base/tsa_model.py:471: ValueWarning: No frequency information was provided, so inferred frequency D will be used.\n",
      "  self._init_dates(dates, freq)\n",
      "/Users/xiyan/.conda/envs/pythonPKG/lib/python3.9/site-packages/statsmodels/tsa/base/tsa_model.py:471: ValueWarning: No frequency information was provided, so inferred frequency D will be used.\n",
      "  self._init_dates(dates, freq)\n",
      "/Users/xiyan/.conda/envs/pythonPKG/lib/python3.9/site-packages/statsmodels/tsa/base/tsa_model.py:471: ValueWarning: No frequency information was provided, so inferred frequency D will be used.\n",
      "  self._init_dates(dates, freq)\n"
     ]
    },
    {
     "name": "stdout",
     "output_type": "stream",
     "text": [
      "Performing stepwise search to minimize aic\n",
      " ARIMA(0,1,0)(0,0,0)[0] intercept   : AIC=10712.114, Time=0.02 sec\n",
      " ARIMA(1,1,0)(0,0,0)[0] intercept   : AIC=10653.230, Time=0.06 sec\n",
      " ARIMA(0,1,1)(0,0,0)[0] intercept   : AIC=10667.355, Time=0.13 sec\n",
      " ARIMA(0,1,0)(0,0,0)[0]             : AIC=10711.439, Time=0.02 sec\n",
      " ARIMA(2,1,0)(0,0,0)[0] intercept   : AIC=10635.345, Time=0.15 sec\n",
      " ARIMA(3,1,0)(0,0,0)[0] intercept   : AIC=10622.217, Time=0.19 sec\n",
      " ARIMA(3,1,1)(0,0,0)[0] intercept   : AIC=10623.816, Time=0.31 sec\n",
      " ARIMA(2,1,1)(0,0,0)[0] intercept   : AIC=10627.262, Time=0.53 sec\n",
      " ARIMA(3,1,0)(0,0,0)[0]             : AIC=10621.490, Time=0.11 sec\n",
      " ARIMA(2,1,0)(0,0,0)[0]             : AIC=10634.905, Time=0.08 sec\n",
      " ARIMA(3,1,1)(0,0,0)[0]             : AIC=10623.061, Time=0.14 sec\n",
      " ARIMA(2,1,1)(0,0,0)[0]             : AIC=10626.492, Time=0.31 sec\n",
      "\n",
      "Best model:  ARIMA(3,1,0)(0,0,0)[0]          \n",
      "Total fit time: 2.061 seconds\n"
     ]
    },
    {
     "name": "stderr",
     "output_type": "stream",
     "text": [
      "/Users/xiyan/.conda/envs/pythonPKG/lib/python3.9/site-packages/statsmodels/tsa/base/tsa_model.py:471: ValueWarning: No frequency information was provided, so inferred frequency D will be used.\n",
      "  self._init_dates(dates, freq)\n",
      "/Users/xiyan/.conda/envs/pythonPKG/lib/python3.9/site-packages/statsmodels/tsa/base/tsa_model.py:471: ValueWarning: No frequency information was provided, so inferred frequency D will be used.\n",
      "  self._init_dates(dates, freq)\n",
      "/Users/xiyan/.conda/envs/pythonPKG/lib/python3.9/site-packages/statsmodels/tsa/base/tsa_model.py:471: ValueWarning: No frequency information was provided, so inferred frequency D will be used.\n",
      "  self._init_dates(dates, freq)\n"
     ]
    },
    {
     "name": "stdout",
     "output_type": "stream",
     "text": [
      "Performing stepwise search to minimize aic\n",
      " ARIMA(0,1,0)(0,0,0)[0] intercept   : AIC=-3708.164, Time=0.05 sec\n",
      " ARIMA(1,1,0)(0,0,0)[0] intercept   : AIC=-3718.181, Time=0.08 sec\n",
      " ARIMA(0,1,1)(0,0,0)[0] intercept   : AIC=-3718.957, Time=0.07 sec\n",
      " ARIMA(0,1,0)(0,0,0)[0]             : AIC=-3709.851, Time=0.04 sec\n",
      " ARIMA(1,1,1)(0,0,0)[0] intercept   : AIC=-3717.136, Time=0.23 sec\n",
      " ARIMA(0,1,2)(0,0,0)[0] intercept   : AIC=-3717.214, Time=0.23 sec\n",
      " ARIMA(1,1,2)(0,0,0)[0] intercept   : AIC=-3715.194, Time=0.18 sec\n",
      " ARIMA(0,1,1)(0,0,0)[0]             : AIC=-3720.541, Time=0.05 sec\n",
      " ARIMA(1,1,1)(0,0,0)[0]             : AIC=-3718.515, Time=0.09 sec\n",
      " ARIMA(0,1,2)(0,0,0)[0]             : AIC=-3718.784, Time=0.08 sec\n",
      " ARIMA(1,1,0)(0,0,0)[0]             : AIC=-3719.785, Time=0.10 sec\n",
      " ARIMA(1,1,2)(0,0,0)[0]             : AIC=-3716.769, Time=0.10 sec\n",
      "\n",
      "Best model:  ARIMA(0,1,1)(0,0,0)[0]          \n",
      "Total fit time: 1.307 seconds\n"
     ]
    },
    {
     "name": "stderr",
     "output_type": "stream",
     "text": [
      "/Users/xiyan/.conda/envs/pythonPKG/lib/python3.9/site-packages/statsmodels/tsa/base/tsa_model.py:471: ValueWarning: No frequency information was provided, so inferred frequency D will be used.\n",
      "  self._init_dates(dates, freq)\n",
      "/Users/xiyan/.conda/envs/pythonPKG/lib/python3.9/site-packages/statsmodels/tsa/base/tsa_model.py:471: ValueWarning: No frequency information was provided, so inferred frequency D will be used.\n",
      "  self._init_dates(dates, freq)\n",
      "/Users/xiyan/.conda/envs/pythonPKG/lib/python3.9/site-packages/statsmodels/tsa/base/tsa_model.py:471: ValueWarning: No frequency information was provided, so inferred frequency D will be used.\n",
      "  self._init_dates(dates, freq)\n"
     ]
    },
    {
     "name": "stdout",
     "output_type": "stream",
     "text": [
      "Performing stepwise search to minimize aic\n",
      " ARIMA(0,1,0)(0,0,0)[0] intercept   : AIC=7081.144, Time=0.02 sec\n",
      " ARIMA(1,1,0)(0,0,0)[0] intercept   : AIC=7080.121, Time=0.07 sec\n",
      " ARIMA(0,1,1)(0,0,0)[0] intercept   : AIC=7079.934, Time=0.09 sec\n",
      " ARIMA(0,1,0)(0,0,0)[0]             : AIC=7079.418, Time=0.03 sec\n",
      " ARIMA(1,1,1)(0,0,0)[0] intercept   : AIC=7081.568, Time=0.32 sec\n",
      "\n",
      "Best model:  ARIMA(0,1,0)(0,0,0)[0]          \n",
      "Total fit time: 0.532 seconds\n",
      "Performing stepwise search to minimize aic\n"
     ]
    },
    {
     "name": "stderr",
     "output_type": "stream",
     "text": [
      "/Users/xiyan/.conda/envs/pythonPKG/lib/python3.9/site-packages/statsmodels/tsa/base/tsa_model.py:471: ValueWarning: No frequency information was provided, so inferred frequency D will be used.\n",
      "  self._init_dates(dates, freq)\n",
      "/Users/xiyan/.conda/envs/pythonPKG/lib/python3.9/site-packages/statsmodels/tsa/base/tsa_model.py:471: ValueWarning: No frequency information was provided, so inferred frequency D will be used.\n",
      "  self._init_dates(dates, freq)\n",
      "/Users/xiyan/.conda/envs/pythonPKG/lib/python3.9/site-packages/statsmodels/tsa/base/tsa_model.py:471: ValueWarning: No frequency information was provided, so inferred frequency D will be used.\n",
      "  self._init_dates(dates, freq)\n"
     ]
    },
    {
     "name": "stdout",
     "output_type": "stream",
     "text": [
      " ARIMA(0,1,0)(0,0,0)[0] intercept   : AIC=-3198.150, Time=0.06 sec\n",
      " ARIMA(1,1,0)(0,0,0)[0] intercept   : AIC=-3197.726, Time=0.07 sec\n",
      " ARIMA(0,1,1)(0,0,0)[0] intercept   : AIC=-3198.062, Time=0.06 sec\n",
      " ARIMA(0,1,0)(0,0,0)[0]             : AIC=-3198.813, Time=0.02 sec\n",
      " ARIMA(1,1,1)(0,0,0)[0] intercept   : AIC=-3194.140, Time=0.08 sec\n",
      "\n",
      "Best model:  ARIMA(0,1,0)(0,0,0)[0]          \n",
      "Total fit time: 0.306 seconds\n"
     ]
    },
    {
     "name": "stderr",
     "output_type": "stream",
     "text": [
      "/Users/xiyan/.conda/envs/pythonPKG/lib/python3.9/site-packages/statsmodels/tsa/base/tsa_model.py:471: ValueWarning: A date index has been provided, but it has no associated frequency information and so will be ignored when e.g. forecasting.\n",
      "  self._init_dates(dates, freq)\n",
      "/Users/xiyan/.conda/envs/pythonPKG/lib/python3.9/site-packages/statsmodels/tsa/base/tsa_model.py:471: ValueWarning: A date index has been provided, but it has no associated frequency information and so will be ignored when e.g. forecasting.\n",
      "  self._init_dates(dates, freq)\n",
      "/Users/xiyan/.conda/envs/pythonPKG/lib/python3.9/site-packages/statsmodels/tsa/base/tsa_model.py:471: ValueWarning: A date index has been provided, but it has no associated frequency information and so will be ignored when e.g. forecasting.\n",
      "  self._init_dates(dates, freq)\n",
      "/Users/xiyan/.conda/envs/pythonPKG/lib/python3.9/site-packages/statsmodels/tsa/base/tsa_model.py:834: ValueWarning: No supported index is available. Prediction results will be given with an integer index beginning at `start`.\n",
      "  return get_prediction_index(\n"
     ]
    },
    {
     "name": "stdout",
     "output_type": "stream",
     "text": [
      "Performing stepwise search to minimize aic\n",
      " ARIMA(0,1,0)(0,0,0)[0] intercept   : AIC=16866.200, Time=0.02 sec\n",
      " ARIMA(1,1,0)(0,0,0)[0] intercept   : AIC=16813.556, Time=0.05 sec\n",
      " ARIMA(0,1,1)(0,0,0)[0] intercept   : AIC=16816.671, Time=0.08 sec\n",
      " ARIMA(0,1,0)(0,0,0)[0]             : AIC=16864.914, Time=0.02 sec\n",
      " ARIMA(2,1,0)(0,0,0)[0] intercept   : AIC=16814.724, Time=0.06 sec\n",
      " ARIMA(1,1,1)(0,0,0)[0] intercept   : AIC=16806.538, Time=0.45 sec\n",
      " ARIMA(2,1,1)(0,0,0)[0] intercept   : AIC=16802.044, Time=0.59 sec\n",
      " ARIMA(3,1,1)(0,0,0)[0] intercept   : AIC=16811.826, Time=0.28 sec\n",
      " ARIMA(2,1,2)(0,0,0)[0] intercept   : AIC=16799.766, Time=0.54 sec\n",
      " ARIMA(1,1,2)(0,0,0)[0] intercept   : AIC=16800.785, Time=0.63 sec\n",
      " ARIMA(3,1,2)(0,0,0)[0] intercept   : AIC=16800.676, Time=0.84 sec\n",
      " ARIMA(2,1,3)(0,0,0)[0] intercept   : AIC=inf, Time=1.35 sec\n",
      " ARIMA(1,1,3)(0,0,0)[0] intercept   : AIC=16797.439, Time=0.66 sec\n",
      " ARIMA(0,1,3)(0,0,0)[0] intercept   : AIC=16812.947, Time=0.33 sec\n",
      " ARIMA(0,1,2)(0,0,0)[0] intercept   : AIC=16817.137, Time=0.09 sec\n",
      " ARIMA(1,1,3)(0,0,0)[0]             : AIC=16796.522, Time=0.37 sec\n",
      " ARIMA(0,1,3)(0,0,0)[0]             : AIC=16812.092, Time=0.19 sec\n",
      " ARIMA(1,1,2)(0,0,0)[0]             : AIC=16799.792, Time=0.23 sec\n",
      " ARIMA(2,1,3)(0,0,0)[0]             : AIC=inf, Time=0.89 sec\n",
      " ARIMA(0,1,2)(0,0,0)[0]             : AIC=16816.140, Time=0.05 sec\n",
      " ARIMA(2,1,2)(0,0,0)[0]             : AIC=16798.889, Time=0.37 sec\n",
      "\n",
      "Best model:  ARIMA(1,1,3)(0,0,0)[0]          \n",
      "Total fit time: 8.125 seconds\n"
     ]
    },
    {
     "name": "stderr",
     "output_type": "stream",
     "text": [
      "/Users/xiyan/.conda/envs/pythonPKG/lib/python3.9/site-packages/statsmodels/tsa/base/tsa_model.py:471: ValueWarning: No frequency information was provided, so inferred frequency D will be used.\n",
      "  self._init_dates(dates, freq)\n",
      "/Users/xiyan/.conda/envs/pythonPKG/lib/python3.9/site-packages/statsmodels/tsa/base/tsa_model.py:471: ValueWarning: No frequency information was provided, so inferred frequency D will be used.\n",
      "  self._init_dates(dates, freq)\n",
      "/Users/xiyan/.conda/envs/pythonPKG/lib/python3.9/site-packages/statsmodels/tsa/base/tsa_model.py:471: ValueWarning: No frequency information was provided, so inferred frequency D will be used.\n",
      "  self._init_dates(dates, freq)\n"
     ]
    },
    {
     "name": "stdout",
     "output_type": "stream",
     "text": [
      "Performing stepwise search to minimize aic\n",
      " ARIMA(0,0,0)(0,0,0)[0]             : AIC=6296.920, Time=0.01 sec\n",
      " ARIMA(1,0,0)(0,0,0)[0]             : AIC=inf, Time=0.06 sec\n",
      " ARIMA(0,0,1)(0,0,0)[0]             : AIC=5248.580, Time=0.06 sec\n",
      " ARIMA(1,0,1)(0,0,0)[0]             : AIC=2343.934, Time=0.10 sec\n",
      " ARIMA(2,0,1)(0,0,0)[0]             : AIC=2338.543, Time=0.17 sec\n",
      " ARIMA(2,0,0)(0,0,0)[0]             : AIC=inf, Time=0.08 sec\n",
      " ARIMA(3,0,1)(0,0,0)[0]             : AIC=2308.493, Time=0.19 sec\n",
      " ARIMA(3,0,0)(0,0,0)[0]             : AIC=inf, Time=0.12 sec\n",
      " ARIMA(3,0,2)(0,0,0)[0]             : AIC=2302.850, Time=0.15 sec\n",
      " ARIMA(2,0,2)(0,0,0)[0]             : AIC=2302.109, Time=0.19 sec\n",
      " ARIMA(1,0,2)(0,0,0)[0]             : AIC=2301.253, Time=0.13 sec\n",
      " ARIMA(0,0,2)(0,0,0)[0]             : AIC=4470.278, Time=0.10 sec\n",
      " ARIMA(1,0,3)(0,0,0)[0]             : AIC=2301.763, Time=0.17 sec\n",
      " ARIMA(0,0,3)(0,0,0)[0]             : AIC=3982.437, Time=0.15 sec\n",
      " ARIMA(2,0,3)(0,0,0)[0]             : AIC=2303.513, Time=0.30 sec\n",
      " ARIMA(1,0,2)(0,0,0)[0] intercept   : AIC=2299.188, Time=0.21 sec\n",
      " ARIMA(0,0,2)(0,0,0)[0] intercept   : AIC=3962.607, Time=0.18 sec\n",
      " ARIMA(1,0,1)(0,0,0)[0] intercept   : AIC=2342.912, Time=0.06 sec\n",
      " ARIMA(2,0,2)(0,0,0)[0] intercept   : AIC=2299.747, Time=0.28 sec\n",
      " ARIMA(1,0,3)(0,0,0)[0] intercept   : AIC=2299.375, Time=0.25 sec\n",
      " ARIMA(0,0,1)(0,0,0)[0] intercept   : AIC=4641.810, Time=0.09 sec\n",
      " ARIMA(0,0,3)(0,0,0)[0] intercept   : AIC=3509.514, Time=0.31 sec\n",
      " ARIMA(2,0,1)(0,0,0)[0] intercept   : AIC=2337.699, Time=0.26 sec\n",
      " ARIMA(2,0,3)(0,0,0)[0] intercept   : AIC=2301.181, Time=0.47 sec\n",
      "\n",
      "Best model:  ARIMA(1,0,2)(0,0,0)[0] intercept\n",
      "Total fit time: 4.081 seconds\n"
     ]
    },
    {
     "name": "stderr",
     "output_type": "stream",
     "text": [
      "/Users/xiyan/.conda/envs/pythonPKG/lib/python3.9/site-packages/statsmodels/tsa/base/tsa_model.py:471: ValueWarning: No frequency information was provided, so inferred frequency D will be used.\n",
      "  self._init_dates(dates, freq)\n",
      "/Users/xiyan/.conda/envs/pythonPKG/lib/python3.9/site-packages/statsmodels/tsa/base/tsa_model.py:471: ValueWarning: No frequency information was provided, so inferred frequency D will be used.\n",
      "  self._init_dates(dates, freq)\n",
      "/Users/xiyan/.conda/envs/pythonPKG/lib/python3.9/site-packages/statsmodels/tsa/base/tsa_model.py:471: ValueWarning: No frequency information was provided, so inferred frequency D will be used.\n",
      "  self._init_dates(dates, freq)\n"
     ]
    },
    {
     "name": "stdout",
     "output_type": "stream",
     "text": [
      "Performing stepwise search to minimize aic\n",
      " ARIMA(0,1,0)(0,0,0)[0] intercept   : AIC=1224.023, Time=0.01 sec\n",
      " ARIMA(1,1,0)(0,0,0)[0] intercept   : AIC=1221.116, Time=0.02 sec\n",
      " ARIMA(0,1,1)(0,0,0)[0] intercept   : AIC=1222.335, Time=0.03 sec\n",
      " ARIMA(0,1,0)(0,0,0)[0]             : AIC=1223.084, Time=0.01 sec\n",
      " ARIMA(2,1,0)(0,0,0)[0] intercept   : AIC=1218.478, Time=0.04 sec\n",
      " ARIMA(3,1,0)(0,0,0)[0] intercept   : AIC=1210.182, Time=0.05 sec\n",
      " ARIMA(3,1,1)(0,0,0)[0] intercept   : AIC=1212.064, Time=0.08 sec\n",
      " ARIMA(2,1,1)(0,0,0)[0] intercept   : AIC=1216.626, Time=0.06 sec\n",
      " ARIMA(3,1,0)(0,0,0)[0]             : AIC=1208.802, Time=0.02 sec\n",
      " ARIMA(2,1,0)(0,0,0)[0]             : AIC=1217.515, Time=0.02 sec\n",
      " ARIMA(3,1,1)(0,0,0)[0]             : AIC=1210.700, Time=0.05 sec\n",
      " ARIMA(2,1,1)(0,0,0)[0]             : AIC=1215.374, Time=0.05 sec\n",
      "\n",
      "Best model:  ARIMA(3,1,0)(0,0,0)[0]          \n",
      "Total fit time: 0.441 seconds\n",
      "[5.866648197174072, 1.0427169799804688, 73.68887329101562, 26.04, 1822.7208251953125, 0.2540949881076813, 635.97, 8.160792350769043, 141.037841796875, 22.797870635986328, 62.76066589355469, 9.369864463806152, 1.19129, 6.95447301864624, 69.49895477294922, 299.32391357421875, 5.315, 12.245244026184082, 315.037, 9.40000027185306e-05, 22.166019439697266, 13.344459533691406, 4.163629055023193, 0.1128389984369278, 7.002458095550537, 87.897, 0.0140479998663067, 0.0042869998142123, 24.67637252807617, 27.43, 1.0006569623947144, 195.5912170410156, 26.524, 64.0815, 0.4978469908237457, 372.9949340820313, 152.33831787109375, 0.7104529738426208, 0.8451420068740845, 0.289669, 1.7443510293960571, 0.9999639987945556, 306.1820678710937, 7.000000096013537e-06, 55.52012634277344, 2.9858, 20.4457, 0.199875995516777, 6.071691036224365, 0.930428981781006, 0.1568839997053146, 0.35733, 1.0661139488220217, 38.53634643554688, 5.090341091156006, 26.134057998657227, 2.963104009628296, 2.1836259365081787, 161.7786102294922, 1.0006, 179.07078552246094, 1.000010967254639, 10.379725456237791, 1.517, 3273.78, 48269.0, 0.1282150000333786, 3.2150890827178955, 0.9929310083389282, 176.13, 12.87425422668457, 0.8999069929122925, 49062.8, 2.946, 1.4311269521713257, 242.52386474609372, 2.0037429332733154, 0.9994, 5.2435078620910645, 14.368988990783691, 1.9310970306396484, 49.4881, 0.9997, 0.9999459981918336, 0.088285, 0.4923639893531799, 494.6706237792969, 0.37813600897789, 75.22450256347656, 0.0313020013272762, 3752.0244140625, 20.875673294067383, 50.11]\n",
      "[5.83720467112473, 1.0405230522155762, 71.9867325192468, 25.212348579472685, 1817.224518805921, 0.24887346495661963, 644.0912292062519, 8.032785182271105, 141.06983947753906, 22.02842762121367, 66.24524287626701, 9.581498121169336, 1.1997507098677913, 6.864922670102567, 68.75656969223243, 300.94582419002853, 5.234019053638821, 12.12523404774917, 309.71477140579515, 9.40000027185306e-05, 22.16410255432129, 13.235588353390233, 4.000701694589157, 0.1105421010763264, 7.123215315740533, 84.75743142685734, 0.014539022460658807, 0.004187161203639543, 24.685905253231397, 26.902174344752925, 0.9985596330812504, 191.269272037847, 25.840954848710876, 64.1054, 0.4967879951000213, 365.7692792124099, 153.42194066673198, 0.6750935088255774, 0.8401709502303424, 0.28384166120755755, 1.735422640979614, 1.0006107317112418, 305.9044494628906, 6.7904207884239695e-06, 55.42911911010742, 2.981152250522171, 19.84893151799849, 0.19904657113381824, 6.082600116729736, 0.9104287474267233, 0.1558684691574146, 0.35560296616811, 1.049938876427143, 36.34435731655133, 5.023457750691139, 26.164978700050888, 2.963354110717773, 2.171528407573233, 160.75952927332787, 1.0004424072158082, 178.09036640399032, 1.0004163444215148, 10.048011855530568, 1.4703780153004506, 3217.3175584785695, 48045.12355336293, 0.12392958832847323, 3.211493015289306, 0.9927939705477143, 175.70591058446195, 13.186466028427665, 0.8980910181999207, 48771.0666442326, 2.8788987727003255, 1.438130216211478, 241.2063898503088, 1.9503063789689337, 0.9995487178155692, 4.967573140928927, 14.029374938371632, 1.9177184377942247, 48.34599818531093, 1.0000747848814275, 1.0002442352189724, 0.088295, 0.47562880126390406, 491.46638932223345, 0.3754821428137499, 75.15064239501953, 0.0312700010836124, 3698.349921602108, 20.495778115449102, 45.709145045687386]\n"
     ]
    },
    {
     "name": "stderr",
     "output_type": "stream",
     "text": [
      "/Users/xiyan/.conda/envs/pythonPKG/lib/python3.9/site-packages/statsmodels/tsa/base/tsa_model.py:471: ValueWarning: No frequency information was provided, so inferred frequency D will be used.\n",
      "  self._init_dates(dates, freq)\n",
      "/Users/xiyan/.conda/envs/pythonPKG/lib/python3.9/site-packages/statsmodels/tsa/base/tsa_model.py:471: ValueWarning: No frequency information was provided, so inferred frequency D will be used.\n",
      "  self._init_dates(dates, freq)\n",
      "/Users/xiyan/.conda/envs/pythonPKG/lib/python3.9/site-packages/statsmodels/tsa/base/tsa_model.py:471: ValueWarning: No frequency information was provided, so inferred frequency D will be used.\n",
      "  self._init_dates(dates, freq)\n"
     ]
    }
   ],
   "source": [
    "aug28_actual_price=[]\n",
    "aug28_pred_price=[]\n",
    "\n",
    "for file in names:\n",
    "    df = pd.read_csv(\"data/\"+ file,index_col='Date')\n",
    "    df.index = pd.to_datetime(df.index) \n",
    "    ts_open=df['Open'] \n",
    "    ts_close=df['Close'] \n",
    "   \n",
    "        # Test for stationarity\n",
    "    def test_stationarity(timeseries):\n",
    "        # Determing rolling statistics\n",
    "        rolmean = timeseries.rolling(12).mean()\n",
    "        rolstd = timeseries.rolling(12).std()\n",
    "        adft = adfuller(timeseries,autolag='AIC')\n",
    "        output = pd.Series(adft[0:4],index=['Test Statistics','p-value','No. of lags used','Number of observations used'])\n",
    "        for key,values in adft[4].items():\n",
    "            output['critical value (%s)'%key] =  values\n",
    "    test_stationarity(ts_open)\n",
    "    test_stationarity(ts_close)\n",
    "    \n",
    "    #if not stationary then eliminate trend\n",
    "    #Eliminate trend\n",
    "    moving_avg = ts_open.rolling(12).mean()\n",
    "    std_dev = ts_open.rolling(12).std()\n",
    "    \n",
    "    moving_avg = ts_close.rolling(12).mean()\n",
    "    std_dev = ts_close.rolling(12).std()\n",
    "    \n",
    "     #split data into train and test set\n",
    "    train_data, test_data = ts_close[:pd.to_datetime('2021-08-27')], ts_close[pd.to_datetime('2021-08-27'):]\n",
    "\n",
    "    model_autoARIMA = auto_arima(train_data, start_p=0, start_q=0,\n",
    "                      test='adf',       # use adftest to find optimal 'd'\n",
    "                      max_p=3, max_q=3, # maximum p and q\n",
    "                      m=1,              # frequency of series\n",
    "                      d=None,           # let model determine 'd'\n",
    "                      seasonal=False,   # No Seasonality\n",
    "                      start_P=0, \n",
    "                      D=0, \n",
    "                      trace=True,\n",
    "                      error_action='ignore',  \n",
    "                      suppress_warnings=True, \n",
    "                      stepwise=True)\n",
    "    \n",
    "    model = sm.tsa.arima.ARIMA(train_data, order=model_autoARIMA.order)\n",
    "    fitted = model.fit()\n",
    "    \n",
    "    close_pred = fitted.forecast(test_data.size, alpha=0.05)\n",
    "    # close_pred_series = pd.Series(close_pred, index=test_data.index)\n",
    "    \n",
    "    open_actual = pd.Series(ts_open, index=ts_open.index)\n",
    "     \n",
    "    aug28_actual_price.append(open_actual.get(key = '2021-08-28'))\n",
    "    aug28_pred_price.append(close_pred.iloc[0])\n",
    "    \n",
    "print(aug28_actual_price)\n",
    "print(aug28_pred_price)"
   ]
  },
  {
   "cell_type": "code",
   "execution_count": 21,
   "id": "3b18ac26",
   "metadata": {},
   "outputs": [
    {
     "data": {
      "text/html": [
       "<div>\n",
       "<style scoped>\n",
       "    .dataframe tbody tr th:only-of-type {\n",
       "        vertical-align: middle;\n",
       "    }\n",
       "\n",
       "    .dataframe tbody tr th {\n",
       "        vertical-align: top;\n",
       "    }\n",
       "\n",
       "    .dataframe thead th {\n",
       "        text-align: right;\n",
       "    }\n",
       "</style>\n",
       "<table border=\"1\" class=\"dataframe\">\n",
       "  <thead>\n",
       "    <tr style=\"text-align: right;\">\n",
       "      <th></th>\n",
       "      <th>crypto</th>\n",
       "      <th>actual price 8.28</th>\n",
       "      <th>pred price 8.28</th>\n",
       "    </tr>\n",
       "  </thead>\n",
       "  <tbody>\n",
       "    <tr>\n",
       "      <th>72</th>\n",
       "      <td>bitcoin</td>\n",
       "      <td>49062.800000</td>\n",
       "      <td>48771.066644</td>\n",
       "    </tr>\n",
       "    <tr>\n",
       "      <th>65</th>\n",
       "      <td>Bitcoin BEP2</td>\n",
       "      <td>48269.000000</td>\n",
       "      <td>48045.123553</td>\n",
       "    </tr>\n",
       "    <tr>\n",
       "      <th>90</th>\n",
       "      <td>Maker</td>\n",
       "      <td>3752.024414</td>\n",
       "      <td>3698.349922</td>\n",
       "    </tr>\n",
       "    <tr>\n",
       "      <th>64</th>\n",
       "      <td>ethereum</td>\n",
       "      <td>3273.780000</td>\n",
       "      <td>3217.317558</td>\n",
       "    </tr>\n",
       "    <tr>\n",
       "      <th>4</th>\n",
       "      <td>PAX Gold</td>\n",
       "      <td>1822.720825</td>\n",
       "      <td>1817.224519</td>\n",
       "    </tr>\n",
       "    <tr>\n",
       "      <th>...</th>\n",
       "      <td>...</td>\n",
       "      <td>...</td>\n",
       "      <td>...</td>\n",
       "    </tr>\n",
       "    <tr>\n",
       "      <th>89</th>\n",
       "      <td>Gala</td>\n",
       "      <td>0.031302</td>\n",
       "      <td>0.031270</td>\n",
       "    </tr>\n",
       "    <tr>\n",
       "      <th>26</th>\n",
       "      <td>Holo</td>\n",
       "      <td>0.014048</td>\n",
       "      <td>0.014539</td>\n",
       "    </tr>\n",
       "    <tr>\n",
       "      <th>27</th>\n",
       "      <td>BitTorrent (New)</td>\n",
       "      <td>0.004287</td>\n",
       "      <td>0.004187</td>\n",
       "    </tr>\n",
       "    <tr>\n",
       "      <th>19</th>\n",
       "      <td>eCash</td>\n",
       "      <td>0.000094</td>\n",
       "      <td>0.000094</td>\n",
       "    </tr>\n",
       "    <tr>\n",
       "      <th>43</th>\n",
       "      <td>Shiba Inu</td>\n",
       "      <td>0.000007</td>\n",
       "      <td>0.000007</td>\n",
       "    </tr>\n",
       "  </tbody>\n",
       "</table>\n",
       "<p>93 rows × 3 columns</p>\n",
       "</div>"
      ],
      "text/plain": [
       "              crypto  actual price 8.28  pred price 8.28\n",
       "72           bitcoin       49062.800000     48771.066644\n",
       "65      Bitcoin BEP2       48269.000000     48045.123553\n",
       "90             Maker        3752.024414      3698.349922\n",
       "64          ethereum        3273.780000      3217.317558\n",
       "4           PAX Gold        1822.720825      1817.224519\n",
       "..               ...                ...              ...\n",
       "89              Gala           0.031302         0.031270\n",
       "26              Holo           0.014048         0.014539\n",
       "27  BitTorrent (New)           0.004287         0.004187\n",
       "19             eCash           0.000094         0.000094\n",
       "43         Shiba Inu           0.000007         0.000007\n",
       "\n",
       "[93 rows x 3 columns]"
      ]
     },
     "execution_count": 21,
     "metadata": {},
     "output_type": "execute_result"
    }
   ],
   "source": [
    "out = pd.DataFrame(list(zip(names, aug28_actual_price, aug28_pred_price)),\n",
    "                    columns=['crypto', 'actual price 8.28','pred price 8.28'])\n",
    "                    \n",
    "out['actual price 8.28'] = out['actual price 8.28'].astype('float64')\n",
    "out['pred price 8.28'] = out['pred price 8.28'].astype('float64')\n",
    "out['crypto'] = out['crypto'].str[:-4]\n",
    "out.to_csv('output_ARIMA.csv')\n",
    "out.sort_values(by=['actual price 8.28'], ascending=False)\n",
    "out.sort_values(by=['pred price 8.28'], ascending=False)"
   ]
  },
  {
   "cell_type": "code",
   "execution_count": null,
   "id": "1599a4dc",
   "metadata": {},
   "outputs": [],
   "source": []
  }
 ],
 "metadata": {
  "kernelspec": {
   "display_name": "Python 3",
   "language": "python",
   "name": "python3"
  },
  "language_info": {
   "codemirror_mode": {
    "name": "ipython",
    "version": 3
   },
   "file_extension": ".py",
   "mimetype": "text/x-python",
   "name": "python",
   "nbconvert_exporter": "python",
   "pygments_lexer": "ipython3",
   "version": "3.9.12"
  },
  "vscode": {
   "interpreter": {
    "hash": "5b0a8a4ca0d97cff04a206145cf8d764a2c67dd87829ef23d96e35843f93170c"
   }
  }
 },
 "nbformat": 4,
 "nbformat_minor": 5
}
