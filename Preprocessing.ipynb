{
 "cells": [
  {
   "cell_type": "code",
   "execution_count": 1,
   "id": "ce39834a",
   "metadata": {},
   "outputs": [],
   "source": [
    "import os\n",
    "import pandas as pd\n",
    "import csv\n",
    "import numpy as np\n",
    "from stockstats import wrap"
   ]
  },
  {
   "cell_type": "markdown",
   "id": "7149423f",
   "metadata": {},
   "source": [
    "### Get data from files"
   ]
  },
  {
   "cell_type": "code",
   "execution_count": 5,
   "id": "0fd854e6",
   "metadata": {},
   "outputs": [],
   "source": [
    "# get files\n",
    "def files(dir):\n",
    "    names = []\n",
    "    for root, dirs, files in os.walk(dir):  \n",
    "        for file in files:  \n",
    "            if os.path.splitext(file)[1] == '.csv':  # csv files\n",
    "                names.append(file)\n",
    "    return names"
   ]
  },
  {
   "cell_type": "code",
   "execution_count": 6,
   "id": "766a5846",
   "metadata": {},
   "outputs": [],
   "source": [
    "# names for all files\n",
    "names = files(os.getcwd() + \"/data\")"
   ]
  },
  {
   "cell_type": "markdown",
   "id": "4c16e191",
   "metadata": {},
   "source": [
    "### Data for Optimization"
   ]
  },
  {
   "cell_type": "code",
   "execution_count": 7,
   "id": "44d36127",
   "metadata": {},
   "outputs": [],
   "source": [
    "# short-term: 1 day\n",
    "date = \"2021-08-28\"\n",
    "\n",
    "with open(\"op_data_1.csv\",'a', newline = \"\") as f:\n",
    "    csv_write = csv.writer(f)\n",
    "    csv_write.writerow([\"Name\", \"Open\", \"Close\"])\n",
    "\n",
    "    for file in names:\n",
    "        content = pd.read_csv(\"data/\"+ file)\n",
    "        name = file.split(\".\")[0]\n",
    "        open_price = content[content['Date'] == date].to_numpy()[0,1]\n",
    "        close_price = content[content['Date'] == date].to_numpy()[0,4]\n",
    "        csv_write.writerow([name, open_price, close_price])"
   ]
  },
  {
   "cell_type": "code",
   "execution_count": 8,
   "id": "51cc4fd8",
   "metadata": {},
   "outputs": [],
   "source": [
    "# long-term: 1 month\n",
    "start_date = \"2021-07-28\"\n",
    "end_date = \"2021-08-28\"\n",
    "\n",
    "with open(\"op_data_2.csv\",'a', newline = \"\") as f:\n",
    "    csv_write = csv.writer(f)\n",
    "    csv_write.writerow([\"Name\", \"Open\", \"Close\", \"Risk\"])\n",
    "\n",
    "    for file in names:\n",
    "        content = pd.read_csv(\"data/\"+ file)\n",
    "        name = file.split(\".\")[0]\n",
    "        open_price = content[content['Date'] == start_date].to_numpy()[0,1]\n",
    "        close_price = content[content['Date'] == end_date].to_numpy()[0,4]\n",
    "        \n",
    "        # calculate variance\n",
    "        close = content[(content['Date'] >= start_date) & (content['Date'] <= end_date)].to_numpy()[:,4]\n",
    "        risk = np.var(close, ddof = 1)\n",
    "        \n",
    "        csv_write.writerow([name, open_price, close_price, risk])"
   ]
  },
  {
   "cell_type": "code",
   "execution_count": 9,
   "id": "1b137ea6",
   "metadata": {},
   "outputs": [],
   "source": [
    "# 1 month time series\n",
    "start_date = \"2021-07-28\"\n",
    "end_date = \"2021-08-28\"\n",
    "\n",
    "# initialize\n",
    "content = pd.read_csv(\"data/\"+ names[0])\n",
    "name = names[0].split(\".\")[0]\n",
    "\n",
    "close = content[(content['Date'] >= start_date) & (content['Date'] <= end_date)][[\"Date\", \"Close\"]]\n",
    "total = close\n",
    "total.rename(columns = {'Close': name}, inplace = True)\n",
    "\n",
    "for file in names[1:]:\n",
    "    content = pd.read_csv(\"data/\"+ file)\n",
    "    name = file.split(\".\")[0]\n",
    "\n",
    "    close = content[(content['Date'] >= start_date) & (content['Date'] <= end_date)].to_numpy()[:,4]\n",
    "    total[name] = close\n",
    "\n",
    "    total.to_csv(\"op_data_3.csv\",index = False)"
   ]
  },
  {
   "cell_type": "code",
   "execution_count": null,
   "id": "dc06e027",
   "metadata": {},
   "outputs": [],
   "source": []
  }
 ],
 "metadata": {
  "kernelspec": {
   "display_name": "pythonPKG",
   "language": "python",
   "name": "python3"
  },
  "language_info": {
   "codemirror_mode": {
    "name": "ipython",
    "version": 3
   },
   "file_extension": ".py",
   "mimetype": "text/x-python",
   "name": "python",
   "nbconvert_exporter": "python",
   "pygments_lexer": "ipython3",
   "version": "3.9.12"
  },
  "vscode": {
   "interpreter": {
    "hash": "5b0a8a4ca0d97cff04a206145cf8d764a2c67dd87829ef23d96e35843f93170c"
   }
  }
 },
 "nbformat": 4,
 "nbformat_minor": 5
}
