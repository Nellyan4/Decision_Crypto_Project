{
 "cells": [
  {
   "cell_type": "markdown",
   "metadata": {},
   "source": [
    "# Machine Learning to predict tomorrow's closing price % change"
   ]
  },
  {
   "cell_type": "markdown",
   "metadata": {},
   "source": [
    "## Trial on Bitcoin csv to do feature engineering and try out different models before running the model on all of other Cryptos"
   ]
  },
  {
   "cell_type": "markdown",
   "metadata": {},
   "source": [
    "## Data Preprocessing"
   ]
  },
  {
   "cell_type": "markdown",
   "metadata": {},
   "source": [
    "Import packages"
   ]
  },
  {
   "cell_type": "code",
   "execution_count": 36,
   "metadata": {},
   "outputs": [],
   "source": [
    "import csv\n",
    "import pandas as pd\n",
    "import numpy as np\n",
    "from stockstats import wrap\n",
    "import matplotlib.pyplot as plt\n",
    "from sklearn.preprocessing import LabelEncoder\n",
    "from geopy import distance\n",
    "from sklearn.model_selection import train_test_split\n",
    "from collections import Counter\n",
    "from imblearn.under_sampling import RandomUnderSampler\n",
    "from sklearn.pipeline import Pipeline\n",
    "from sklearn.preprocessing import StandardScaler\n",
    "from sklearn.experimental import enable_iterative_imputer\n",
    "from sklearn.impute import IterativeImputer\n",
    "from sklearn.compose import ColumnTransformer\n",
    "from sklearn.preprocessing import OneHotEncoder\n",
    "from sklearn.preprocessing import LabelEncoder\n",
    "from sklearn.model_selection import GridSearchCV\n",
    "from sklearn.ensemble import RandomForestClassifier\n",
    "from sklearn.preprocessing import LabelEncoder\n",
    "from sklearn.metrics import mean_squared_error, confusion_matrix, classification_report, ConfusionMatrixDisplay\n",
    "from sklearn.neighbors import KNeighborsClassifier\n",
    "from sklearn.linear_model import LogisticRegression\n",
    "from sklearn.preprocessing import MinMaxScaler\n",
    "from sklearn.feature_selection import RFECV\n",
    "from sklearn.metrics import r2_score\n",
    "from sklearn.metrics import mean_squared_error\n",
    "from sklearn.metrics import mean_absolute_error\n",
    "import sklearn.metrics as metrics\n",
    "from sklearn.ensemble import RandomForestRegressor\n",
    "from sklearn import linear_model\n",
    "from sklearn.linear_model import SGDRegressor\n",
    "from sklearn.svm import SVR\n",
    "from sklearn.ensemble import GradientBoostingRegressor\n",
    "from xgboost.sklearn import XGBRegressor"
   ]
  },
  {
   "cell_type": "markdown",
   "metadata": {},
   "source": [
    "Read CSV and remove y"
   ]
  },
  {
   "cell_type": "code",
   "execution_count": 3,
   "metadata": {},
   "outputs": [],
   "source": [
    "data = pd.read_csv('data/Bitcoin.csv', index_col='Date')\n",
    "\n",
    "date = '2021-08-28'\n",
    "data = data[:date]\n",
    "\n",
    "y = data['Close']\n",
    "data = data.drop(['Currency', 'Close'], axis=1)\n",
    "df = wrap(data)"
   ]
  },
  {
   "cell_type": "code",
   "execution_count": 4,
   "metadata": {},
   "outputs": [
    {
     "data": {
      "text/html": [
       "<div>\n",
       "<style scoped>\n",
       "    .dataframe tbody tr th:only-of-type {\n",
       "        vertical-align: middle;\n",
       "    }\n",
       "\n",
       "    .dataframe tbody tr th {\n",
       "        vertical-align: top;\n",
       "    }\n",
       "\n",
       "    .dataframe thead th {\n",
       "        text-align: right;\n",
       "    }\n",
       "</style>\n",
       "<table border=\"1\" class=\"dataframe\">\n",
       "  <thead>\n",
       "    <tr style=\"text-align: right;\">\n",
       "      <th></th>\n",
       "      <th>open</th>\n",
       "      <th>high</th>\n",
       "      <th>low</th>\n",
       "      <th>volume</th>\n",
       "    </tr>\n",
       "    <tr>\n",
       "      <th>Date</th>\n",
       "      <th></th>\n",
       "      <th></th>\n",
       "      <th></th>\n",
       "      <th></th>\n",
       "    </tr>\n",
       "  </thead>\n",
       "  <tbody>\n",
       "    <tr>\n",
       "      <th>2021-08-09</th>\n",
       "      <td>43794.9</td>\n",
       "      <td>46460.7</td>\n",
       "      <td>42824.1</td>\n",
       "      <td>117080</td>\n",
       "    </tr>\n",
       "    <tr>\n",
       "      <th>2021-08-10</th>\n",
       "      <td>46281.8</td>\n",
       "      <td>46663.4</td>\n",
       "      <td>44681.2</td>\n",
       "      <td>80549</td>\n",
       "    </tr>\n",
       "    <tr>\n",
       "      <th>2021-08-11</th>\n",
       "      <td>45593.2</td>\n",
       "      <td>46736.5</td>\n",
       "      <td>45367.9</td>\n",
       "      <td>75434</td>\n",
       "    </tr>\n",
       "    <tr>\n",
       "      <th>2021-08-12</th>\n",
       "      <td>45562.3</td>\n",
       "      <td>46213.8</td>\n",
       "      <td>43814.7</td>\n",
       "      <td>81071</td>\n",
       "    </tr>\n",
       "    <tr>\n",
       "      <th>2021-08-13</th>\n",
       "      <td>44404.0</td>\n",
       "      <td>47836.0</td>\n",
       "      <td>44242.4</td>\n",
       "      <td>75268</td>\n",
       "    </tr>\n",
       "    <tr>\n",
       "      <th>2021-08-14</th>\n",
       "      <td>47809.6</td>\n",
       "      <td>48090.9</td>\n",
       "      <td>46117.2</td>\n",
       "      <td>64292</td>\n",
       "    </tr>\n",
       "    <tr>\n",
       "      <th>2021-08-15</th>\n",
       "      <td>47082.6</td>\n",
       "      <td>47344.1</td>\n",
       "      <td>45564.1</td>\n",
       "      <td>58107</td>\n",
       "    </tr>\n",
       "    <tr>\n",
       "      <th>2021-08-16</th>\n",
       "      <td>46991.6</td>\n",
       "      <td>48002.4</td>\n",
       "      <td>45672.1</td>\n",
       "      <td>2411</td>\n",
       "    </tr>\n",
       "    <tr>\n",
       "      <th>2021-08-17</th>\n",
       "      <td>45907.5</td>\n",
       "      <td>47140.6</td>\n",
       "      <td>44441.3</td>\n",
       "      <td>84141</td>\n",
       "    </tr>\n",
       "    <tr>\n",
       "      <th>2021-08-18</th>\n",
       "      <td>44691.1</td>\n",
       "      <td>46004.9</td>\n",
       "      <td>44230.0</td>\n",
       "      <td>22357</td>\n",
       "    </tr>\n",
       "    <tr>\n",
       "      <th>2021-08-19</th>\n",
       "      <td>44725.9</td>\n",
       "      <td>47012.3</td>\n",
       "      <td>43986.7</td>\n",
       "      <td>77920</td>\n",
       "    </tr>\n",
       "    <tr>\n",
       "      <th>2021-08-20</th>\n",
       "      <td>46756.7</td>\n",
       "      <td>49343.3</td>\n",
       "      <td>46646.8</td>\n",
       "      <td>83194</td>\n",
       "    </tr>\n",
       "    <tr>\n",
       "      <th>2021-08-21</th>\n",
       "      <td>49330.0</td>\n",
       "      <td>49719.1</td>\n",
       "      <td>48293.5</td>\n",
       "      <td>18204</td>\n",
       "    </tr>\n",
       "    <tr>\n",
       "      <th>2021-08-22</th>\n",
       "      <td>48870.4</td>\n",
       "      <td>49480.3</td>\n",
       "      <td>48151.0</td>\n",
       "      <td>49319</td>\n",
       "    </tr>\n",
       "    <tr>\n",
       "      <th>2021-08-23</th>\n",
       "      <td>49255.4</td>\n",
       "      <td>50498.8</td>\n",
       "      <td>49038.6</td>\n",
       "      <td>75370</td>\n",
       "    </tr>\n",
       "    <tr>\n",
       "      <th>2021-08-24</th>\n",
       "      <td>49532.5</td>\n",
       "      <td>49847.4</td>\n",
       "      <td>47623.6</td>\n",
       "      <td>74259</td>\n",
       "    </tr>\n",
       "    <tr>\n",
       "      <th>2021-08-25</th>\n",
       "      <td>47707.4</td>\n",
       "      <td>49230.2</td>\n",
       "      <td>47163.3</td>\n",
       "      <td>63544</td>\n",
       "    </tr>\n",
       "    <tr>\n",
       "      <th>2021-08-26</th>\n",
       "      <td>48994.4</td>\n",
       "      <td>49347.8</td>\n",
       "      <td>46360.4</td>\n",
       "      <td>73788</td>\n",
       "    </tr>\n",
       "    <tr>\n",
       "      <th>2021-08-27</th>\n",
       "      <td>46830.2</td>\n",
       "      <td>49142.0</td>\n",
       "      <td>46371.5</td>\n",
       "      <td>62465</td>\n",
       "    </tr>\n",
       "    <tr>\n",
       "      <th>2021-08-28</th>\n",
       "      <td>49062.8</td>\n",
       "      <td>49289.4</td>\n",
       "      <td>48428.5</td>\n",
       "      <td>36727</td>\n",
       "    </tr>\n",
       "  </tbody>\n",
       "</table>\n",
       "</div>"
      ],
      "text/plain": [
       "               open     high      low  volume\n",
       "Date                                         \n",
       "2021-08-09  43794.9  46460.7  42824.1  117080\n",
       "2021-08-10  46281.8  46663.4  44681.2   80549\n",
       "2021-08-11  45593.2  46736.5  45367.9   75434\n",
       "2021-08-12  45562.3  46213.8  43814.7   81071\n",
       "2021-08-13  44404.0  47836.0  44242.4   75268\n",
       "2021-08-14  47809.6  48090.9  46117.2   64292\n",
       "2021-08-15  47082.6  47344.1  45564.1   58107\n",
       "2021-08-16  46991.6  48002.4  45672.1    2411\n",
       "2021-08-17  45907.5  47140.6  44441.3   84141\n",
       "2021-08-18  44691.1  46004.9  44230.0   22357\n",
       "2021-08-19  44725.9  47012.3  43986.7   77920\n",
       "2021-08-20  46756.7  49343.3  46646.8   83194\n",
       "2021-08-21  49330.0  49719.1  48293.5   18204\n",
       "2021-08-22  48870.4  49480.3  48151.0   49319\n",
       "2021-08-23  49255.4  50498.8  49038.6   75370\n",
       "2021-08-24  49532.5  49847.4  47623.6   74259\n",
       "2021-08-25  47707.4  49230.2  47163.3   63544\n",
       "2021-08-26  48994.4  49347.8  46360.4   73788\n",
       "2021-08-27  46830.2  49142.0  46371.5   62465\n",
       "2021-08-28  49062.8  49289.4  48428.5   36727"
      ]
     },
     "execution_count": 4,
     "metadata": {},
     "output_type": "execute_result"
    }
   ],
   "source": [
    "df.tail(20)"
   ]
  },
  {
   "cell_type": "markdown",
   "metadata": {},
   "source": [
    "Use package: stockstats to handle all data into moving averages, so that to make sure we are not using future data to train out models."
   ]
  },
  {
   "cell_type": "markdown",
   "metadata": {},
   "source": [
    "We only use simple moving average, exponential moving average, standard deviation and variance moving average on high, low, and volume data, we also won't use open since it is highly associated with close data."
   ]
  },
  {
   "cell_type": "code",
   "execution_count": 5,
   "metadata": {},
   "outputs": [
    {
     "data": {
      "text/html": [
       "<div>\n",
       "<style scoped>\n",
       "    .dataframe tbody tr th:only-of-type {\n",
       "        vertical-align: middle;\n",
       "    }\n",
       "\n",
       "    .dataframe tbody tr th {\n",
       "        vertical-align: top;\n",
       "    }\n",
       "\n",
       "    .dataframe thead th {\n",
       "        text-align: right;\n",
       "    }\n",
       "</style>\n",
       "<table border=\"1\" class=\"dataframe\">\n",
       "  <thead>\n",
       "    <tr style=\"text-align: right;\">\n",
       "      <th></th>\n",
       "      <th>high_2_sma</th>\n",
       "      <th>high_5_sma</th>\n",
       "      <th>high_10_sma</th>\n",
       "      <th>high_20_sma</th>\n",
       "      <th>high_50_sma</th>\n",
       "      <th>high_100_sma</th>\n",
       "      <th>high_2_ema</th>\n",
       "      <th>high_5_ema</th>\n",
       "      <th>high_10_ema</th>\n",
       "      <th>high_20_ema</th>\n",
       "      <th>...</th>\n",
       "      <th>volume_50_ema</th>\n",
       "      <th>volume_100_ema</th>\n",
       "      <th>volume_5_mvar</th>\n",
       "      <th>volume_20_mvar</th>\n",
       "      <th>volume_50_mvar</th>\n",
       "      <th>volume_100_mvar</th>\n",
       "      <th>volume_5_mstd</th>\n",
       "      <th>volume_20_mstd</th>\n",
       "      <th>volume_50_mstd</th>\n",
       "      <th>volume_100_mstd</th>\n",
       "    </tr>\n",
       "    <tr>\n",
       "      <th>Date</th>\n",
       "      <th></th>\n",
       "      <th></th>\n",
       "      <th></th>\n",
       "      <th></th>\n",
       "      <th></th>\n",
       "      <th></th>\n",
       "      <th></th>\n",
       "      <th></th>\n",
       "      <th></th>\n",
       "      <th></th>\n",
       "      <th></th>\n",
       "      <th></th>\n",
       "      <th></th>\n",
       "      <th></th>\n",
       "      <th></th>\n",
       "      <th></th>\n",
       "      <th></th>\n",
       "      <th></th>\n",
       "      <th></th>\n",
       "      <th></th>\n",
       "      <th></th>\n",
       "    </tr>\n",
       "  </thead>\n",
       "  <tbody>\n",
       "    <tr>\n",
       "      <th>2021-08-24</th>\n",
       "      <td>50173.1</td>\n",
       "      <td>49777.78</td>\n",
       "      <td>48439.32</td>\n",
       "      <td>47049.780</td>\n",
       "      <td>40371.872</td>\n",
       "      <td>39145.468</td>\n",
       "      <td>49945.222739</td>\n",
       "      <td>49508.068155</td>\n",
       "      <td>48622.281366</td>\n",
       "      <td>46734.867236</td>\n",
       "      <td>...</td>\n",
       "      <td>81073.794767</td>\n",
       "      <td>98531.248913</td>\n",
       "      <td>7.096208e+08</td>\n",
       "      <td>1.111900e+09</td>\n",
       "      <td>1.059427e+09</td>\n",
       "      <td>6.580693e+09</td>\n",
       "      <td>26638.707976</td>\n",
       "      <td>33345.171003</td>\n",
       "      <td>32548.833257</td>\n",
       "      <td>81121.470129</td>\n",
       "    </tr>\n",
       "    <tr>\n",
       "      <th>2021-08-25</th>\n",
       "      <td>49538.8</td>\n",
       "      <td>49755.16</td>\n",
       "      <td>48627.93</td>\n",
       "      <td>47442.975</td>\n",
       "      <td>40655.236</td>\n",
       "      <td>39172.316</td>\n",
       "      <td>49468.540913</td>\n",
       "      <td>49415.445437</td>\n",
       "      <td>48732.812027</td>\n",
       "      <td>46972.517975</td>\n",
       "      <td>...</td>\n",
       "      <td>80386.351835</td>\n",
       "      <td>97838.432102</td>\n",
       "      <td>5.596441e+08</td>\n",
       "      <td>9.441212e+08</td>\n",
       "      <td>1.061385e+09</td>\n",
       "      <td>6.352079e+09</td>\n",
       "      <td>23656.798233</td>\n",
       "      <td>30726.554773</td>\n",
       "      <td>32578.907846</td>\n",
       "      <td>79699.931500</td>\n",
       "    </tr>\n",
       "    <tr>\n",
       "      <th>2021-08-26</th>\n",
       "      <td>49289.0</td>\n",
       "      <td>49680.90</td>\n",
       "      <td>48762.47</td>\n",
       "      <td>47747.695</td>\n",
       "      <td>40941.460</td>\n",
       "      <td>39208.085</td>\n",
       "      <td>49388.046971</td>\n",
       "      <td>49392.896958</td>\n",
       "      <td>48844.628022</td>\n",
       "      <td>47198.735311</td>\n",
       "      <td>...</td>\n",
       "      <td>80127.592940</td>\n",
       "      <td>97362.185922</td>\n",
       "      <td>1.232652e+08</td>\n",
       "      <td>8.550506e+08</td>\n",
       "      <td>1.061179e+09</td>\n",
       "      <td>6.351655e+09</td>\n",
       "      <td>11102.487805</td>\n",
       "      <td>29241.248115</td>\n",
       "      <td>32575.742141</td>\n",
       "      <td>79697.272454</td>\n",
       "    </tr>\n",
       "    <tr>\n",
       "      <th>2021-08-27</th>\n",
       "      <td>49244.9</td>\n",
       "      <td>49613.24</td>\n",
       "      <td>48962.61</td>\n",
       "      <td>47969.930</td>\n",
       "      <td>41245.836</td>\n",
       "      <td>39264.339</td>\n",
       "      <td>49224.015657</td>\n",
       "      <td>49309.264639</td>\n",
       "      <td>48898.695654</td>\n",
       "      <td>47383.808138</td>\n",
       "      <td>...</td>\n",
       "      <td>79434.942236</td>\n",
       "      <td>96671.152538</td>\n",
       "      <td>3.992880e+07</td>\n",
       "      <td>7.533005e+08</td>\n",
       "      <td>1.042695e+09</td>\n",
       "      <td>3.889307e+09</td>\n",
       "      <td>6318.923773</td>\n",
       "      <td>27446.320492</td>\n",
       "      <td>32290.789223</td>\n",
       "      <td>62364.310655</td>\n",
       "    </tr>\n",
       "    <tr>\n",
       "      <th>2021-08-28</th>\n",
       "      <td>49215.7</td>\n",
       "      <td>49371.36</td>\n",
       "      <td>49291.06</td>\n",
       "      <td>48170.195</td>\n",
       "      <td>41550.040</td>\n",
       "      <td>39332.974</td>\n",
       "      <td>49267.605219</td>\n",
       "      <td>49302.643092</td>\n",
       "      <td>48969.732808</td>\n",
       "      <td>47565.293077</td>\n",
       "      <td>...</td>\n",
       "      <td>77760.120972</td>\n",
       "      <td>95484.139616</td>\n",
       "      <td>2.326105e+08</td>\n",
       "      <td>7.136302e+08</td>\n",
       "      <td>1.070822e+09</td>\n",
       "      <td>3.672078e+09</td>\n",
       "      <td>15251.574484</td>\n",
       "      <td>26713.858531</td>\n",
       "      <td>32723.422913</td>\n",
       "      <td>60597.671207</td>\n",
       "    </tr>\n",
       "  </tbody>\n",
       "</table>\n",
       "<p>5 rows × 60 columns</p>\n",
       "</div>"
      ],
      "text/plain": [
       "            high_2_sma  high_5_sma  high_10_sma  high_20_sma  high_50_sma  \\\n",
       "Date                                                                        \n",
       "2021-08-24     50173.1    49777.78     48439.32    47049.780    40371.872   \n",
       "2021-08-25     49538.8    49755.16     48627.93    47442.975    40655.236   \n",
       "2021-08-26     49289.0    49680.90     48762.47    47747.695    40941.460   \n",
       "2021-08-27     49244.9    49613.24     48962.61    47969.930    41245.836   \n",
       "2021-08-28     49215.7    49371.36     49291.06    48170.195    41550.040   \n",
       "\n",
       "            high_100_sma    high_2_ema    high_5_ema   high_10_ema  \\\n",
       "Date                                                                 \n",
       "2021-08-24     39145.468  49945.222739  49508.068155  48622.281366   \n",
       "2021-08-25     39172.316  49468.540913  49415.445437  48732.812027   \n",
       "2021-08-26     39208.085  49388.046971  49392.896958  48844.628022   \n",
       "2021-08-27     39264.339  49224.015657  49309.264639  48898.695654   \n",
       "2021-08-28     39332.974  49267.605219  49302.643092  48969.732808   \n",
       "\n",
       "             high_20_ema  ...  volume_50_ema  volume_100_ema  volume_5_mvar  \\\n",
       "Date                      ...                                                 \n",
       "2021-08-24  46734.867236  ...   81073.794767    98531.248913   7.096208e+08   \n",
       "2021-08-25  46972.517975  ...   80386.351835    97838.432102   5.596441e+08   \n",
       "2021-08-26  47198.735311  ...   80127.592940    97362.185922   1.232652e+08   \n",
       "2021-08-27  47383.808138  ...   79434.942236    96671.152538   3.992880e+07   \n",
       "2021-08-28  47565.293077  ...   77760.120972    95484.139616   2.326105e+08   \n",
       "\n",
       "            volume_20_mvar  volume_50_mvar  volume_100_mvar  volume_5_mstd  \\\n",
       "Date                                                                         \n",
       "2021-08-24    1.111900e+09    1.059427e+09     6.580693e+09   26638.707976   \n",
       "2021-08-25    9.441212e+08    1.061385e+09     6.352079e+09   23656.798233   \n",
       "2021-08-26    8.550506e+08    1.061179e+09     6.351655e+09   11102.487805   \n",
       "2021-08-27    7.533005e+08    1.042695e+09     3.889307e+09    6318.923773   \n",
       "2021-08-28    7.136302e+08    1.070822e+09     3.672078e+09   15251.574484   \n",
       "\n",
       "            volume_20_mstd  volume_50_mstd  volume_100_mstd  \n",
       "Date                                                         \n",
       "2021-08-24    33345.171003    32548.833257     81121.470129  \n",
       "2021-08-25    30726.554773    32578.907846     79699.931500  \n",
       "2021-08-26    29241.248115    32575.742141     79697.272454  \n",
       "2021-08-27    27446.320492    32290.789223     62364.310655  \n",
       "2021-08-28    26713.858531    32723.422913     60597.671207  \n",
       "\n",
       "[5 rows x 60 columns]"
      ]
     },
     "execution_count": 5,
     "metadata": {},
     "output_type": "execute_result"
    }
   ],
   "source": [
    "X = df[[\n",
    "'high_2_sma', 'high_5_sma', 'high_10_sma', 'high_20_sma', 'high_50_sma', 'high_100_sma', 'high_2_ema', 'high_5_ema', 'high_10_ema', 'high_20_ema','high_50_ema', 'high_100_ema', 'high_5_mvar', 'high_20_mvar', 'high_50_mvar', 'high_100_mvar', 'high_5_mstd', 'high_20_mstd', 'high_50_mstd', 'high_100_mstd',\n",
    "'low_2_sma', 'low_5_sma', 'low_10_sma', 'low_20_sma', 'low_50_sma', 'low_100_sma', 'low_2_ema', 'low_5_ema', 'low_10_ema', 'low_20_ema','low_50_ema', 'low_100_ema', 'low_5_mvar', 'low_20_mvar', 'low_50_mvar', 'low_100_mvar', 'low_5_mstd', 'low_20_mstd', 'low_50_mstd', 'low_100_mstd',\n",
    "'volume_2_sma', 'volume_5_sma', 'volume_10_sma', 'volume_20_sma', 'volume_50_sma', 'volume_100_sma', 'volume_2_ema', 'volume_5_ema', 'volume_10_ema', 'volume_20_ema','volume_50_ema', 'volume_100_ema', 'volume_5_mvar', 'volume_20_mvar', 'volume_50_mvar', 'volume_100_mvar', 'volume_5_mstd', 'volume_20_mstd', 'volume_50_mstd', 'volume_100_mstd'\n",
    "]]\n",
    "\n",
    "X.tail(5)"
   ]
  },
  {
   "cell_type": "markdown",
   "metadata": {},
   "source": [
    "Convert it to percentage change from previous rows"
   ]
  },
  {
   "cell_type": "code",
   "execution_count": 6,
   "metadata": {},
   "outputs": [
    {
     "data": {
      "text/html": [
       "<div>\n",
       "<style scoped>\n",
       "    .dataframe tbody tr th:only-of-type {\n",
       "        vertical-align: middle;\n",
       "    }\n",
       "\n",
       "    .dataframe tbody tr th {\n",
       "        vertical-align: top;\n",
       "    }\n",
       "\n",
       "    .dataframe thead th {\n",
       "        text-align: right;\n",
       "    }\n",
       "</style>\n",
       "<table border=\"1\" class=\"dataframe\">\n",
       "  <thead>\n",
       "    <tr style=\"text-align: right;\">\n",
       "      <th></th>\n",
       "      <th>high_2_sma</th>\n",
       "      <th>high_5_sma</th>\n",
       "      <th>high_10_sma</th>\n",
       "      <th>high_20_sma</th>\n",
       "      <th>high_50_sma</th>\n",
       "      <th>high_100_sma</th>\n",
       "      <th>high_2_ema</th>\n",
       "      <th>high_5_ema</th>\n",
       "      <th>high_10_ema</th>\n",
       "      <th>high_20_ema</th>\n",
       "      <th>...</th>\n",
       "      <th>volume_50_ema</th>\n",
       "      <th>volume_100_ema</th>\n",
       "      <th>volume_5_mvar</th>\n",
       "      <th>volume_20_mvar</th>\n",
       "      <th>volume_50_mvar</th>\n",
       "      <th>volume_100_mvar</th>\n",
       "      <th>volume_5_mstd</th>\n",
       "      <th>volume_20_mstd</th>\n",
       "      <th>volume_50_mstd</th>\n",
       "      <th>volume_100_mstd</th>\n",
       "    </tr>\n",
       "    <tr>\n",
       "      <th>Date</th>\n",
       "      <th></th>\n",
       "      <th></th>\n",
       "      <th></th>\n",
       "      <th></th>\n",
       "      <th></th>\n",
       "      <th></th>\n",
       "      <th></th>\n",
       "      <th></th>\n",
       "      <th></th>\n",
       "      <th></th>\n",
       "      <th></th>\n",
       "      <th></th>\n",
       "      <th></th>\n",
       "      <th></th>\n",
       "      <th></th>\n",
       "      <th></th>\n",
       "      <th></th>\n",
       "      <th></th>\n",
       "      <th></th>\n",
       "      <th></th>\n",
       "      <th></th>\n",
       "    </tr>\n",
       "  </thead>\n",
       "  <tbody>\n",
       "    <tr>\n",
       "      <th>2021-08-24</th>\n",
       "      <td>0.003672</td>\n",
       "      <td>0.011522</td>\n",
       "      <td>0.003639</td>\n",
       "      <td>0.010623</td>\n",
       "      <td>0.007259</td>\n",
       "      <td>0.000021</td>\n",
       "      <td>-0.003902</td>\n",
       "      <td>0.003439</td>\n",
       "      <td>0.005631</td>\n",
       "      <td>0.007060</td>\n",
       "      <td>...</td>\n",
       "      <td>-0.003419</td>\n",
       "      <td>-0.004952</td>\n",
       "      <td>-0.038813</td>\n",
       "      <td>-0.000766</td>\n",
       "      <td>-0.002703</td>\n",
       "      <td>-0.003239</td>\n",
       "      <td>-0.019599</td>\n",
       "      <td>-0.000383</td>\n",
       "      <td>-0.001352</td>\n",
       "      <td>-0.001621</td>\n",
       "    </tr>\n",
       "    <tr>\n",
       "      <th>2021-08-25</th>\n",
       "      <td>-0.012642</td>\n",
       "      <td>-0.000454</td>\n",
       "      <td>0.003894</td>\n",
       "      <td>0.008357</td>\n",
       "      <td>0.007019</td>\n",
       "      <td>0.000686</td>\n",
       "      <td>-0.009544</td>\n",
       "      <td>-0.001871</td>\n",
       "      <td>0.002273</td>\n",
       "      <td>0.005085</td>\n",
       "      <td>...</td>\n",
       "      <td>-0.008479</td>\n",
       "      <td>-0.007031</td>\n",
       "      <td>-0.211348</td>\n",
       "      <td>-0.150894</td>\n",
       "      <td>0.001849</td>\n",
       "      <td>-0.034740</td>\n",
       "      <td>-0.111939</td>\n",
       "      <td>-0.078531</td>\n",
       "      <td>0.000924</td>\n",
       "      <td>-0.017524</td>\n",
       "    </tr>\n",
       "    <tr>\n",
       "      <th>2021-08-26</th>\n",
       "      <td>-0.005043</td>\n",
       "      <td>-0.001493</td>\n",
       "      <td>0.002767</td>\n",
       "      <td>0.006423</td>\n",
       "      <td>0.007040</td>\n",
       "      <td>0.000913</td>\n",
       "      <td>-0.001627</td>\n",
       "      <td>-0.000456</td>\n",
       "      <td>0.002294</td>\n",
       "      <td>0.004816</td>\n",
       "      <td>...</td>\n",
       "      <td>-0.003219</td>\n",
       "      <td>-0.004868</td>\n",
       "      <td>-0.779744</td>\n",
       "      <td>-0.094342</td>\n",
       "      <td>-0.000194</td>\n",
       "      <td>-0.000067</td>\n",
       "      <td>-0.530685</td>\n",
       "      <td>-0.048340</td>\n",
       "      <td>-0.000097</td>\n",
       "      <td>-0.000033</td>\n",
       "    </tr>\n",
       "    <tr>\n",
       "      <th>2021-08-27</th>\n",
       "      <td>-0.000895</td>\n",
       "      <td>-0.001362</td>\n",
       "      <td>0.004104</td>\n",
       "      <td>0.004654</td>\n",
       "      <td>0.007434</td>\n",
       "      <td>0.001435</td>\n",
       "      <td>-0.003321</td>\n",
       "      <td>-0.001693</td>\n",
       "      <td>0.001107</td>\n",
       "      <td>0.003921</td>\n",
       "      <td>...</td>\n",
       "      <td>-0.008644</td>\n",
       "      <td>-0.007098</td>\n",
       "      <td>-0.676074</td>\n",
       "      <td>-0.118999</td>\n",
       "      <td>-0.017418</td>\n",
       "      <td>-0.387670</td>\n",
       "      <td>-0.430855</td>\n",
       "      <td>-0.061383</td>\n",
       "      <td>-0.008747</td>\n",
       "      <td>-0.217485</td>\n",
       "    </tr>\n",
       "    <tr>\n",
       "      <th>2021-08-28</th>\n",
       "      <td>-0.000593</td>\n",
       "      <td>-0.004875</td>\n",
       "      <td>0.006708</td>\n",
       "      <td>0.004175</td>\n",
       "      <td>0.007375</td>\n",
       "      <td>0.001748</td>\n",
       "      <td>0.000886</td>\n",
       "      <td>-0.000134</td>\n",
       "      <td>0.001453</td>\n",
       "      <td>0.003830</td>\n",
       "      <td>...</td>\n",
       "      <td>-0.021084</td>\n",
       "      <td>-0.012279</td>\n",
       "      <td>4.825633</td>\n",
       "      <td>-0.052662</td>\n",
       "      <td>0.026976</td>\n",
       "      <td>-0.055853</td>\n",
       "      <td>1.413635</td>\n",
       "      <td>-0.026687</td>\n",
       "      <td>0.013398</td>\n",
       "      <td>-0.028328</td>\n",
       "    </tr>\n",
       "  </tbody>\n",
       "</table>\n",
       "<p>5 rows × 60 columns</p>\n",
       "</div>"
      ],
      "text/plain": [
       "            high_2_sma  high_5_sma  high_10_sma  high_20_sma  high_50_sma  \\\n",
       "Date                                                                        \n",
       "2021-08-24    0.003672    0.011522     0.003639     0.010623     0.007259   \n",
       "2021-08-25   -0.012642   -0.000454     0.003894     0.008357     0.007019   \n",
       "2021-08-26   -0.005043   -0.001493     0.002767     0.006423     0.007040   \n",
       "2021-08-27   -0.000895   -0.001362     0.004104     0.004654     0.007434   \n",
       "2021-08-28   -0.000593   -0.004875     0.006708     0.004175     0.007375   \n",
       "\n",
       "            high_100_sma  high_2_ema  high_5_ema  high_10_ema  high_20_ema  \\\n",
       "Date                                                                         \n",
       "2021-08-24      0.000021   -0.003902    0.003439     0.005631     0.007060   \n",
       "2021-08-25      0.000686   -0.009544   -0.001871     0.002273     0.005085   \n",
       "2021-08-26      0.000913   -0.001627   -0.000456     0.002294     0.004816   \n",
       "2021-08-27      0.001435   -0.003321   -0.001693     0.001107     0.003921   \n",
       "2021-08-28      0.001748    0.000886   -0.000134     0.001453     0.003830   \n",
       "\n",
       "            ...  volume_50_ema  volume_100_ema  volume_5_mvar  volume_20_mvar  \\\n",
       "Date        ...                                                                 \n",
       "2021-08-24  ...      -0.003419       -0.004952      -0.038813       -0.000766   \n",
       "2021-08-25  ...      -0.008479       -0.007031      -0.211348       -0.150894   \n",
       "2021-08-26  ...      -0.003219       -0.004868      -0.779744       -0.094342   \n",
       "2021-08-27  ...      -0.008644       -0.007098      -0.676074       -0.118999   \n",
       "2021-08-28  ...      -0.021084       -0.012279       4.825633       -0.052662   \n",
       "\n",
       "            volume_50_mvar  volume_100_mvar  volume_5_mstd  volume_20_mstd  \\\n",
       "Date                                                                         \n",
       "2021-08-24       -0.002703        -0.003239      -0.019599       -0.000383   \n",
       "2021-08-25        0.001849        -0.034740      -0.111939       -0.078531   \n",
       "2021-08-26       -0.000194        -0.000067      -0.530685       -0.048340   \n",
       "2021-08-27       -0.017418        -0.387670      -0.430855       -0.061383   \n",
       "2021-08-28        0.026976        -0.055853       1.413635       -0.026687   \n",
       "\n",
       "            volume_50_mstd  volume_100_mstd  \n",
       "Date                                         \n",
       "2021-08-24       -0.001352        -0.001621  \n",
       "2021-08-25        0.000924        -0.017524  \n",
       "2021-08-26       -0.000097        -0.000033  \n",
       "2021-08-27       -0.008747        -0.217485  \n",
       "2021-08-28        0.013398        -0.028328  \n",
       "\n",
       "[5 rows x 60 columns]"
      ]
     },
     "execution_count": 6,
     "metadata": {},
     "output_type": "execute_result"
    }
   ],
   "source": [
    "z = X.pct_change()\n",
    "z.tail(5)"
   ]
  },
  {
   "cell_type": "markdown",
   "metadata": {},
   "source": [
    "Also convert y into percentage change"
   ]
  },
  {
   "cell_type": "code",
   "execution_count": 7,
   "metadata": {},
   "outputs": [
    {
     "data": {
      "text/html": [
       "<div>\n",
       "<style scoped>\n",
       "    .dataframe tbody tr th:only-of-type {\n",
       "        vertical-align: middle;\n",
       "    }\n",
       "\n",
       "    .dataframe tbody tr th {\n",
       "        vertical-align: top;\n",
       "    }\n",
       "\n",
       "    .dataframe thead th {\n",
       "        text-align: right;\n",
       "    }\n",
       "</style>\n",
       "<table border=\"1\" class=\"dataframe\">\n",
       "  <thead>\n",
       "    <tr style=\"text-align: right;\">\n",
       "      <th></th>\n",
       "      <th>Close</th>\n",
       "    </tr>\n",
       "    <tr>\n",
       "      <th>Date</th>\n",
       "      <th></th>\n",
       "    </tr>\n",
       "  </thead>\n",
       "  <tbody>\n",
       "    <tr>\n",
       "      <th>2021-08-24</th>\n",
       "      <td>-0.036839</td>\n",
       "    </tr>\n",
       "    <tr>\n",
       "      <th>2021-08-25</th>\n",
       "      <td>0.026822</td>\n",
       "    </tr>\n",
       "    <tr>\n",
       "      <th>2021-08-26</th>\n",
       "      <td>-0.044146</td>\n",
       "    </tr>\n",
       "    <tr>\n",
       "      <th>2021-08-27</th>\n",
       "      <td>0.047675</td>\n",
       "    </tr>\n",
       "    <tr>\n",
       "      <th>2021-08-28</th>\n",
       "      <td>-0.003408</td>\n",
       "    </tr>\n",
       "  </tbody>\n",
       "</table>\n",
       "</div>"
      ],
      "text/plain": [
       "               Close\n",
       "Date                \n",
       "2021-08-24 -0.036839\n",
       "2021-08-25  0.026822\n",
       "2021-08-26 -0.044146\n",
       "2021-08-27  0.047675\n",
       "2021-08-28 -0.003408"
      ]
     },
     "execution_count": 7,
     "metadata": {},
     "output_type": "execute_result"
    }
   ],
   "source": [
    "y = pd.DataFrame(y)\n",
    "y_change = y.pct_change()\n",
    "y_change.tail(5)"
   ]
  },
  {
   "cell_type": "markdown",
   "metadata": {},
   "source": [
    "Join back the dataset"
   ]
  },
  {
   "cell_type": "code",
   "execution_count": 8,
   "metadata": {},
   "outputs": [],
   "source": [
    "df = z.join(y_change, on='Date')\n",
    "\n",
    "# Remove date column, we don't need it to train our model\n",
    "df = df.reset_index()\n",
    "df = df.iloc[: , 1:]"
   ]
  },
  {
   "cell_type": "markdown",
   "metadata": {},
   "source": [
    "Remove the last row, which is the newest date, we are going to use it as the input for our model to get the newest day closing price % change."
   ]
  },
  {
   "cell_type": "code",
   "execution_count": 9,
   "metadata": {},
   "outputs": [
    {
     "data": {
      "text/html": [
       "<div>\n",
       "<style scoped>\n",
       "    .dataframe tbody tr th:only-of-type {\n",
       "        vertical-align: middle;\n",
       "    }\n",
       "\n",
       "    .dataframe tbody tr th {\n",
       "        vertical-align: top;\n",
       "    }\n",
       "\n",
       "    .dataframe thead th {\n",
       "        text-align: right;\n",
       "    }\n",
       "</style>\n",
       "<table border=\"1\" class=\"dataframe\">\n",
       "  <thead>\n",
       "    <tr style=\"text-align: right;\">\n",
       "      <th></th>\n",
       "      <th>high_2_sma</th>\n",
       "      <th>high_5_sma</th>\n",
       "      <th>high_10_sma</th>\n",
       "      <th>high_20_sma</th>\n",
       "      <th>high_50_sma</th>\n",
       "      <th>high_100_sma</th>\n",
       "      <th>high_2_ema</th>\n",
       "      <th>high_5_ema</th>\n",
       "      <th>high_10_ema</th>\n",
       "      <th>high_20_ema</th>\n",
       "      <th>...</th>\n",
       "      <th>volume_100_ema</th>\n",
       "      <th>volume_5_mvar</th>\n",
       "      <th>volume_20_mvar</th>\n",
       "      <th>volume_50_mvar</th>\n",
       "      <th>volume_100_mvar</th>\n",
       "      <th>volume_5_mstd</th>\n",
       "      <th>volume_20_mstd</th>\n",
       "      <th>volume_50_mstd</th>\n",
       "      <th>volume_100_mstd</th>\n",
       "      <th>Close</th>\n",
       "    </tr>\n",
       "  </thead>\n",
       "  <tbody>\n",
       "    <tr>\n",
       "      <th>4059</th>\n",
       "      <td>-0.000593</td>\n",
       "      <td>-0.004875</td>\n",
       "      <td>0.006708</td>\n",
       "      <td>0.004175</td>\n",
       "      <td>0.007375</td>\n",
       "      <td>0.001748</td>\n",
       "      <td>0.000886</td>\n",
       "      <td>-0.000134</td>\n",
       "      <td>0.001453</td>\n",
       "      <td>0.00383</td>\n",
       "      <td>...</td>\n",
       "      <td>-0.012279</td>\n",
       "      <td>4.825633</td>\n",
       "      <td>-0.052662</td>\n",
       "      <td>0.026976</td>\n",
       "      <td>-0.055853</td>\n",
       "      <td>1.413635</td>\n",
       "      <td>-0.026687</td>\n",
       "      <td>0.013398</td>\n",
       "      <td>-0.028328</td>\n",
       "      <td>-0.003408</td>\n",
       "    </tr>\n",
       "  </tbody>\n",
       "</table>\n",
       "<p>1 rows × 61 columns</p>\n",
       "</div>"
      ],
      "text/plain": [
       "      high_2_sma  high_5_sma  high_10_sma  high_20_sma  high_50_sma  \\\n",
       "4059   -0.000593   -0.004875     0.006708     0.004175     0.007375   \n",
       "\n",
       "      high_100_sma  high_2_ema  high_5_ema  high_10_ema  high_20_ema  ...  \\\n",
       "4059      0.001748    0.000886   -0.000134     0.001453      0.00383  ...   \n",
       "\n",
       "      volume_100_ema  volume_5_mvar  volume_20_mvar  volume_50_mvar  \\\n",
       "4059       -0.012279       4.825633       -0.052662        0.026976   \n",
       "\n",
       "      volume_100_mvar  volume_5_mstd  volume_20_mstd  volume_50_mstd  \\\n",
       "4059        -0.055853       1.413635       -0.026687        0.013398   \n",
       "\n",
       "      volume_100_mstd     Close  \n",
       "4059        -0.028328 -0.003408  \n",
       "\n",
       "[1 rows x 61 columns]"
      ]
     },
     "execution_count": 9,
     "metadata": {},
     "output_type": "execute_result"
    }
   ],
   "source": [
    "newest_date = df.iloc[-1:].copy()\n",
    "newest_date = newest_date.fillna(0)\n",
    "df.drop(df.tail(1).index,inplace=True)\n",
    "newest_date"
   ]
  },
  {
   "cell_type": "markdown",
   "metadata": {},
   "source": [
    "Drop NaN and Infinity"
   ]
  },
  {
   "cell_type": "code",
   "execution_count": 10,
   "metadata": {},
   "outputs": [],
   "source": [
    "df.replace([np.inf, -np.inf], np.nan, inplace=True)\n",
    "df = df.dropna()"
   ]
  },
  {
   "cell_type": "markdown",
   "metadata": {},
   "source": [
    "Train Test Split"
   ]
  },
  {
   "cell_type": "code",
   "execution_count": 11,
   "metadata": {},
   "outputs": [
    {
     "data": {
      "text/html": [
       "<div>\n",
       "<style scoped>\n",
       "    .dataframe tbody tr th:only-of-type {\n",
       "        vertical-align: middle;\n",
       "    }\n",
       "\n",
       "    .dataframe tbody tr th {\n",
       "        vertical-align: top;\n",
       "    }\n",
       "\n",
       "    .dataframe thead th {\n",
       "        text-align: right;\n",
       "    }\n",
       "</style>\n",
       "<table border=\"1\" class=\"dataframe\">\n",
       "  <thead>\n",
       "    <tr style=\"text-align: right;\">\n",
       "      <th></th>\n",
       "      <th>high_2_sma</th>\n",
       "      <th>high_5_sma</th>\n",
       "      <th>high_10_sma</th>\n",
       "      <th>high_20_sma</th>\n",
       "      <th>high_50_sma</th>\n",
       "      <th>high_100_sma</th>\n",
       "      <th>high_2_ema</th>\n",
       "      <th>high_5_ema</th>\n",
       "      <th>high_10_ema</th>\n",
       "      <th>high_20_ema</th>\n",
       "      <th>...</th>\n",
       "      <th>volume_100_ema</th>\n",
       "      <th>volume_5_mvar</th>\n",
       "      <th>volume_20_mvar</th>\n",
       "      <th>volume_50_mvar</th>\n",
       "      <th>volume_100_mvar</th>\n",
       "      <th>volume_5_mstd</th>\n",
       "      <th>volume_20_mstd</th>\n",
       "      <th>volume_50_mstd</th>\n",
       "      <th>volume_100_mstd</th>\n",
       "      <th>Close</th>\n",
       "    </tr>\n",
       "  </thead>\n",
       "  <tbody>\n",
       "    <tr>\n",
       "      <th>102</th>\n",
       "      <td>0.000000</td>\n",
       "      <td>0.111111</td>\n",
       "      <td>0.071429</td>\n",
       "      <td>0.041667</td>\n",
       "      <td>0.018182</td>\n",
       "      <td>0.009524</td>\n",
       "      <td>0.004141</td>\n",
       "      <td>0.036530</td>\n",
       "      <td>0.052498</td>\n",
       "      <td>0.047849</td>\n",
       "      <td>...</td>\n",
       "      <td>0.000654</td>\n",
       "      <td>-0.234689</td>\n",
       "      <td>-0.252165</td>\n",
       "      <td>-0.008432</td>\n",
       "      <td>-0.002566</td>\n",
       "      <td>-0.125179</td>\n",
       "      <td>-0.135226</td>\n",
       "      <td>-0.004225</td>\n",
       "      <td>-0.001284</td>\n",
       "      <td>0.000000</td>\n",
       "    </tr>\n",
       "    <tr>\n",
       "      <th>109</th>\n",
       "      <td>0.000000</td>\n",
       "      <td>0.000000</td>\n",
       "      <td>0.000000</td>\n",
       "      <td>0.031250</td>\n",
       "      <td>0.016129</td>\n",
       "      <td>0.008850</td>\n",
       "      <td>-0.166666</td>\n",
       "      <td>-0.046196</td>\n",
       "      <td>-0.006304</td>\n",
       "      <td>0.012783</td>\n",
       "      <td>...</td>\n",
       "      <td>0.007520</td>\n",
       "      <td>-0.010934</td>\n",
       "      <td>0.000861</td>\n",
       "      <td>-0.010237</td>\n",
       "      <td>-0.000126</td>\n",
       "      <td>-0.005482</td>\n",
       "      <td>0.000431</td>\n",
       "      <td>-0.005132</td>\n",
       "      <td>-0.000063</td>\n",
       "      <td>0.000000</td>\n",
       "    </tr>\n",
       "    <tr>\n",
       "      <th>110</th>\n",
       "      <td>0.000000</td>\n",
       "      <td>0.090909</td>\n",
       "      <td>0.047619</td>\n",
       "      <td>0.060606</td>\n",
       "      <td>0.031746</td>\n",
       "      <td>0.017544</td>\n",
       "      <td>0.233334</td>\n",
       "      <td>0.118233</td>\n",
       "      <td>0.083123</td>\n",
       "      <td>0.064749</td>\n",
       "      <td>...</td>\n",
       "      <td>0.014156</td>\n",
       "      <td>-0.030406</td>\n",
       "      <td>-0.068042</td>\n",
       "      <td>-0.012347</td>\n",
       "      <td>0.003513</td>\n",
       "      <td>-0.015320</td>\n",
       "      <td>-0.034620</td>\n",
       "      <td>-0.006193</td>\n",
       "      <td>0.001755</td>\n",
       "      <td>0.500000</td>\n",
       "    </tr>\n",
       "    <tr>\n",
       "      <th>111</th>\n",
       "      <td>0.600000</td>\n",
       "      <td>0.250000</td>\n",
       "      <td>0.136364</td>\n",
       "      <td>0.114286</td>\n",
       "      <td>0.061538</td>\n",
       "      <td>0.034483</td>\n",
       "      <td>0.549550</td>\n",
       "      <td>0.339702</td>\n",
       "      <td>0.225863</td>\n",
       "      <td>0.155193</td>\n",
       "      <td>...</td>\n",
       "      <td>0.009839</td>\n",
       "      <td>-0.069740</td>\n",
       "      <td>-0.018369</td>\n",
       "      <td>-0.008166</td>\n",
       "      <td>0.002390</td>\n",
       "      <td>-0.035500</td>\n",
       "      <td>-0.009227</td>\n",
       "      <td>-0.004092</td>\n",
       "      <td>0.001194</td>\n",
       "      <td>0.333333</td>\n",
       "    </tr>\n",
       "    <tr>\n",
       "      <th>112</th>\n",
       "      <td>0.250000</td>\n",
       "      <td>0.200000</td>\n",
       "      <td>0.120000</td>\n",
       "      <td>0.102564</td>\n",
       "      <td>0.057971</td>\n",
       "      <td>0.033333</td>\n",
       "      <td>0.118217</td>\n",
       "      <td>0.169044</td>\n",
       "      <td>0.150748</td>\n",
       "      <td>0.121549</td>\n",
       "      <td>...</td>\n",
       "      <td>0.052417</td>\n",
       "      <td>0.101643</td>\n",
       "      <td>0.434180</td>\n",
       "      <td>0.035657</td>\n",
       "      <td>0.051025</td>\n",
       "      <td>0.049592</td>\n",
       "      <td>0.197572</td>\n",
       "      <td>0.017672</td>\n",
       "      <td>0.025195</td>\n",
       "      <td>-0.250000</td>\n",
       "    </tr>\n",
       "    <tr>\n",
       "      <th>...</th>\n",
       "      <td>...</td>\n",
       "      <td>...</td>\n",
       "      <td>...</td>\n",
       "      <td>...</td>\n",
       "      <td>...</td>\n",
       "      <td>...</td>\n",
       "      <td>...</td>\n",
       "      <td>...</td>\n",
       "      <td>...</td>\n",
       "      <td>...</td>\n",
       "      <td>...</td>\n",
       "      <td>...</td>\n",
       "      <td>...</td>\n",
       "      <td>...</td>\n",
       "      <td>...</td>\n",
       "      <td>...</td>\n",
       "      <td>...</td>\n",
       "      <td>...</td>\n",
       "      <td>...</td>\n",
       "      <td>...</td>\n",
       "      <td>...</td>\n",
       "    </tr>\n",
       "    <tr>\n",
       "      <th>4054</th>\n",
       "      <td>0.007860</td>\n",
       "      <td>0.018604</td>\n",
       "      <td>0.005548</td>\n",
       "      <td>0.011661</td>\n",
       "      <td>0.007309</td>\n",
       "      <td>-0.000036</td>\n",
       "      <td>0.014484</td>\n",
       "      <td>0.011900</td>\n",
       "      <td>0.009974</td>\n",
       "      <td>0.009368</td>\n",
       "      <td>...</td>\n",
       "      <td>-0.004802</td>\n",
       "      <td>-0.192425</td>\n",
       "      <td>-0.201567</td>\n",
       "      <td>-0.007712</td>\n",
       "      <td>0.002486</td>\n",
       "      <td>-0.101348</td>\n",
       "      <td>-0.106449</td>\n",
       "      <td>-0.003863</td>\n",
       "      <td>0.001242</td>\n",
       "      <td>0.005790</td>\n",
       "    </tr>\n",
       "    <tr>\n",
       "      <th>4055</th>\n",
       "      <td>0.003672</td>\n",
       "      <td>0.011522</td>\n",
       "      <td>0.003639</td>\n",
       "      <td>0.010623</td>\n",
       "      <td>0.007259</td>\n",
       "      <td>0.000021</td>\n",
       "      <td>-0.003902</td>\n",
       "      <td>0.003439</td>\n",
       "      <td>0.005631</td>\n",
       "      <td>0.007060</td>\n",
       "      <td>...</td>\n",
       "      <td>-0.004952</td>\n",
       "      <td>-0.038813</td>\n",
       "      <td>-0.000766</td>\n",
       "      <td>-0.002703</td>\n",
       "      <td>-0.003239</td>\n",
       "      <td>-0.019599</td>\n",
       "      <td>-0.000383</td>\n",
       "      <td>-0.001352</td>\n",
       "      <td>-0.001621</td>\n",
       "      <td>-0.036839</td>\n",
       "    </tr>\n",
       "    <tr>\n",
       "      <th>4056</th>\n",
       "      <td>-0.012642</td>\n",
       "      <td>-0.000454</td>\n",
       "      <td>0.003894</td>\n",
       "      <td>0.008357</td>\n",
       "      <td>0.007019</td>\n",
       "      <td>0.000686</td>\n",
       "      <td>-0.009544</td>\n",
       "      <td>-0.001871</td>\n",
       "      <td>0.002273</td>\n",
       "      <td>0.005085</td>\n",
       "      <td>...</td>\n",
       "      <td>-0.007031</td>\n",
       "      <td>-0.211348</td>\n",
       "      <td>-0.150894</td>\n",
       "      <td>0.001849</td>\n",
       "      <td>-0.034740</td>\n",
       "      <td>-0.111939</td>\n",
       "      <td>-0.078531</td>\n",
       "      <td>0.000924</td>\n",
       "      <td>-0.017524</td>\n",
       "      <td>0.026822</td>\n",
       "    </tr>\n",
       "    <tr>\n",
       "      <th>4057</th>\n",
       "      <td>-0.005043</td>\n",
       "      <td>-0.001493</td>\n",
       "      <td>0.002767</td>\n",
       "      <td>0.006423</td>\n",
       "      <td>0.007040</td>\n",
       "      <td>0.000913</td>\n",
       "      <td>-0.001627</td>\n",
       "      <td>-0.000456</td>\n",
       "      <td>0.002294</td>\n",
       "      <td>0.004816</td>\n",
       "      <td>...</td>\n",
       "      <td>-0.004868</td>\n",
       "      <td>-0.779744</td>\n",
       "      <td>-0.094342</td>\n",
       "      <td>-0.000194</td>\n",
       "      <td>-0.000067</td>\n",
       "      <td>-0.530685</td>\n",
       "      <td>-0.048340</td>\n",
       "      <td>-0.000097</td>\n",
       "      <td>-0.000033</td>\n",
       "      <td>-0.044146</td>\n",
       "    </tr>\n",
       "    <tr>\n",
       "      <th>4058</th>\n",
       "      <td>-0.000895</td>\n",
       "      <td>-0.001362</td>\n",
       "      <td>0.004104</td>\n",
       "      <td>0.004654</td>\n",
       "      <td>0.007434</td>\n",
       "      <td>0.001435</td>\n",
       "      <td>-0.003321</td>\n",
       "      <td>-0.001693</td>\n",
       "      <td>0.001107</td>\n",
       "      <td>0.003921</td>\n",
       "      <td>...</td>\n",
       "      <td>-0.007098</td>\n",
       "      <td>-0.676074</td>\n",
       "      <td>-0.118999</td>\n",
       "      <td>-0.017418</td>\n",
       "      <td>-0.387670</td>\n",
       "      <td>-0.430855</td>\n",
       "      <td>-0.061383</td>\n",
       "      <td>-0.008747</td>\n",
       "      <td>-0.217485</td>\n",
       "      <td>0.047675</td>\n",
       "    </tr>\n",
       "  </tbody>\n",
       "</table>\n",
       "<p>3848 rows × 61 columns</p>\n",
       "</div>"
      ],
      "text/plain": [
       "      high_2_sma  high_5_sma  high_10_sma  high_20_sma  high_50_sma  \\\n",
       "102     0.000000    0.111111     0.071429     0.041667     0.018182   \n",
       "109     0.000000    0.000000     0.000000     0.031250     0.016129   \n",
       "110     0.000000    0.090909     0.047619     0.060606     0.031746   \n",
       "111     0.600000    0.250000     0.136364     0.114286     0.061538   \n",
       "112     0.250000    0.200000     0.120000     0.102564     0.057971   \n",
       "...          ...         ...          ...          ...          ...   \n",
       "4054    0.007860    0.018604     0.005548     0.011661     0.007309   \n",
       "4055    0.003672    0.011522     0.003639     0.010623     0.007259   \n",
       "4056   -0.012642   -0.000454     0.003894     0.008357     0.007019   \n",
       "4057   -0.005043   -0.001493     0.002767     0.006423     0.007040   \n",
       "4058   -0.000895   -0.001362     0.004104     0.004654     0.007434   \n",
       "\n",
       "      high_100_sma  high_2_ema  high_5_ema  high_10_ema  high_20_ema  ...  \\\n",
       "102       0.009524    0.004141    0.036530     0.052498     0.047849  ...   \n",
       "109       0.008850   -0.166666   -0.046196    -0.006304     0.012783  ...   \n",
       "110       0.017544    0.233334    0.118233     0.083123     0.064749  ...   \n",
       "111       0.034483    0.549550    0.339702     0.225863     0.155193  ...   \n",
       "112       0.033333    0.118217    0.169044     0.150748     0.121549  ...   \n",
       "...            ...         ...         ...          ...          ...  ...   \n",
       "4054     -0.000036    0.014484    0.011900     0.009974     0.009368  ...   \n",
       "4055      0.000021   -0.003902    0.003439     0.005631     0.007060  ...   \n",
       "4056      0.000686   -0.009544   -0.001871     0.002273     0.005085  ...   \n",
       "4057      0.000913   -0.001627   -0.000456     0.002294     0.004816  ...   \n",
       "4058      0.001435   -0.003321   -0.001693     0.001107     0.003921  ...   \n",
       "\n",
       "      volume_100_ema  volume_5_mvar  volume_20_mvar  volume_50_mvar  \\\n",
       "102         0.000654      -0.234689       -0.252165       -0.008432   \n",
       "109         0.007520      -0.010934        0.000861       -0.010237   \n",
       "110         0.014156      -0.030406       -0.068042       -0.012347   \n",
       "111         0.009839      -0.069740       -0.018369       -0.008166   \n",
       "112         0.052417       0.101643        0.434180        0.035657   \n",
       "...              ...            ...             ...             ...   \n",
       "4054       -0.004802      -0.192425       -0.201567       -0.007712   \n",
       "4055       -0.004952      -0.038813       -0.000766       -0.002703   \n",
       "4056       -0.007031      -0.211348       -0.150894        0.001849   \n",
       "4057       -0.004868      -0.779744       -0.094342       -0.000194   \n",
       "4058       -0.007098      -0.676074       -0.118999       -0.017418   \n",
       "\n",
       "      volume_100_mvar  volume_5_mstd  volume_20_mstd  volume_50_mstd  \\\n",
       "102         -0.002566      -0.125179       -0.135226       -0.004225   \n",
       "109         -0.000126      -0.005482        0.000431       -0.005132   \n",
       "110          0.003513      -0.015320       -0.034620       -0.006193   \n",
       "111          0.002390      -0.035500       -0.009227       -0.004092   \n",
       "112          0.051025       0.049592        0.197572        0.017672   \n",
       "...               ...            ...             ...             ...   \n",
       "4054         0.002486      -0.101348       -0.106449       -0.003863   \n",
       "4055        -0.003239      -0.019599       -0.000383       -0.001352   \n",
       "4056        -0.034740      -0.111939       -0.078531        0.000924   \n",
       "4057        -0.000067      -0.530685       -0.048340       -0.000097   \n",
       "4058        -0.387670      -0.430855       -0.061383       -0.008747   \n",
       "\n",
       "      volume_100_mstd     Close  \n",
       "102         -0.001284  0.000000  \n",
       "109         -0.000063  0.000000  \n",
       "110          0.001755  0.500000  \n",
       "111          0.001194  0.333333  \n",
       "112          0.025195 -0.250000  \n",
       "...               ...       ...  \n",
       "4054         0.001242  0.005790  \n",
       "4055        -0.001621 -0.036839  \n",
       "4056        -0.017524  0.026822  \n",
       "4057        -0.000033 -0.044146  \n",
       "4058        -0.217485  0.047675  \n",
       "\n",
       "[3848 rows x 61 columns]"
      ]
     },
     "execution_count": 11,
     "metadata": {},
     "output_type": "execute_result"
    }
   ],
   "source": [
    "df"
   ]
  },
  {
   "cell_type": "code",
   "execution_count": 12,
   "metadata": {},
   "outputs": [],
   "source": [
    "train_set, test_set = train_test_split(df, test_size=0.2, random_state=35)\n",
    "\n",
    "train_set = train_set.dropna()\n",
    "test_set = test_set.dropna()\n",
    "\n",
    "X_train = np.asarray(train_set.drop('Close', axis=1))\n",
    "y_train = np.asarray(train_set['Close'].copy())\n",
    "y_train = y_train.reshape(-1,1).ravel()\n",
    "\n",
    "X_test = np.asarray(test_set.drop('Close', axis=1))\n",
    "y_test = np.asarray(test_set['Close'].copy())\n",
    "y_test = y_test.reshape(-1,1).ravel()\n",
    "\n",
    "# Standard Scaler on X data\n",
    "scalerX_train = StandardScaler().fit(X_train)\n",
    "X_train = scalerX_train.transform(X_train)\n",
    "X_test = scalerX_train.transform(X_test)"
   ]
  },
  {
   "cell_type": "markdown",
   "metadata": {},
   "source": [
    "## Experiment different regression models to find the good ones"
   ]
  },
  {
   "cell_type": "markdown",
   "metadata": {},
   "source": [
    "**First**: define two functions to evaluate our models, the fit_and_stat function fits the model and calculate the statistical scores for regressions: R2, MAE, and RMSE. \n",
    "\n",
    "However, while we care about these scores, we are more concern about how we actually perform in sucessfully predicting tomorrow's change on price, more importantly, whether our prediction matches the trend of the positive or negative movement of the price, and also how much we can make if we invest the same amount each date?"
   ]
  },
  {
   "cell_type": "code",
   "execution_count": 13,
   "metadata": {},
   "outputs": [],
   "source": [
    "def fit_and_stat(model):\n",
    "    model.fit(X_train, y_train)\n",
    "    y_pred = model.predict(X_test)\n",
    "    print(\"R^2 : \", r2_score(y_test, y_pred))\n",
    "    print(\"MAE :\", mean_absolute_error(y_test,y_pred))\n",
    "    print(\"RMSE:\",np.sqrt(mean_squared_error(y_test, y_pred)))\n",
    "\n",
    "\n",
    "#sign_pred: positive or negative sign of prediction\n",
    "#sign_true: positive or negative sign of true outcome\n",
    "#is_correct: 1 if sign_pred == sign_true, else 0\n",
    "#is_incorrect: opposite\n",
    "#is_predicted: 1 if the model has made a valid prediction, 0 if not. This is important if models only emit predictions when they have a certain level of confidence\n",
    "#result: the profit (loss) resulting from betting one unit in the direction of the sign_pred. This is the continuous variable result of following the model\n",
    "#residual: the absolute value of prediction compare to the true value\n",
    "def eval_score(y_pred,y_test):\n",
    "    y_test = pd.Series(y_test.ravel())\n",
    "    y_pred = pd.Series(y_pred)\n",
    "    \n",
    "    y_pred.name = 'y_pred'\n",
    "    y_test.name = 'y_test'\n",
    "    \n",
    "    df = pd.concat([y_pred,y_test],axis=1)\n",
    "\n",
    "    df['sign_pred'] = df.y_pred.apply(np.sign)\n",
    "    df['sign_true'] = df.y_test.apply(np.sign)\n",
    "    df['is_correct'] = 0\n",
    "    df.loc[df.sign_pred * df.sign_true > 0 ,'is_correct'] = 1 # only registers 1 when prediction was made AND it was correct\n",
    "    df['is_incorrect'] = 0\n",
    "    df.loc[df.sign_pred * df.sign_true < 0,'is_incorrect'] = 1 # only registers 1 when prediction was made AND it was wrong\n",
    "    df['is_predicted'] = df.is_correct + df.is_incorrect\n",
    "    df['result'] = df.sign_pred * df.y_test\n",
    "    df['residual'] = np.abs(y_test - y_pred)\n",
    "    return df"
   ]
  },
  {
   "cell_type": "markdown",
   "metadata": {},
   "source": [
    "Then, we can test how each model performs:"
   ]
  },
  {
   "cell_type": "markdown",
   "metadata": {},
   "source": [
    "1.Random Forest"
   ]
  },
  {
   "cell_type": "code",
   "execution_count": 14,
   "metadata": {},
   "outputs": [
    {
     "name": "stdout",
     "output_type": "stream",
     "text": [
      "R^2 :  0.5828142686291728\n",
      "MAE : 0.018974614143417567\n",
      "RMSE: 0.03638840255831566\n",
      "       y_pred    y_test  sign_pred  sign_true  is_correct  is_incorrect  \\\n",
      "765  0.028956  0.023579        1.0        1.0           1             0   \n",
      "766 -0.002455  0.000314       -1.0        1.0           0             1   \n",
      "767 -0.004432 -0.010944       -1.0       -1.0           1             0   \n",
      "768  0.003730  0.125000        1.0        1.0           1             0   \n",
      "769  0.000756 -0.027928        1.0       -1.0           0             1   \n",
      "\n",
      "     is_predicted    result  residual  \n",
      "765             1  0.023579  0.005377  \n",
      "766             1 -0.000314  0.002769  \n",
      "767             1  0.010944  0.006512  \n",
      "768             1  0.125000  0.121270  \n",
      "769             1 -0.027928  0.028684  \n"
     ]
    }
   ],
   "source": [
    "rf = RandomForestRegressor(n_estimators=1000, random_state=35, n_jobs=-1)\n",
    "fit_and_stat(rf)\n",
    "y_pred_rf = rf.predict(X_test)\n",
    "rf_eval = eval_score(y_pred_rf,y_test)\n",
    "print(rf_eval.tail(5))\n",
    "rf_correct = rf_eval.is_correct.sum()\n",
    "rf_residual = rf_eval.residual.sum()"
   ]
  },
  {
   "cell_type": "code",
   "execution_count": 15,
   "metadata": {},
   "outputs": [
    {
     "name": "stdout",
     "output_type": "stream",
     "text": [
      "[-0.0055541]\n"
     ]
    },
    {
     "name": "stderr",
     "output_type": "stream",
     "text": [
      "/Users/xiyan/.conda/envs/pythonPKG/lib/python3.9/site-packages/sklearn/base.py:443: UserWarning: X has feature names, but RandomForestRegressor was fitted without feature names\n",
      "  warnings.warn(\n"
     ]
    }
   ],
   "source": [
    "# Predict tomorrow's result\n",
    "rf_result = rf.predict(newest_date.iloc[:, :-1])\n",
    "print(rf_result)"
   ]
  },
  {
   "cell_type": "markdown",
   "metadata": {},
   "source": [
    "2.LASSO (we don't use OLS here since we want it to select features itself)"
   ]
  },
  {
   "cell_type": "code",
   "execution_count": 16,
   "metadata": {},
   "outputs": [
    {
     "name": "stdout",
     "output_type": "stream",
     "text": [
      "R^2 :  0.2719394084046646\n",
      "MAE : 0.023808636858759624\n",
      "RMSE: 0.0480708752474493\n",
      "       y_pred    y_test  sign_pred  sign_true  is_correct  is_incorrect  \\\n",
      "765  0.010711  0.023579        1.0        1.0           1             0   \n",
      "766 -0.001346  0.000314       -1.0        1.0           0             1   \n",
      "767  0.003780 -0.010944        1.0       -1.0           0             1   \n",
      "768 -0.019455  0.125000       -1.0        1.0           0             1   \n",
      "769 -0.005908 -0.027928       -1.0       -1.0           1             0   \n",
      "\n",
      "     is_predicted    result  residual  \n",
      "765             1  0.023579  0.012867  \n",
      "766             1 -0.000314  0.001660  \n",
      "767             1 -0.010944  0.014723  \n",
      "768             1 -0.125000  0.144455  \n",
      "769             1  0.027928  0.022020  \n"
     ]
    }
   ],
   "source": [
    "lasso = linear_model.LassoCV(max_iter=10000)\n",
    "fit_and_stat(lasso)\n",
    "y_pred_lasso = lasso.predict(X_test)\n",
    "lasso_eval = eval_score(y_pred_lasso,y_test)\n",
    "print(lasso_eval.tail(5))\n",
    "lasso_correct = lasso_eval.is_correct.sum()\n",
    "lasso_residual = lasso_eval.residual.sum()"
   ]
  },
  {
   "cell_type": "code",
   "execution_count": 17,
   "metadata": {},
   "outputs": [
    {
     "name": "stdout",
     "output_type": "stream",
     "text": [
      "[0.00695237]\n"
     ]
    },
    {
     "name": "stderr",
     "output_type": "stream",
     "text": [
      "/Users/xiyan/.conda/envs/pythonPKG/lib/python3.9/site-packages/sklearn/base.py:443: UserWarning: X has feature names, but LassoCV was fitted without feature names\n",
      "  warnings.warn(\n"
     ]
    }
   ],
   "source": [
    "# Predict tomorrow's result\n",
    "lasso_result = lasso.predict(newest_date.iloc[:, :-1])\n",
    "print(lasso_result)"
   ]
  },
  {
   "cell_type": "markdown",
   "metadata": {},
   "source": [
    "3.Support Vector Regressor"
   ]
  },
  {
   "cell_type": "code",
   "execution_count": 18,
   "metadata": {},
   "outputs": [
    {
     "name": "stdout",
     "output_type": "stream",
     "text": [
      "R^2 :  0.2989624979263523\n",
      "MAE : 0.023951996313791458\n",
      "RMSE: 0.04717032766867225\n",
      "       y_pred    y_test  sign_pred  sign_true  is_correct  is_incorrect  \\\n",
      "765  0.033151  0.023579        1.0        1.0           1             0   \n",
      "766 -0.000699  0.000314       -1.0        1.0           0             1   \n",
      "767 -0.001446 -0.010944       -1.0       -1.0           1             0   \n",
      "768 -0.056305  0.125000       -1.0        1.0           0             1   \n",
      "769  0.013721 -0.027928        1.0       -1.0           0             1   \n",
      "\n",
      "     is_predicted    result  residual  \n",
      "765             1  0.023579  0.009572  \n",
      "766             1 -0.000314  0.001013  \n",
      "767             1  0.010944  0.009498  \n",
      "768             1 -0.125000  0.181305  \n",
      "769             1 -0.027928  0.041649  \n"
     ]
    }
   ],
   "source": [
    "svcd = SVR(C=1.0, epsilon=0.001)\n",
    "fit_and_stat(svcd)\n",
    "y_pred_svcd = svcd.predict(X_test)\n",
    "svcd_eval = eval_score(y_pred_svcd,y_test)\n",
    "print(svcd_eval.tail(5))\n",
    "svcd_correct = svcd_eval.is_correct.sum()\n",
    "svcd_residual = svcd_eval.residual.sum()"
   ]
  },
  {
   "cell_type": "code",
   "execution_count": 19,
   "metadata": {},
   "outputs": [
    {
     "name": "stdout",
     "output_type": "stream",
     "text": [
      "[0.00620801]\n"
     ]
    },
    {
     "name": "stderr",
     "output_type": "stream",
     "text": [
      "/Users/xiyan/.conda/envs/pythonPKG/lib/python3.9/site-packages/sklearn/base.py:443: UserWarning: X has feature names, but SVR was fitted without feature names\n",
      "  warnings.warn(\n"
     ]
    }
   ],
   "source": [
    "# Predict tomorrow's result\n",
    "svcd_result = svcd.predict(newest_date.iloc[:, :-1])\n",
    "print(svcd_result)"
   ]
  },
  {
   "cell_type": "markdown",
   "metadata": {},
   "source": [
    "4.Stochastic Gradient Descent Regressor"
   ]
  },
  {
   "cell_type": "code",
   "execution_count": 20,
   "metadata": {},
   "outputs": [
    {
     "name": "stdout",
     "output_type": "stream",
     "text": [
      "R^2 :  -1.2741984401705936e+16\n",
      "MAE : 334958.43199273373\n",
      "RMSE: 6359409.656892669\n",
      "            y_pred    y_test  sign_pred  sign_true  is_correct  is_incorrect  \\\n",
      "765  111817.860112  0.023579        1.0        1.0           1             0   \n",
      "766   68302.193757  0.000314        1.0        1.0           1             0   \n",
      "767   95687.868084 -0.010944        1.0       -1.0           0             1   \n",
      "768  -59510.053403  0.125000       -1.0        1.0           0             1   \n",
      "769  250744.234360 -0.027928        1.0       -1.0           0             1   \n",
      "\n",
      "     is_predicted    result       residual  \n",
      "765             1  0.023579  111817.836534  \n",
      "766             1  0.000314   68302.193443  \n",
      "767             1 -0.010944   95687.879028  \n",
      "768             1 -0.125000   59510.178403  \n",
      "769             1 -0.027928  250744.262288  \n"
     ]
    }
   ],
   "source": [
    "sgdr = SGDRegressor(max_iter=10000)\n",
    "fit_and_stat(sgdr)\n",
    "y_pred_sgdr = sgdr.predict(X_test)\n",
    "sgdr_eval = eval_score(y_pred_sgdr,y_test)\n",
    "print(sgdr_eval.tail(5))\n",
    "sgdr_correct = sgdr_eval.is_correct.sum()\n",
    "sgdr_residual = sgdr_eval.residual.sum()"
   ]
  },
  {
   "cell_type": "code",
   "execution_count": 21,
   "metadata": {},
   "outputs": [
    {
     "name": "stdout",
     "output_type": "stream",
     "text": [
      "[-2276270.99362984]\n"
     ]
    },
    {
     "name": "stderr",
     "output_type": "stream",
     "text": [
      "/Users/xiyan/.conda/envs/pythonPKG/lib/python3.9/site-packages/sklearn/base.py:443: UserWarning: X has feature names, but SGDRegressor was fitted without feature names\n",
      "  warnings.warn(\n"
     ]
    }
   ],
   "source": [
    "# Predict tomorrow's result\n",
    "sgdr_result = sgdr.predict(newest_date.iloc[:, :-1])\n",
    "print(sgdr_result)"
   ]
  },
  {
   "cell_type": "markdown",
   "metadata": {},
   "source": [
    "5.Gradient Boosting Regressor"
   ]
  },
  {
   "cell_type": "code",
   "execution_count": 22,
   "metadata": {},
   "outputs": [
    {
     "name": "stdout",
     "output_type": "stream",
     "text": [
      "R^2 :  0.5000164403716876\n",
      "MAE : 0.020798764253830253\n",
      "RMSE: 0.039836037228169155\n",
      "       y_pred    y_test  sign_pred  sign_true  is_correct  is_incorrect  \\\n",
      "765  0.032169  0.023579        1.0        1.0           1             0   \n",
      "766 -0.002708  0.000314       -1.0        1.0           0             1   \n",
      "767  0.000702 -0.010944        1.0       -1.0           0             1   \n",
      "768  0.023484  0.125000        1.0        1.0           1             0   \n",
      "769 -0.012783 -0.027928       -1.0       -1.0           1             0   \n",
      "\n",
      "     is_predicted    result  residual  \n",
      "765             1  0.023579  0.008590  \n",
      "766             1 -0.000314  0.003022  \n",
      "767             1 -0.010944  0.011646  \n",
      "768             1  0.125000  0.101516  \n",
      "769             1  0.027928  0.015145  \n"
     ]
    }
   ],
   "source": [
    "gbr = GradientBoostingRegressor(random_state=35)\n",
    "fit_and_stat(gbr)\n",
    "y_pred_gbr = gbr.predict(X_test)\n",
    "gbr_eval = eval_score(y_pred_gbr,y_test)\n",
    "print(gbr_eval.tail(5))\n",
    "gbr_correct = gbr_eval.is_correct.sum()\n",
    "gbr_residual = gbr_eval.residual.sum()"
   ]
  },
  {
   "cell_type": "code",
   "execution_count": 23,
   "metadata": {},
   "outputs": [
    {
     "name": "stdout",
     "output_type": "stream",
     "text": [
      "[-0.0598608]\n"
     ]
    },
    {
     "name": "stderr",
     "output_type": "stream",
     "text": [
      "/Users/xiyan/.conda/envs/pythonPKG/lib/python3.9/site-packages/sklearn/base.py:443: UserWarning: X has feature names, but GradientBoostingRegressor was fitted without feature names\n",
      "  warnings.warn(\n"
     ]
    }
   ],
   "source": [
    "# Predict tomorrow's result\n",
    "gbr_result = gbr.predict(newest_date.iloc[:, :-1])\n",
    "print(gbr_result)"
   ]
  },
  {
   "cell_type": "markdown",
   "metadata": {},
   "source": [
    "6.XGBoosting Regressor"
   ]
  },
  {
   "cell_type": "code",
   "execution_count": 24,
   "metadata": {},
   "outputs": [
    {
     "name": "stdout",
     "output_type": "stream",
     "text": [
      "R^2 :  0.3933916465015477\n",
      "MAE : 0.020553755165297904\n",
      "RMSE: 0.04387856952288098\n",
      "       y_pred    y_test  sign_pred  sign_true  is_correct  is_incorrect  \\\n",
      "765  0.032521  0.023579        1.0        1.0           1             0   \n",
      "766 -0.003366  0.000314       -1.0        1.0           0             1   \n",
      "767 -0.003699 -0.010944       -1.0       -1.0           1             0   \n",
      "768  0.000139  0.125000        1.0        1.0           1             0   \n",
      "769  0.014060 -0.027928        1.0       -1.0           0             1   \n",
      "\n",
      "     is_predicted    result  residual  \n",
      "765             1  0.023579  0.008942  \n",
      "766             1 -0.000314  0.003680  \n",
      "767             1  0.010944  0.007245  \n",
      "768             1  0.125000  0.124861  \n",
      "769             1 -0.027928  0.041988  \n"
     ]
    }
   ],
   "source": [
    "xgb = XGBRegressor(n_estimators=1000, max_depth=50, eta=0.1, subsample=0.7, colsample_bytree=0.8)\n",
    "fit_and_stat(xgb)\n",
    "y_pred_xgb = xgb.predict(X_test)\n",
    "xgb_eval = eval_score(y_pred_xgb,y_test)\n",
    "print(xgb_eval.tail(5))\n",
    "xgb_correct = xgb_eval.is_correct.sum()\n",
    "xgb_residual = xgb_eval.residual.sum()"
   ]
  },
  {
   "cell_type": "code",
   "execution_count": 25,
   "metadata": {},
   "outputs": [
    {
     "name": "stdout",
     "output_type": "stream",
     "text": [
      "[-0.03255333]\n"
     ]
    }
   ],
   "source": [
    "# Predict tomorrow's result\n",
    "xgb_result = xgb.predict(newest_date.iloc[:, :-1])\n",
    "print(xgb_result)"
   ]
  },
  {
   "cell_type": "code",
   "execution_count": 26,
   "metadata": {},
   "outputs": [
    {
     "data": {
      "text/plain": [
       "770"
      ]
     },
     "execution_count": 26,
     "metadata": {},
     "output_type": "execute_result"
    }
   ],
   "source": [
    "total = len(xgb_eval.sign_pred)\n",
    "total"
   ]
  },
  {
   "cell_type": "markdown",
   "metadata": {},
   "source": [
    "Compare models"
   ]
  },
  {
   "cell_type": "code",
   "execution_count": 27,
   "metadata": {},
   "outputs": [
    {
     "data": {
      "image/png": "[encoded data removed]",
      "text/plain": [
       "<Figure size 1440x720 with 1 Axes>"
      ]
     },
     "metadata": {
      "needs_background": "light"
     },
     "output_type": "display_data"
    }
   ],
   "source": [
    "correct = {'Random Forest Regression':rf_correct / total,\n",
    "            'LASSO':lasso_correct / total,\n",
    "            'Support Vector Regressor':svcd_correct / total,\n",
    "            'Stochastic Gradient Descent Regression':sgdr_correct / total,\n",
    "            'Gradient Boosting Regression':gbr_correct / total,\n",
    "            'XGBoosting Regression':xgb_correct / total}\n",
    "\n",
    "models = list(correct.keys())\n",
    "values = list(correct.values())\n",
    "\n",
    "fig = plt.figure(figsize = (20, 10))\n",
    "plt.bar(models, values, width = 0.4)\n",
    "\n",
    "plt.xlabel(\"Models used\")\n",
    "plt.ylabel(\"Sign correct percentage\")\n",
    "plt.title(\"Percentage of sign correct prediction on different models\")\n",
    "plt.show()"
   ]
  },
  {
   "cell_type": "code",
   "execution_count": 28,
   "metadata": {},
   "outputs": [
    {
     "data": {
      "image/png": "[encoded data removed]",
      "text/plain": [
       "<Figure size 1440x720 with 1 Axes>"
      ]
     },
     "metadata": {
      "needs_background": "light"
     },
     "output_type": "display_data"
    }
   ],
   "source": [
    "residual = {'Random Forest Regression':np.log(rf_residual),\n",
    "            'LASSO':np.log(lasso_residual),\n",
    "            'Support Vector Regressor':np.log(svcd_residual),\n",
    "            'Stochastic Gradient Descent Regression':np.log(sgdr_residual),\n",
    "            'Gradient Boosting Regression':np.log(gbr_residual),\n",
    "            'XGBoosting Regression':np.log(xgb_residual)}\n",
    "\n",
    "models = list(residual.keys())\n",
    "values = list(residual.values())\n",
    "\n",
    "fig = plt.figure(figsize = (20, 10))\n",
    "plt.bar(models, values, width = 0.4)\n",
    "\n",
    "plt.xlabel(\"Models used\")\n",
    "plt.ylabel(\"Sum of residual of 880 predictions\")\n",
    "plt.title(\"Sum of residual on different models\")\n",
    "plt.show()"
   ]
  },
  {
   "cell_type": "code",
   "execution_count": 29,
   "metadata": {},
   "outputs": [
    {
     "data": {
      "image/png": "[encoded data removed]",
      "text/plain": [
       "<Figure size 1440x720 with 6 Axes>"
      ]
     },
     "metadata": {
      "needs_background": "light"
     },
     "output_type": "display_data"
    }
   ],
   "source": [
    "fig = plt.figure(figsize=(20, 10))\n",
    "\n",
    "rows = 2\n",
    "columns = 3\n",
    "\n",
    "fig.add_subplot(rows, columns, 1)\n",
    "x_ax = range(len(y_test))\n",
    "plt.plot(x_ax, y_test, label=\"original\")\n",
    "plt.plot(x_ax, y_pred_rf, label=\"predicted\")\n",
    "plt.title(\"Random Forrest\")\n",
    "plt.legend()\n",
    "\n",
    "fig.add_subplot(rows, columns, 2)\n",
    "x_ax = range(len(y_test))\n",
    "plt.plot(x_ax, y_test, label=\"original\")\n",
    "plt.plot(x_ax, y_pred_lasso, label=\"predicted\")\n",
    "plt.title(\"LASSO\")\n",
    "plt.legend()\n",
    "\n",
    "fig.add_subplot(rows, columns, 3)\n",
    "x_ax = range(len(y_test))\n",
    "plt.plot(x_ax, y_test, label=\"original\")\n",
    "plt.plot(x_ax, y_pred_svcd, label=\"predicted\")\n",
    "plt.title(\"Support Vector Machine Regression\")\n",
    "plt.legend()\n",
    "\n",
    "fig.add_subplot(rows, columns, 4)\n",
    "x_ax = range(len(y_test))\n",
    "plt.plot(x_ax, y_test, label=\"original\")\n",
    "plt.plot(x_ax, y_pred_sgdr, label=\"predicted\")\n",
    "plt.title(\"Stochastic Gradient Descent\")\n",
    "plt.legend()\n",
    "\n",
    "fig.add_subplot(rows, columns, 5)\n",
    "x_ax = range(len(y_test))\n",
    "plt.plot(x_ax, y_test, label=\"original\")\n",
    "plt.plot(x_ax, y_pred_gbr, label=\"predicted\")\n",
    "plt.title(\"Gradient Boosting Regression\")\n",
    "plt.legend()\n",
    "\n",
    "fig.add_subplot(rows, columns, 6)\n",
    "x_ax = range(len(y_test))\n",
    "plt.plot(x_ax, y_test, label=\"original\")\n",
    "plt.plot(x_ax, y_pred_xgb, label=\"predicted\")\n",
    "plt.title(\"XGBoosting Regression\")\n",
    "plt.legend()\n",
    "\n",
    "plt.show()"
   ]
  },
  {
   "cell_type": "markdown",
   "metadata": {},
   "source": [
    "From these graphs, firstly we eliminate Stochastic Gradient Descent. We can also see that Random Forrest, Gradient Boosting, and XGboosting are pretty good models. Since Random Forrest are prone to having more bias, due to it is a bagging model, and both boosting models are prone to overfitting models, we can hardly decide which one to use here. Therefore, we will run all three of them and select the ones that have the best evaluation score as our prediction while running the models on all of the cryptos."
   ]
  },
  {
   "cell_type": "markdown",
   "metadata": {},
   "source": [
    "## Machine Learning using selected models"
   ]
  },
  {
   "cell_type": "code",
   "execution_count": 30,
   "metadata": {},
   "outputs": [],
   "source": [
    "# get files\n",
    "def files(dir):\n",
    "    names = []\n",
    "    for root, dirs, files in os.walk(dir):  \n",
    "        for file in files:  \n",
    "            if os.path.splitext(file)[1] == '.csv':  # csv files\n",
    "                names.append(file)\n",
    "    return names"
   ]
  },
  {
   "cell_type": "code",
   "execution_count": 31,
   "metadata": {},
   "outputs": [
    {
     "name": "stdout",
     "output_type": "stream",
     "text": [
      "['Celsius.csv', 'IOTA.csv', 'Axie Infinity.csv', 'chainlink.csv', 'PAX Gold.csv', 'Hedera.csv', 'bitcoin cash.csv', 'Kava.csv', 'Elrond.csv', 'Helium.csv', 'Internet Computer.csv', 'STEPN.csv', 'xrp.csv', 'Theta Network.csv', 'Bitcoin Gold.csv', 'Gnosis.csv', 'near protocol.csv', 'Synthetix.csv', 'monero.csv', 'eCash.csv', 'Flow.csv', 'KuCoin Token.csv', 'Celo.csv', 'Zilliqa.csv', 'Convex Finance.csv', 'solana.csv', 'Holo.csv', 'BitTorrent (New).csv', 'Waves.csv', 'uniswap.csv', 'Neutrino USD.csv', 'Quant.csv', 'polkadot.csv', 'ethereum classic.csv', 'Loopring.csv', 'Aave.csv', 'Zcash.csv', 'The Sandbox.csv', 'Basic Attention Token.csv', 'dogecoin.csv', 'Klaytn.csv', 'Binance USD.csv', 'Kusama.csv', 'Shiba Inu.csv', 'Neo.csv', 'unus sed leo.csv', 'cosmos.csv', 'NEM.csv', 'Lido DAO.csv', 'Decentraland.csv', 'Cronos.csv', 'stellar.csv', 'Algorand.csv', 'Arweave.csv', 'EOS.csv', 'PancakeSwap.csv', 'Mina.csv', 'Curve DAO Token.csv', 'Bitcoin SV.csv', 'tether.csv', 'Decred.csv', 'Pax Dollar.csv', 'THORChain.csv', 'polygon.csv', 'ethereum.csv', 'Bitcoin BEP2.csv', 'VeChain.csv', '1inch.csv', 'Fei USD.csv', 'litecoin.csv', 'Qtum.csv', 'Trust Wallet Token.csv', 'bitcoin.csv', 'cardano.csv', 'Stacks.csv', 'Dash.csv', 'Enjin Coin.csv', 'usd coin.csv', 'Tezos.csv', 'Huobi Token.csv', 'Nexo.csv', 'ftx token.csv', 'dai.csv', 'TrueUSD.csv', 'tron.csv', 'Fantom.csv', 'BNB.csv', 'Chiliz.csv', 'Filecoin.csv', 'Gala.csv', 'Maker.csv', 'OKB.csv', 'avalanche.csv']\n",
      "93\n"
     ]
    }
   ],
   "source": [
    "names = files(os.getcwd() + \"/data\")\n",
    "\n",
    "print(names)\n",
    "print(len(names))"
   ]
  },
  {
   "cell_type": "code",
   "execution_count": 32,
   "metadata": {},
   "outputs": [
    {
     "name": "stdout",
     "output_type": "stream",
     "text": [
      "Now running Celsius.csv\n"
     ]
    },
    {
     "name": "stderr",
     "output_type": "stream",
     "text": [
      "/Users/xiyan/.conda/envs/pythonPKG/lib/python3.9/site-packages/sklearn/base.py:443: UserWarning: X has feature names, but RandomForestRegressor was fitted without feature names\n",
      "  warnings.warn(\n"
     ]
    },
    {
     "name": "stdout",
     "output_type": "stream",
     "text": [
      "Now running IOTA.csv\n"
     ]
    },
    {
     "name": "stderr",
     "output_type": "stream",
     "text": [
      "/Users/xiyan/.conda/envs/pythonPKG/lib/python3.9/site-packages/sklearn/base.py:443: UserWarning: X has feature names, but RandomForestRegressor was fitted without feature names\n",
      "  warnings.warn(\n"
     ]
    },
    {
     "name": "stdout",
     "output_type": "stream",
     "text": [
      "Now running Axie Infinity.csv\n"
     ]
    },
    {
     "name": "stderr",
     "output_type": "stream",
     "text": [
      "/Users/xiyan/.conda/envs/pythonPKG/lib/python3.9/site-packages/sklearn/base.py:443: UserWarning: X has feature names, but RandomForestRegressor was fitted without feature names\n",
      "  warnings.warn(\n"
     ]
    },
    {
     "name": "stdout",
     "output_type": "stream",
     "text": [
      "Now running chainlink.csv\n"
     ]
    },
    {
     "name": "stderr",
     "output_type": "stream",
     "text": [
      "/Users/xiyan/.conda/envs/pythonPKG/lib/python3.9/site-packages/sklearn/base.py:443: UserWarning: X has feature names, but RandomForestRegressor was fitted without feature names\n",
      "  warnings.warn(\n"
     ]
    },
    {
     "name": "stdout",
     "output_type": "stream",
     "text": [
      "Now running PAX Gold.csv\n"
     ]
    },
    {
     "name": "stderr",
     "output_type": "stream",
     "text": [
      "/Users/xiyan/.conda/envs/pythonPKG/lib/python3.9/site-packages/sklearn/base.py:443: UserWarning: X has feature names, but GradientBoostingRegressor was fitted without feature names\n",
      "  warnings.warn(\n"
     ]
    },
    {
     "name": "stdout",
     "output_type": "stream",
     "text": [
      "Now running Hedera.csv\n"
     ]
    },
    {
     "name": "stderr",
     "output_type": "stream",
     "text": [
      "/Users/xiyan/.conda/envs/pythonPKG/lib/python3.9/site-packages/sklearn/base.py:443: UserWarning: X has feature names, but RandomForestRegressor was fitted without feature names\n",
      "  warnings.warn(\n"
     ]
    },
    {
     "name": "stdout",
     "output_type": "stream",
     "text": [
      "Now running bitcoin cash.csv\n"
     ]
    },
    {
     "name": "stderr",
     "output_type": "stream",
     "text": [
      "/Users/xiyan/.conda/envs/pythonPKG/lib/python3.9/site-packages/sklearn/base.py:443: UserWarning: X has feature names, but RandomForestRegressor was fitted without feature names\n",
      "  warnings.warn(\n"
     ]
    },
    {
     "name": "stdout",
     "output_type": "stream",
     "text": [
      "Now running Kava.csv\n"
     ]
    },
    {
     "name": "stderr",
     "output_type": "stream",
     "text": [
      "/Users/xiyan/.conda/envs/pythonPKG/lib/python3.9/site-packages/sklearn/base.py:443: UserWarning: X has feature names, but RandomForestRegressor was fitted without feature names\n",
      "  warnings.warn(\n"
     ]
    },
    {
     "name": "stdout",
     "output_type": "stream",
     "text": [
      "Now running Elrond.csv\n"
     ]
    },
    {
     "name": "stderr",
     "output_type": "stream",
     "text": [
      "/Users/xiyan/.conda/envs/pythonPKG/lib/python3.9/site-packages/sklearn/base.py:443: UserWarning: X has feature names, but RandomForestRegressor was fitted without feature names\n",
      "  warnings.warn(\n"
     ]
    },
    {
     "name": "stdout",
     "output_type": "stream",
     "text": [
      "Now running Helium.csv\n"
     ]
    },
    {
     "name": "stderr",
     "output_type": "stream",
     "text": [
      "/Users/xiyan/.conda/envs/pythonPKG/lib/python3.9/site-packages/sklearn/base.py:443: UserWarning: X has feature names, but RandomForestRegressor was fitted without feature names\n",
      "  warnings.warn(\n"
     ]
    },
    {
     "name": "stdout",
     "output_type": "stream",
     "text": [
      "Now running Internet Computer.csv\n",
      "Now running STEPN.csv\n"
     ]
    },
    {
     "name": "stderr",
     "output_type": "stream",
     "text": [
      "/Users/xiyan/.conda/envs/pythonPKG/lib/python3.9/site-packages/sklearn/base.py:443: UserWarning: X has feature names, but GradientBoostingRegressor was fitted without feature names\n",
      "  warnings.warn(\n"
     ]
    },
    {
     "name": "stdout",
     "output_type": "stream",
     "text": [
      "Now running xrp.csv\n"
     ]
    },
    {
     "name": "stderr",
     "output_type": "stream",
     "text": [
      "/Users/xiyan/.conda/envs/pythonPKG/lib/python3.9/site-packages/sklearn/base.py:443: UserWarning: X has feature names, but GradientBoostingRegressor was fitted without feature names\n",
      "  warnings.warn(\n"
     ]
    },
    {
     "name": "stdout",
     "output_type": "stream",
     "text": [
      "Now running Theta Network.csv\n"
     ]
    },
    {
     "name": "stderr",
     "output_type": "stream",
     "text": [
      "/Users/xiyan/.conda/envs/pythonPKG/lib/python3.9/site-packages/sklearn/base.py:443: UserWarning: X has feature names, but RandomForestRegressor was fitted without feature names\n",
      "  warnings.warn(\n"
     ]
    },
    {
     "name": "stdout",
     "output_type": "stream",
     "text": [
      "Now running Bitcoin Gold.csv\n"
     ]
    },
    {
     "name": "stderr",
     "output_type": "stream",
     "text": [
      "/Users/xiyan/.conda/envs/pythonPKG/lib/python3.9/site-packages/sklearn/base.py:443: UserWarning: X has feature names, but RandomForestRegressor was fitted without feature names\n",
      "  warnings.warn(\n"
     ]
    },
    {
     "name": "stdout",
     "output_type": "stream",
     "text": [
      "Now running Gnosis.csv\n"
     ]
    },
    {
     "name": "stderr",
     "output_type": "stream",
     "text": [
      "/Users/xiyan/.conda/envs/pythonPKG/lib/python3.9/site-packages/sklearn/base.py:443: UserWarning: X has feature names, but RandomForestRegressor was fitted without feature names\n",
      "  warnings.warn(\n"
     ]
    },
    {
     "name": "stdout",
     "output_type": "stream",
     "text": [
      "Now running near protocol.csv\n"
     ]
    },
    {
     "name": "stderr",
     "output_type": "stream",
     "text": [
      "/Users/xiyan/.conda/envs/pythonPKG/lib/python3.9/site-packages/sklearn/base.py:443: UserWarning: X has feature names, but RandomForestRegressor was fitted without feature names\n",
      "  warnings.warn(\n"
     ]
    },
    {
     "name": "stdout",
     "output_type": "stream",
     "text": [
      "Now running Synthetix.csv\n"
     ]
    },
    {
     "name": "stderr",
     "output_type": "stream",
     "text": [
      "/Users/xiyan/.conda/envs/pythonPKG/lib/python3.9/site-packages/sklearn/base.py:443: UserWarning: X has feature names, but RandomForestRegressor was fitted without feature names\n",
      "  warnings.warn(\n"
     ]
    },
    {
     "name": "stdout",
     "output_type": "stream",
     "text": [
      "Now running monero.csv\n"
     ]
    },
    {
     "name": "stderr",
     "output_type": "stream",
     "text": [
      "/Users/xiyan/.conda/envs/pythonPKG/lib/python3.9/site-packages/sklearn/base.py:443: UserWarning: X has feature names, but RandomForestRegressor was fitted without feature names\n",
      "  warnings.warn(\n"
     ]
    },
    {
     "name": "stdout",
     "output_type": "stream",
     "text": [
      "Now running eCash.csv\n",
      "Now running Flow.csv\n"
     ]
    },
    {
     "name": "stderr",
     "output_type": "stream",
     "text": [
      "/Users/xiyan/.conda/envs/pythonPKG/lib/python3.9/site-packages/sklearn/base.py:443: UserWarning: X has feature names, but RandomForestRegressor was fitted without feature names\n",
      "  warnings.warn(\n"
     ]
    },
    {
     "name": "stdout",
     "output_type": "stream",
     "text": [
      "Now running KuCoin Token.csv\n"
     ]
    },
    {
     "name": "stderr",
     "output_type": "stream",
     "text": [
      "/Users/xiyan/.conda/envs/pythonPKG/lib/python3.9/site-packages/sklearn/base.py:443: UserWarning: X has feature names, but RandomForestRegressor was fitted without feature names\n",
      "  warnings.warn(\n"
     ]
    },
    {
     "name": "stdout",
     "output_type": "stream",
     "text": [
      "Now running Celo.csv\n"
     ]
    },
    {
     "name": "stderr",
     "output_type": "stream",
     "text": [
      "/Users/xiyan/.conda/envs/pythonPKG/lib/python3.9/site-packages/sklearn/base.py:443: UserWarning: X has feature names, but RandomForestRegressor was fitted without feature names\n",
      "  warnings.warn(\n"
     ]
    },
    {
     "name": "stdout",
     "output_type": "stream",
     "text": [
      "Now running Zilliqa.csv\n"
     ]
    },
    {
     "name": "stderr",
     "output_type": "stream",
     "text": [
      "/Users/xiyan/.conda/envs/pythonPKG/lib/python3.9/site-packages/sklearn/base.py:443: UserWarning: X has feature names, but RandomForestRegressor was fitted without feature names\n",
      "  warnings.warn(\n"
     ]
    },
    {
     "name": "stdout",
     "output_type": "stream",
     "text": [
      "Now running Convex Finance.csv\n"
     ]
    },
    {
     "name": "stderr",
     "output_type": "stream",
     "text": [
      "/Users/xiyan/.conda/envs/pythonPKG/lib/python3.9/site-packages/sklearn/base.py:443: UserWarning: X has feature names, but RandomForestRegressor was fitted without feature names\n",
      "  warnings.warn(\n"
     ]
    },
    {
     "name": "stdout",
     "output_type": "stream",
     "text": [
      "Now running solana.csv\n"
     ]
    },
    {
     "name": "stderr",
     "output_type": "stream",
     "text": [
      "/Users/xiyan/.conda/envs/pythonPKG/lib/python3.9/site-packages/sklearn/base.py:443: UserWarning: X has feature names, but GradientBoostingRegressor was fitted without feature names\n",
      "  warnings.warn(\n"
     ]
    },
    {
     "name": "stdout",
     "output_type": "stream",
     "text": [
      "Now running Holo.csv\n"
     ]
    },
    {
     "name": "stderr",
     "output_type": "stream",
     "text": [
      "/Users/xiyan/.conda/envs/pythonPKG/lib/python3.9/site-packages/sklearn/base.py:443: UserWarning: X has feature names, but GradientBoostingRegressor was fitted without feature names\n",
      "  warnings.warn(\n"
     ]
    },
    {
     "name": "stdout",
     "output_type": "stream",
     "text": [
      "Now running BitTorrent (New).csv\n"
     ]
    },
    {
     "name": "stderr",
     "output_type": "stream",
     "text": [
      "/Users/xiyan/.conda/envs/pythonPKG/lib/python3.9/site-packages/sklearn/base.py:443: UserWarning: X has feature names, but GradientBoostingRegressor was fitted without feature names\n",
      "  warnings.warn(\n"
     ]
    },
    {
     "name": "stdout",
     "output_type": "stream",
     "text": [
      "Now running Waves.csv\n"
     ]
    },
    {
     "name": "stderr",
     "output_type": "stream",
     "text": [
      "/Users/xiyan/.conda/envs/pythonPKG/lib/python3.9/site-packages/sklearn/base.py:443: UserWarning: X has feature names, but RandomForestRegressor was fitted without feature names\n",
      "  warnings.warn(\n"
     ]
    },
    {
     "name": "stdout",
     "output_type": "stream",
     "text": [
      "Now running uniswap.csv\n"
     ]
    },
    {
     "name": "stderr",
     "output_type": "stream",
     "text": [
      "/Users/xiyan/.conda/envs/pythonPKG/lib/python3.9/site-packages/sklearn/base.py:443: UserWarning: X has feature names, but RandomForestRegressor was fitted without feature names\n",
      "  warnings.warn(\n"
     ]
    },
    {
     "name": "stdout",
     "output_type": "stream",
     "text": [
      "Now running Neutrino USD.csv\n"
     ]
    },
    {
     "name": "stderr",
     "output_type": "stream",
     "text": [
      "/Users/xiyan/.conda/envs/pythonPKG/lib/python3.9/site-packages/sklearn/base.py:443: UserWarning: X has feature names, but RandomForestRegressor was fitted without feature names\n",
      "  warnings.warn(\n"
     ]
    },
    {
     "name": "stdout",
     "output_type": "stream",
     "text": [
      "Now running Quant.csv\n"
     ]
    },
    {
     "name": "stderr",
     "output_type": "stream",
     "text": [
      "/Users/xiyan/.conda/envs/pythonPKG/lib/python3.9/site-packages/sklearn/base.py:443: UserWarning: X has feature names, but GradientBoostingRegressor was fitted without feature names\n",
      "  warnings.warn(\n"
     ]
    },
    {
     "name": "stdout",
     "output_type": "stream",
     "text": [
      "Now running polkadot.csv\n"
     ]
    },
    {
     "name": "stderr",
     "output_type": "stream",
     "text": [
      "/Users/xiyan/.conda/envs/pythonPKG/lib/python3.9/site-packages/sklearn/base.py:443: UserWarning: X has feature names, but RandomForestRegressor was fitted without feature names\n",
      "  warnings.warn(\n"
     ]
    },
    {
     "name": "stdout",
     "output_type": "stream",
     "text": [
      "Now running ethereum classic.csv\n"
     ]
    },
    {
     "name": "stderr",
     "output_type": "stream",
     "text": [
      "/Users/xiyan/.conda/envs/pythonPKG/lib/python3.9/site-packages/sklearn/base.py:443: UserWarning: X has feature names, but RandomForestRegressor was fitted without feature names\n",
      "  warnings.warn(\n"
     ]
    },
    {
     "name": "stdout",
     "output_type": "stream",
     "text": [
      "Now running Loopring.csv\n"
     ]
    },
    {
     "name": "stderr",
     "output_type": "stream",
     "text": [
      "/Users/xiyan/.conda/envs/pythonPKG/lib/python3.9/site-packages/sklearn/base.py:443: UserWarning: X has feature names, but RandomForestRegressor was fitted without feature names\n",
      "  warnings.warn(\n"
     ]
    },
    {
     "name": "stdout",
     "output_type": "stream",
     "text": [
      "Now running Aave.csv\n"
     ]
    },
    {
     "name": "stderr",
     "output_type": "stream",
     "text": [
      "/Users/xiyan/.conda/envs/pythonPKG/lib/python3.9/site-packages/sklearn/base.py:443: UserWarning: X has feature names, but RandomForestRegressor was fitted without feature names\n",
      "  warnings.warn(\n"
     ]
    },
    {
     "name": "stdout",
     "output_type": "stream",
     "text": [
      "Now running Zcash.csv\n"
     ]
    },
    {
     "name": "stderr",
     "output_type": "stream",
     "text": [
      "/Users/xiyan/.conda/envs/pythonPKG/lib/python3.9/site-packages/sklearn/base.py:443: UserWarning: X has feature names, but RandomForestRegressor was fitted without feature names\n",
      "  warnings.warn(\n"
     ]
    },
    {
     "name": "stdout",
     "output_type": "stream",
     "text": [
      "Now running The Sandbox.csv\n"
     ]
    },
    {
     "name": "stderr",
     "output_type": "stream",
     "text": [
      "/Users/xiyan/.conda/envs/pythonPKG/lib/python3.9/site-packages/sklearn/base.py:443: UserWarning: X has feature names, but RandomForestRegressor was fitted without feature names\n",
      "  warnings.warn(\n"
     ]
    },
    {
     "name": "stdout",
     "output_type": "stream",
     "text": [
      "Now running Basic Attention Token.csv\n",
      "Now running dogecoin.csv\n"
     ]
    },
    {
     "name": "stderr",
     "output_type": "stream",
     "text": [
      "/Users/xiyan/.conda/envs/pythonPKG/lib/python3.9/site-packages/sklearn/base.py:443: UserWarning: X has feature names, but RandomForestRegressor was fitted without feature names\n",
      "  warnings.warn(\n"
     ]
    },
    {
     "name": "stdout",
     "output_type": "stream",
     "text": [
      "Now running Klaytn.csv\n"
     ]
    },
    {
     "name": "stderr",
     "output_type": "stream",
     "text": [
      "/Users/xiyan/.conda/envs/pythonPKG/lib/python3.9/site-packages/sklearn/base.py:443: UserWarning: X has feature names, but RandomForestRegressor was fitted without feature names\n",
      "  warnings.warn(\n"
     ]
    },
    {
     "name": "stdout",
     "output_type": "stream",
     "text": [
      "Now running Binance USD.csv\n"
     ]
    },
    {
     "name": "stderr",
     "output_type": "stream",
     "text": [
      "/Users/xiyan/.conda/envs/pythonPKG/lib/python3.9/site-packages/sklearn/base.py:443: UserWarning: X has feature names, but RandomForestRegressor was fitted without feature names\n",
      "  warnings.warn(\n"
     ]
    },
    {
     "name": "stdout",
     "output_type": "stream",
     "text": [
      "Now running Kusama.csv\n"
     ]
    },
    {
     "name": "stderr",
     "output_type": "stream",
     "text": [
      "/Users/xiyan/.conda/envs/pythonPKG/lib/python3.9/site-packages/sklearn/base.py:443: UserWarning: X has feature names, but GradientBoostingRegressor was fitted without feature names\n",
      "  warnings.warn(\n"
     ]
    },
    {
     "name": "stdout",
     "output_type": "stream",
     "text": [
      "Now running Shiba Inu.csv\n"
     ]
    },
    {
     "name": "stderr",
     "output_type": "stream",
     "text": [
      "/Users/xiyan/.conda/envs/pythonPKG/lib/python3.9/site-packages/sklearn/base.py:443: UserWarning: X has feature names, but RandomForestRegressor was fitted without feature names\n",
      "  warnings.warn(\n"
     ]
    },
    {
     "name": "stdout",
     "output_type": "stream",
     "text": [
      "Now running Neo.csv\n"
     ]
    },
    {
     "name": "stderr",
     "output_type": "stream",
     "text": [
      "/Users/xiyan/.conda/envs/pythonPKG/lib/python3.9/site-packages/sklearn/base.py:443: UserWarning: X has feature names, but RandomForestRegressor was fitted without feature names\n",
      "  warnings.warn(\n"
     ]
    },
    {
     "name": "stdout",
     "output_type": "stream",
     "text": [
      "Now running unus sed leo.csv\n"
     ]
    },
    {
     "name": "stderr",
     "output_type": "stream",
     "text": [
      "/Users/xiyan/.conda/envs/pythonPKG/lib/python3.9/site-packages/sklearn/base.py:443: UserWarning: X has feature names, but GradientBoostingRegressor was fitted without feature names\n",
      "  warnings.warn(\n"
     ]
    },
    {
     "name": "stdout",
     "output_type": "stream",
     "text": [
      "Now running cosmos.csv\n"
     ]
    },
    {
     "name": "stderr",
     "output_type": "stream",
     "text": [
      "/Users/xiyan/.conda/envs/pythonPKG/lib/python3.9/site-packages/sklearn/base.py:443: UserWarning: X has feature names, but RandomForestRegressor was fitted without feature names\n",
      "  warnings.warn(\n"
     ]
    },
    {
     "name": "stdout",
     "output_type": "stream",
     "text": [
      "Now running NEM.csv\n"
     ]
    },
    {
     "name": "stderr",
     "output_type": "stream",
     "text": [
      "/Users/xiyan/.conda/envs/pythonPKG/lib/python3.9/site-packages/sklearn/base.py:443: UserWarning: X has feature names, but RandomForestRegressor was fitted without feature names\n",
      "  warnings.warn(\n"
     ]
    },
    {
     "name": "stdout",
     "output_type": "stream",
     "text": [
      "Now running Lido DAO.csv\n"
     ]
    },
    {
     "name": "stderr",
     "output_type": "stream",
     "text": [
      "/Users/xiyan/.conda/envs/pythonPKG/lib/python3.9/site-packages/sklearn/base.py:443: UserWarning: X has feature names, but RandomForestRegressor was fitted without feature names\n",
      "  warnings.warn(\n"
     ]
    },
    {
     "name": "stdout",
     "output_type": "stream",
     "text": [
      "Now running Decentraland.csv\n"
     ]
    },
    {
     "name": "stderr",
     "output_type": "stream",
     "text": [
      "/Users/xiyan/.conda/envs/pythonPKG/lib/python3.9/site-packages/sklearn/base.py:443: UserWarning: X has feature names, but GradientBoostingRegressor was fitted without feature names\n",
      "  warnings.warn(\n"
     ]
    },
    {
     "name": "stdout",
     "output_type": "stream",
     "text": [
      "Now running Cronos.csv\n"
     ]
    },
    {
     "name": "stderr",
     "output_type": "stream",
     "text": [
      "/Users/xiyan/.conda/envs/pythonPKG/lib/python3.9/site-packages/sklearn/base.py:443: UserWarning: X has feature names, but RandomForestRegressor was fitted without feature names\n",
      "  warnings.warn(\n"
     ]
    },
    {
     "name": "stdout",
     "output_type": "stream",
     "text": [
      "Now running stellar.csv\n"
     ]
    },
    {
     "name": "stderr",
     "output_type": "stream",
     "text": [
      "/Users/xiyan/.conda/envs/pythonPKG/lib/python3.9/site-packages/sklearn/base.py:443: UserWarning: X has feature names, but RandomForestRegressor was fitted without feature names\n",
      "  warnings.warn(\n"
     ]
    },
    {
     "name": "stdout",
     "output_type": "stream",
     "text": [
      "Now running Algorand.csv\n"
     ]
    },
    {
     "name": "stderr",
     "output_type": "stream",
     "text": [
      "/Users/xiyan/.conda/envs/pythonPKG/lib/python3.9/site-packages/sklearn/base.py:443: UserWarning: X has feature names, but GradientBoostingRegressor was fitted without feature names\n",
      "  warnings.warn(\n"
     ]
    },
    {
     "name": "stdout",
     "output_type": "stream",
     "text": [
      "Now running Arweave.csv\n"
     ]
    },
    {
     "name": "stderr",
     "output_type": "stream",
     "text": [
      "/Users/xiyan/.conda/envs/pythonPKG/lib/python3.9/site-packages/sklearn/base.py:443: UserWarning: X has feature names, but RandomForestRegressor was fitted without feature names\n",
      "  warnings.warn(\n"
     ]
    },
    {
     "name": "stdout",
     "output_type": "stream",
     "text": [
      "Now running EOS.csv\n"
     ]
    },
    {
     "name": "stderr",
     "output_type": "stream",
     "text": [
      "/Users/xiyan/.conda/envs/pythonPKG/lib/python3.9/site-packages/sklearn/base.py:443: UserWarning: X has feature names, but RandomForestRegressor was fitted without feature names\n",
      "  warnings.warn(\n"
     ]
    },
    {
     "name": "stdout",
     "output_type": "stream",
     "text": [
      "Now running PancakeSwap.csv\n"
     ]
    },
    {
     "name": "stderr",
     "output_type": "stream",
     "text": [
      "/Users/xiyan/.conda/envs/pythonPKG/lib/python3.9/site-packages/sklearn/base.py:443: UserWarning: X has feature names, but GradientBoostingRegressor was fitted without feature names\n",
      "  warnings.warn(\n"
     ]
    },
    {
     "name": "stdout",
     "output_type": "stream",
     "text": [
      "Now running Mina.csv\n"
     ]
    },
    {
     "name": "stderr",
     "output_type": "stream",
     "text": [
      "/Users/xiyan/.conda/envs/pythonPKG/lib/python3.9/site-packages/sklearn/base.py:443: UserWarning: X has feature names, but GradientBoostingRegressor was fitted without feature names\n",
      "  warnings.warn(\n"
     ]
    },
    {
     "name": "stdout",
     "output_type": "stream",
     "text": [
      "Now running Curve DAO Token.csv\n"
     ]
    },
    {
     "name": "stderr",
     "output_type": "stream",
     "text": [
      "/Users/xiyan/.conda/envs/pythonPKG/lib/python3.9/site-packages/sklearn/base.py:443: UserWarning: X has feature names, but GradientBoostingRegressor was fitted without feature names\n",
      "  warnings.warn(\n"
     ]
    },
    {
     "name": "stdout",
     "output_type": "stream",
     "text": [
      "Now running Bitcoin SV.csv\n",
      "Now running tether.csv\n"
     ]
    },
    {
     "name": "stderr",
     "output_type": "stream",
     "text": [
      "/Users/xiyan/.conda/envs/pythonPKG/lib/python3.9/site-packages/sklearn/base.py:443: UserWarning: X has feature names, but RandomForestRegressor was fitted without feature names\n",
      "  warnings.warn(\n"
     ]
    },
    {
     "name": "stdout",
     "output_type": "stream",
     "text": [
      "Now running Decred.csv\n"
     ]
    },
    {
     "name": "stderr",
     "output_type": "stream",
     "text": [
      "/Users/xiyan/.conda/envs/pythonPKG/lib/python3.9/site-packages/sklearn/base.py:443: UserWarning: X has feature names, but RandomForestRegressor was fitted without feature names\n",
      "  warnings.warn(\n"
     ]
    },
    {
     "name": "stdout",
     "output_type": "stream",
     "text": [
      "Now running Pax Dollar.csv\n"
     ]
    },
    {
     "name": "stderr",
     "output_type": "stream",
     "text": [
      "/Users/xiyan/.conda/envs/pythonPKG/lib/python3.9/site-packages/sklearn/base.py:443: UserWarning: X has feature names, but RandomForestRegressor was fitted without feature names\n",
      "  warnings.warn(\n"
     ]
    },
    {
     "name": "stdout",
     "output_type": "stream",
     "text": [
      "Now running THORChain.csv\n"
     ]
    },
    {
     "name": "stderr",
     "output_type": "stream",
     "text": [
      "/Users/xiyan/.conda/envs/pythonPKG/lib/python3.9/site-packages/sklearn/base.py:443: UserWarning: X has feature names, but RandomForestRegressor was fitted without feature names\n",
      "  warnings.warn(\n"
     ]
    },
    {
     "name": "stdout",
     "output_type": "stream",
     "text": [
      "Now running polygon.csv\n"
     ]
    },
    {
     "name": "stderr",
     "output_type": "stream",
     "text": [
      "/Users/xiyan/.conda/envs/pythonPKG/lib/python3.9/site-packages/sklearn/base.py:443: UserWarning: X has feature names, but RandomForestRegressor was fitted without feature names\n",
      "  warnings.warn(\n"
     ]
    },
    {
     "name": "stdout",
     "output_type": "stream",
     "text": [
      "Now running ethereum.csv\n"
     ]
    },
    {
     "name": "stderr",
     "output_type": "stream",
     "text": [
      "/Users/xiyan/.conda/envs/pythonPKG/lib/python3.9/site-packages/sklearn/base.py:443: UserWarning: X has feature names, but RandomForestRegressor was fitted without feature names\n",
      "  warnings.warn(\n"
     ]
    },
    {
     "name": "stdout",
     "output_type": "stream",
     "text": [
      "Now running Bitcoin BEP2.csv\n"
     ]
    },
    {
     "name": "stderr",
     "output_type": "stream",
     "text": [
      "/Users/xiyan/.conda/envs/pythonPKG/lib/python3.9/site-packages/sklearn/base.py:443: UserWarning: X has feature names, but RandomForestRegressor was fitted without feature names\n",
      "  warnings.warn(\n"
     ]
    },
    {
     "name": "stdout",
     "output_type": "stream",
     "text": [
      "Now running VeChain.csv\n"
     ]
    },
    {
     "name": "stderr",
     "output_type": "stream",
     "text": [
      "/Users/xiyan/.conda/envs/pythonPKG/lib/python3.9/site-packages/sklearn/base.py:443: UserWarning: X has feature names, but RandomForestRegressor was fitted without feature names\n",
      "  warnings.warn(\n"
     ]
    },
    {
     "name": "stdout",
     "output_type": "stream",
     "text": [
      "Now running 1inch.csv\n",
      "Now running Fei USD.csv\n"
     ]
    },
    {
     "name": "stderr",
     "output_type": "stream",
     "text": [
      "/Users/xiyan/.conda/envs/pythonPKG/lib/python3.9/site-packages/sklearn/base.py:443: UserWarning: X has feature names, but RandomForestRegressor was fitted without feature names\n",
      "  warnings.warn(\n"
     ]
    },
    {
     "name": "stdout",
     "output_type": "stream",
     "text": [
      "Now running litecoin.csv\n"
     ]
    },
    {
     "name": "stderr",
     "output_type": "stream",
     "text": [
      "/Users/xiyan/.conda/envs/pythonPKG/lib/python3.9/site-packages/sklearn/base.py:443: UserWarning: X has feature names, but GradientBoostingRegressor was fitted without feature names\n",
      "  warnings.warn(\n"
     ]
    },
    {
     "name": "stdout",
     "output_type": "stream",
     "text": [
      "Now running Qtum.csv\n"
     ]
    },
    {
     "name": "stderr",
     "output_type": "stream",
     "text": [
      "/Users/xiyan/.conda/envs/pythonPKG/lib/python3.9/site-packages/sklearn/base.py:443: UserWarning: X has feature names, but GradientBoostingRegressor was fitted without feature names\n",
      "  warnings.warn(\n"
     ]
    },
    {
     "name": "stdout",
     "output_type": "stream",
     "text": [
      "Now running Trust Wallet Token.csv\n",
      "Now running bitcoin.csv\n"
     ]
    },
    {
     "name": "stderr",
     "output_type": "stream",
     "text": [
      "/Users/xiyan/.conda/envs/pythonPKG/lib/python3.9/site-packages/sklearn/base.py:443: UserWarning: X has feature names, but RandomForestRegressor was fitted without feature names\n",
      "  warnings.warn(\n"
     ]
    },
    {
     "name": "stdout",
     "output_type": "stream",
     "text": [
      "Now running cardano.csv\n"
     ]
    },
    {
     "name": "stderr",
     "output_type": "stream",
     "text": [
      "/Users/xiyan/.conda/envs/pythonPKG/lib/python3.9/site-packages/sklearn/base.py:443: UserWarning: X has feature names, but RandomForestRegressor was fitted without feature names\n",
      "  warnings.warn(\n"
     ]
    },
    {
     "name": "stdout",
     "output_type": "stream",
     "text": [
      "Now running Stacks.csv\n"
     ]
    },
    {
     "name": "stderr",
     "output_type": "stream",
     "text": [
      "/Users/xiyan/.conda/envs/pythonPKG/lib/python3.9/site-packages/sklearn/base.py:443: UserWarning: X has feature names, but GradientBoostingRegressor was fitted without feature names\n",
      "  warnings.warn(\n"
     ]
    },
    {
     "name": "stdout",
     "output_type": "stream",
     "text": [
      "Now running Dash.csv\n"
     ]
    },
    {
     "name": "stderr",
     "output_type": "stream",
     "text": [
      "/Users/xiyan/.conda/envs/pythonPKG/lib/python3.9/site-packages/sklearn/base.py:443: UserWarning: X has feature names, but RandomForestRegressor was fitted without feature names\n",
      "  warnings.warn(\n"
     ]
    },
    {
     "name": "stdout",
     "output_type": "stream",
     "text": [
      "Now running Enjin Coin.csv\n"
     ]
    },
    {
     "name": "stderr",
     "output_type": "stream",
     "text": [
      "/Users/xiyan/.conda/envs/pythonPKG/lib/python3.9/site-packages/sklearn/base.py:443: UserWarning: X has feature names, but RandomForestRegressor was fitted without feature names\n",
      "  warnings.warn(\n"
     ]
    },
    {
     "name": "stdout",
     "output_type": "stream",
     "text": [
      "Now running usd coin.csv\n"
     ]
    },
    {
     "name": "stderr",
     "output_type": "stream",
     "text": [
      "/Users/xiyan/.conda/envs/pythonPKG/lib/python3.9/site-packages/sklearn/base.py:443: UserWarning: X has feature names, but RandomForestRegressor was fitted without feature names\n",
      "  warnings.warn(\n"
     ]
    },
    {
     "name": "stdout",
     "output_type": "stream",
     "text": [
      "Now running Tezos.csv\n"
     ]
    },
    {
     "name": "stderr",
     "output_type": "stream",
     "text": [
      "/Users/xiyan/.conda/envs/pythonPKG/lib/python3.9/site-packages/sklearn/base.py:443: UserWarning: X has feature names, but RandomForestRegressor was fitted without feature names\n",
      "  warnings.warn(\n"
     ]
    },
    {
     "name": "stdout",
     "output_type": "stream",
     "text": [
      "Now running Huobi Token.csv\n"
     ]
    },
    {
     "name": "stderr",
     "output_type": "stream",
     "text": [
      "/Users/xiyan/.conda/envs/pythonPKG/lib/python3.9/site-packages/sklearn/base.py:443: UserWarning: X has feature names, but RandomForestRegressor was fitted without feature names\n",
      "  warnings.warn(\n"
     ]
    },
    {
     "name": "stdout",
     "output_type": "stream",
     "text": [
      "Now running Nexo.csv\n"
     ]
    },
    {
     "name": "stderr",
     "output_type": "stream",
     "text": [
      "/Users/xiyan/.conda/envs/pythonPKG/lib/python3.9/site-packages/sklearn/base.py:443: UserWarning: X has feature names, but RandomForestRegressor was fitted without feature names\n",
      "  warnings.warn(\n"
     ]
    },
    {
     "name": "stdout",
     "output_type": "stream",
     "text": [
      "Now running ftx token.csv\n"
     ]
    },
    {
     "name": "stderr",
     "output_type": "stream",
     "text": [
      "/Users/xiyan/.conda/envs/pythonPKG/lib/python3.9/site-packages/sklearn/base.py:443: UserWarning: X has feature names, but RandomForestRegressor was fitted without feature names\n",
      "  warnings.warn(\n"
     ]
    },
    {
     "name": "stdout",
     "output_type": "stream",
     "text": [
      "Now running dai.csv\n"
     ]
    },
    {
     "name": "stderr",
     "output_type": "stream",
     "text": [
      "/Users/xiyan/.conda/envs/pythonPKG/lib/python3.9/site-packages/sklearn/base.py:443: UserWarning: X has feature names, but GradientBoostingRegressor was fitted without feature names\n",
      "  warnings.warn(\n"
     ]
    },
    {
     "name": "stdout",
     "output_type": "stream",
     "text": [
      "Now running TrueUSD.csv\n"
     ]
    },
    {
     "name": "stderr",
     "output_type": "stream",
     "text": [
      "/Users/xiyan/.conda/envs/pythonPKG/lib/python3.9/site-packages/sklearn/base.py:443: UserWarning: X has feature names, but RandomForestRegressor was fitted without feature names\n",
      "  warnings.warn(\n"
     ]
    },
    {
     "name": "stdout",
     "output_type": "stream",
     "text": [
      "Now running tron.csv\n"
     ]
    },
    {
     "name": "stderr",
     "output_type": "stream",
     "text": [
      "/Users/xiyan/.conda/envs/pythonPKG/lib/python3.9/site-packages/sklearn/base.py:443: UserWarning: X has feature names, but RandomForestRegressor was fitted without feature names\n",
      "  warnings.warn(\n"
     ]
    },
    {
     "name": "stdout",
     "output_type": "stream",
     "text": [
      "Now running Fantom.csv\n"
     ]
    },
    {
     "name": "stderr",
     "output_type": "stream",
     "text": [
      "/Users/xiyan/.conda/envs/pythonPKG/lib/python3.9/site-packages/sklearn/base.py:443: UserWarning: X has feature names, but GradientBoostingRegressor was fitted without feature names\n",
      "  warnings.warn(\n"
     ]
    },
    {
     "name": "stdout",
     "output_type": "stream",
     "text": [
      "Now running BNB.csv\n"
     ]
    },
    {
     "name": "stderr",
     "output_type": "stream",
     "text": [
      "/Users/xiyan/.conda/envs/pythonPKG/lib/python3.9/site-packages/sklearn/base.py:443: UserWarning: X has feature names, but RandomForestRegressor was fitted without feature names\n",
      "  warnings.warn(\n"
     ]
    },
    {
     "name": "stdout",
     "output_type": "stream",
     "text": [
      "Now running Chiliz.csv\n"
     ]
    },
    {
     "name": "stderr",
     "output_type": "stream",
     "text": [
      "/Users/xiyan/.conda/envs/pythonPKG/lib/python3.9/site-packages/sklearn/base.py:443: UserWarning: X has feature names, but GradientBoostingRegressor was fitted without feature names\n",
      "  warnings.warn(\n"
     ]
    },
    {
     "name": "stdout",
     "output_type": "stream",
     "text": [
      "Now running Filecoin.csv\n"
     ]
    },
    {
     "name": "stderr",
     "output_type": "stream",
     "text": [
      "/Users/xiyan/.conda/envs/pythonPKG/lib/python3.9/site-packages/sklearn/base.py:443: UserWarning: X has feature names, but RandomForestRegressor was fitted without feature names\n",
      "  warnings.warn(\n"
     ]
    },
    {
     "name": "stdout",
     "output_type": "stream",
     "text": [
      "Now running Gala.csv\n"
     ]
    },
    {
     "name": "stderr",
     "output_type": "stream",
     "text": [
      "/Users/xiyan/.conda/envs/pythonPKG/lib/python3.9/site-packages/sklearn/base.py:443: UserWarning: X has feature names, but RandomForestRegressor was fitted without feature names\n",
      "  warnings.warn(\n"
     ]
    },
    {
     "name": "stdout",
     "output_type": "stream",
     "text": [
      "Now running Maker.csv\n"
     ]
    },
    {
     "name": "stderr",
     "output_type": "stream",
     "text": [
      "/Users/xiyan/.conda/envs/pythonPKG/lib/python3.9/site-packages/sklearn/base.py:443: UserWarning: X has feature names, but RandomForestRegressor was fitted without feature names\n",
      "  warnings.warn(\n"
     ]
    },
    {
     "name": "stdout",
     "output_type": "stream",
     "text": [
      "Now running OKB.csv\n"
     ]
    },
    {
     "name": "stderr",
     "output_type": "stream",
     "text": [
      "/Users/xiyan/.conda/envs/pythonPKG/lib/python3.9/site-packages/sklearn/base.py:443: UserWarning: X has feature names, but GradientBoostingRegressor was fitted without feature names\n",
      "  warnings.warn(\n"
     ]
    },
    {
     "name": "stdout",
     "output_type": "stream",
     "text": [
      "Now running avalanche.csv\n"
     ]
    },
    {
     "name": "stderr",
     "output_type": "stream",
     "text": [
      "/Users/xiyan/.conda/envs/pythonPKG/lib/python3.9/site-packages/sklearn/base.py:443: UserWarning: X has feature names, but RandomForestRegressor was fitted without feature names\n",
      "  warnings.warn(\n"
     ]
    }
   ],
   "source": [
    "tmr_list = []\n",
    "\n",
    "for file in names:\n",
    "    print('Now running', file)\n",
    "    data = pd.read_csv('data/'+ file, index_col='Date')\n",
    "\n",
    "    # Slice the dataframe up to 2021.08.28\n",
    "    date = '2021-08-28'\n",
    "    data = data[:date]\n",
    "\n",
    "    y = data['Close']\n",
    "    data = data.drop(['Currency', 'Close'], axis=1)\n",
    "    df = wrap(data)\n",
    "\n",
    "    # 60 metrics\n",
    "    X = df[[\n",
    "'high_2_sma', 'high_5_sma', 'high_10_sma', 'high_20_sma', 'high_50_sma', 'high_100_sma', 'high_2_ema', 'high_5_ema', 'high_10_ema', 'high_20_ema','high_50_ema', 'high_100_ema', 'high_5_mvar', 'high_20_mvar', 'high_50_mvar', 'high_100_mvar', 'high_5_mstd', 'high_20_mstd', 'high_50_mstd', 'high_100_mstd',\n",
    "'low_2_sma', 'low_5_sma', 'low_10_sma', 'low_20_sma', 'low_50_sma', 'low_100_sma', 'low_2_ema', 'low_5_ema', 'low_10_ema', 'low_20_ema','low_50_ema', 'low_100_ema', 'low_5_mvar', 'low_20_mvar', 'low_50_mvar', 'low_100_mvar', 'low_5_mstd', 'low_20_mstd', 'low_50_mstd', 'low_100_mstd',\n",
    "'volume_2_sma', 'volume_5_sma', 'volume_10_sma', 'volume_20_sma', 'volume_50_sma', 'volume_100_sma', 'volume_2_ema', 'volume_5_ema', 'volume_10_ema', 'volume_20_ema','volume_50_ema', 'volume_100_ema', 'volume_5_mvar', 'volume_20_mvar', 'volume_50_mvar', 'volume_100_mvar', 'volume_5_mstd', 'volume_20_mstd', 'volume_50_mstd', 'volume_100_mstd'\n",
    "]]\n",
    "\n",
    "    # Convert all X into percentage\n",
    "    z = X.pct_change()\n",
    "\n",
    "    # Convert y into percentage\n",
    "    y = pd.DataFrame(y)\n",
    "    y_change = y.pct_change()\n",
    "\n",
    "    # Join back X and y\n",
    "    df = z.join(y_change, on='Date')\n",
    "\n",
    "    # Remove date column, we don't need it to train our model\n",
    "    df = df.reset_index()\n",
    "    df = df.iloc[: , 1:]\n",
    "\n",
    "\n",
    "    # Remove the last row, which is the newest date from df\n",
    "    newest_date = df.iloc[-1:].copy()\n",
    "\n",
    "    # Sometimes the Moving Standard Deviation is NaN, so we fill it with 0?\n",
    "    # newest_date = newest_date.fillna(0)\n",
    "    df.drop(df.tail(1).index,inplace=True)\n",
    "\n",
    "    # Remove all infinity and NaN cell from df\n",
    "    df.replace([np.inf, -np.inf], np.nan, inplace=True)\n",
    "    df = df.dropna()\n",
    "\n",
    "    # Train test split\n",
    "    train_set, test_set = train_test_split(df, test_size=0.2, random_state=35)\n",
    "    train_set = train_set.dropna()\n",
    "    test_set = test_set.dropna()\n",
    "\n",
    "    # Set up X and y train and test\n",
    "    X_train = np.asarray(train_set.drop('Close', axis=1))\n",
    "    y_train = np.asarray(train_set['Close'].copy())\n",
    "    y_train = y_train.reshape(-1,1).ravel()\n",
    "    X_test = np.asarray(test_set.drop('Close', axis=1))\n",
    "    y_test = np.asarray(test_set['Close'].copy())\n",
    "    y_test = y_test.reshape(-1,1).ravel()\n",
    "    \n",
    "    # Scale X using standard scaler\n",
    "    scalerX_train = StandardScaler().fit(X_train)\n",
    "    X_train = scalerX_train.transform(X_train)\n",
    "    X_test = scalerX_train.transform(X_test)\n",
    "\n",
    "    # Fit model\n",
    "    rf = RandomForestRegressor(n_estimators=1000, random_state=35, n_jobs=-1)\n",
    "    rf.fit(X_train, y_train)\n",
    "    #rf_result = gbr.predict(newest_date.iloc[:, :-1])\n",
    "    y_pred_rf = rf.predict(X_test)\n",
    "    rf_eval = eval_score(y_pred_rf,y_test)\n",
    "\n",
    "    gbr = GradientBoostingRegressor(random_state=35)\n",
    "    gbr.fit(X_train, y_train)\n",
    "    #gbr_result = gbr.predict(newest_date.iloc[:, :-1])\n",
    "    y_pred_gbr = gbr.predict(X_test)\n",
    "    gbr_eval = eval_score(y_pred_gbr,y_test)\n",
    "\n",
    "    xgb = XGBRegressor(n_estimators=1000, max_depth=50, eta=0.1, subsample=0.7, colsample_bytree=0.8, n_jobs=-1)\n",
    "    xgb.fit(X_train, y_train)\n",
    "    #xgb_result = gbr.predict(newest_date.iloc[:, :-1])\n",
    "    y_pred_xgb = xgb.predict(X_test)\n",
    "    xgb_eval = eval_score(y_pred_xgb,y_test)\n",
    "\n",
    "    residual = {'rf':rf_eval.residual.sum(),\n",
    "                'gbr':gbr_eval.residual.sum(),\n",
    "                'xgb':xgb_eval.residual.sum()}\n",
    "\n",
    "    model = min(residual, key=residual.get)\n",
    "\n",
    "    # Tomorrow's change\n",
    "    if model == 'rf':\n",
    "        tmr = rf.predict(newest_date.iloc[:, :-1])\n",
    "    elif model == 'gbr':\n",
    "        tmr = gbr.predict(newest_date.iloc[:, :-1])\n",
    "    elif model == 'xgb':\n",
    "        tmr = xgb.predict(newest_date.iloc[:, :-1])\n",
    "\n",
    "    tmr_list.append(tmr)\n"
   ]
  },
  {
   "cell_type": "markdown",
   "metadata": {},
   "source": [
    "Create output"
   ]
  },
  {
   "cell_type": "code",
   "execution_count": 33,
   "metadata": {},
   "outputs": [],
   "source": [
    "out = pd.DataFrame(list(zip(names, tmr_list)),\n",
    "                    columns=['crypto', 'price change from previous day'])\n",
    "\n",
    "out['price change from previous day'] = out['price change from previous day'].astype('float64')\n",
    "out['crypto'] = out['crypto'].str[:-4]\n",
    "#out.to_csv('output.csv')\n",
    "#out.sort_values(by=['price change from previous day'], ascending=False)"
   ]
  },
  {
   "cell_type": "code",
   "execution_count": 34,
   "metadata": {},
   "outputs": [
    {
     "data": {
      "text/html": [
       "<div>\n",
       "<style scoped>\n",
       "    .dataframe tbody tr th:only-of-type {\n",
       "        vertical-align: middle;\n",
       "    }\n",
       "\n",
       "    .dataframe tbody tr th {\n",
       "        vertical-align: top;\n",
       "    }\n",
       "\n",
       "    .dataframe thead th {\n",
       "        text-align: right;\n",
       "    }\n",
       "</style>\n",
       "<table border=\"1\" class=\"dataframe\">\n",
       "  <thead>\n",
       "    <tr style=\"text-align: right;\">\n",
       "      <th></th>\n",
       "      <th>crypto</th>\n",
       "      <th>price change from previous day</th>\n",
       "    </tr>\n",
       "  </thead>\n",
       "  <tbody>\n",
       "    <tr>\n",
       "      <th>0</th>\n",
       "      <td>Celsius</td>\n",
       "      <td>-0.003054</td>\n",
       "    </tr>\n",
       "    <tr>\n",
       "      <th>1</th>\n",
       "      <td>IOTA</td>\n",
       "      <td>0.003491</td>\n",
       "    </tr>\n",
       "    <tr>\n",
       "      <th>2</th>\n",
       "      <td>Axie Infinity</td>\n",
       "      <td>0.021081</td>\n",
       "    </tr>\n",
       "    <tr>\n",
       "      <th>3</th>\n",
       "      <td>chainlink</td>\n",
       "      <td>0.003002</td>\n",
       "    </tr>\n",
       "    <tr>\n",
       "      <th>4</th>\n",
       "      <td>PAX Gold</td>\n",
       "      <td>0.000590</td>\n",
       "    </tr>\n",
       "    <tr>\n",
       "      <th>...</th>\n",
       "      <td>...</td>\n",
       "      <td>...</td>\n",
       "    </tr>\n",
       "    <tr>\n",
       "      <th>88</th>\n",
       "      <td>Filecoin</td>\n",
       "      <td>0.005727</td>\n",
       "    </tr>\n",
       "    <tr>\n",
       "      <th>89</th>\n",
       "      <td>Gala</td>\n",
       "      <td>-0.019520</td>\n",
       "    </tr>\n",
       "    <tr>\n",
       "      <th>90</th>\n",
       "      <td>Maker</td>\n",
       "      <td>0.002563</td>\n",
       "    </tr>\n",
       "    <tr>\n",
       "      <th>91</th>\n",
       "      <td>OKB</td>\n",
       "      <td>-0.000694</td>\n",
       "    </tr>\n",
       "    <tr>\n",
       "      <th>92</th>\n",
       "      <td>avalanche</td>\n",
       "      <td>-0.001245</td>\n",
       "    </tr>\n",
       "  </tbody>\n",
       "</table>\n",
       "<p>93 rows × 2 columns</p>\n",
       "</div>"
      ],
      "text/plain": [
       "           crypto  price change from previous day\n",
       "0         Celsius                       -0.003054\n",
       "1            IOTA                        0.003491\n",
       "2   Axie Infinity                        0.021081\n",
       "3       chainlink                        0.003002\n",
       "4        PAX Gold                        0.000590\n",
       "..            ...                             ...\n",
       "88       Filecoin                        0.005727\n",
       "89           Gala                       -0.019520\n",
       "90          Maker                        0.002563\n",
       "91            OKB                       -0.000694\n",
       "92      avalanche                       -0.001245\n",
       "\n",
       "[93 rows x 2 columns]"
      ]
     },
     "execution_count": 34,
     "metadata": {},
     "output_type": "execute_result"
    }
   ],
   "source": [
    "out"
   ]
  },
  {
   "attachments": {},
   "cell_type": "markdown",
   "metadata": {},
   "source": [
    "Create two temporary CSV file for 27 Close and 28 Open\n",
    "\n",
    "### Notice that: if there are already \"tmp_ML_27.csv\" and \"tmp_ML_28.csv\" in the folder, you need to delete them first."
   ]
  },
  {
   "cell_type": "code",
   "execution_count": 58,
   "metadata": {},
   "outputs": [],
   "source": [
    "# Notice that: if there are already \"tmp_ML_27.csv\" and \"tmp_ML_28.csv\" in the folder, you need to delete them first.\n",
    "date = \"2021-08-27\"\n",
    "\n",
    "with open(\"tmp_ML_27.csv\",'a', newline = \"\") as f:\n",
    "    csv_write = csv.writer(f)\n",
    "    csv_write.writerow([\"Name\", \"Open\", \"Close\"])\n",
    "\n",
    "    for file in names:\n",
    "        content = pd.read_csv(\"data/\"+ file)\n",
    "        name = file.split(\".\")[0]\n",
    "        open_price = content[content['Date'] == date].to_numpy()[0,1]\n",
    "        close_price = content[content['Date'] == date].to_numpy()[0,4]\n",
    "        csv_write.writerow([name, open_price, close_price])"
   ]
  },
  {
   "cell_type": "code",
   "execution_count": 59,
   "metadata": {},
   "outputs": [],
   "source": [
    "# Notice that: if there are already \"tmp_ML_27.csv\" and \"tmp_ML_28.csv\" in the folder, you need to delete them first.\n",
    "date = \"2021-08-28\"\n",
    "\n",
    "with open(\"tmp_ML_28.csv\",'a', newline = \"\") as f:\n",
    "    csv_write = csv.writer(f)\n",
    "    csv_write.writerow([\"Name\", \"Open\", \"Close\"])\n",
    "\n",
    "    for file in names:\n",
    "        content = pd.read_csv(\"data/\"+ file)\n",
    "        name = file.split(\".\")[0]\n",
    "        open_price = content[content['Date'] == date].to_numpy()[0,1]\n",
    "        close_price = content[content['Date'] == date].to_numpy()[0,4]\n",
    "        csv_write.writerow([name, open_price, close_price])"
   ]
  },
  {
   "attachments": {},
   "cell_type": "markdown",
   "metadata": {},
   "source": [
    "Read the temporarily generated file"
   ]
  },
  {
   "cell_type": "code",
   "execution_count": 60,
   "metadata": {},
   "outputs": [],
   "source": [
    "df1 = pd.read_csv('tmp_ML_27.csv')\n",
    "df3 = pd.read_csv('tmp_ML_28.csv')\n",
    "df3 = df3.drop(['Close'], axis=1)\n",
    "df3 = df3.rename({'Open': 'Actual 2021.8.28 Open'}, axis=1)"
   ]
  },
  {
   "attachments": {},
   "cell_type": "markdown",
   "metadata": {},
   "source": [
    "Output prediction file"
   ]
  },
  {
   "cell_type": "code",
   "execution_count": 62,
   "metadata": {},
   "outputs": [],
   "source": [
    "result = pd.concat([df1, out, df3], axis=1)\n",
    "result = result.drop(['Name', 'Open'],axis=1)\n",
    "result = result.set_index('crypto')\n",
    "result = result.rename({'Close': 'Actual 2021.8.27 Close', 'price change from previous day':'% change'}, axis=1)\n",
    "result['Predicted 8.28 Close'] = result['Actual 2021.8.27 Close']*(1+result['% change'])\n",
    "result = result.sort_values(by='crypto')\n",
    "result.to_csv('output_ML.csv')"
   ]
  },
  {
   "cell_type": "code",
   "execution_count": null,
   "metadata": {},
   "outputs": [],
   "source": []
  }
 ],
 "metadata": {
  "kernelspec": {
   "display_name": "Python 3 (ipykernel)",
   "language": "python",
   "name": "python3"
  },
  "language_info": {
   "codemirror_mode": {
    "name": "ipython",
    "version": 3
   },
   "file_extension": ".py",
   "mimetype": "text/x-python",
   "name": "python",
   "nbconvert_exporter": "python",
   "pygments_lexer": "ipython3",
   "version": "3.9.12"
  },
  "vscode": {
   "interpreter": {
    "hash": "5b0a8a4ca0d97cff04a206145cf8d764a2c67dd87829ef23d96e35843f93170c"
   }
  }
 },
 "nbformat": 4,
 "nbformat_minor": 2
}
