{
 "cells": [
  {
   "cell_type": "code",
   "execution_count": 1,
   "id": "b324538c",
   "metadata": {},
   "outputs": [],
   "source": [
    "#pip install stockstats"
   ]
  },
  {
   "cell_type": "code",
   "execution_count": 1,
   "id": "bd1b873d",
   "metadata": {},
   "outputs": [],
   "source": [
    "import os\n",
    "import pandas as pd\n",
    "import csv\n",
    "import numpy as np\n",
    "from stockstats import wrap\n",
    "import os\n",
    "import warnings\n",
    "warnings.filterwarnings('ignore')\n",
    "import numpy as np\n",
    "import pandas as pd\n",
    "import matplotlib.pyplot as plt\n",
    "plt.style.use('fivethirtyeight')\n",
    "from pylab import rcParams\n",
    "rcParams['figure.figsize'] = 10, 6\n",
    "from statsmodels.tsa.stattools import adfuller\n",
    "from statsmodels.tsa.seasonal import seasonal_decompose\n",
    "from statsmodels.tsa.arima_model import ARIMA\n",
    "from pmdarima.arima import auto_arima\n",
    "import statsmodels.api as sm\n",
    "from sklearn.metrics import mean_squared_error, mean_absolute_error\n",
    "import math"
   ]
  },
  {
   "cell_type": "code",
   "execution_count": 2,
   "id": "7723dd8c",
   "metadata": {},
   "outputs": [],
   "source": [
    "# get files\n",
    "def files(dir):\n",
    "    names = []\n",
    "    for root, dirs, files in os.walk(dir):  \n",
    "        for file in files:  \n",
    "            if os.path.splitext(file)[1] == '.csv':  # csv files\n",
    "                names.append(file)\n",
    "    return names"
   ]
  },
  {
   "cell_type": "code",
   "execution_count": 3,
   "id": "182149a6",
   "metadata": {},
   "outputs": [],
   "source": [
    "names = files(os.getcwd() + \"/data\")"
   ]
  },
  {
   "cell_type": "code",
   "execution_count": 4,
   "id": "4191dd77",
   "metadata": {},
   "outputs": [
    {
     "name": "stdout",
     "output_type": "stream",
     "text": [
      "Performing stepwise search to minimize aic\n",
      " ARIMA(0,1,0)(0,0,0)[0] intercept   : AIC=193.262, Time=0.44 sec\n",
      " ARIMA(1,1,0)(0,0,0)[0] intercept   : AIC=193.969, Time=0.13 sec\n",
      " ARIMA(0,1,1)(0,0,0)[0] intercept   : AIC=194.047, Time=0.18 sec\n",
      " ARIMA(0,1,0)(0,0,0)[0]             : AIC=191.287, Time=0.05 sec\n",
      " ARIMA(1,1,1)(0,0,0)[0] intercept   : AIC=195.875, Time=0.33 sec\n",
      "\n",
      "Best model:  ARIMA(0,1,0)(0,0,0)[0]          \n",
      "Total fit time: 1.161 seconds\n"
     ]
    },
    {
     "name": "stderr",
     "output_type": "stream",
     "text": [
      "C:\\Users\\86173\\anaconda3\\lib\\site-packages\\statsmodels\\tsa\\base\\tsa_model.py:471: ValueWarning: No frequency information was provided, so inferred frequency D will be used.\n",
      "  self._init_dates(dates, freq)\n",
      "C:\\Users\\86173\\anaconda3\\lib\\site-packages\\statsmodels\\tsa\\base\\tsa_model.py:471: ValueWarning: No frequency information was provided, so inferred frequency D will be used.\n",
      "  self._init_dates(dates, freq)\n",
      "C:\\Users\\86173\\anaconda3\\lib\\site-packages\\statsmodels\\tsa\\base\\tsa_model.py:471: ValueWarning: No frequency information was provided, so inferred frequency D will be used.\n",
      "  self._init_dates(dates, freq)\n"
     ]
    },
    {
     "name": "stdout",
     "output_type": "stream",
     "text": [
      "Performing stepwise search to minimize aic\n",
      " ARIMA(0,1,0)(0,0,0)[0] intercept   : AIC=3068.142, Time=0.05 sec\n",
      " ARIMA(1,1,0)(0,0,0)[0] intercept   : AIC=3066.963, Time=0.30 sec\n",
      " ARIMA(0,1,1)(0,0,0)[0] intercept   : AIC=3067.369, Time=0.21 sec\n",
      " ARIMA(0,1,0)(0,0,0)[0]             : AIC=3066.789, Time=0.05 sec\n",
      " ARIMA(1,1,1)(0,0,0)[0] intercept   : AIC=3058.023, Time=0.50 sec\n",
      " ARIMA(2,1,1)(0,0,0)[0] intercept   : AIC=3058.762, Time=0.76 sec\n",
      " ARIMA(1,1,2)(0,0,0)[0] intercept   : AIC=3058.320, Time=0.88 sec\n",
      " ARIMA(0,1,2)(0,0,0)[0] intercept   : AIC=3068.011, Time=0.27 sec\n",
      " ARIMA(2,1,0)(0,0,0)[0] intercept   : AIC=3066.905, Time=0.40 sec\n",
      " ARIMA(2,1,2)(0,0,0)[0] intercept   : AIC=3042.041, Time=1.72 sec\n",
      " ARIMA(3,1,2)(0,0,0)[0] intercept   : AIC=3044.185, Time=1.83 sec\n",
      " ARIMA(2,1,3)(0,0,0)[0] intercept   : AIC=3044.035, Time=1.44 sec\n",
      " ARIMA(1,1,3)(0,0,0)[0] intercept   : AIC=3053.278, Time=0.75 sec\n",
      " ARIMA(3,1,1)(0,0,0)[0] intercept   : AIC=3057.751, Time=0.78 sec\n",
      " ARIMA(3,1,3)(0,0,0)[0] intercept   : AIC=3049.924, Time=1.79 sec\n",
      " ARIMA(2,1,2)(0,0,0)[0]             : AIC=3060.755, Time=0.34 sec\n",
      "\n",
      "Best model:  ARIMA(2,1,2)(0,0,0)[0] intercept\n",
      "Total fit time: 12.127 seconds\n"
     ]
    },
    {
     "name": "stderr",
     "output_type": "stream",
     "text": [
      "C:\\Users\\86173\\anaconda3\\lib\\site-packages\\statsmodels\\tsa\\base\\tsa_model.py:471: ValueWarning: No frequency information was provided, so inferred frequency D will be used.\n",
      "  self._init_dates(dates, freq)\n",
      "C:\\Users\\86173\\anaconda3\\lib\\site-packages\\statsmodels\\tsa\\base\\tsa_model.py:471: ValueWarning: No frequency information was provided, so inferred frequency D will be used.\n",
      "  self._init_dates(dates, freq)\n",
      "C:\\Users\\86173\\anaconda3\\lib\\site-packages\\statsmodels\\tsa\\base\\tsa_model.py:471: ValueWarning: No frequency information was provided, so inferred frequency D will be used.\n",
      "  self._init_dates(dates, freq)\n"
     ]
    },
    {
     "name": "stdout",
     "output_type": "stream",
     "text": [
      "Performing stepwise search to minimize aic\n",
      " ARIMA(0,0,0)(0,0,0)[0]             : AIC=1669.960, Time=0.10 sec\n",
      " ARIMA(1,0,0)(0,0,0)[0]             : AIC=inf, Time=0.34 sec\n",
      " ARIMA(0,0,1)(0,0,0)[0]             : AIC=680.001, Time=0.23 sec\n",
      " ARIMA(1,0,1)(0,0,0)[0]             : AIC=-2033.140, Time=0.50 sec\n",
      " ARIMA(2,0,1)(0,0,0)[0]             : AIC=-2036.939, Time=1.10 sec\n",
      " ARIMA(2,0,0)(0,0,0)[0]             : AIC=inf, Time=0.60 sec\n",
      " ARIMA(3,0,1)(0,0,0)[0]             : AIC=-2061.042, Time=1.60 sec\n",
      " ARIMA(3,0,0)(0,0,0)[0]             : AIC=inf, Time=1.20 sec\n",
      " ARIMA(3,0,2)(0,0,0)[0]             : AIC=-2054.366, Time=2.26 sec\n",
      " ARIMA(2,0,2)(0,0,0)[0]             : AIC=-2059.224, Time=2.52 sec\n",
      " ARIMA(3,0,1)(0,0,0)[0] intercept   : AIC=-2060.563, Time=2.87 sec\n",
      "\n",
      "Best model:  ARIMA(3,0,1)(0,0,0)[0]          \n",
      "Total fit time: 13.341 seconds\n"
     ]
    },
    {
     "name": "stderr",
     "output_type": "stream",
     "text": [
      "C:\\Users\\86173\\anaconda3\\lib\\site-packages\\statsmodels\\tsa\\base\\tsa_model.py:471: ValueWarning: No frequency information was provided, so inferred frequency D will be used.\n",
      "  self._init_dates(dates, freq)\n",
      "C:\\Users\\86173\\anaconda3\\lib\\site-packages\\statsmodels\\tsa\\base\\tsa_model.py:471: ValueWarning: No frequency information was provided, so inferred frequency D will be used.\n",
      "  self._init_dates(dates, freq)\n",
      "C:\\Users\\86173\\anaconda3\\lib\\site-packages\\statsmodels\\tsa\\base\\tsa_model.py:471: ValueWarning: No frequency information was provided, so inferred frequency D will be used.\n",
      "  self._init_dates(dates, freq)\n",
      "C:\\Users\\86173\\anaconda3\\lib\\site-packages\\statsmodels\\base\\model.py:604: ConvergenceWarning: Maximum Likelihood optimization failed to converge. Check mle_retvals\n",
      "  warnings.warn(\"Maximum Likelihood optimization failed to \"\n"
     ]
    },
    {
     "name": "stdout",
     "output_type": "stream",
     "text": [
      "Performing stepwise search to minimize aic\n",
      " ARIMA(0,1,0)(0,0,0)[0] intercept   : AIC=1604.013, Time=0.05 sec\n",
      " ARIMA(1,1,0)(0,0,0)[0] intercept   : AIC=1601.956, Time=0.13 sec\n",
      " ARIMA(0,1,1)(0,0,0)[0] intercept   : AIC=1602.422, Time=0.17 sec\n",
      " ARIMA(0,1,0)(0,0,0)[0]             : AIC=1603.622, Time=0.05 sec\n",
      " ARIMA(2,1,0)(0,0,0)[0] intercept   : AIC=1602.009, Time=0.18 sec\n",
      " ARIMA(1,1,1)(0,0,0)[0] intercept   : AIC=1600.305, Time=0.41 sec\n",
      " ARIMA(2,1,1)(0,0,0)[0] intercept   : AIC=1601.648, Time=0.53 sec\n",
      " ARIMA(1,1,2)(0,0,0)[0] intercept   : AIC=1601.364, Time=0.43 sec\n",
      " ARIMA(0,1,2)(0,0,0)[0] intercept   : AIC=1603.189, Time=0.27 sec\n",
      " ARIMA(2,1,2)(0,0,0)[0] intercept   : AIC=1585.245, Time=1.51 sec\n",
      " ARIMA(3,1,2)(0,0,0)[0] intercept   : AIC=1587.574, Time=2.68 sec\n",
      " ARIMA(2,1,3)(0,0,0)[0] intercept   : AIC=1602.205, Time=0.93 sec\n",
      " ARIMA(1,1,3)(0,0,0)[0] intercept   : AIC=1600.306, Time=0.65 sec\n",
      " ARIMA(3,1,1)(0,0,0)[0] intercept   : AIC=1600.108, Time=0.52 sec\n",
      " ARIMA(3,1,3)(0,0,0)[0] intercept   : AIC=1588.946, Time=2.61 sec\n",
      " ARIMA(2,1,2)(0,0,0)[0]             : AIC=1584.892, Time=1.14 sec\n",
      " ARIMA(1,1,2)(0,0,0)[0]             : AIC=1601.020, Time=0.21 sec\n",
      " ARIMA(2,1,1)(0,0,0)[0]             : AIC=1601.333, Time=0.28 sec\n",
      " ARIMA(3,1,2)(0,0,0)[0]             : AIC=1587.349, Time=1.19 sec\n",
      " ARIMA(2,1,3)(0,0,0)[0]             : AIC=1602.202, Time=0.51 sec\n",
      " ARIMA(1,1,1)(0,0,0)[0]             : AIC=1600.095, Time=0.23 sec\n",
      " ARIMA(1,1,3)(0,0,0)[0]             : AIC=1600.315, Time=0.20 sec\n",
      " ARIMA(3,1,1)(0,0,0)[0]             : AIC=1600.125, Time=0.26 sec\n",
      " ARIMA(3,1,3)(0,0,0)[0]             : AIC=1588.913, Time=1.84 sec\n",
      "\n",
      "Best model:  ARIMA(2,1,2)(0,0,0)[0]          \n",
      "Total fit time: 17.028 seconds\n"
     ]
    },
    {
     "name": "stderr",
     "output_type": "stream",
     "text": [
      "C:\\Users\\86173\\anaconda3\\lib\\site-packages\\statsmodels\\tsa\\base\\tsa_model.py:471: ValueWarning: No frequency information was provided, so inferred frequency D will be used.\n",
      "  self._init_dates(dates, freq)\n",
      "C:\\Users\\86173\\anaconda3\\lib\\site-packages\\statsmodels\\tsa\\base\\tsa_model.py:471: ValueWarning: No frequency information was provided, so inferred frequency D will be used.\n",
      "  self._init_dates(dates, freq)\n",
      "C:\\Users\\86173\\anaconda3\\lib\\site-packages\\statsmodels\\tsa\\base\\tsa_model.py:471: ValueWarning: No frequency information was provided, so inferred frequency D will be used.\n",
      "  self._init_dates(dates, freq)\n"
     ]
    },
    {
     "name": "stdout",
     "output_type": "stream",
     "text": [
      "Performing stepwise search to minimize aic\n",
      " ARIMA(0,1,0)(0,0,0)[0] intercept   : AIC=1224.023, Time=0.05 sec\n",
      " ARIMA(1,1,0)(0,0,0)[0] intercept   : AIC=1221.116, Time=0.10 sec\n",
      " ARIMA(0,1,1)(0,0,0)[0] intercept   : AIC=1222.335, Time=0.15 sec\n",
      " ARIMA(0,1,0)(0,0,0)[0]             : AIC=1223.084, Time=0.04 sec\n",
      " ARIMA(2,1,0)(0,0,0)[0] intercept   : AIC=1218.478, Time=0.15 sec\n",
      " ARIMA(3,1,0)(0,0,0)[0] intercept   : AIC=1210.182, Time=0.21 sec\n",
      " ARIMA(3,1,1)(0,0,0)[0] intercept   : AIC=1212.064, Time=0.33 sec\n",
      " ARIMA(2,1,1)(0,0,0)[0] intercept   : AIC=1216.626, Time=0.30 sec\n",
      " ARIMA(3,1,0)(0,0,0)[0]             : AIC=1208.802, Time=0.09 sec\n",
      " ARIMA(2,1,0)(0,0,0)[0]             : AIC=1217.515, Time=0.07 sec\n",
      " ARIMA(3,1,1)(0,0,0)[0]             : AIC=1210.700, Time=0.17 sec\n",
      " ARIMA(2,1,1)(0,0,0)[0]             : AIC=1215.374, Time=0.20 sec\n",
      "\n",
      "Best model:  ARIMA(3,1,0)(0,0,0)[0]          \n",
      "Total fit time: 1.883 seconds\n"
     ]
    },
    {
     "name": "stderr",
     "output_type": "stream",
     "text": [
      "C:\\Users\\86173\\anaconda3\\lib\\site-packages\\statsmodels\\tsa\\base\\tsa_model.py:471: ValueWarning: No frequency information was provided, so inferred frequency D will be used.\n",
      "  self._init_dates(dates, freq)\n",
      "C:\\Users\\86173\\anaconda3\\lib\\site-packages\\statsmodels\\tsa\\base\\tsa_model.py:471: ValueWarning: No frequency information was provided, so inferred frequency D will be used.\n",
      "  self._init_dates(dates, freq)\n",
      "C:\\Users\\86173\\anaconda3\\lib\\site-packages\\statsmodels\\tsa\\base\\tsa_model.py:471: ValueWarning: No frequency information was provided, so inferred frequency D will be used.\n",
      "  self._init_dates(dates, freq)\n"
     ]
    },
    {
     "name": "stdout",
     "output_type": "stream",
     "text": [
      "Performing stepwise search to minimize aic\n",
      " ARIMA(0,1,0)(0,0,0)[0] intercept   : AIC=1256.121, Time=0.05 sec\n",
      " ARIMA(1,1,0)(0,0,0)[0] intercept   : AIC=1258.119, Time=0.13 sec\n",
      " ARIMA(0,1,1)(0,0,0)[0] intercept   : AIC=1258.119, Time=0.13 sec\n",
      " ARIMA(0,1,0)(0,0,0)[0]             : AIC=1258.587, Time=0.05 sec\n",
      " ARIMA(1,1,1)(0,0,0)[0] intercept   : AIC=1247.665, Time=0.39 sec\n",
      " ARIMA(2,1,1)(0,0,0)[0] intercept   : AIC=1242.218, Time=0.37 sec\n",
      " ARIMA(2,1,0)(0,0,0)[0] intercept   : AIC=1248.911, Time=0.17 sec\n",
      " ARIMA(3,1,1)(0,0,0)[0] intercept   : AIC=1243.898, Time=0.54 sec\n",
      " ARIMA(2,1,2)(0,0,0)[0] intercept   : AIC=1243.937, Time=0.53 sec\n",
      " ARIMA(1,1,2)(0,0,0)[0] intercept   : AIC=1242.934, Time=0.44 sec\n",
      " ARIMA(3,1,0)(0,0,0)[0] intercept   : AIC=1247.739, Time=0.23 sec\n",
      " ARIMA(3,1,2)(0,0,0)[0] intercept   : AIC=1246.216, Time=0.56 sec\n",
      " ARIMA(2,1,1)(0,0,0)[0]             : AIC=1243.777, Time=0.21 sec\n",
      "\n",
      "Best model:  ARIMA(2,1,1)(0,0,0)[0] intercept\n",
      "Total fit time: 3.834 seconds\n"
     ]
    },
    {
     "name": "stderr",
     "output_type": "stream",
     "text": [
      "C:\\Users\\86173\\anaconda3\\lib\\site-packages\\statsmodels\\tsa\\base\\tsa_model.py:471: ValueWarning: No frequency information was provided, so inferred frequency D will be used.\n",
      "  self._init_dates(dates, freq)\n",
      "C:\\Users\\86173\\anaconda3\\lib\\site-packages\\statsmodels\\tsa\\base\\tsa_model.py:471: ValueWarning: No frequency information was provided, so inferred frequency D will be used.\n",
      "  self._init_dates(dates, freq)\n",
      "C:\\Users\\86173\\anaconda3\\lib\\site-packages\\statsmodels\\tsa\\base\\tsa_model.py:471: ValueWarning: No frequency information was provided, so inferred frequency D will be used.\n",
      "  self._init_dates(dates, freq)\n"
     ]
    },
    {
     "name": "stdout",
     "output_type": "stream",
     "text": [
      "Performing stepwise search to minimize aic\n",
      " ARIMA(0,1,0)(0,0,0)[0] intercept   : AIC=-5561.619, Time=0.67 sec\n",
      " ARIMA(1,1,0)(0,0,0)[0] intercept   : AIC=-5570.906, Time=0.32 sec\n",
      " ARIMA(0,1,1)(0,0,0)[0] intercept   : AIC=-5570.826, Time=0.35 sec\n",
      " ARIMA(0,1,0)(0,0,0)[0]             : AIC=-5563.300, Time=0.21 sec\n",
      " ARIMA(2,1,0)(0,0,0)[0] intercept   : AIC=-5568.912, Time=0.48 sec\n",
      " ARIMA(1,1,1)(0,0,0)[0] intercept   : AIC=-5568.921, Time=0.77 sec\n",
      " ARIMA(2,1,1)(0,0,0)[0] intercept   : AIC=-5566.906, Time=1.19 sec\n",
      " ARIMA(1,1,0)(0,0,0)[0]             : AIC=-5572.526, Time=0.34 sec\n",
      " ARIMA(2,1,0)(0,0,0)[0]             : AIC=-5570.535, Time=0.60 sec\n",
      " ARIMA(1,1,1)(0,0,0)[0]             : AIC=-5570.545, Time=0.51 sec\n",
      " ARIMA(0,1,1)(0,0,0)[0]             : AIC=-5572.441, Time=0.42 sec\n",
      " ARIMA(2,1,1)(0,0,0)[0]             : AIC=-5568.528, Time=0.80 sec\n",
      "\n",
      "Best model:  ARIMA(1,1,0)(0,0,0)[0]          \n",
      "Total fit time: 6.714 seconds\n"
     ]
    },
    {
     "name": "stderr",
     "output_type": "stream",
     "text": [
      "C:\\Users\\86173\\anaconda3\\lib\\site-packages\\statsmodels\\tsa\\base\\tsa_model.py:471: ValueWarning: No frequency information was provided, so inferred frequency D will be used.\n",
      "  self._init_dates(dates, freq)\n",
      "C:\\Users\\86173\\anaconda3\\lib\\site-packages\\statsmodels\\tsa\\base\\tsa_model.py:471: ValueWarning: No frequency information was provided, so inferred frequency D will be used.\n",
      "  self._init_dates(dates, freq)\n",
      "C:\\Users\\86173\\anaconda3\\lib\\site-packages\\statsmodels\\tsa\\base\\tsa_model.py:471: ValueWarning: No frequency information was provided, so inferred frequency D will be used.\n",
      "  self._init_dates(dates, freq)\n"
     ]
    },
    {
     "name": "stdout",
     "output_type": "stream",
     "text": [
      "Performing stepwise search to minimize aic\n",
      " ARIMA(0,0,0)(0,0,0)[0]             : AIC=2012.794, Time=0.05 sec\n",
      " ARIMA(1,0,0)(0,0,0)[0]             : AIC=inf, Time=0.23 sec\n",
      " ARIMA(0,0,1)(0,0,0)[0]             : AIC=inf, Time=0.46 sec\n",
      " ARIMA(1,0,1)(0,0,0)[0]             : AIC=-5920.289, Time=0.33 sec\n",
      " ARIMA(2,0,1)(0,0,0)[0]             : AIC=-5957.301, Time=0.76 sec\n",
      " ARIMA(2,0,0)(0,0,0)[0]             : AIC=inf, Time=0.34 sec\n",
      " ARIMA(3,0,1)(0,0,0)[0]             : AIC=-5863.973, Time=0.42 sec\n",
      " ARIMA(2,0,2)(0,0,0)[0]             : AIC=-5934.465, Time=1.45 sec\n",
      " ARIMA(1,0,2)(0,0,0)[0]             : AIC=-5924.967, Time=0.37 sec\n",
      " ARIMA(3,0,0)(0,0,0)[0]             : AIC=inf, Time=0.31 sec\n",
      " ARIMA(3,0,2)(0,0,0)[0]             : AIC=-5936.781, Time=1.41 sec\n",
      " ARIMA(2,0,1)(0,0,0)[0] intercept   : AIC=-5965.755, Time=12.91 sec\n",
      " ARIMA(1,0,1)(0,0,0)[0] intercept   : AIC=-5959.523, Time=0.93 sec\n",
      " ARIMA(2,0,0)(0,0,0)[0] intercept   : AIC=-5966.497, Time=1.18 sec\n",
      " ARIMA(1,0,0)(0,0,0)[0] intercept   : AIC=-5947.745, Time=0.19 sec\n",
      " ARIMA(3,0,0)(0,0,0)[0] intercept   : AIC=-5980.660, Time=1.52 sec\n",
      " ARIMA(3,0,1)(0,0,0)[0] intercept   : AIC=-5978.162, Time=0.93 sec\n",
      "\n",
      "Best model:  ARIMA(3,0,0)(0,0,0)[0] intercept\n",
      "Total fit time: 23.827 seconds\n"
     ]
    },
    {
     "name": "stderr",
     "output_type": "stream",
     "text": [
      "C:\\Users\\86173\\anaconda3\\lib\\site-packages\\statsmodels\\tsa\\base\\tsa_model.py:471: ValueWarning: No frequency information was provided, so inferred frequency D will be used.\n",
      "  self._init_dates(dates, freq)\n",
      "C:\\Users\\86173\\anaconda3\\lib\\site-packages\\statsmodels\\tsa\\base\\tsa_model.py:471: ValueWarning: No frequency information was provided, so inferred frequency D will be used.\n",
      "  self._init_dates(dates, freq)\n",
      "C:\\Users\\86173\\anaconda3\\lib\\site-packages\\statsmodels\\tsa\\base\\tsa_model.py:471: ValueWarning: No frequency information was provided, so inferred frequency D will be used.\n",
      "  self._init_dates(dates, freq)\n"
     ]
    },
    {
     "name": "stdout",
     "output_type": "stream",
     "text": [
      "Performing stepwise search to minimize aic\n",
      " ARIMA(0,1,0)(0,0,0)[0] intercept   : AIC=13765.468, Time=0.07 sec\n",
      " ARIMA(1,1,0)(0,0,0)[0] intercept   : AIC=13741.684, Time=0.17 sec\n",
      " ARIMA(0,1,1)(0,0,0)[0] intercept   : AIC=13743.850, Time=0.19 sec\n",
      " ARIMA(0,1,0)(0,0,0)[0]             : AIC=13764.600, Time=0.06 sec\n",
      " ARIMA(2,1,0)(0,0,0)[0] intercept   : AIC=13743.391, Time=0.24 sec\n",
      " ARIMA(1,1,1)(0,0,0)[0] intercept   : AIC=13743.529, Time=0.35 sec\n",
      " ARIMA(2,1,1)(0,0,0)[0] intercept   : AIC=13744.370, Time=0.76 sec\n",
      " ARIMA(1,1,0)(0,0,0)[0]             : AIC=13741.347, Time=0.09 sec\n",
      " ARIMA(2,1,0)(0,0,0)[0]             : AIC=13742.982, Time=0.13 sec\n",
      " ARIMA(1,1,1)(0,0,0)[0]             : AIC=13743.139, Time=0.17 sec\n",
      " ARIMA(0,1,1)(0,0,0)[0]             : AIC=13743.513, Time=0.09 sec\n",
      " ARIMA(2,1,1)(0,0,0)[0]             : AIC=13742.505, Time=0.78 sec\n",
      "\n",
      "Best model:  ARIMA(1,1,0)(0,0,0)[0]          \n",
      "Total fit time: 3.175 seconds\n"
     ]
    },
    {
     "name": "stderr",
     "output_type": "stream",
     "text": [
      "C:\\Users\\86173\\anaconda3\\lib\\site-packages\\statsmodels\\tsa\\base\\tsa_model.py:471: ValueWarning: No frequency information was provided, so inferred frequency D will be used.\n",
      "  self._init_dates(dates, freq)\n",
      "C:\\Users\\86173\\anaconda3\\lib\\site-packages\\statsmodels\\tsa\\base\\tsa_model.py:471: ValueWarning: No frequency information was provided, so inferred frequency D will be used.\n",
      "  self._init_dates(dates, freq)\n",
      "C:\\Users\\86173\\anaconda3\\lib\\site-packages\\statsmodels\\tsa\\base\\tsa_model.py:471: ValueWarning: No frequency information was provided, so inferred frequency D will be used.\n",
      "  self._init_dates(dates, freq)\n"
     ]
    },
    {
     "name": "stdout",
     "output_type": "stream",
     "text": [
      "Performing stepwise search to minimize aic\n",
      " ARIMA(0,1,0)(0,0,0)[0] intercept   : AIC=16911.407, Time=0.10 sec\n",
      " ARIMA(1,1,0)(0,0,0)[0] intercept   : AIC=16909.969, Time=0.22 sec\n",
      " ARIMA(0,1,1)(0,0,0)[0] intercept   : AIC=16908.993, Time=0.31 sec\n",
      " ARIMA(0,1,0)(0,0,0)[0]             : AIC=16909.420, Time=0.06 sec\n",
      " ARIMA(1,1,1)(0,0,0)[0] intercept   : AIC=16903.412, Time=1.14 sec\n",
      " ARIMA(2,1,1)(0,0,0)[0] intercept   : AIC=16886.324, Time=1.04 sec\n",
      " ARIMA(2,1,0)(0,0,0)[0] intercept   : AIC=16892.399, Time=0.31 sec\n",
      " ARIMA(3,1,1)(0,0,0)[0] intercept   : AIC=16888.224, Time=1.67 sec\n",
      " ARIMA(2,1,2)(0,0,0)[0] intercept   : AIC=16882.801, Time=3.31 sec\n",
      " ARIMA(1,1,2)(0,0,0)[0] intercept   : AIC=16886.834, Time=1.22 sec\n",
      " ARIMA(3,1,2)(0,0,0)[0] intercept   : AIC=16880.445, Time=5.43 sec\n",
      " ARIMA(3,1,3)(0,0,0)[0] intercept   : AIC=16880.958, Time=7.50 sec\n",
      " ARIMA(2,1,3)(0,0,0)[0] intercept   : AIC=16890.857, Time=1.39 sec\n",
      " ARIMA(3,1,2)(0,0,0)[0]             : AIC=16878.455, Time=2.57 sec\n",
      " ARIMA(2,1,2)(0,0,0)[0]             : AIC=16880.825, Time=0.99 sec\n",
      " ARIMA(3,1,1)(0,0,0)[0]             : AIC=16886.240, Time=0.75 sec\n",
      " ARIMA(3,1,3)(0,0,0)[0]             : AIC=16878.968, Time=3.55 sec\n",
      " ARIMA(2,1,1)(0,0,0)[0]             : AIC=16884.341, Time=0.45 sec\n",
      " ARIMA(2,1,3)(0,0,0)[0]             : AIC=16888.876, Time=0.65 sec\n",
      "\n",
      "Best model:  ARIMA(3,1,2)(0,0,0)[0]          \n",
      "Total fit time: 32.705 seconds\n"
     ]
    },
    {
     "name": "stderr",
     "output_type": "stream",
     "text": [
      "C:\\Users\\86173\\anaconda3\\lib\\site-packages\\statsmodels\\tsa\\base\\tsa_model.py:471: ValueWarning: No frequency information was provided, so inferred frequency D will be used.\n",
      "  self._init_dates(dates, freq)\n",
      "C:\\Users\\86173\\anaconda3\\lib\\site-packages\\statsmodels\\tsa\\base\\tsa_model.py:471: ValueWarning: No frequency information was provided, so inferred frequency D will be used.\n",
      "  self._init_dates(dates, freq)\n",
      "C:\\Users\\86173\\anaconda3\\lib\\site-packages\\statsmodels\\tsa\\base\\tsa_model.py:471: ValueWarning: No frequency information was provided, so inferred frequency D will be used.\n",
      "  self._init_dates(dates, freq)\n"
     ]
    },
    {
     "name": "stdout",
     "output_type": "stream",
     "text": [
      "Performing stepwise search to minimize aic\n",
      " ARIMA(0,1,0)(0,0,0)[0] intercept   : AIC=10771.669, Time=0.10 sec\n",
      " ARIMA(1,1,0)(0,0,0)[0] intercept   : AIC=10764.731, Time=0.39 sec\n",
      " ARIMA(0,1,1)(0,0,0)[0] intercept   : AIC=10762.366, Time=0.68 sec\n",
      " ARIMA(0,1,0)(0,0,0)[0]             : AIC=10769.708, Time=0.08 sec\n",
      " ARIMA(1,1,1)(0,0,0)[0] intercept   : AIC=10708.882, Time=1.11 sec\n",
      " ARIMA(2,1,1)(0,0,0)[0] intercept   : AIC=10707.591, Time=2.21 sec\n",
      " ARIMA(2,1,0)(0,0,0)[0] intercept   : AIC=10749.481, Time=1.19 sec\n",
      " ARIMA(3,1,1)(0,0,0)[0] intercept   : AIC=10709.054, Time=1.80 sec\n",
      " ARIMA(2,1,2)(0,0,0)[0] intercept   : AIC=10687.220, Time=5.24 sec\n",
      " ARIMA(1,1,2)(0,0,0)[0] intercept   : AIC=10707.757, Time=1.63 sec\n",
      " ARIMA(3,1,2)(0,0,0)[0] intercept   : AIC=10709.142, Time=2.63 sec\n",
      " ARIMA(2,1,3)(0,0,0)[0] intercept   : AIC=10700.069, Time=4.46 sec\n",
      " ARIMA(1,1,3)(0,0,0)[0] intercept   : AIC=10712.271, Time=2.36 sec\n",
      " ARIMA(3,1,3)(0,0,0)[0] intercept   : AIC=10664.221, Time=6.04 sec\n",
      " ARIMA(3,1,3)(0,0,0)[0]             : AIC=10662.753, Time=3.24 sec\n",
      " ARIMA(2,1,3)(0,0,0)[0]             : AIC=10698.186, Time=1.61 sec\n",
      " ARIMA(3,1,2)(0,0,0)[0]             : AIC=10707.621, Time=1.15 sec\n",
      " ARIMA(2,1,2)(0,0,0)[0]             : AIC=10681.960, Time=2.81 sec\n",
      "\n",
      "Best model:  ARIMA(3,1,3)(0,0,0)[0]          \n",
      "Total fit time: 38.782 seconds\n"
     ]
    },
    {
     "name": "stderr",
     "output_type": "stream",
     "text": [
      "C:\\Users\\86173\\anaconda3\\lib\\site-packages\\statsmodels\\tsa\\base\\tsa_model.py:471: ValueWarning: No frequency information was provided, so inferred frequency D will be used.\n",
      "  self._init_dates(dates, freq)\n",
      "C:\\Users\\86173\\anaconda3\\lib\\site-packages\\statsmodels\\tsa\\base\\tsa_model.py:471: ValueWarning: No frequency information was provided, so inferred frequency D will be used.\n",
      "  self._init_dates(dates, freq)\n",
      "C:\\Users\\86173\\anaconda3\\lib\\site-packages\\statsmodels\\tsa\\base\\tsa_model.py:471: ValueWarning: No frequency information was provided, so inferred frequency D will be used.\n",
      "  self._init_dates(dates, freq)\n"
     ]
    },
    {
     "name": "stdout",
     "output_type": "stream",
     "text": [
      "Performing stepwise search to minimize aic\n",
      " ARIMA(0,1,0)(0,0,0)[0] intercept   : AIC=8597.847, Time=0.09 sec\n",
      " ARIMA(1,1,0)(0,0,0)[0] intercept   : AIC=8576.507, Time=0.25 sec\n",
      " ARIMA(0,1,1)(0,0,0)[0] intercept   : AIC=8574.446, Time=0.38 sec\n",
      " ARIMA(0,1,0)(0,0,0)[0]             : AIC=8595.879, Time=0.07 sec\n",
      " ARIMA(1,1,1)(0,0,0)[0] intercept   : AIC=8575.412, Time=0.73 sec\n",
      " ARIMA(0,1,2)(0,0,0)[0] intercept   : AIC=8575.503, Time=0.62 sec\n",
      " ARIMA(1,1,2)(0,0,0)[0] intercept   : AIC=8577.411, Time=1.38 sec\n",
      " ARIMA(0,1,1)(0,0,0)[0]             : AIC=8572.488, Time=0.14 sec\n",
      " ARIMA(1,1,1)(0,0,0)[0]             : AIC=8573.456, Time=0.35 sec\n",
      " ARIMA(0,1,2)(0,0,0)[0]             : AIC=8573.547, Time=0.29 sec\n",
      " ARIMA(1,1,0)(0,0,0)[0]             : AIC=8574.548, Time=0.09 sec\n",
      " ARIMA(1,1,2)(0,0,0)[0]             : AIC=8575.455, Time=0.57 sec\n",
      "\n",
      "Best model:  ARIMA(0,1,1)(0,0,0)[0]          \n",
      "Total fit time: 5.016 seconds\n"
     ]
    },
    {
     "name": "stderr",
     "output_type": "stream",
     "text": [
      "C:\\Users\\86173\\anaconda3\\lib\\site-packages\\statsmodels\\tsa\\base\\tsa_model.py:471: ValueWarning: No frequency information was provided, so inferred frequency D will be used.\n",
      "  self._init_dates(dates, freq)\n",
      "C:\\Users\\86173\\anaconda3\\lib\\site-packages\\statsmodels\\tsa\\base\\tsa_model.py:471: ValueWarning: No frequency information was provided, so inferred frequency D will be used.\n",
      "  self._init_dates(dates, freq)\n",
      "C:\\Users\\86173\\anaconda3\\lib\\site-packages\\statsmodels\\tsa\\base\\tsa_model.py:471: ValueWarning: No frequency information was provided, so inferred frequency D will be used.\n",
      "  self._init_dates(dates, freq)\n"
     ]
    },
    {
     "name": "stdout",
     "output_type": "stream",
     "text": [
      "Performing stepwise search to minimize aic\n",
      " ARIMA(0,1,0)(0,0,0)[0] intercept   : AIC=62382.298, Time=0.24 sec\n",
      " ARIMA(1,1,0)(0,0,0)[0] intercept   : AIC=62364.424, Time=0.49 sec\n",
      " ARIMA(0,1,1)(0,0,0)[0] intercept   : AIC=62367.088, Time=0.69 sec\n",
      " ARIMA(0,1,0)(0,0,0)[0]             : AIC=62382.435, Time=0.13 sec\n",
      " ARIMA(2,1,0)(0,0,0)[0] intercept   : AIC=62345.042, Time=0.69 sec\n",
      " ARIMA(3,1,0)(0,0,0)[0] intercept   : AIC=62340.681, Time=0.89 sec\n",
      " ARIMA(3,1,1)(0,0,0)[0] intercept   : AIC=62341.074, Time=3.34 sec\n",
      " ARIMA(2,1,1)(0,0,0)[0] intercept   : AIC=62339.991, Time=2.35 sec\n",
      " ARIMA(1,1,1)(0,0,0)[0] intercept   : AIC=62355.480, Time=2.49 sec\n",
      " ARIMA(2,1,2)(0,0,0)[0] intercept   : AIC=62341.353, Time=3.07 sec\n",
      " ARIMA(1,1,2)(0,0,0)[0] intercept   : AIC=62339.419, Time=2.49 sec\n",
      " ARIMA(0,1,2)(0,0,0)[0] intercept   : AIC=62343.128, Time=1.05 sec\n",
      " ARIMA(1,1,3)(0,0,0)[0] intercept   : AIC=62341.373, Time=4.11 sec\n",
      " ARIMA(0,1,3)(0,0,0)[0] intercept   : AIC=62341.121, Time=1.27 sec\n",
      " ARIMA(2,1,3)(0,0,0)[0] intercept   : AIC=62341.857, Time=7.54 sec\n",
      " ARIMA(1,1,2)(0,0,0)[0]             : AIC=62338.295, Time=1.13 sec\n",
      " ARIMA(0,1,2)(0,0,0)[0]             : AIC=62343.239, Time=0.47 sec\n",
      " ARIMA(1,1,1)(0,0,0)[0]             : AIC=62355.612, Time=1.03 sec\n",
      " ARIMA(2,1,2)(0,0,0)[0]             : AIC=62340.153, Time=1.44 sec\n",
      " ARIMA(1,1,3)(0,0,0)[0]             : AIC=62340.196, Time=2.37 sec\n",
      " ARIMA(0,1,1)(0,0,0)[0]             : AIC=62367.494, Time=0.32 sec\n",
      " ARIMA(0,1,3)(0,0,0)[0]             : AIC=62341.119, Time=0.67 sec\n",
      " ARIMA(2,1,1)(0,0,0)[0]             : AIC=62338.265, Time=1.07 sec\n",
      " ARIMA(2,1,0)(0,0,0)[0]             : AIC=62345.153, Time=0.35 sec\n",
      " ARIMA(3,1,1)(0,0,0)[0]             : AIC=62340.176, Time=1.74 sec\n",
      " ARIMA(1,1,0)(0,0,0)[0]             : AIC=62364.866, Time=0.25 sec\n",
      " ARIMA(3,1,0)(0,0,0)[0]             : AIC=62340.634, Time=0.45 sec\n",
      " ARIMA(3,1,2)(0,0,0)[0]             : AIC=62342.255, Time=2.05 sec\n",
      "\n",
      "Best model:  ARIMA(2,1,1)(0,0,0)[0]          \n",
      "Total fit time: 44.311 seconds\n"
     ]
    },
    {
     "name": "stderr",
     "output_type": "stream",
     "text": [
      "C:\\Users\\86173\\anaconda3\\lib\\site-packages\\statsmodels\\tsa\\base\\tsa_model.py:471: ValueWarning: No frequency information was provided, so inferred frequency D will be used.\n",
      "  self._init_dates(dates, freq)\n",
      "C:\\Users\\86173\\anaconda3\\lib\\site-packages\\statsmodels\\tsa\\base\\tsa_model.py:471: ValueWarning: No frequency information was provided, so inferred frequency D will be used.\n",
      "  self._init_dates(dates, freq)\n",
      "C:\\Users\\86173\\anaconda3\\lib\\site-packages\\statsmodels\\tsa\\base\\tsa_model.py:471: ValueWarning: No frequency information was provided, so inferred frequency D will be used.\n",
      "  self._init_dates(dates, freq)\n"
     ]
    },
    {
     "name": "stdout",
     "output_type": "stream",
     "text": [
      "Performing stepwise search to minimize aic\n",
      " ARIMA(0,1,0)(0,0,0)[0] intercept   : AIC=-13091.575, Time=0.50 sec\n",
      " ARIMA(1,1,0)(0,0,0)[0] intercept   : AIC=-13115.909, Time=1.57 sec\n",
      " ARIMA(0,1,1)(0,0,0)[0] intercept   : AIC=-13110.012, Time=1.28 sec\n",
      " ARIMA(0,1,0)(0,0,0)[0]             : AIC=-13093.274, Time=0.33 sec\n",
      " ARIMA(2,1,0)(0,0,0)[0] intercept   : AIC=-13131.756, Time=2.15 sec\n",
      " ARIMA(3,1,0)(0,0,0)[0] intercept   : AIC=-13132.295, Time=2.73 sec\n",
      " ARIMA(3,1,1)(0,0,0)[0] intercept   : AIC=-13129.490, Time=3.16 sec\n",
      " ARIMA(2,1,1)(0,0,0)[0] intercept   : AIC=-13137.613, Time=2.38 sec\n",
      " ARIMA(1,1,1)(0,0,0)[0] intercept   : AIC=-13138.854, Time=0.92 sec\n",
      " ARIMA(1,1,2)(0,0,0)[0] intercept   : AIC=-13138.616, Time=0.71 sec\n",
      " ARIMA(0,1,2)(0,0,0)[0] intercept   : AIC=-13123.672, Time=0.92 sec\n",
      " ARIMA(2,1,2)(0,0,0)[0] intercept   : AIC=-13134.906, Time=2.96 sec\n",
      " ARIMA(1,1,1)(0,0,0)[0]             : AIC=-13140.736, Time=0.84 sec\n",
      " ARIMA(0,1,1)(0,0,0)[0]             : AIC=-13111.619, Time=0.74 sec\n",
      " ARIMA(1,1,0)(0,0,0)[0]             : AIC=-13117.502, Time=0.69 sec\n",
      " ARIMA(2,1,1)(0,0,0)[0]             : AIC=-13139.249, Time=0.67 sec\n",
      " ARIMA(1,1,2)(0,0,0)[0]             : AIC=-13140.362, Time=1.16 sec\n",
      " ARIMA(0,1,2)(0,0,0)[0]             : AIC=-13125.296, Time=0.55 sec\n",
      " ARIMA(2,1,0)(0,0,0)[0]             : AIC=-13133.443, Time=0.99 sec\n",
      " ARIMA(2,1,2)(0,0,0)[0]             : AIC=-13136.836, Time=2.42 sec\n",
      "\n",
      "Best model:  ARIMA(1,1,1)(0,0,0)[0]          \n",
      "Total fit time: 27.734 seconds\n"
     ]
    },
    {
     "name": "stderr",
     "output_type": "stream",
     "text": [
      "C:\\Users\\86173\\anaconda3\\lib\\site-packages\\statsmodels\\tsa\\base\\tsa_model.py:471: ValueWarning: No frequency information was provided, so inferred frequency D will be used.\n",
      "  self._init_dates(dates, freq)\n",
      "C:\\Users\\86173\\anaconda3\\lib\\site-packages\\statsmodels\\tsa\\base\\tsa_model.py:471: ValueWarning: No frequency information was provided, so inferred frequency D will be used.\n",
      "  self._init_dates(dates, freq)\n",
      "C:\\Users\\86173\\anaconda3\\lib\\site-packages\\statsmodels\\tsa\\base\\tsa_model.py:471: ValueWarning: No frequency information was provided, so inferred frequency D will be used.\n",
      "  self._init_dates(dates, freq)\n",
      "C:\\Users\\86173\\anaconda3\\lib\\site-packages\\statsmodels\\base\\model.py:604: ConvergenceWarning: Maximum Likelihood optimization failed to converge. Check mle_retvals\n",
      "  warnings.warn(\"Maximum Likelihood optimization failed to \"\n"
     ]
    },
    {
     "name": "stdout",
     "output_type": "stream",
     "text": [
      "Performing stepwise search to minimize aic\n",
      " ARIMA(0,1,0)(0,0,0)[0] intercept   : AIC=10712.114, Time=0.11 sec\n",
      " ARIMA(1,1,0)(0,0,0)[0] intercept   : AIC=10653.230, Time=0.29 sec\n",
      " ARIMA(0,1,1)(0,0,0)[0] intercept   : AIC=10667.355, Time=0.76 sec\n",
      " ARIMA(0,1,0)(0,0,0)[0]             : AIC=10711.439, Time=0.11 sec\n",
      " ARIMA(2,1,0)(0,0,0)[0] intercept   : AIC=10635.345, Time=0.81 sec\n",
      " ARIMA(3,1,0)(0,0,0)[0] intercept   : AIC=10622.217, Time=0.99 sec\n",
      " ARIMA(3,1,1)(0,0,0)[0] intercept   : AIC=10623.816, Time=1.52 sec\n",
      " ARIMA(2,1,1)(0,0,0)[0] intercept   : AIC=10627.262, Time=2.76 sec\n",
      " ARIMA(3,1,0)(0,0,0)[0]             : AIC=10621.490, Time=0.50 sec\n",
      " ARIMA(2,1,0)(0,0,0)[0]             : AIC=10634.905, Time=0.31 sec\n",
      " ARIMA(3,1,1)(0,0,0)[0]             : AIC=10623.061, Time=0.50 sec\n",
      " ARIMA(2,1,1)(0,0,0)[0]             : AIC=10626.492, Time=1.23 sec\n",
      "\n",
      "Best model:  ARIMA(3,1,0)(0,0,0)[0]          \n",
      "Total fit time: 9.909 seconds\n"
     ]
    },
    {
     "name": "stderr",
     "output_type": "stream",
     "text": [
      "C:\\Users\\86173\\anaconda3\\lib\\site-packages\\statsmodels\\tsa\\base\\tsa_model.py:471: ValueWarning: No frequency information was provided, so inferred frequency D will be used.\n",
      "  self._init_dates(dates, freq)\n",
      "C:\\Users\\86173\\anaconda3\\lib\\site-packages\\statsmodels\\tsa\\base\\tsa_model.py:471: ValueWarning: No frequency information was provided, so inferred frequency D will be used.\n",
      "  self._init_dates(dates, freq)\n",
      "C:\\Users\\86173\\anaconda3\\lib\\site-packages\\statsmodels\\tsa\\base\\tsa_model.py:471: ValueWarning: No frequency information was provided, so inferred frequency D will be used.\n",
      "  self._init_dates(dates, freq)\n"
     ]
    },
    {
     "name": "stdout",
     "output_type": "stream",
     "text": [
      "Performing stepwise search to minimize aic\n",
      " ARIMA(0,1,0)(0,0,0)[0] intercept   : AIC=-4401.922, Time=0.44 sec\n",
      " ARIMA(1,1,0)(0,0,0)[0] intercept   : AIC=-4412.810, Time=0.73 sec\n",
      " ARIMA(0,1,1)(0,0,0)[0] intercept   : AIC=-4411.120, Time=0.50 sec\n",
      " ARIMA(0,1,0)(0,0,0)[0]             : AIC=-4402.189, Time=0.23 sec\n",
      " ARIMA(2,1,0)(0,0,0)[0] intercept   : AIC=-4419.537, Time=0.44 sec\n",
      " ARIMA(3,1,0)(0,0,0)[0] intercept   : AIC=-4440.506, Time=1.90 sec\n",
      " ARIMA(3,1,1)(0,0,0)[0] intercept   : AIC=-4441.821, Time=6.14 sec\n",
      " ARIMA(2,1,1)(0,0,0)[0] intercept   : AIC=-4433.779, Time=3.01 sec\n",
      " ARIMA(3,1,2)(0,0,0)[0] intercept   : AIC=-4448.840, Time=6.16 sec\n",
      " ARIMA(2,1,2)(0,0,0)[0] intercept   : AIC=-4447.839, Time=4.63 sec\n",
      " ARIMA(3,1,3)(0,0,0)[0] intercept   : AIC=-4436.953, Time=6.68 sec\n",
      " ARIMA(2,1,3)(0,0,0)[0] intercept   : AIC=-4449.045, Time=5.95 sec\n",
      " ARIMA(1,1,3)(0,0,0)[0] intercept   : AIC=-4445.554, Time=4.41 sec\n",
      " ARIMA(1,1,2)(0,0,0)[0] intercept   : AIC=-4434.977, Time=2.56 sec\n",
      " ARIMA(2,1,3)(0,0,0)[0]             : AIC=-4449.098, Time=2.75 sec\n",
      " ARIMA(1,1,3)(0,0,0)[0]             : AIC=-4445.470, Time=1.93 sec\n",
      " ARIMA(2,1,2)(0,0,0)[0]             : AIC=-4447.877, Time=2.22 sec\n",
      " ARIMA(3,1,3)(0,0,0)[0]             : AIC=-4436.953, Time=3.02 sec\n",
      " ARIMA(1,1,2)(0,0,0)[0]             : AIC=-4435.241, Time=1.25 sec\n",
      " ARIMA(3,1,2)(0,0,0)[0]             : AIC=-4448.472, Time=2.76 sec\n",
      "\n",
      "Best model:  ARIMA(2,1,3)(0,0,0)[0]          \n",
      "Total fit time: 57.763 seconds\n"
     ]
    },
    {
     "name": "stderr",
     "output_type": "stream",
     "text": [
      "C:\\Users\\86173\\anaconda3\\lib\\site-packages\\statsmodels\\tsa\\base\\tsa_model.py:471: ValueWarning: No frequency information was provided, so inferred frequency D will be used.\n",
      "  self._init_dates(dates, freq)\n",
      "C:\\Users\\86173\\anaconda3\\lib\\site-packages\\statsmodels\\tsa\\base\\tsa_model.py:471: ValueWarning: No frequency information was provided, so inferred frequency D will be used.\n",
      "  self._init_dates(dates, freq)\n",
      "C:\\Users\\86173\\anaconda3\\lib\\site-packages\\statsmodels\\tsa\\base\\tsa_model.py:471: ValueWarning: No frequency information was provided, so inferred frequency D will be used.\n",
      "  self._init_dates(dates, freq)\n",
      "C:\\Users\\86173\\anaconda3\\lib\\site-packages\\statsmodels\\base\\model.py:604: ConvergenceWarning: Maximum Likelihood optimization failed to converge. Check mle_retvals\n",
      "  warnings.warn(\"Maximum Likelihood optimization failed to \"\n"
     ]
    },
    {
     "name": "stdout",
     "output_type": "stream",
     "text": [
      "Performing stepwise search to minimize aic\n",
      " ARIMA(0,1,0)(0,0,0)[0] intercept   : AIC=170.906, Time=0.15 sec\n",
      " ARIMA(1,1,0)(0,0,0)[0] intercept   : AIC=165.710, Time=0.25 sec\n",
      " ARIMA(0,1,1)(0,0,0)[0] intercept   : AIC=162.538, Time=0.30 sec\n",
      " ARIMA(0,1,0)(0,0,0)[0]             : AIC=169.193, Time=0.12 sec\n",
      " ARIMA(1,1,1)(0,0,0)[0] intercept   : AIC=157.094, Time=0.58 sec\n",
      " ARIMA(2,1,1)(0,0,0)[0] intercept   : AIC=156.899, Time=0.69 sec\n",
      " ARIMA(2,1,0)(0,0,0)[0] intercept   : AIC=155.099, Time=0.37 sec\n",
      " ARIMA(3,1,0)(0,0,0)[0] intercept   : AIC=156.935, Time=0.43 sec\n",
      " ARIMA(3,1,1)(0,0,0)[0] intercept   : AIC=158.899, Time=1.35 sec\n",
      " ARIMA(2,1,0)(0,0,0)[0]             : AIC=153.469, Time=0.18 sec\n",
      " ARIMA(1,1,0)(0,0,0)[0]             : AIC=164.026, Time=0.17 sec\n",
      " ARIMA(3,1,0)(0,0,0)[0]             : AIC=155.298, Time=0.48 sec\n",
      " ARIMA(2,1,1)(0,0,0)[0]             : AIC=155.262, Time=0.63 sec\n",
      " ARIMA(1,1,1)(0,0,0)[0]             : AIC=155.548, Time=0.35 sec\n",
      " ARIMA(3,1,1)(0,0,0)[0]             : AIC=157.262, Time=0.62 sec\n",
      "\n",
      "Best model:  ARIMA(2,1,0)(0,0,0)[0]          \n",
      "Total fit time: 6.711 seconds\n"
     ]
    },
    {
     "name": "stderr",
     "output_type": "stream",
     "text": [
      "C:\\Users\\86173\\anaconda3\\lib\\site-packages\\statsmodels\\tsa\\base\\tsa_model.py:471: ValueWarning: No frequency information was provided, so inferred frequency D will be used.\n",
      "  self._init_dates(dates, freq)\n",
      "C:\\Users\\86173\\anaconda3\\lib\\site-packages\\statsmodels\\tsa\\base\\tsa_model.py:471: ValueWarning: No frequency information was provided, so inferred frequency D will be used.\n",
      "  self._init_dates(dates, freq)\n",
      "C:\\Users\\86173\\anaconda3\\lib\\site-packages\\statsmodels\\tsa\\base\\tsa_model.py:471: ValueWarning: No frequency information was provided, so inferred frequency D will be used.\n",
      "  self._init_dates(dates, freq)\n"
     ]
    },
    {
     "name": "stdout",
     "output_type": "stream",
     "text": [
      "Performing stepwise search to minimize aic\n",
      " ARIMA(0,1,0)(0,0,0)[0] intercept   : AIC=-1165.107, Time=0.32 sec\n",
      " ARIMA(1,1,0)(0,0,0)[0] intercept   : AIC=-1164.293, Time=0.33 sec\n",
      " ARIMA(0,1,1)(0,0,0)[0] intercept   : AIC=-1164.175, Time=0.57 sec\n",
      " ARIMA(0,1,0)(0,0,0)[0]             : AIC=-1165.564, Time=0.30 sec\n",
      " ARIMA(1,1,1)(0,0,0)[0] intercept   : AIC=-1175.208, Time=1.95 sec\n",
      " ARIMA(2,1,1)(0,0,0)[0] intercept   : AIC=-1174.492, Time=2.53 sec\n",
      " ARIMA(1,1,2)(0,0,0)[0] intercept   : AIC=-1169.675, Time=2.41 sec\n",
      " ARIMA(0,1,2)(0,0,0)[0] intercept   : AIC=-1164.679, Time=0.60 sec\n",
      " ARIMA(2,1,0)(0,0,0)[0] intercept   : AIC=-1165.441, Time=0.36 sec\n",
      " ARIMA(2,1,2)(0,0,0)[0] intercept   : AIC=-1171.560, Time=3.56 sec\n",
      " ARIMA(1,1,1)(0,0,0)[0]             : AIC=-1175.565, Time=0.57 sec\n",
      " ARIMA(0,1,1)(0,0,0)[0]             : AIC=-1164.537, Time=0.22 sec\n",
      " ARIMA(1,1,0)(0,0,0)[0]             : AIC=-1164.647, Time=0.21 sec\n",
      " ARIMA(2,1,1)(0,0,0)[0]             : AIC=-1174.961, Time=0.90 sec\n",
      " ARIMA(1,1,2)(0,0,0)[0]             : AIC=-1170.595, Time=1.27 sec\n",
      " ARIMA(0,1,2)(0,0,0)[0]             : AIC=-1165.168, Time=0.33 sec\n",
      " ARIMA(2,1,0)(0,0,0)[0]             : AIC=-1165.967, Time=0.26 sec\n",
      " ARIMA(2,1,2)(0,0,0)[0]             : AIC=-1171.568, Time=0.79 sec\n",
      "\n",
      "Best model:  ARIMA(1,1,1)(0,0,0)[0]          \n",
      "Total fit time: 17.553 seconds\n"
     ]
    },
    {
     "name": "stderr",
     "output_type": "stream",
     "text": [
      "C:\\Users\\86173\\anaconda3\\lib\\site-packages\\statsmodels\\tsa\\base\\tsa_model.py:471: ValueWarning: A date index has been provided, but it has no associated frequency information and so will be ignored when e.g. forecasting.\n",
      "  self._init_dates(dates, freq)\n",
      "C:\\Users\\86173\\anaconda3\\lib\\site-packages\\statsmodels\\tsa\\base\\tsa_model.py:471: ValueWarning: A date index has been provided, but it has no associated frequency information and so will be ignored when e.g. forecasting.\n",
      "  self._init_dates(dates, freq)\n",
      "C:\\Users\\86173\\anaconda3\\lib\\site-packages\\statsmodels\\tsa\\base\\tsa_model.py:471: ValueWarning: A date index has been provided, but it has no associated frequency information and so will be ignored when e.g. forecasting.\n",
      "  self._init_dates(dates, freq)\n",
      "C:\\Users\\86173\\anaconda3\\lib\\site-packages\\statsmodels\\tsa\\base\\tsa_model.py:834: ValueWarning: No supported index is available. Prediction results will be given with an integer index beginning at `start`.\n",
      "  return get_prediction_index(\n"
     ]
    },
    {
     "name": "stdout",
     "output_type": "stream",
     "text": [
      "Performing stepwise search to minimize aic\n",
      " ARIMA(0,1,0)(0,0,0)[0] intercept   : AIC=3818.102, Time=0.10 sec\n",
      " ARIMA(1,1,0)(0,0,0)[0] intercept   : AIC=3755.878, Time=0.29 sec\n",
      " ARIMA(0,1,1)(0,0,0)[0] intercept   : AIC=3766.882, Time=0.36 sec\n",
      " ARIMA(0,1,0)(0,0,0)[0]             : AIC=3816.560, Time=0.09 sec\n",
      " ARIMA(2,1,0)(0,0,0)[0] intercept   : AIC=3747.483, Time=0.42 sec\n",
      " ARIMA(3,1,0)(0,0,0)[0] intercept   : AIC=3747.747, Time=0.49 sec\n",
      " ARIMA(2,1,1)(0,0,0)[0] intercept   : AIC=3741.607, Time=1.05 sec\n",
      " ARIMA(1,1,1)(0,0,0)[0] intercept   : AIC=3740.248, Time=0.71 sec\n",
      " ARIMA(1,1,2)(0,0,0)[0] intercept   : AIC=3741.577, Time=1.08 sec\n",
      " ARIMA(0,1,2)(0,0,0)[0] intercept   : AIC=3752.580, Time=0.46 sec\n",
      " ARIMA(2,1,2)(0,0,0)[0] intercept   : AIC=3742.106, Time=4.90 sec\n",
      " ARIMA(1,1,1)(0,0,0)[0]             : AIC=3738.839, Time=0.33 sec\n",
      " ARIMA(0,1,1)(0,0,0)[0]             : AIC=3765.584, Time=0.17 sec\n",
      " ARIMA(1,1,0)(0,0,0)[0]             : AIC=3754.576, Time=0.15 sec\n",
      " ARIMA(2,1,1)(0,0,0)[0]             : AIC=3740.222, Time=0.45 sec\n",
      " ARIMA(1,1,2)(0,0,0)[0]             : AIC=3740.194, Time=0.56 sec\n",
      " ARIMA(0,1,2)(0,0,0)[0]             : AIC=3751.145, Time=0.22 sec\n",
      " ARIMA(2,1,0)(0,0,0)[0]             : AIC=3746.064, Time=0.19 sec\n",
      " ARIMA(2,1,2)(0,0,0)[0]             : AIC=3733.488, Time=3.41 sec\n",
      " ARIMA(3,1,2)(0,0,0)[0]             : AIC=3744.157, Time=1.20 sec\n",
      " ARIMA(2,1,3)(0,0,0)[0]             : AIC=3728.003, Time=1.26 sec\n",
      " ARIMA(1,1,3)(0,0,0)[0]             : AIC=3742.100, Time=0.62 sec\n",
      " ARIMA(3,1,3)(0,0,0)[0]             : AIC=3711.691, Time=3.55 sec\n",
      " ARIMA(3,1,3)(0,0,0)[0] intercept   : AIC=3713.076, Time=5.73 sec\n",
      "\n",
      "Best model:  ARIMA(3,1,3)(0,0,0)[0]          \n",
      "Total fit time: 27.832 seconds\n"
     ]
    },
    {
     "name": "stderr",
     "output_type": "stream",
     "text": [
      "C:\\Users\\86173\\anaconda3\\lib\\site-packages\\statsmodels\\tsa\\base\\tsa_model.py:471: ValueWarning: No frequency information was provided, so inferred frequency D will be used.\n",
      "  self._init_dates(dates, freq)\n",
      "C:\\Users\\86173\\anaconda3\\lib\\site-packages\\statsmodels\\tsa\\base\\tsa_model.py:471: ValueWarning: No frequency information was provided, so inferred frequency D will be used.\n",
      "  self._init_dates(dates, freq)\n",
      "C:\\Users\\86173\\anaconda3\\lib\\site-packages\\statsmodels\\tsa\\base\\tsa_model.py:471: ValueWarning: No frequency information was provided, so inferred frequency D will be used.\n",
      "  self._init_dates(dates, freq)\n",
      "C:\\Users\\86173\\anaconda3\\lib\\site-packages\\statsmodels\\base\\model.py:604: ConvergenceWarning: Maximum Likelihood optimization failed to converge. Check mle_retvals\n",
      "  warnings.warn(\"Maximum Likelihood optimization failed to \"\n"
     ]
    },
    {
     "name": "stdout",
     "output_type": "stream",
     "text": [
      "Performing stepwise search to minimize aic\n",
      " ARIMA(0,1,0)(0,0,0)[0] intercept   : AIC=-3708.164, Time=0.25 sec\n",
      " ARIMA(1,1,0)(0,0,0)[0] intercept   : AIC=-3718.181, Time=0.43 sec\n",
      " ARIMA(0,1,1)(0,0,0)[0] intercept   : AIC=-3718.957, Time=0.30 sec\n",
      " ARIMA(0,1,0)(0,0,0)[0]             : AIC=-3709.851, Time=0.16 sec\n",
      " ARIMA(1,1,1)(0,0,0)[0] intercept   : AIC=-3717.136, Time=1.55 sec\n",
      " ARIMA(0,1,2)(0,0,0)[0] intercept   : AIC=-3717.214, Time=0.69 sec\n",
      " ARIMA(1,1,2)(0,0,0)[0] intercept   : AIC=-3715.194, Time=0.82 sec\n",
      " ARIMA(0,1,1)(0,0,0)[0]             : AIC=-3720.541, Time=0.21 sec\n",
      " ARIMA(1,1,1)(0,0,0)[0]             : AIC=-3718.515, Time=0.30 sec\n",
      " ARIMA(0,1,2)(0,0,0)[0]             : AIC=-3718.784, Time=0.31 sec\n",
      " ARIMA(1,1,0)(0,0,0)[0]             : AIC=-3719.785, Time=0.24 sec\n",
      " ARIMA(1,1,2)(0,0,0)[0]             : AIC=-3716.769, Time=0.36 sec\n",
      "\n",
      "Best model:  ARIMA(0,1,1)(0,0,0)[0]          \n",
      "Total fit time: 5.647 seconds\n"
     ]
    },
    {
     "name": "stderr",
     "output_type": "stream",
     "text": [
      "C:\\Users\\86173\\anaconda3\\lib\\site-packages\\statsmodels\\tsa\\base\\tsa_model.py:471: ValueWarning: No frequency information was provided, so inferred frequency D will be used.\n",
      "  self._init_dates(dates, freq)\n",
      "C:\\Users\\86173\\anaconda3\\lib\\site-packages\\statsmodels\\tsa\\base\\tsa_model.py:471: ValueWarning: No frequency information was provided, so inferred frequency D will be used.\n",
      "  self._init_dates(dates, freq)\n",
      "C:\\Users\\86173\\anaconda3\\lib\\site-packages\\statsmodels\\tsa\\base\\tsa_model.py:471: ValueWarning: No frequency information was provided, so inferred frequency D will be used.\n",
      "  self._init_dates(dates, freq)\n"
     ]
    },
    {
     "name": "stdout",
     "output_type": "stream",
     "text": [
      "Performing stepwise search to minimize aic\n",
      " ARIMA(0,1,0)(0,0,0)[0] intercept   : AIC=333.975, Time=0.03 sec\n",
      " ARIMA(1,1,0)(0,0,0)[0] intercept   : AIC=325.154, Time=0.07 sec\n",
      " ARIMA(0,1,1)(0,0,0)[0] intercept   : AIC=322.455, Time=0.10 sec\n",
      " ARIMA(0,1,0)(0,0,0)[0]             : AIC=332.003, Time=0.05 sec\n",
      " ARIMA(1,1,1)(0,0,0)[0] intercept   : AIC=324.455, Time=0.17 sec\n",
      " ARIMA(0,1,2)(0,0,0)[0] intercept   : AIC=324.455, Time=0.11 sec\n",
      " ARIMA(1,1,2)(0,0,0)[0] intercept   : AIC=inf, Time=0.56 sec\n",
      " ARIMA(0,1,1)(0,0,0)[0]             : AIC=320.498, Time=0.08 sec\n",
      " ARIMA(1,1,1)(0,0,0)[0]             : AIC=322.498, Time=0.11 sec\n",
      " ARIMA(0,1,2)(0,0,0)[0]             : AIC=322.498, Time=0.10 sec\n",
      " ARIMA(1,1,0)(0,0,0)[0]             : AIC=323.190, Time=0.06 sec\n",
      " ARIMA(1,1,2)(0,0,0)[0]             : AIC=320.190, Time=0.19 sec\n",
      " ARIMA(2,1,2)(0,0,0)[0]             : AIC=321.027, Time=0.24 sec\n",
      " ARIMA(1,1,3)(0,0,0)[0]             : AIC=321.355, Time=0.20 sec\n",
      " ARIMA(0,1,3)(0,0,0)[0]             : AIC=322.744, Time=0.10 sec\n",
      " ARIMA(2,1,1)(0,0,0)[0]             : AIC=319.308, Time=0.15 sec\n",
      " ARIMA(2,1,0)(0,0,0)[0]             : AIC=321.500, Time=0.06 sec\n",
      " ARIMA(3,1,1)(0,0,0)[0]             : AIC=321.106, Time=0.26 sec\n",
      " ARIMA(3,1,0)(0,0,0)[0]             : AIC=322.780, Time=0.08 sec\n",
      " ARIMA(3,1,2)(0,0,0)[0]             : AIC=322.918, Time=0.32 sec\n",
      " ARIMA(2,1,1)(0,0,0)[0] intercept   : AIC=321.252, Time=0.23 sec\n",
      "\n",
      "Best model:  ARIMA(2,1,1)(0,0,0)[0]          \n",
      "Total fit time: 3.295 seconds\n"
     ]
    },
    {
     "name": "stderr",
     "output_type": "stream",
     "text": [
      "C:\\Users\\86173\\anaconda3\\lib\\site-packages\\statsmodels\\tsa\\base\\tsa_model.py:471: ValueWarning: No frequency information was provided, so inferred frequency D will be used.\n",
      "  self._init_dates(dates, freq)\n",
      "C:\\Users\\86173\\anaconda3\\lib\\site-packages\\statsmodels\\tsa\\base\\tsa_model.py:471: ValueWarning: No frequency information was provided, so inferred frequency D will be used.\n",
      "  self._init_dates(dates, freq)\n",
      "C:\\Users\\86173\\anaconda3\\lib\\site-packages\\statsmodels\\tsa\\base\\tsa_model.py:471: ValueWarning: No frequency information was provided, so inferred frequency D will be used.\n",
      "  self._init_dates(dates, freq)\n"
     ]
    },
    {
     "name": "stdout",
     "output_type": "stream",
     "text": [
      "Performing stepwise search to minimize aic\n",
      " ARIMA(0,1,0)(0,0,0)[0] intercept   : AIC=1978.147, Time=0.24 sec\n",
      " ARIMA(1,1,0)(0,0,0)[0] intercept   : AIC=1960.949, Time=0.22 sec\n",
      " ARIMA(0,1,1)(0,0,0)[0] intercept   : AIC=1964.427, Time=0.25 sec\n",
      " ARIMA(0,1,0)(0,0,0)[0]             : AIC=1976.633, Time=0.07 sec\n",
      " ARIMA(2,1,0)(0,0,0)[0] intercept   : AIC=1954.499, Time=0.29 sec\n",
      " ARIMA(3,1,0)(0,0,0)[0] intercept   : AIC=1956.453, Time=0.39 sec\n",
      " ARIMA(2,1,1)(0,0,0)[0] intercept   : AIC=1956.388, Time=0.83 sec\n",
      " ARIMA(1,1,1)(0,0,0)[0] intercept   : AIC=1952.349, Time=0.63 sec\n",
      " ARIMA(1,1,2)(0,0,0)[0] intercept   : AIC=1954.348, Time=0.83 sec\n",
      " ARIMA(0,1,2)(0,0,0)[0] intercept   : AIC=1954.354, Time=0.39 sec\n",
      " ARIMA(2,1,2)(0,0,0)[0] intercept   : AIC=1956.349, Time=0.78 sec\n",
      " ARIMA(1,1,1)(0,0,0)[0]             : AIC=1950.915, Time=0.28 sec\n",
      " ARIMA(0,1,1)(0,0,0)[0]             : AIC=1963.053, Time=0.14 sec\n",
      " ARIMA(1,1,0)(0,0,0)[0]             : AIC=1959.585, Time=0.12 sec\n",
      " ARIMA(2,1,1)(0,0,0)[0]             : AIC=1954.893, Time=0.36 sec\n",
      " ARIMA(1,1,2)(0,0,0)[0]             : AIC=1952.915, Time=0.40 sec\n",
      " ARIMA(0,1,2)(0,0,0)[0]             : AIC=1952.860, Time=0.18 sec\n",
      " ARIMA(2,1,0)(0,0,0)[0]             : AIC=1953.020, Time=0.15 sec\n",
      " ARIMA(2,1,2)(0,0,0)[0]             : AIC=1954.547, Time=0.88 sec\n",
      "\n",
      "Best model:  ARIMA(1,1,1)(0,0,0)[0]          \n",
      "Total fit time: 7.477 seconds\n"
     ]
    },
    {
     "name": "stderr",
     "output_type": "stream",
     "text": [
      "C:\\Users\\86173\\anaconda3\\lib\\site-packages\\statsmodels\\tsa\\base\\tsa_model.py:471: ValueWarning: No frequency information was provided, so inferred frequency D will be used.\n",
      "  self._init_dates(dates, freq)\n",
      "C:\\Users\\86173\\anaconda3\\lib\\site-packages\\statsmodels\\tsa\\base\\tsa_model.py:471: ValueWarning: No frequency information was provided, so inferred frequency D will be used.\n",
      "  self._init_dates(dates, freq)\n",
      "C:\\Users\\86173\\anaconda3\\lib\\site-packages\\statsmodels\\tsa\\base\\tsa_model.py:471: ValueWarning: No frequency information was provided, so inferred frequency D will be used.\n",
      "  self._init_dates(dates, freq)\n"
     ]
    },
    {
     "name": "stdout",
     "output_type": "stream",
     "text": [
      "Performing stepwise search to minimize aic\n",
      " ARIMA(0,1,0)(0,0,0)[0] intercept   : AIC=-7136.740, Time=0.24 sec\n",
      " ARIMA(1,1,0)(0,0,0)[0] intercept   : AIC=-7157.243, Time=0.41 sec\n",
      " ARIMA(0,1,1)(0,0,0)[0] intercept   : AIC=-7157.859, Time=0.41 sec\n",
      " ARIMA(0,1,0)(0,0,0)[0]             : AIC=-7138.288, Time=0.18 sec\n",
      " ARIMA(1,1,1)(0,0,0)[0] intercept   : AIC=-7155.852, Time=1.58 sec\n",
      " ARIMA(0,1,2)(0,0,0)[0] intercept   : AIC=-7155.845, Time=0.92 sec\n",
      " ARIMA(1,1,2)(0,0,0)[0] intercept   : AIC=-7153.743, Time=1.28 sec\n",
      " ARIMA(0,1,1)(0,0,0)[0]             : AIC=-7159.221, Time=0.29 sec\n",
      " ARIMA(1,1,1)(0,0,0)[0]             : AIC=-7157.221, Time=0.36 sec\n",
      " ARIMA(0,1,2)(0,0,0)[0]             : AIC=-7157.210, Time=0.33 sec\n",
      " ARIMA(1,1,0)(0,0,0)[0]             : AIC=-7158.638, Time=0.27 sec\n",
      " ARIMA(1,1,2)(0,0,0)[0]             : AIC=-7155.152, Time=0.48 sec\n",
      "\n",
      "Best model:  ARIMA(0,1,1)(0,0,0)[0]          \n",
      "Total fit time: 6.793 seconds\n"
     ]
    },
    {
     "name": "stderr",
     "output_type": "stream",
     "text": [
      "C:\\Users\\86173\\anaconda3\\lib\\site-packages\\statsmodels\\tsa\\base\\tsa_model.py:471: ValueWarning: No frequency information was provided, so inferred frequency D will be used.\n",
      "  self._init_dates(dates, freq)\n",
      "C:\\Users\\86173\\anaconda3\\lib\\site-packages\\statsmodels\\tsa\\base\\tsa_model.py:471: ValueWarning: No frequency information was provided, so inferred frequency D will be used.\n",
      "  self._init_dates(dates, freq)\n",
      "C:\\Users\\86173\\anaconda3\\lib\\site-packages\\statsmodels\\tsa\\base\\tsa_model.py:471: ValueWarning: No frequency information was provided, so inferred frequency D will be used.\n",
      "  self._init_dates(dates, freq)\n"
     ]
    },
    {
     "name": "stdout",
     "output_type": "stream",
     "text": [
      "Performing stepwise search to minimize aic\n",
      " ARIMA(0,1,0)(0,0,0)[0] intercept   : AIC=283.219, Time=0.09 sec\n",
      " ARIMA(1,1,0)(0,0,0)[0] intercept   : AIC=270.026, Time=0.25 sec\n",
      " ARIMA(0,1,1)(0,0,0)[0] intercept   : AIC=275.809, Time=0.27 sec\n",
      " ARIMA(0,1,0)(0,0,0)[0]             : AIC=283.134, Time=0.09 sec\n",
      " ARIMA(2,1,0)(0,0,0)[0] intercept   : AIC=253.869, Time=0.42 sec\n",
      " ARIMA(3,1,0)(0,0,0)[0] intercept   : AIC=255.771, Time=0.60 sec\n",
      " ARIMA(2,1,1)(0,0,0)[0] intercept   : AIC=255.778, Time=0.69 sec\n",
      " ARIMA(1,1,1)(0,0,0)[0] intercept   : AIC=257.263, Time=0.83 sec\n",
      " ARIMA(3,1,1)(0,0,0)[0] intercept   : AIC=257.756, Time=0.58 sec\n",
      " ARIMA(2,1,0)(0,0,0)[0]             : AIC=253.049, Time=0.19 sec\n",
      " ARIMA(1,1,0)(0,0,0)[0]             : AIC=269.493, Time=0.15 sec\n",
      " ARIMA(3,1,0)(0,0,0)[0]             : AIC=254.935, Time=0.22 sec\n",
      " ARIMA(2,1,1)(0,0,0)[0]             : AIC=254.941, Time=0.33 sec\n",
      " ARIMA(1,1,1)(0,0,0)[0]             : AIC=256.301, Time=0.38 sec\n",
      " ARIMA(3,1,1)(0,0,0)[0]             : AIC=256.921, Time=0.33 sec\n",
      "\n",
      "Best model:  ARIMA(2,1,0)(0,0,0)[0]          \n",
      "Total fit time: 5.432 seconds\n"
     ]
    },
    {
     "name": "stderr",
     "output_type": "stream",
     "text": [
      "C:\\Users\\86173\\anaconda3\\lib\\site-packages\\statsmodels\\tsa\\base\\tsa_model.py:471: ValueWarning: No frequency information was provided, so inferred frequency D will be used.\n",
      "  self._init_dates(dates, freq)\n",
      "C:\\Users\\86173\\anaconda3\\lib\\site-packages\\statsmodels\\tsa\\base\\tsa_model.py:471: ValueWarning: No frequency information was provided, so inferred frequency D will be used.\n",
      "  self._init_dates(dates, freq)\n",
      "C:\\Users\\86173\\anaconda3\\lib\\site-packages\\statsmodels\\tsa\\base\\tsa_model.py:471: ValueWarning: No frequency information was provided, so inferred frequency D will be used.\n",
      "  self._init_dates(dates, freq)\n"
     ]
    },
    {
     "name": "stdout",
     "output_type": "stream",
     "text": [
      "Performing stepwise search to minimize aic\n",
      " ARIMA(0,0,0)(0,0,0)[0]             : AIC=3695.043, Time=0.05 sec\n",
      " ARIMA(1,0,0)(0,0,0)[0]             : AIC=inf, Time=0.35 sec\n",
      " ARIMA(0,0,1)(0,0,0)[0]             : AIC=1923.471, Time=0.40 sec\n",
      " ARIMA(1,0,1)(0,0,0)[0]             : AIC=-8947.294, Time=0.53 sec\n",
      " ARIMA(2,0,1)(0,0,0)[0]             : AIC=-8970.730, Time=1.45 sec\n",
      " ARIMA(2,0,0)(0,0,0)[0]             : AIC=inf, Time=0.38 sec\n",
      " ARIMA(3,0,1)(0,0,0)[0]             : AIC=-8898.722, Time=1.37 sec\n",
      " ARIMA(2,0,2)(0,0,0)[0]             : AIC=-8962.170, Time=0.99 sec\n",
      " ARIMA(1,0,2)(0,0,0)[0]             : AIC=-8967.487, Time=0.63 sec\n",
      " ARIMA(3,0,0)(0,0,0)[0]             : AIC=inf, Time=0.88 sec\n",
      " ARIMA(3,0,2)(0,0,0)[0]             : AIC=-8971.137, Time=1.57 sec\n",
      " ARIMA(3,0,3)(0,0,0)[0]             : AIC=-8972.450, Time=0.84 sec\n",
      " ARIMA(2,0,3)(0,0,0)[0]             : AIC=-8972.819, Time=0.69 sec\n",
      " ARIMA(1,0,3)(0,0,0)[0]             : AIC=-8969.909, Time=1.03 sec\n",
      " ARIMA(2,0,3)(0,0,0)[0] intercept   : AIC=-9000.578, Time=1.95 sec\n",
      " ARIMA(1,0,3)(0,0,0)[0] intercept   : AIC=-8970.070, Time=1.22 sec\n",
      " ARIMA(2,0,2)(0,0,0)[0] intercept   : AIC=-8988.323, Time=1.49 sec\n",
      " ARIMA(3,0,3)(0,0,0)[0] intercept   : AIC=-9003.258, Time=9.00 sec\n",
      " ARIMA(3,0,2)(0,0,0)[0] intercept   : AIC=-8987.719, Time=1.62 sec\n",
      "\n",
      "Best model:  ARIMA(3,0,3)(0,0,0)[0] intercept\n",
      "Total fit time: 26.485 seconds\n"
     ]
    },
    {
     "name": "stderr",
     "output_type": "stream",
     "text": [
      "C:\\Users\\86173\\anaconda3\\lib\\site-packages\\statsmodels\\tsa\\base\\tsa_model.py:471: ValueWarning: A date index has been provided, but it has no associated frequency information and so will be ignored when e.g. forecasting.\n",
      "  self._init_dates(dates, freq)\n",
      "C:\\Users\\86173\\anaconda3\\lib\\site-packages\\statsmodels\\tsa\\base\\tsa_model.py:471: ValueWarning: A date index has been provided, but it has no associated frequency information and so will be ignored when e.g. forecasting.\n",
      "  self._init_dates(dates, freq)\n",
      "C:\\Users\\86173\\anaconda3\\lib\\site-packages\\statsmodels\\tsa\\base\\tsa_model.py:471: ValueWarning: A date index has been provided, but it has no associated frequency information and so will be ignored when e.g. forecasting.\n",
      "  self._init_dates(dates, freq)\n",
      "C:\\Users\\86173\\anaconda3\\lib\\site-packages\\statsmodels\\tsa\\base\\tsa_model.py:834: ValueWarning: No supported index is available. Prediction results will be given with an integer index beginning at `start`.\n",
      "  return get_prediction_index(\n"
     ]
    },
    {
     "name": "stdout",
     "output_type": "stream",
     "text": [
      "Performing stepwise search to minimize aic\n",
      " ARIMA(0,1,0)(0,0,0)[0] intercept   : AIC=12812.393, Time=0.10 sec\n",
      " ARIMA(1,1,0)(0,0,0)[0] intercept   : AIC=12795.245, Time=0.20 sec\n",
      " ARIMA(0,1,1)(0,0,0)[0] intercept   : AIC=12793.774, Time=0.53 sec\n",
      " ARIMA(0,1,0)(0,0,0)[0]             : AIC=12810.401, Time=0.14 sec\n",
      " ARIMA(1,1,1)(0,0,0)[0] intercept   : AIC=12795.562, Time=0.77 sec\n",
      " ARIMA(0,1,2)(0,0,0)[0] intercept   : AIC=12795.231, Time=0.80 sec\n",
      " ARIMA(1,1,2)(0,0,0)[0] intercept   : AIC=12792.615, Time=1.89 sec\n",
      " ARIMA(2,1,2)(0,0,0)[0] intercept   : AIC=12762.685, Time=2.92 sec\n",
      " ARIMA(2,1,1)(0,0,0)[0] intercept   : AIC=12788.796, Time=1.61 sec\n",
      " ARIMA(3,1,2)(0,0,0)[0] intercept   : AIC=12752.548, Time=5.34 sec\n",
      " ARIMA(3,1,1)(0,0,0)[0] intercept   : AIC=12784.509, Time=2.87 sec\n",
      " ARIMA(3,1,3)(0,0,0)[0] intercept   : AIC=12765.813, Time=6.16 sec\n",
      " ARIMA(2,1,3)(0,0,0)[0] intercept   : AIC=12753.120, Time=5.68 sec\n",
      " ARIMA(3,1,2)(0,0,0)[0]             : AIC=12750.551, Time=2.83 sec\n",
      " ARIMA(2,1,2)(0,0,0)[0]             : AIC=12760.692, Time=1.41 sec\n",
      " ARIMA(3,1,1)(0,0,0)[0]             : AIC=12782.516, Time=0.91 sec\n",
      " ARIMA(3,1,3)(0,0,0)[0]             : AIC=12763.814, Time=2.75 sec\n",
      " ARIMA(2,1,1)(0,0,0)[0]             : AIC=12786.806, Time=0.74 sec\n",
      " ARIMA(2,1,3)(0,0,0)[0]             : AIC=12751.150, Time=3.07 sec\n",
      "\n",
      "Best model:  ARIMA(3,1,2)(0,0,0)[0]          \n",
      "Total fit time: 40.767 seconds\n"
     ]
    },
    {
     "name": "stderr",
     "output_type": "stream",
     "text": [
      "C:\\Users\\86173\\anaconda3\\lib\\site-packages\\statsmodels\\tsa\\base\\tsa_model.py:471: ValueWarning: No frequency information was provided, so inferred frequency D will be used.\n",
      "  self._init_dates(dates, freq)\n",
      "C:\\Users\\86173\\anaconda3\\lib\\site-packages\\statsmodels\\tsa\\base\\tsa_model.py:471: ValueWarning: No frequency information was provided, so inferred frequency D will be used.\n",
      "  self._init_dates(dates, freq)\n",
      "C:\\Users\\86173\\anaconda3\\lib\\site-packages\\statsmodels\\tsa\\base\\tsa_model.py:471: ValueWarning: No frequency information was provided, so inferred frequency D will be used.\n",
      "  self._init_dates(dates, freq)\n",
      "C:\\Users\\86173\\anaconda3\\lib\\site-packages\\statsmodels\\base\\model.py:604: ConvergenceWarning: Maximum Likelihood optimization failed to converge. Check mle_retvals\n",
      "  warnings.warn(\"Maximum Likelihood optimization failed to \"\n"
     ]
    },
    {
     "name": "stdout",
     "output_type": "stream",
     "text": [
      "Performing stepwise search to minimize aic\n",
      " ARIMA(0,1,0)(0,0,0)[0] intercept   : AIC=-5753.648, Time=0.38 sec\n",
      " ARIMA(1,1,0)(0,0,0)[0] intercept   : AIC=-5784.494, Time=0.74 sec\n",
      " ARIMA(0,1,1)(0,0,0)[0] intercept   : AIC=-5779.392, Time=1.24 sec\n",
      " ARIMA(0,1,0)(0,0,0)[0]             : AIC=-5754.994, Time=0.19 sec\n",
      " ARIMA(2,1,0)(0,0,0)[0] intercept   : AIC=-5795.067, Time=1.05 sec\n",
      " ARIMA(3,1,0)(0,0,0)[0] intercept   : AIC=-5807.580, Time=1.38 sec\n",
      " ARIMA(3,1,1)(0,0,0)[0] intercept   : AIC=-5808.331, Time=3.85 sec\n",
      " ARIMA(2,1,1)(0,0,0)[0] intercept   : AIC=-5806.212, Time=3.91 sec\n",
      " ARIMA(3,1,2)(0,0,0)[0] intercept   : AIC=-5806.820, Time=5.26 sec\n",
      " ARIMA(2,1,2)(0,0,0)[0] intercept   : AIC=-5869.733, Time=4.91 sec\n",
      " ARIMA(1,1,2)(0,0,0)[0] intercept   : AIC=-5806.431, Time=2.86 sec\n",
      " ARIMA(2,1,3)(0,0,0)[0] intercept   : AIC=-5806.665, Time=4.24 sec\n",
      " ARIMA(1,1,1)(0,0,0)[0] intercept   : AIC=-5807.258, Time=2.43 sec\n",
      " ARIMA(1,1,3)(0,0,0)[0] intercept   : AIC=-5808.764, Time=1.42 sec\n",
      " ARIMA(3,1,3)(0,0,0)[0] intercept   : AIC=-5807.977, Time=5.98 sec\n",
      " ARIMA(2,1,2)(0,0,0)[0]             : AIC=-5861.394, Time=2.33 sec\n",
      "\n",
      "Best model:  ARIMA(2,1,2)(0,0,0)[0] intercept\n",
      "Total fit time: 42.215 seconds\n"
     ]
    },
    {
     "name": "stderr",
     "output_type": "stream",
     "text": [
      "C:\\Users\\86173\\anaconda3\\lib\\site-packages\\statsmodels\\tsa\\base\\tsa_model.py:471: ValueWarning: No frequency information was provided, so inferred frequency D will be used.\n",
      "  self._init_dates(dates, freq)\n",
      "C:\\Users\\86173\\anaconda3\\lib\\site-packages\\statsmodels\\tsa\\base\\tsa_model.py:471: ValueWarning: No frequency information was provided, so inferred frequency D will be used.\n",
      "  self._init_dates(dates, freq)\n",
      "C:\\Users\\86173\\anaconda3\\lib\\site-packages\\statsmodels\\tsa\\base\\tsa_model.py:471: ValueWarning: No frequency information was provided, so inferred frequency D will be used.\n",
      "  self._init_dates(dates, freq)\n",
      "C:\\Users\\86173\\anaconda3\\lib\\site-packages\\statsmodels\\base\\model.py:604: ConvergenceWarning: Maximum Likelihood optimization failed to converge. Check mle_retvals\n",
      "  warnings.warn(\"Maximum Likelihood optimization failed to \"\n"
     ]
    },
    {
     "name": "stdout",
     "output_type": "stream",
     "text": [
      "Performing stepwise search to minimize aic\n",
      " ARIMA(0,1,0)(0,0,0)[0] intercept   : AIC=8165.234, Time=0.10 sec\n",
      " ARIMA(1,1,0)(0,0,0)[0] intercept   : AIC=8150.310, Time=0.31 sec\n",
      " ARIMA(0,1,1)(0,0,0)[0] intercept   : AIC=8151.010, Time=0.38 sec\n",
      " ARIMA(0,1,0)(0,0,0)[0]             : AIC=8163.958, Time=0.10 sec\n",
      " ARIMA(2,1,0)(0,0,0)[0] intercept   : AIC=8151.969, Time=0.41 sec\n",
      " ARIMA(1,1,1)(0,0,0)[0] intercept   : AIC=8151.878, Time=1.32 sec\n",
      " ARIMA(2,1,1)(0,0,0)[0] intercept   : AIC=8151.374, Time=1.83 sec\n",
      " ARIMA(1,1,0)(0,0,0)[0]             : AIC=8149.212, Time=0.13 sec\n",
      " ARIMA(2,1,0)(0,0,0)[0]             : AIC=8150.842, Time=0.20 sec\n",
      " ARIMA(1,1,1)(0,0,0)[0]             : AIC=8150.741, Time=0.40 sec\n",
      " ARIMA(0,1,1)(0,0,0)[0]             : AIC=8149.925, Time=0.20 sec\n",
      " ARIMA(2,1,1)(0,0,0)[0]             : AIC=8150.242, Time=0.77 sec\n",
      "\n",
      "Best model:  ARIMA(1,1,0)(0,0,0)[0]          \n",
      "Total fit time: 6.211 seconds\n"
     ]
    },
    {
     "name": "stderr",
     "output_type": "stream",
     "text": [
      "C:\\Users\\86173\\anaconda3\\lib\\site-packages\\statsmodels\\tsa\\base\\tsa_model.py:471: ValueWarning: No frequency information was provided, so inferred frequency D will be used.\n",
      "  self._init_dates(dates, freq)\n",
      "C:\\Users\\86173\\anaconda3\\lib\\site-packages\\statsmodels\\tsa\\base\\tsa_model.py:471: ValueWarning: No frequency information was provided, so inferred frequency D will be used.\n",
      "  self._init_dates(dates, freq)\n",
      "C:\\Users\\86173\\anaconda3\\lib\\site-packages\\statsmodels\\tsa\\base\\tsa_model.py:471: ValueWarning: No frequency information was provided, so inferred frequency D will be used.\n",
      "  self._init_dates(dates, freq)\n"
     ]
    },
    {
     "name": "stdout",
     "output_type": "stream",
     "text": [
      "Performing stepwise search to minimize aic\n",
      " ARIMA(0,1,0)(0,0,0)[0] intercept   : AIC=-8888.049, Time=0.37 sec\n",
      " ARIMA(1,1,0)(0,0,0)[0] intercept   : AIC=-8936.575, Time=1.03 sec\n",
      " ARIMA(0,1,1)(0,0,0)[0] intercept   : AIC=-8930.190, Time=1.34 sec\n",
      " ARIMA(0,1,0)(0,0,0)[0]             : AIC=-8889.764, Time=0.23 sec\n",
      " ARIMA(2,1,0)(0,0,0)[0] intercept   : AIC=-8937.513, Time=0.78 sec\n",
      " ARIMA(3,1,0)(0,0,0)[0] intercept   : AIC=-8949.093, Time=2.75 sec\n",
      " ARIMA(3,1,1)(0,0,0)[0] intercept   : AIC=-8947.986, Time=1.35 sec\n",
      " ARIMA(2,1,1)(0,0,0)[0] intercept   : AIC=-8936.734, Time=2.34 sec\n",
      " ARIMA(3,1,0)(0,0,0)[0]             : AIC=-8950.790, Time=0.43 sec\n",
      " ARIMA(2,1,0)(0,0,0)[0]             : AIC=-8939.148, Time=0.57 sec\n",
      " ARIMA(3,1,1)(0,0,0)[0]             : AIC=-8949.703, Time=1.06 sec\n",
      " ARIMA(2,1,1)(0,0,0)[0]             : AIC=-8941.347, Time=1.71 sec\n",
      "\n",
      "Best model:  ARIMA(3,1,0)(0,0,0)[0]          \n",
      "Total fit time: 14.010 seconds\n"
     ]
    },
    {
     "name": "stderr",
     "output_type": "stream",
     "text": [
      "C:\\Users\\86173\\anaconda3\\lib\\site-packages\\statsmodels\\tsa\\base\\tsa_model.py:471: ValueWarning: No frequency information was provided, so inferred frequency D will be used.\n",
      "  self._init_dates(dates, freq)\n",
      "C:\\Users\\86173\\anaconda3\\lib\\site-packages\\statsmodels\\tsa\\base\\tsa_model.py:471: ValueWarning: No frequency information was provided, so inferred frequency D will be used.\n",
      "  self._init_dates(dates, freq)\n",
      "C:\\Users\\86173\\anaconda3\\lib\\site-packages\\statsmodels\\tsa\\base\\tsa_model.py:471: ValueWarning: No frequency information was provided, so inferred frequency D will be used.\n",
      "  self._init_dates(dates, freq)\n"
     ]
    },
    {
     "name": "stdout",
     "output_type": "stream",
     "text": [
      "Performing stepwise search to minimize aic\n",
      " ARIMA(0,1,0)(0,0,0)[0] intercept   : AIC=-1017.733, Time=0.24 sec\n",
      " ARIMA(1,1,0)(0,0,0)[0] intercept   : AIC=-1016.397, Time=0.37 sec\n",
      " ARIMA(0,1,1)(0,0,0)[0] intercept   : AIC=-1015.090, Time=0.40 sec\n",
      " ARIMA(0,1,0)(0,0,0)[0]             : AIC=-1025.608, Time=0.10 sec\n",
      " ARIMA(1,1,1)(0,0,0)[0] intercept   : AIC=-1009.616, Time=0.36 sec\n",
      "\n",
      "Best model:  ARIMA(0,1,0)(0,0,0)[0]          \n",
      "Total fit time: 1.476 seconds\n"
     ]
    },
    {
     "name": "stderr",
     "output_type": "stream",
     "text": [
      "C:\\Users\\86173\\anaconda3\\lib\\site-packages\\statsmodels\\tsa\\base\\tsa_model.py:471: ValueWarning: No frequency information was provided, so inferred frequency D will be used.\n",
      "  self._init_dates(dates, freq)\n",
      "C:\\Users\\86173\\anaconda3\\lib\\site-packages\\statsmodels\\tsa\\base\\tsa_model.py:471: ValueWarning: No frequency information was provided, so inferred frequency D will be used.\n",
      "  self._init_dates(dates, freq)\n",
      "C:\\Users\\86173\\anaconda3\\lib\\site-packages\\statsmodels\\tsa\\base\\tsa_model.py:471: ValueWarning: No frequency information was provided, so inferred frequency D will be used.\n",
      "  self._init_dates(dates, freq)\n",
      "C:\\Users\\86173\\anaconda3\\lib\\site-packages\\statsmodels\\base\\model.py:604: ConvergenceWarning: Maximum Likelihood optimization failed to converge. Check mle_retvals\n",
      "  warnings.warn(\"Maximum Likelihood optimization failed to \"\n"
     ]
    },
    {
     "name": "stdout",
     "output_type": "stream",
     "text": [
      "Performing stepwise search to minimize aic\n",
      " ARIMA(0,1,0)(0,0,0)[0] intercept   : AIC=2486.227, Time=0.05 sec\n",
      " ARIMA(1,1,0)(0,0,0)[0] intercept   : AIC=2488.099, Time=0.12 sec\n",
      " ARIMA(0,1,1)(0,0,0)[0] intercept   : AIC=2488.120, Time=0.17 sec\n",
      " ARIMA(0,1,0)(0,0,0)[0]             : AIC=2484.923, Time=0.04 sec\n",
      " ARIMA(1,1,1)(0,0,0)[0] intercept   : AIC=2488.307, Time=0.41 sec\n",
      "\n",
      "Best model:  ARIMA(0,1,0)(0,0,0)[0]          \n",
      "Total fit time: 0.828 seconds\n"
     ]
    },
    {
     "name": "stderr",
     "output_type": "stream",
     "text": [
      "C:\\Users\\86173\\anaconda3\\lib\\site-packages\\statsmodels\\tsa\\base\\tsa_model.py:471: ValueWarning: No frequency information was provided, so inferred frequency D will be used.\n",
      "  self._init_dates(dates, freq)\n",
      "C:\\Users\\86173\\anaconda3\\lib\\site-packages\\statsmodels\\tsa\\base\\tsa_model.py:471: ValueWarning: No frequency information was provided, so inferred frequency D will be used.\n",
      "  self._init_dates(dates, freq)\n",
      "C:\\Users\\86173\\anaconda3\\lib\\site-packages\\statsmodels\\tsa\\base\\tsa_model.py:471: ValueWarning: No frequency information was provided, so inferred frequency D will be used.\n",
      "  self._init_dates(dates, freq)\n"
     ]
    },
    {
     "name": "stdout",
     "output_type": "stream",
     "text": [
      "Performing stepwise search to minimize aic\n",
      " ARIMA(0,1,0)(0,0,0)[0] intercept   : AIC=-3744.189, Time=0.40 sec\n",
      " ARIMA(1,1,0)(0,0,0)[0] intercept   : AIC=-3763.802, Time=0.75 sec\n",
      " ARIMA(0,1,1)(0,0,0)[0] intercept   : AIC=-3761.092, Time=0.74 sec\n",
      " ARIMA(0,1,0)(0,0,0)[0]             : AIC=-3745.470, Time=0.20 sec\n",
      " ARIMA(2,1,0)(0,0,0)[0] intercept   : AIC=-3768.356, Time=1.66 sec\n",
      " ARIMA(3,1,0)(0,0,0)[0] intercept   : AIC=-3768.101, Time=0.93 sec\n",
      " ARIMA(2,1,1)(0,0,0)[0] intercept   : AIC=-3773.937, Time=2.41 sec\n",
      " ARIMA(1,1,1)(0,0,0)[0] intercept   : AIC=-3775.929, Time=1.58 sec\n",
      " ARIMA(1,1,2)(0,0,0)[0] intercept   : AIC=-3773.937, Time=3.90 sec\n",
      " ARIMA(0,1,2)(0,0,0)[0] intercept   : AIC=-3766.246, Time=1.07 sec\n",
      " ARIMA(2,1,2)(0,0,0)[0] intercept   : AIC=-3771.957, Time=3.72 sec\n",
      " ARIMA(1,1,1)(0,0,0)[0]             : AIC=-3777.116, Time=0.64 sec\n",
      " ARIMA(0,1,1)(0,0,0)[0]             : AIC=-3762.186, Time=0.56 sec\n",
      " ARIMA(1,1,0)(0,0,0)[0]             : AIC=-3764.894, Time=0.27 sec\n",
      " ARIMA(2,1,1)(0,0,0)[0]             : AIC=-3775.121, Time=1.36 sec\n",
      " ARIMA(1,1,2)(0,0,0)[0]             : AIC=-3775.121, Time=1.47 sec\n",
      " ARIMA(0,1,2)(0,0,0)[0]             : AIC=-3767.461, Time=0.41 sec\n",
      " ARIMA(2,1,0)(0,0,0)[0]             : AIC=-3769.568, Time=0.31 sec\n",
      " ARIMA(2,1,2)(0,0,0)[0]             : AIC=-3773.178, Time=0.93 sec\n",
      "\n",
      "Best model:  ARIMA(1,1,1)(0,0,0)[0]          \n",
      "Total fit time: 23.393 seconds\n"
     ]
    },
    {
     "name": "stderr",
     "output_type": "stream",
     "text": [
      "C:\\Users\\86173\\anaconda3\\lib\\site-packages\\statsmodels\\tsa\\base\\tsa_model.py:471: ValueWarning: No frequency information was provided, so inferred frequency D will be used.\n",
      "  self._init_dates(dates, freq)\n",
      "C:\\Users\\86173\\anaconda3\\lib\\site-packages\\statsmodels\\tsa\\base\\tsa_model.py:471: ValueWarning: No frequency information was provided, so inferred frequency D will be used.\n",
      "  self._init_dates(dates, freq)\n",
      "C:\\Users\\86173\\anaconda3\\lib\\site-packages\\statsmodels\\tsa\\base\\tsa_model.py:471: ValueWarning: No frequency information was provided, so inferred frequency D will be used.\n",
      "  self._init_dates(dates, freq)\n"
     ]
    },
    {
     "name": "stdout",
     "output_type": "stream",
     "text": [
      "Performing stepwise search to minimize aic\n",
      " ARIMA(0,0,0)(0,0,0)[0]             : AIC=8816.502, Time=0.07 sec\n",
      " ARIMA(1,0,0)(0,0,0)[0]             : AIC=inf, Time=0.17 sec\n",
      " ARIMA(0,0,1)(0,0,0)[0]             : AIC=7054.075, Time=0.32 sec\n",
      " ARIMA(1,0,1)(0,0,0)[0]             : AIC=2155.978, Time=0.25 sec\n",
      " ARIMA(2,0,1)(0,0,0)[0]             : AIC=2154.948, Time=0.84 sec\n",
      " ARIMA(2,0,0)(0,0,0)[0]             : AIC=inf, Time=0.49 sec\n",
      " ARIMA(3,0,1)(0,0,0)[0]             : AIC=2156.221, Time=1.21 sec\n",
      " ARIMA(2,0,2)(0,0,0)[0]             : AIC=2155.719, Time=0.50 sec\n",
      " ARIMA(1,0,2)(0,0,0)[0]             : AIC=2153.887, Time=0.63 sec\n",
      " ARIMA(0,0,2)(0,0,0)[0]             : AIC=5834.078, Time=0.58 sec\n",
      " ARIMA(1,0,3)(0,0,0)[0]             : AIC=2155.279, Time=0.94 sec\n",
      " ARIMA(0,0,3)(0,0,0)[0]             : AIC=5509.539, Time=4.54 sec\n",
      " ARIMA(2,0,3)(0,0,0)[0]             : AIC=2155.836, Time=1.60 sec\n",
      " ARIMA(1,0,2)(0,0,0)[0] intercept   : AIC=2148.100, Time=1.48 sec\n",
      " ARIMA(0,0,2)(0,0,0)[0] intercept   : AIC=4480.583, Time=1.05 sec\n",
      " ARIMA(1,0,1)(0,0,0)[0] intercept   : AIC=2150.868, Time=1.18 sec\n",
      " ARIMA(2,0,2)(0,0,0)[0] intercept   : AIC=2149.995, Time=1.06 sec\n",
      " ARIMA(1,0,3)(0,0,0)[0] intercept   : AIC=2149.756, Time=2.26 sec\n",
      " ARIMA(0,0,1)(0,0,0)[0] intercept   : AIC=5424.514, Time=0.57 sec\n",
      " ARIMA(0,0,3)(0,0,0)[0] intercept   : AIC=3805.136, Time=1.76 sec\n",
      " ARIMA(2,0,1)(0,0,0)[0] intercept   : AIC=2149.710, Time=1.43 sec\n",
      " ARIMA(2,0,3)(0,0,0)[0] intercept   : AIC=2152.077, Time=1.85 sec\n",
      "\n",
      "Best model:  ARIMA(1,0,2)(0,0,0)[0] intercept\n",
      "Total fit time: 24.797 seconds\n"
     ]
    },
    {
     "name": "stderr",
     "output_type": "stream",
     "text": [
      "C:\\Users\\86173\\anaconda3\\lib\\site-packages\\statsmodels\\tsa\\base\\tsa_model.py:471: ValueWarning: No frequency information was provided, so inferred frequency D will be used.\n",
      "  self._init_dates(dates, freq)\n",
      "C:\\Users\\86173\\anaconda3\\lib\\site-packages\\statsmodels\\tsa\\base\\tsa_model.py:471: ValueWarning: No frequency information was provided, so inferred frequency D will be used.\n",
      "  self._init_dates(dates, freq)\n",
      "C:\\Users\\86173\\anaconda3\\lib\\site-packages\\statsmodels\\tsa\\base\\tsa_model.py:471: ValueWarning: No frequency information was provided, so inferred frequency D will be used.\n",
      "  self._init_dates(dates, freq)\n"
     ]
    },
    {
     "name": "stdout",
     "output_type": "stream",
     "text": [
      "Performing stepwise search to minimize aic\n",
      " ARIMA(0,1,0)(0,0,0)[0] intercept   : AIC=8161.843, Time=0.12 sec\n",
      " ARIMA(1,1,0)(0,0,0)[0] intercept   : AIC=8163.698, Time=0.28 sec\n",
      " ARIMA(0,1,1)(0,0,0)[0] intercept   : AIC=8163.718, Time=0.37 sec\n",
      " ARIMA(0,1,0)(0,0,0)[0]             : AIC=8160.286, Time=0.10 sec\n",
      " ARIMA(1,1,1)(0,0,0)[0] intercept   : AIC=8162.531, Time=1.05 sec\n",
      "\n",
      "Best model:  ARIMA(0,1,0)(0,0,0)[0]          \n",
      "Total fit time: 1.995 seconds\n"
     ]
    },
    {
     "name": "stderr",
     "output_type": "stream",
     "text": [
      "C:\\Users\\86173\\anaconda3\\lib\\site-packages\\statsmodels\\tsa\\base\\tsa_model.py:471: ValueWarning: No frequency information was provided, so inferred frequency D will be used.\n",
      "  self._init_dates(dates, freq)\n",
      "C:\\Users\\86173\\anaconda3\\lib\\site-packages\\statsmodels\\tsa\\base\\tsa_model.py:471: ValueWarning: No frequency information was provided, so inferred frequency D will be used.\n",
      "  self._init_dates(dates, freq)\n",
      "C:\\Users\\86173\\anaconda3\\lib\\site-packages\\statsmodels\\tsa\\base\\tsa_model.py:471: ValueWarning: No frequency information was provided, so inferred frequency D will be used.\n",
      "  self._init_dates(dates, freq)\n"
     ]
    },
    {
     "name": "stdout",
     "output_type": "stream",
     "text": [
      "Performing stepwise search to minimize aic\n",
      " ARIMA(0,1,0)(0,0,0)[0] intercept   : AIC=21560.605, Time=0.13 sec\n",
      " ARIMA(1,1,0)(0,0,0)[0] intercept   : AIC=21516.493, Time=0.26 sec\n",
      " ARIMA(0,1,1)(0,0,0)[0] intercept   : AIC=21525.961, Time=0.96 sec\n",
      " ARIMA(0,1,0)(0,0,0)[0]             : AIC=21560.462, Time=0.08 sec\n",
      " ARIMA(2,1,0)(0,0,0)[0] intercept   : AIC=21490.202, Time=0.35 sec\n",
      " ARIMA(3,1,0)(0,0,0)[0] intercept   : AIC=21492.012, Time=0.42 sec\n",
      " ARIMA(2,1,1)(0,0,0)[0] intercept   : AIC=21490.796, Time=2.20 sec\n",
      " ARIMA(1,1,1)(0,0,0)[0] intercept   : AIC=21477.689, Time=2.55 sec\n",
      " ARIMA(1,1,2)(0,0,0)[0] intercept   : AIC=21479.670, Time=3.50 sec\n",
      " ARIMA(0,1,2)(0,0,0)[0] intercept   : AIC=21491.360, Time=1.23 sec\n",
      " ARIMA(2,1,2)(0,0,0)[0] intercept   : AIC=21476.098, Time=2.72 sec\n",
      " ARIMA(3,1,2)(0,0,0)[0] intercept   : AIC=21472.691, Time=5.12 sec\n",
      " ARIMA(3,1,1)(0,0,0)[0] intercept   : AIC=21490.076, Time=3.06 sec\n",
      " ARIMA(3,1,3)(0,0,0)[0] intercept   : AIC=21377.869, Time=7.83 sec\n",
      " ARIMA(2,1,3)(0,0,0)[0] intercept   : AIC=21471.780, Time=5.67 sec\n",
      " ARIMA(3,1,3)(0,0,0)[0]             : AIC=21377.131, Time=4.27 sec\n",
      " ARIMA(2,1,3)(0,0,0)[0]             : AIC=21471.325, Time=2.56 sec\n",
      " ARIMA(3,1,2)(0,0,0)[0]             : AIC=21472.252, Time=2.57 sec\n",
      " ARIMA(2,1,2)(0,0,0)[0]             : AIC=21475.733, Time=1.33 sec\n",
      "\n",
      "Best model:  ARIMA(3,1,3)(0,0,0)[0]          \n",
      "Total fit time: 46.888 seconds\n"
     ]
    },
    {
     "name": "stderr",
     "output_type": "stream",
     "text": [
      "C:\\Users\\86173\\anaconda3\\lib\\site-packages\\statsmodels\\tsa\\base\\tsa_model.py:471: ValueWarning: No frequency information was provided, so inferred frequency D will be used.\n",
      "  self._init_dates(dates, freq)\n",
      "C:\\Users\\86173\\anaconda3\\lib\\site-packages\\statsmodels\\tsa\\base\\tsa_model.py:471: ValueWarning: No frequency information was provided, so inferred frequency D will be used.\n",
      "  self._init_dates(dates, freq)\n",
      "C:\\Users\\86173\\anaconda3\\lib\\site-packages\\statsmodels\\tsa\\base\\tsa_model.py:471: ValueWarning: No frequency information was provided, so inferred frequency D will be used.\n",
      "  self._init_dates(dates, freq)\n"
     ]
    },
    {
     "name": "stdout",
     "output_type": "stream",
     "text": [
      "Performing stepwise search to minimize aic\n",
      " ARIMA(0,1,0)(0,0,0)[0] intercept   : AIC=-4875.472, Time=0.52 sec\n",
      " ARIMA(1,1,0)(0,0,0)[0] intercept   : AIC=-4897.162, Time=0.39 sec\n",
      " ARIMA(0,1,1)(0,0,0)[0] intercept   : AIC=-4891.593, Time=0.76 sec\n",
      " ARIMA(0,1,0)(0,0,0)[0]             : AIC=-4877.057, Time=0.16 sec\n",
      " ARIMA(2,1,0)(0,0,0)[0] intercept   : AIC=-4918.053, Time=0.61 sec\n",
      " ARIMA(3,1,0)(0,0,0)[0] intercept   : AIC=-4916.564, Time=1.06 sec\n",
      " ARIMA(2,1,1)(0,0,0)[0] intercept   : AIC=-4916.895, Time=1.00 sec\n",
      " ARIMA(1,1,1)(0,0,0)[0] intercept   : AIC=-4916.111, Time=0.96 sec\n",
      " ARIMA(3,1,1)(0,0,0)[0] intercept   : AIC=-4914.488, Time=0.60 sec\n",
      " ARIMA(2,1,0)(0,0,0)[0]             : AIC=-4919.651, Time=0.48 sec\n",
      " ARIMA(1,1,0)(0,0,0)[0]             : AIC=-4898.618, Time=0.27 sec\n",
      " ARIMA(3,1,0)(0,0,0)[0]             : AIC=-4918.144, Time=0.67 sec\n",
      " ARIMA(2,1,1)(0,0,0)[0]             : AIC=-4918.460, Time=0.59 sec\n",
      " ARIMA(1,1,1)(0,0,0)[0]             : AIC=-4917.614, Time=0.40 sec\n",
      " ARIMA(3,1,1)(0,0,0)[0]             : AIC=-4916.068, Time=0.61 sec\n",
      "\n",
      "Best model:  ARIMA(2,1,0)(0,0,0)[0]          \n",
      "Total fit time: 9.117 seconds\n"
     ]
    },
    {
     "name": "stderr",
     "output_type": "stream",
     "text": [
      "C:\\Users\\86173\\anaconda3\\lib\\site-packages\\statsmodels\\tsa\\base\\tsa_model.py:471: ValueWarning: No frequency information was provided, so inferred frequency D will be used.\n",
      "  self._init_dates(dates, freq)\n",
      "C:\\Users\\86173\\anaconda3\\lib\\site-packages\\statsmodels\\tsa\\base\\tsa_model.py:471: ValueWarning: No frequency information was provided, so inferred frequency D will be used.\n",
      "  self._init_dates(dates, freq)\n",
      "C:\\Users\\86173\\anaconda3\\lib\\site-packages\\statsmodels\\tsa\\base\\tsa_model.py:471: ValueWarning: No frequency information was provided, so inferred frequency D will be used.\n",
      "  self._init_dates(dates, freq)\n"
     ]
    },
    {
     "name": "stdout",
     "output_type": "stream",
     "text": [
      "Performing stepwise search to minimize aic\n",
      " ARIMA(0,1,0)(0,0,0)[0] intercept   : AIC=-719.818, Time=0.16 sec\n",
      " ARIMA(1,1,0)(0,0,0)[0] intercept   : AIC=-726.042, Time=0.13 sec\n",
      " ARIMA(0,1,1)(0,0,0)[0] intercept   : AIC=-728.541, Time=0.25 sec\n",
      " ARIMA(0,1,0)(0,0,0)[0]             : AIC=-721.640, Time=0.03 sec\n",
      " ARIMA(1,1,1)(0,0,0)[0] intercept   : AIC=-727.054, Time=0.78 sec\n",
      " ARIMA(0,1,2)(0,0,0)[0] intercept   : AIC=-727.359, Time=0.39 sec\n",
      " ARIMA(1,1,2)(0,0,0)[0] intercept   : AIC=-727.281, Time=0.40 sec\n",
      " ARIMA(0,1,1)(0,0,0)[0]             : AIC=-730.062, Time=0.14 sec\n",
      " ARIMA(1,1,1)(0,0,0)[0]             : AIC=-728.489, Time=0.25 sec\n",
      " ARIMA(0,1,2)(0,0,0)[0]             : AIC=-728.755, Time=0.19 sec\n",
      " ARIMA(1,1,0)(0,0,0)[0]             : AIC=-727.734, Time=0.11 sec\n",
      " ARIMA(1,1,2)(0,0,0)[0]             : AIC=-728.651, Time=0.20 sec\n",
      "\n",
      "Best model:  ARIMA(0,1,1)(0,0,0)[0]          \n",
      "Total fit time: 3.060 seconds\n"
     ]
    },
    {
     "name": "stderr",
     "output_type": "stream",
     "text": [
      "C:\\Users\\86173\\anaconda3\\lib\\site-packages\\statsmodels\\tsa\\base\\tsa_model.py:471: ValueWarning: No frequency information was provided, so inferred frequency D will be used.\n",
      "  self._init_dates(dates, freq)\n",
      "C:\\Users\\86173\\anaconda3\\lib\\site-packages\\statsmodels\\tsa\\base\\tsa_model.py:471: ValueWarning: No frequency information was provided, so inferred frequency D will be used.\n",
      "  self._init_dates(dates, freq)\n",
      "C:\\Users\\86173\\anaconda3\\lib\\site-packages\\statsmodels\\tsa\\base\\tsa_model.py:471: ValueWarning: No frequency information was provided, so inferred frequency D will be used.\n",
      "  self._init_dates(dates, freq)\n"
     ]
    },
    {
     "name": "stdout",
     "output_type": "stream",
     "text": [
      "Performing stepwise search to minimize aic\n",
      " ARIMA(0,1,0)(0,0,0)[0] intercept   : AIC=7081.144, Time=0.09 sec\n",
      " ARIMA(1,1,0)(0,0,0)[0] intercept   : AIC=7080.121, Time=0.30 sec\n",
      " ARIMA(0,1,1)(0,0,0)[0] intercept   : AIC=7079.934, Time=0.36 sec\n",
      " ARIMA(0,1,0)(0,0,0)[0]             : AIC=7079.418, Time=0.09 sec\n",
      " ARIMA(1,1,1)(0,0,0)[0] intercept   : AIC=7081.568, Time=1.39 sec\n",
      "\n",
      "Best model:  ARIMA(0,1,0)(0,0,0)[0]          \n",
      "Total fit time: 2.324 seconds\n"
     ]
    },
    {
     "name": "stderr",
     "output_type": "stream",
     "text": [
      "C:\\Users\\86173\\anaconda3\\lib\\site-packages\\statsmodels\\tsa\\base\\tsa_model.py:471: ValueWarning: No frequency information was provided, so inferred frequency D will be used.\n",
      "  self._init_dates(dates, freq)\n",
      "C:\\Users\\86173\\anaconda3\\lib\\site-packages\\statsmodels\\tsa\\base\\tsa_model.py:471: ValueWarning: No frequency information was provided, so inferred frequency D will be used.\n",
      "  self._init_dates(dates, freq)\n",
      "C:\\Users\\86173\\anaconda3\\lib\\site-packages\\statsmodels\\tsa\\base\\tsa_model.py:471: ValueWarning: No frequency information was provided, so inferred frequency D will be used.\n",
      "  self._init_dates(dates, freq)\n"
     ]
    },
    {
     "name": "stdout",
     "output_type": "stream",
     "text": [
      "Performing stepwise search to minimize aic\n",
      " ARIMA(0,1,0)(0,0,0)[0] intercept   : AIC=849.119, Time=0.03 sec\n",
      " ARIMA(1,1,0)(0,0,0)[0] intercept   : AIC=851.057, Time=0.09 sec\n",
      " ARIMA(0,1,1)(0,0,0)[0] intercept   : AIC=851.052, Time=0.12 sec\n",
      " ARIMA(0,1,0)(0,0,0)[0]             : AIC=847.468, Time=0.04 sec\n",
      " ARIMA(1,1,1)(0,0,0)[0] intercept   : AIC=847.894, Time=0.40 sec\n",
      "\n",
      "Best model:  ARIMA(0,1,0)(0,0,0)[0]          \n",
      "Total fit time: 0.701 seconds\n"
     ]
    },
    {
     "name": "stderr",
     "output_type": "stream",
     "text": [
      "C:\\Users\\86173\\anaconda3\\lib\\site-packages\\statsmodels\\tsa\\base\\tsa_model.py:471: ValueWarning: No frequency information was provided, so inferred frequency D will be used.\n",
      "  self._init_dates(dates, freq)\n",
      "C:\\Users\\86173\\anaconda3\\lib\\site-packages\\statsmodels\\tsa\\base\\tsa_model.py:471: ValueWarning: No frequency information was provided, so inferred frequency D will be used.\n",
      "  self._init_dates(dates, freq)\n",
      "C:\\Users\\86173\\anaconda3\\lib\\site-packages\\statsmodels\\tsa\\base\\tsa_model.py:471: ValueWarning: No frequency information was provided, so inferred frequency D will be used.\n",
      "  self._init_dates(dates, freq)\n"
     ]
    },
    {
     "name": "stdout",
     "output_type": "stream",
     "text": [
      "Performing stepwise search to minimize aic\n",
      " ARIMA(0,1,0)(0,0,0)[0] intercept   : AIC=2167.022, Time=0.08 sec\n",
      " ARIMA(1,1,0)(0,0,0)[0] intercept   : AIC=2156.032, Time=0.18 sec\n",
      " ARIMA(0,1,1)(0,0,0)[0] intercept   : AIC=2159.585, Time=0.18 sec\n",
      " ARIMA(0,1,0)(0,0,0)[0]             : AIC=2166.874, Time=0.08 sec\n",
      " ARIMA(2,1,0)(0,0,0)[0] intercept   : AIC=2137.923, Time=0.21 sec\n",
      " ARIMA(3,1,0)(0,0,0)[0] intercept   : AIC=2139.769, Time=0.25 sec\n",
      " ARIMA(2,1,1)(0,0,0)[0] intercept   : AIC=2139.458, Time=0.57 sec\n",
      " ARIMA(1,1,1)(0,0,0)[0] intercept   : AIC=2138.838, Time=0.50 sec\n",
      " ARIMA(3,1,1)(0,0,0)[0] intercept   : AIC=2140.634, Time=0.83 sec\n",
      " ARIMA(2,1,0)(0,0,0)[0]             : AIC=2137.604, Time=0.11 sec\n",
      " ARIMA(1,1,0)(0,0,0)[0]             : AIC=2156.457, Time=0.08 sec\n",
      " ARIMA(3,1,0)(0,0,0)[0]             : AIC=2139.394, Time=0.14 sec\n",
      " ARIMA(2,1,1)(0,0,0)[0]             : AIC=2138.980, Time=0.25 sec\n",
      " ARIMA(1,1,1)(0,0,0)[0]             : AIC=2139.040, Time=0.23 sec\n",
      " ARIMA(3,1,1)(0,0,0)[0]             : AIC=2139.943, Time=0.45 sec\n",
      "\n",
      "Best model:  ARIMA(2,1,0)(0,0,0)[0]          \n",
      "Total fit time: 4.160 seconds\n"
     ]
    },
    {
     "name": "stderr",
     "output_type": "stream",
     "text": [
      "C:\\Users\\86173\\anaconda3\\lib\\site-packages\\statsmodels\\tsa\\base\\tsa_model.py:471: ValueWarning: No frequency information was provided, so inferred frequency D will be used.\n",
      "  self._init_dates(dates, freq)\n",
      "C:\\Users\\86173\\anaconda3\\lib\\site-packages\\statsmodels\\tsa\\base\\tsa_model.py:471: ValueWarning: No frequency information was provided, so inferred frequency D will be used.\n",
      "  self._init_dates(dates, freq)\n",
      "C:\\Users\\86173\\anaconda3\\lib\\site-packages\\statsmodels\\tsa\\base\\tsa_model.py:471: ValueWarning: No frequency information was provided, so inferred frequency D will be used.\n",
      "  self._init_dates(dates, freq)\n"
     ]
    },
    {
     "name": "stdout",
     "output_type": "stream",
     "text": [
      "Performing stepwise search to minimize aic\n",
      " ARIMA(0,1,0)(0,0,0)[0] intercept   : AIC=-3198.150, Time=0.24 sec\n",
      " ARIMA(1,1,0)(0,0,0)[0] intercept   : AIC=-3197.726, Time=0.32 sec\n",
      " ARIMA(0,1,1)(0,0,0)[0] intercept   : AIC=-3198.062, Time=0.30 sec\n",
      " ARIMA(0,1,0)(0,0,0)[0]             : AIC=-3198.813, Time=0.08 sec\n",
      " ARIMA(1,1,1)(0,0,0)[0] intercept   : AIC=-3194.140, Time=0.63 sec\n",
      "\n",
      "Best model:  ARIMA(0,1,0)(0,0,0)[0]          \n",
      "Total fit time: 1.616 seconds\n"
     ]
    },
    {
     "name": "stderr",
     "output_type": "stream",
     "text": [
      "C:\\Users\\86173\\anaconda3\\lib\\site-packages\\statsmodels\\tsa\\base\\tsa_model.py:471: ValueWarning: A date index has been provided, but it has no associated frequency information and so will be ignored when e.g. forecasting.\n",
      "  self._init_dates(dates, freq)\n",
      "C:\\Users\\86173\\anaconda3\\lib\\site-packages\\statsmodels\\tsa\\base\\tsa_model.py:471: ValueWarning: A date index has been provided, but it has no associated frequency information and so will be ignored when e.g. forecasting.\n",
      "  self._init_dates(dates, freq)\n",
      "C:\\Users\\86173\\anaconda3\\lib\\site-packages\\statsmodels\\tsa\\base\\tsa_model.py:471: ValueWarning: A date index has been provided, but it has no associated frequency information and so will be ignored when e.g. forecasting.\n",
      "  self._init_dates(dates, freq)\n",
      "C:\\Users\\86173\\anaconda3\\lib\\site-packages\\statsmodels\\tsa\\base\\tsa_model.py:834: ValueWarning: No supported index is available. Prediction results will be given with an integer index beginning at `start`.\n",
      "  return get_prediction_index(\n"
     ]
    },
    {
     "name": "stdout",
     "output_type": "stream",
     "text": [
      "Performing stepwise search to minimize aic\n",
      " ARIMA(0,1,0)(0,0,0)[0] intercept   : AIC=10052.840, Time=0.09 sec\n",
      " ARIMA(1,1,0)(0,0,0)[0] intercept   : AIC=10048.518, Time=0.41 sec\n",
      " ARIMA(0,1,1)(0,0,0)[0] intercept   : AIC=10047.931, Time=0.36 sec\n",
      " ARIMA(0,1,0)(0,0,0)[0]             : AIC=10051.256, Time=0.08 sec\n",
      " ARIMA(1,1,1)(0,0,0)[0] intercept   : AIC=10047.997, Time=1.33 sec\n",
      " ARIMA(0,1,2)(0,0,0)[0] intercept   : AIC=10047.753, Time=1.18 sec\n",
      " ARIMA(1,1,2)(0,0,0)[0] intercept   : AIC=10049.492, Time=1.86 sec\n",
      " ARIMA(0,1,3)(0,0,0)[0] intercept   : AIC=10047.870, Time=292.89 sec\n",
      " ARIMA(1,1,3)(0,0,0)[0] intercept   : AIC=10047.982, Time=2.45 sec\n",
      " ARIMA(0,1,2)(0,0,0)[0]             : AIC=10046.301, Time=0.52 sec\n",
      " ARIMA(0,1,1)(0,0,0)[0]             : AIC=10046.428, Time=0.14 sec\n",
      " ARIMA(1,1,2)(0,0,0)[0]             : AIC=10048.046, Time=0.44 sec\n",
      " ARIMA(0,1,3)(0,0,0)[0]             : AIC=10046.445, Time=0.20 sec\n",
      " ARIMA(1,1,1)(0,0,0)[0]             : AIC=10046.542, Time=0.15 sec\n",
      " ARIMA(1,1,3)(0,0,0)[0]             : AIC=10046.558, Time=0.69 sec\n",
      "\n",
      "Best model:  ARIMA(0,1,2)(0,0,0)[0]          \n",
      "Total fit time: 302.890 seconds\n"
     ]
    },
    {
     "name": "stderr",
     "output_type": "stream",
     "text": [
      "C:\\Users\\86173\\anaconda3\\lib\\site-packages\\statsmodels\\tsa\\base\\tsa_model.py:471: ValueWarning: No frequency information was provided, so inferred frequency D will be used.\n",
      "  self._init_dates(dates, freq)\n",
      "C:\\Users\\86173\\anaconda3\\lib\\site-packages\\statsmodels\\tsa\\base\\tsa_model.py:471: ValueWarning: No frequency information was provided, so inferred frequency D will be used.\n",
      "  self._init_dates(dates, freq)\n",
      "C:\\Users\\86173\\anaconda3\\lib\\site-packages\\statsmodels\\tsa\\base\\tsa_model.py:471: ValueWarning: No frequency information was provided, so inferred frequency D will be used.\n",
      "  self._init_dates(dates, freq)\n"
     ]
    },
    {
     "name": "stdout",
     "output_type": "stream",
     "text": [
      "Performing stepwise search to minimize aic\n",
      " ARIMA(0,1,0)(0,0,0)[0] intercept   : AIC=-4238.070, Time=0.23 sec\n",
      " ARIMA(1,1,0)(0,0,0)[0] intercept   : AIC=-4298.741, Time=0.62 sec\n",
      " ARIMA(0,1,1)(0,0,0)[0] intercept   : AIC=-4287.744, Time=0.92 sec\n",
      " ARIMA(0,1,0)(0,0,0)[0]             : AIC=-4239.814, Time=0.28 sec\n",
      " ARIMA(2,1,0)(0,0,0)[0] intercept   : AIC=-4300.218, Time=1.07 sec\n",
      " ARIMA(3,1,0)(0,0,0)[0] intercept   : AIC=-4298.430, Time=1.82 sec\n",
      " ARIMA(2,1,1)(0,0,0)[0] intercept   : AIC=-4299.197, Time=1.71 sec\n",
      " ARIMA(1,1,1)(0,0,0)[0] intercept   : AIC=-4301.085, Time=0.94 sec\n",
      " ARIMA(1,1,2)(0,0,0)[0] intercept   : AIC=-4298.407, Time=1.14 sec\n",
      " ARIMA(0,1,2)(0,0,0)[0] intercept   : AIC=-4298.176, Time=0.36 sec\n",
      " ARIMA(2,1,2)(0,0,0)[0] intercept   : AIC=-4296.132, Time=0.54 sec\n",
      " ARIMA(1,1,1)(0,0,0)[0]             : AIC=-4302.709, Time=0.33 sec\n",
      " ARIMA(0,1,1)(0,0,0)[0]             : AIC=-4289.266, Time=0.47 sec\n",
      " ARIMA(1,1,0)(0,0,0)[0]             : AIC=-4300.291, Time=0.30 sec\n",
      " ARIMA(2,1,1)(0,0,0)[0]             : AIC=-4300.866, Time=0.63 sec\n",
      " ARIMA(1,1,2)(0,0,0)[0]             : AIC=-4299.967, Time=0.67 sec\n",
      " ARIMA(0,1,2)(0,0,0)[0]             : AIC=-4300.045, Time=0.47 sec\n",
      " ARIMA(2,1,0)(0,0,0)[0]             : AIC=-4301.838, Time=0.14 sec\n",
      " ARIMA(2,1,2)(0,0,0)[0]             : AIC=-4297.723, Time=0.44 sec\n",
      "\n",
      "Best model:  ARIMA(1,1,1)(0,0,0)[0]          \n",
      "Total fit time: 13.127 seconds\n"
     ]
    },
    {
     "name": "stderr",
     "output_type": "stream",
     "text": [
      "C:\\Users\\86173\\anaconda3\\lib\\site-packages\\statsmodels\\tsa\\base\\tsa_model.py:471: ValueWarning: No frequency information was provided, so inferred frequency D will be used.\n",
      "  self._init_dates(dates, freq)\n",
      "C:\\Users\\86173\\anaconda3\\lib\\site-packages\\statsmodels\\tsa\\base\\tsa_model.py:471: ValueWarning: No frequency information was provided, so inferred frequency D will be used.\n",
      "  self._init_dates(dates, freq)\n",
      "C:\\Users\\86173\\anaconda3\\lib\\site-packages\\statsmodels\\tsa\\base\\tsa_model.py:471: ValueWarning: No frequency information was provided, so inferred frequency D will be used.\n",
      "  self._init_dates(dates, freq)\n"
     ]
    },
    {
     "name": "stdout",
     "output_type": "stream",
     "text": [
      "Performing stepwise search to minimize aic\n",
      " ARIMA(0,1,0)(0,0,0)[0] intercept   : AIC=1032.586, Time=0.16 sec\n",
      " ARIMA(1,1,0)(0,0,0)[0] intercept   : AIC=1010.293, Time=0.16 sec\n",
      " ARIMA(0,1,1)(0,0,0)[0] intercept   : AIC=1011.315, Time=0.18 sec\n",
      " ARIMA(0,1,0)(0,0,0)[0]             : AIC=1032.506, Time=0.07 sec\n",
      " ARIMA(2,1,0)(0,0,0)[0] intercept   : AIC=1011.917, Time=0.18 sec\n",
      " ARIMA(1,1,1)(0,0,0)[0] intercept   : AIC=1012.105, Time=0.29 sec\n",
      " ARIMA(2,1,1)(0,0,0)[0] intercept   : AIC=1008.593, Time=0.89 sec\n",
      " ARIMA(3,1,1)(0,0,0)[0] intercept   : AIC=1010.137, Time=0.82 sec\n",
      " ARIMA(2,1,2)(0,0,0)[0] intercept   : AIC=999.667, Time=1.25 sec\n",
      " ARIMA(1,1,2)(0,0,0)[0] intercept   : AIC=1011.169, Time=0.67 sec\n",
      " ARIMA(3,1,2)(0,0,0)[0] intercept   : AIC=inf, Time=2.06 sec\n",
      " ARIMA(2,1,3)(0,0,0)[0] intercept   : AIC=inf, Time=1.12 sec\n",
      " ARIMA(1,1,3)(0,0,0)[0] intercept   : AIC=1008.169, Time=0.81 sec\n",
      " ARIMA(3,1,3)(0,0,0)[0] intercept   : AIC=inf, Time=2.38 sec\n",
      " ARIMA(2,1,2)(0,0,0)[0]             : AIC=999.911, Time=1.14 sec\n",
      "\n",
      "Best model:  ARIMA(2,1,2)(0,0,0)[0] intercept\n",
      "Total fit time: 12.202 seconds\n"
     ]
    },
    {
     "name": "stderr",
     "output_type": "stream",
     "text": [
      "C:\\Users\\86173\\anaconda3\\lib\\site-packages\\statsmodels\\tsa\\base\\tsa_model.py:471: ValueWarning: No frequency information was provided, so inferred frequency D will be used.\n",
      "  self._init_dates(dates, freq)\n",
      "C:\\Users\\86173\\anaconda3\\lib\\site-packages\\statsmodels\\tsa\\base\\tsa_model.py:471: ValueWarning: No frequency information was provided, so inferred frequency D will be used.\n",
      "  self._init_dates(dates, freq)\n",
      "C:\\Users\\86173\\anaconda3\\lib\\site-packages\\statsmodels\\tsa\\base\\tsa_model.py:471: ValueWarning: No frequency information was provided, so inferred frequency D will be used.\n",
      "  self._init_dates(dates, freq)\n"
     ]
    },
    {
     "name": "stdout",
     "output_type": "stream",
     "text": [
      "Performing stepwise search to minimize aic\n",
      " ARIMA(0,0,0)(0,0,0)[0]             : AIC=-5601.954, Time=0.20 sec\n",
      " ARIMA(1,0,0)(0,0,0)[0]             : AIC=-10256.894, Time=0.22 sec\n",
      " ARIMA(0,0,1)(0,0,0)[0]             : AIC=-7294.749, Time=0.45 sec\n",
      " ARIMA(2,0,0)(0,0,0)[0]             : AIC=-10261.419, Time=0.34 sec\n",
      " ARIMA(3,0,0)(0,0,0)[0]             : AIC=-10308.734, Time=0.52 sec\n",
      " ARIMA(3,0,1)(0,0,0)[0]             : AIC=-10357.711, Time=0.71 sec\n",
      " ARIMA(2,0,1)(0,0,0)[0]             : AIC=-10374.285, Time=1.67 sec\n",
      " ARIMA(1,0,1)(0,0,0)[0]             : AIC=-10266.090, Time=0.31 sec\n",
      " ARIMA(2,0,2)(0,0,0)[0]             : AIC=-10320.070, Time=2.79 sec\n",
      " ARIMA(1,0,2)(0,0,0)[0]             : AIC=-10392.609, Time=1.69 sec\n",
      " ARIMA(0,0,2)(0,0,0)[0]             : AIC=-8301.088, Time=1.41 sec\n",
      " ARIMA(1,0,3)(0,0,0)[0]             : AIC=-10369.282, Time=2.74 sec\n",
      " ARIMA(0,0,3)(0,0,0)[0]             : AIC=-8869.614, Time=2.13 sec\n",
      " ARIMA(2,0,3)(0,0,0)[0]             : AIC=-10349.582, Time=2.28 sec\n",
      " ARIMA(1,0,2)(0,0,0)[0] intercept   : AIC=-10329.859, Time=3.54 sec\n",
      "\n",
      "Best model:  ARIMA(1,0,2)(0,0,0)[0]          \n",
      "Total fit time: 21.075 seconds\n"
     ]
    },
    {
     "name": "stderr",
     "output_type": "stream",
     "text": [
      "C:\\Users\\86173\\anaconda3\\lib\\site-packages\\statsmodels\\tsa\\base\\tsa_model.py:471: ValueWarning: No frequency information was provided, so inferred frequency D will be used.\n",
      "  self._init_dates(dates, freq)\n",
      "C:\\Users\\86173\\anaconda3\\lib\\site-packages\\statsmodels\\tsa\\base\\tsa_model.py:471: ValueWarning: No frequency information was provided, so inferred frequency D will be used.\n",
      "  self._init_dates(dates, freq)\n",
      "C:\\Users\\86173\\anaconda3\\lib\\site-packages\\statsmodels\\tsa\\base\\tsa_model.py:471: ValueWarning: No frequency information was provided, so inferred frequency D will be used.\n",
      "  self._init_dates(dates, freq)\n",
      "C:\\Users\\86173\\anaconda3\\lib\\site-packages\\statsmodels\\base\\model.py:604: ConvergenceWarning: Maximum Likelihood optimization failed to converge. Check mle_retvals\n",
      "  warnings.warn(\"Maximum Likelihood optimization failed to \"\n"
     ]
    },
    {
     "name": "stdout",
     "output_type": "stream",
     "text": [
      "Performing stepwise search to minimize aic\n",
      " ARIMA(0,1,0)(0,0,0)[0] intercept   : AIC=2573.296, Time=0.29 sec\n",
      " ARIMA(1,1,0)(0,0,0)[0] intercept   : AIC=2553.010, Time=0.26 sec\n",
      " ARIMA(0,1,1)(0,0,0)[0] intercept   : AIC=2560.804, Time=0.36 sec\n",
      " ARIMA(0,1,0)(0,0,0)[0]             : AIC=2571.598, Time=0.09 sec\n",
      " ARIMA(2,1,0)(0,0,0)[0] intercept   : AIC=2460.684, Time=0.43 sec\n",
      " ARIMA(3,1,0)(0,0,0)[0] intercept   : AIC=2462.642, Time=0.60 sec\n",
      " ARIMA(2,1,1)(0,0,0)[0] intercept   : AIC=2462.659, Time=0.86 sec\n",
      " ARIMA(1,1,1)(0,0,0)[0] intercept   : AIC=2510.393, Time=0.85 sec\n",
      " ARIMA(3,1,1)(0,0,0)[0] intercept   : AIC=2463.960, Time=2.35 sec\n",
      " ARIMA(2,1,0)(0,0,0)[0]             : AIC=2458.908, Time=0.20 sec\n",
      " ARIMA(1,1,0)(0,0,0)[0]             : AIC=2551.396, Time=0.13 sec\n",
      " ARIMA(3,1,0)(0,0,0)[0]             : AIC=2460.863, Time=0.24 sec\n",
      " ARIMA(2,1,1)(0,0,0)[0]             : AIC=2460.882, Time=0.58 sec\n",
      " ARIMA(1,1,1)(0,0,0)[0]             : AIC=2508.765, Time=0.39 sec\n",
      " ARIMA(3,1,1)(0,0,0)[0]             : AIC=2462.177, Time=1.08 sec\n",
      "\n",
      "Best model:  ARIMA(2,1,0)(0,0,0)[0]          \n",
      "Total fit time: 8.799 seconds\n"
     ]
    },
    {
     "name": "stderr",
     "output_type": "stream",
     "text": [
      "C:\\Users\\86173\\anaconda3\\lib\\site-packages\\statsmodels\\tsa\\base\\tsa_model.py:471: ValueWarning: No frequency information was provided, so inferred frequency D will be used.\n",
      "  self._init_dates(dates, freq)\n",
      "C:\\Users\\86173\\anaconda3\\lib\\site-packages\\statsmodels\\tsa\\base\\tsa_model.py:471: ValueWarning: No frequency information was provided, so inferred frequency D will be used.\n",
      "  self._init_dates(dates, freq)\n",
      "C:\\Users\\86173\\anaconda3\\lib\\site-packages\\statsmodels\\tsa\\base\\tsa_model.py:471: ValueWarning: No frequency information was provided, so inferred frequency D will be used.\n",
      "  self._init_dates(dates, freq)\n"
     ]
    },
    {
     "name": "stdout",
     "output_type": "stream",
     "text": [
      "Performing stepwise search to minimize aic\n",
      " ARIMA(0,0,0)(0,0,0)[0]             : AIC=1342.928, Time=0.02 sec\n",
      " ARIMA(1,0,0)(0,0,0)[0]             : AIC=inf, Time=0.08 sec\n",
      " ARIMA(0,0,1)(0,0,0)[0]             : AIC=1218.764, Time=0.11 sec\n",
      " ARIMA(1,0,1)(0,0,0)[0]             : AIC=941.887, Time=0.12 sec\n",
      " ARIMA(2,0,1)(0,0,0)[0]             : AIC=941.790, Time=0.22 sec\n",
      " ARIMA(2,0,0)(0,0,0)[0]             : AIC=inf, Time=0.11 sec\n",
      " ARIMA(3,0,1)(0,0,0)[0]             : AIC=941.683, Time=0.25 sec\n",
      " ARIMA(3,0,0)(0,0,0)[0]             : AIC=inf, Time=0.14 sec\n",
      " ARIMA(3,0,2)(0,0,0)[0]             : AIC=inf, Time=0.63 sec\n",
      " ARIMA(2,0,2)(0,0,0)[0]             : AIC=943.152, Time=0.38 sec\n",
      " ARIMA(3,0,1)(0,0,0)[0] intercept   : AIC=942.509, Time=0.42 sec\n",
      "\n",
      "Best model:  ARIMA(3,0,1)(0,0,0)[0]          \n",
      "Total fit time: 2.495 seconds\n"
     ]
    },
    {
     "name": "stderr",
     "output_type": "stream",
     "text": [
      "C:\\Users\\86173\\anaconda3\\lib\\site-packages\\statsmodels\\tsa\\base\\tsa_model.py:471: ValueWarning: No frequency information was provided, so inferred frequency D will be used.\n",
      "  self._init_dates(dates, freq)\n",
      "C:\\Users\\86173\\anaconda3\\lib\\site-packages\\statsmodels\\tsa\\base\\tsa_model.py:471: ValueWarning: No frequency information was provided, so inferred frequency D will be used.\n",
      "  self._init_dates(dates, freq)\n",
      "C:\\Users\\86173\\anaconda3\\lib\\site-packages\\statsmodels\\tsa\\base\\tsa_model.py:471: ValueWarning: No frequency information was provided, so inferred frequency D will be used.\n",
      "  self._init_dates(dates, freq)\n"
     ]
    },
    {
     "name": "stdout",
     "output_type": "stream",
     "text": [
      "Performing stepwise search to minimize aic\n",
      " ARIMA(0,1,0)(0,0,0)[0] intercept   : AIC=-2162.012, Time=0.56 sec\n",
      " ARIMA(1,1,0)(0,0,0)[0] intercept   : AIC=-2160.418, Time=0.34 sec\n",
      " ARIMA(0,1,1)(0,0,0)[0] intercept   : AIC=-2160.363, Time=0.56 sec\n",
      " ARIMA(0,1,0)(0,0,0)[0]             : AIC=-2163.997, Time=0.50 sec\n",
      " ARIMA(1,1,1)(0,0,0)[0] intercept   : AIC=-2158.026, Time=0.81 sec\n",
      "\n",
      "Best model:  ARIMA(0,1,0)(0,0,0)[0]          \n",
      "Total fit time: 2.824 seconds\n"
     ]
    },
    {
     "name": "stderr",
     "output_type": "stream",
     "text": [
      "C:\\Users\\86173\\anaconda3\\lib\\site-packages\\statsmodels\\tsa\\base\\tsa_model.py:471: ValueWarning: No frequency information was provided, so inferred frequency D will be used.\n",
      "  self._init_dates(dates, freq)\n",
      "C:\\Users\\86173\\anaconda3\\lib\\site-packages\\statsmodels\\tsa\\base\\tsa_model.py:471: ValueWarning: No frequency information was provided, so inferred frequency D will be used.\n",
      "  self._init_dates(dates, freq)\n",
      "C:\\Users\\86173\\anaconda3\\lib\\site-packages\\statsmodels\\tsa\\base\\tsa_model.py:471: ValueWarning: No frequency information was provided, so inferred frequency D will be used.\n",
      "  self._init_dates(dates, freq)\n",
      "C:\\Users\\86173\\anaconda3\\lib\\site-packages\\statsmodels\\base\\model.py:604: ConvergenceWarning: Maximum Likelihood optimization failed to converge. Check mle_retvals\n",
      "  warnings.warn(\"Maximum Likelihood optimization failed to \"\n"
     ]
    },
    {
     "name": "stdout",
     "output_type": "stream",
     "text": [
      "Performing stepwise search to minimize aic\n",
      " ARIMA(0,1,0)(0,0,0)[0] intercept   : AIC=118.991, Time=0.22 sec\n",
      " ARIMA(1,1,0)(0,0,0)[0] intercept   : AIC=108.986, Time=0.18 sec\n",
      " ARIMA(0,1,1)(0,0,0)[0] intercept   : AIC=110.272, Time=0.50 sec\n",
      " ARIMA(0,1,0)(0,0,0)[0]             : AIC=117.996, Time=0.14 sec\n",
      " ARIMA(2,1,0)(0,0,0)[0] intercept   : AIC=109.218, Time=0.31 sec\n",
      " ARIMA(1,1,1)(0,0,0)[0] intercept   : AIC=107.768, Time=0.54 sec\n",
      " ARIMA(2,1,1)(0,0,0)[0] intercept   : AIC=109.522, Time=1.11 sec\n",
      " ARIMA(1,1,2)(0,0,0)[0] intercept   : AIC=109.515, Time=0.83 sec\n",
      " ARIMA(0,1,2)(0,0,0)[0] intercept   : AIC=109.460, Time=0.39 sec\n",
      " ARIMA(2,1,2)(0,0,0)[0] intercept   : AIC=111.515, Time=1.55 sec\n",
      " ARIMA(1,1,1)(0,0,0)[0]             : AIC=106.931, Time=0.29 sec\n",
      " ARIMA(0,1,1)(0,0,0)[0]             : AIC=109.578, Time=0.13 sec\n",
      " ARIMA(1,1,0)(0,0,0)[0]             : AIC=108.287, Time=0.10 sec\n",
      " ARIMA(2,1,1)(0,0,0)[0]             : AIC=110.382, Time=0.19 sec\n",
      " ARIMA(1,1,2)(0,0,0)[0]             : AIC=108.722, Time=0.42 sec\n",
      " ARIMA(0,1,2)(0,0,0)[0]             : AIC=108.619, Time=0.17 sec\n",
      " ARIMA(2,1,0)(0,0,0)[0]             : AIC=108.382, Time=0.15 sec\n",
      " ARIMA(2,1,2)(0,0,0)[0]             : AIC=110.722, Time=0.70 sec\n",
      "\n",
      "Best model:  ARIMA(1,1,1)(0,0,0)[0]          \n",
      "Total fit time: 7.952 seconds\n"
     ]
    },
    {
     "name": "stderr",
     "output_type": "stream",
     "text": [
      "C:\\Users\\86173\\anaconda3\\lib\\site-packages\\statsmodels\\tsa\\base\\tsa_model.py:471: ValueWarning: No frequency information was provided, so inferred frequency D will be used.\n",
      "  self._init_dates(dates, freq)\n",
      "C:\\Users\\86173\\anaconda3\\lib\\site-packages\\statsmodels\\tsa\\base\\tsa_model.py:471: ValueWarning: No frequency information was provided, so inferred frequency D will be used.\n",
      "  self._init_dates(dates, freq)\n",
      "C:\\Users\\86173\\anaconda3\\lib\\site-packages\\statsmodels\\tsa\\base\\tsa_model.py:471: ValueWarning: No frequency information was provided, so inferred frequency D will be used.\n",
      "  self._init_dates(dates, freq)\n"
     ]
    },
    {
     "name": "stdout",
     "output_type": "stream",
     "text": [
      "Performing stepwise search to minimize aic\n",
      " ARIMA(0,1,0)(0,0,0)[0] intercept   : AIC=-979.719, Time=0.17 sec\n",
      " ARIMA(1,1,0)(0,0,0)[0] intercept   : AIC=-978.510, Time=0.24 sec\n",
      " ARIMA(0,1,1)(0,0,0)[0] intercept   : AIC=-978.281, Time=0.30 sec\n",
      " ARIMA(0,1,0)(0,0,0)[0]             : AIC=-981.123, Time=0.11 sec\n",
      " ARIMA(1,1,1)(0,0,0)[0] intercept   : AIC=-986.025, Time=0.87 sec\n",
      " ARIMA(2,1,1)(0,0,0)[0] intercept   : AIC=-999.290, Time=1.27 sec\n",
      " ARIMA(2,1,0)(0,0,0)[0] intercept   : AIC=-998.700, Time=0.17 sec\n",
      " ARIMA(3,1,1)(0,0,0)[0] intercept   : AIC=-998.609, Time=1.65 sec\n",
      " ARIMA(2,1,2)(0,0,0)[0] intercept   : AIC=-1000.473, Time=1.51 sec\n",
      " ARIMA(1,1,2)(0,0,0)[0] intercept   : AIC=-1002.097, Time=1.04 sec\n",
      " ARIMA(0,1,2)(0,0,0)[0] intercept   : AIC=-998.265, Time=0.52 sec\n",
      " ARIMA(1,1,3)(0,0,0)[0] intercept   : AIC=-1000.472, Time=1.46 sec\n",
      " ARIMA(0,1,3)(0,0,0)[0] intercept   : AIC=-1002.147, Time=0.68 sec\n",
      " ARIMA(0,1,3)(0,0,0)[0]             : AIC=-1003.779, Time=0.28 sec\n",
      " ARIMA(0,1,2)(0,0,0)[0]             : AIC=-999.833, Time=0.34 sec\n",
      " ARIMA(1,1,3)(0,0,0)[0]             : AIC=-1002.128, Time=0.56 sec\n",
      " ARIMA(1,1,2)(0,0,0)[0]             : AIC=-1003.766, Time=0.52 sec\n",
      "\n",
      "Best model:  ARIMA(0,1,3)(0,0,0)[0]          \n",
      "Total fit time: 11.706 seconds\n"
     ]
    },
    {
     "name": "stderr",
     "output_type": "stream",
     "text": [
      "C:\\Users\\86173\\anaconda3\\lib\\site-packages\\statsmodels\\tsa\\base\\tsa_model.py:471: ValueWarning: No frequency information was provided, so inferred frequency D will be used.\n",
      "  self._init_dates(dates, freq)\n",
      "C:\\Users\\86173\\anaconda3\\lib\\site-packages\\statsmodels\\tsa\\base\\tsa_model.py:471: ValueWarning: No frequency information was provided, so inferred frequency D will be used.\n",
      "  self._init_dates(dates, freq)\n",
      "C:\\Users\\86173\\anaconda3\\lib\\site-packages\\statsmodels\\tsa\\base\\tsa_model.py:471: ValueWarning: No frequency information was provided, so inferred frequency D will be used.\n",
      "  self._init_dates(dates, freq)\n"
     ]
    },
    {
     "name": "stdout",
     "output_type": "stream",
     "text": [
      "Performing stepwise search to minimize aic\n",
      " ARIMA(0,1,0)(0,0,0)[0] intercept   : AIC=2026.514, Time=0.34 sec\n",
      " ARIMA(1,1,0)(0,0,0)[0] intercept   : AIC=2025.694, Time=0.26 sec\n",
      " ARIMA(0,1,1)(0,0,0)[0] intercept   : AIC=2025.816, Time=0.45 sec\n",
      " ARIMA(0,1,0)(0,0,0)[0]             : AIC=2024.971, Time=0.19 sec\n",
      " ARIMA(1,1,1)(0,0,0)[0] intercept   : AIC=2016.921, Time=1.48 sec\n",
      " ARIMA(2,1,1)(0,0,0)[0] intercept   : AIC=2015.717, Time=1.85 sec\n",
      " ARIMA(2,1,0)(0,0,0)[0] intercept   : AIC=2026.708, Time=0.41 sec\n",
      " ARIMA(3,1,1)(0,0,0)[0] intercept   : AIC=2000.534, Time=1.59 sec\n",
      " ARIMA(3,1,0)(0,0,0)[0] intercept   : AIC=2008.989, Time=0.64 sec\n",
      " ARIMA(3,1,2)(0,0,0)[0] intercept   : AIC=1970.049, Time=3.87 sec\n",
      " ARIMA(2,1,2)(0,0,0)[0] intercept   : AIC=1977.885, Time=3.05 sec\n",
      " ARIMA(3,1,3)(0,0,0)[0] intercept   : AIC=1971.762, Time=4.51 sec\n",
      " ARIMA(2,1,3)(0,0,0)[0] intercept   : AIC=1969.778, Time=2.82 sec\n",
      " ARIMA(1,1,3)(0,0,0)[0] intercept   : AIC=1989.966, Time=1.98 sec\n",
      " ARIMA(1,1,2)(0,0,0)[0] intercept   : AIC=2014.193, Time=2.15 sec\n",
      " ARIMA(2,1,3)(0,0,0)[0]             : AIC=1968.075, Time=1.31 sec\n",
      " ARIMA(1,1,3)(0,0,0)[0]             : AIC=1988.206, Time=1.17 sec\n",
      " ARIMA(2,1,2)(0,0,0)[0]             : AIC=1976.234, Time=0.99 sec\n",
      " ARIMA(3,1,3)(0,0,0)[0]             : AIC=1970.061, Time=2.46 sec\n",
      " ARIMA(1,1,2)(0,0,0)[0]             : AIC=2012.465, Time=0.54 sec\n",
      " ARIMA(3,1,2)(0,0,0)[0]             : AIC=1968.339, Time=1.10 sec\n",
      "\n",
      "Best model:  ARIMA(2,1,3)(0,0,0)[0]          \n",
      "Total fit time: 33.269 seconds\n"
     ]
    },
    {
     "name": "stderr",
     "output_type": "stream",
     "text": [
      "C:\\Users\\86173\\anaconda3\\lib\\site-packages\\statsmodels\\tsa\\base\\tsa_model.py:471: ValueWarning: No frequency information was provided, so inferred frequency D will be used.\n",
      "  self._init_dates(dates, freq)\n",
      "C:\\Users\\86173\\anaconda3\\lib\\site-packages\\statsmodels\\tsa\\base\\tsa_model.py:471: ValueWarning: No frequency information was provided, so inferred frequency D will be used.\n",
      "  self._init_dates(dates, freq)\n",
      "C:\\Users\\86173\\anaconda3\\lib\\site-packages\\statsmodels\\tsa\\base\\tsa_model.py:471: ValueWarning: No frequency information was provided, so inferred frequency D will be used.\n",
      "  self._init_dates(dates, freq)\n"
     ]
    },
    {
     "name": "stdout",
     "output_type": "stream",
     "text": [
      "Performing stepwise search to minimize aic\n",
      " ARIMA(0,1,0)(0,0,0)[0] intercept   : AIC=5397.466, Time=0.05 sec\n",
      " ARIMA(1,1,0)(0,0,0)[0] intercept   : AIC=5397.271, Time=0.22 sec\n",
      " ARIMA(0,1,1)(0,0,0)[0] intercept   : AIC=5397.171, Time=0.28 sec\n",
      " ARIMA(0,1,0)(0,0,0)[0]             : AIC=5395.912, Time=0.06 sec\n",
      " ARIMA(1,1,1)(0,0,0)[0] intercept   : AIC=5399.034, Time=0.79 sec\n",
      "\n",
      "Best model:  ARIMA(0,1,0)(0,0,0)[0]          \n",
      "Total fit time: 1.429 seconds\n"
     ]
    },
    {
     "name": "stderr",
     "output_type": "stream",
     "text": [
      "C:\\Users\\86173\\anaconda3\\lib\\site-packages\\statsmodels\\tsa\\base\\tsa_model.py:471: ValueWarning: No frequency information was provided, so inferred frequency D will be used.\n",
      "  self._init_dates(dates, freq)\n",
      "C:\\Users\\86173\\anaconda3\\lib\\site-packages\\statsmodels\\tsa\\base\\tsa_model.py:471: ValueWarning: No frequency information was provided, so inferred frequency D will be used.\n",
      "  self._init_dates(dates, freq)\n",
      "C:\\Users\\86173\\anaconda3\\lib\\site-packages\\statsmodels\\tsa\\base\\tsa_model.py:471: ValueWarning: No frequency information was provided, so inferred frequency D will be used.\n",
      "  self._init_dates(dates, freq)\n"
     ]
    },
    {
     "name": "stdout",
     "output_type": "stream",
     "text": [
      "Performing stepwise search to minimize aic\n",
      " ARIMA(0,1,0)(0,0,0)[0] intercept   : AIC=170.369, Time=0.06 sec\n",
      " ARIMA(1,1,0)(0,0,0)[0] intercept   : AIC=170.936, Time=0.15 sec\n",
      " ARIMA(0,1,1)(0,0,0)[0] intercept   : AIC=171.082, Time=0.13 sec\n",
      " ARIMA(0,1,0)(0,0,0)[0]             : AIC=169.037, Time=0.05 sec\n",
      " ARIMA(1,1,1)(0,0,0)[0] intercept   : AIC=171.586, Time=0.48 sec\n",
      "\n",
      "Best model:  ARIMA(0,1,0)(0,0,0)[0]          \n",
      "Total fit time: 0.888 seconds\n"
     ]
    },
    {
     "name": "stderr",
     "output_type": "stream",
     "text": [
      "C:\\Users\\86173\\anaconda3\\lib\\site-packages\\statsmodels\\tsa\\base\\tsa_model.py:471: ValueWarning: No frequency information was provided, so inferred frequency D will be used.\n",
      "  self._init_dates(dates, freq)\n",
      "C:\\Users\\86173\\anaconda3\\lib\\site-packages\\statsmodels\\tsa\\base\\tsa_model.py:471: ValueWarning: No frequency information was provided, so inferred frequency D will be used.\n",
      "  self._init_dates(dates, freq)\n",
      "C:\\Users\\86173\\anaconda3\\lib\\site-packages\\statsmodels\\tsa\\base\\tsa_model.py:471: ValueWarning: No frequency information was provided, so inferred frequency D will be used.\n",
      "  self._init_dates(dates, freq)\n"
     ]
    },
    {
     "name": "stdout",
     "output_type": "stream",
     "text": [
      "Performing stepwise search to minimize aic\n",
      " ARIMA(0,1,0)(0,0,0)[0] intercept   : AIC=12863.627, Time=0.11 sec\n",
      " ARIMA(1,1,0)(0,0,0)[0] intercept   : AIC=12860.839, Time=0.37 sec\n",
      " ARIMA(0,1,1)(0,0,0)[0] intercept   : AIC=12860.752, Time=0.54 sec\n",
      " ARIMA(0,1,0)(0,0,0)[0]             : AIC=12861.872, Time=0.11 sec\n",
      " ARIMA(1,1,1)(0,0,0)[0] intercept   : AIC=12862.724, Time=0.83 sec\n",
      " ARIMA(0,1,2)(0,0,0)[0] intercept   : AIC=12862.694, Time=0.93 sec\n",
      " ARIMA(1,1,2)(0,0,0)[0] intercept   : AIC=12864.656, Time=1.21 sec\n",
      " ARIMA(0,1,1)(0,0,0)[0]             : AIC=12859.024, Time=0.26 sec\n",
      " ARIMA(1,1,1)(0,0,0)[0]             : AIC=12860.998, Time=0.35 sec\n",
      " ARIMA(0,1,2)(0,0,0)[0]             : AIC=12860.969, Time=0.43 sec\n",
      " ARIMA(1,1,0)(0,0,0)[0]             : AIC=12859.109, Time=0.17 sec\n",
      " ARIMA(1,1,2)(0,0,0)[0]             : AIC=12862.931, Time=0.52 sec\n",
      "\n",
      "Best model:  ARIMA(0,1,1)(0,0,0)[0]          \n",
      "Total fit time: 5.879 seconds\n"
     ]
    },
    {
     "name": "stderr",
     "output_type": "stream",
     "text": [
      "C:\\Users\\86173\\anaconda3\\lib\\site-packages\\statsmodels\\tsa\\base\\tsa_model.py:471: ValueWarning: No frequency information was provided, so inferred frequency D will be used.\n",
      "  self._init_dates(dates, freq)\n",
      "C:\\Users\\86173\\anaconda3\\lib\\site-packages\\statsmodels\\tsa\\base\\tsa_model.py:471: ValueWarning: No frequency information was provided, so inferred frequency D will be used.\n",
      "  self._init_dates(dates, freq)\n",
      "C:\\Users\\86173\\anaconda3\\lib\\site-packages\\statsmodels\\tsa\\base\\tsa_model.py:471: ValueWarning: No frequency information was provided, so inferred frequency D will be used.\n",
      "  self._init_dates(dates, freq)\n"
     ]
    },
    {
     "name": "stdout",
     "output_type": "stream",
     "text": [
      "Performing stepwise search to minimize aic\n",
      " ARIMA(0,1,0)(0,0,0)[0] intercept   : AIC=-4900.377, Time=0.37 sec\n",
      " ARIMA(1,1,0)(0,0,0)[0] intercept   : AIC=-4898.445, Time=0.26 sec\n",
      " ARIMA(0,1,1)(0,0,0)[0] intercept   : AIC=-4898.472, Time=0.71 sec\n",
      " ARIMA(0,1,0)(0,0,0)[0]             : AIC=-4902.330, Time=0.27 sec\n",
      " ARIMA(1,1,1)(0,0,0)[0] intercept   : AIC=-4898.017, Time=2.12 sec\n",
      "\n",
      "Best model:  ARIMA(0,1,0)(0,0,0)[0]          \n",
      "Total fit time: 3.776 seconds\n"
     ]
    },
    {
     "name": "stderr",
     "output_type": "stream",
     "text": [
      "C:\\Users\\86173\\anaconda3\\lib\\site-packages\\statsmodels\\tsa\\base\\tsa_model.py:471: ValueWarning: No frequency information was provided, so inferred frequency D will be used.\n",
      "  self._init_dates(dates, freq)\n",
      "C:\\Users\\86173\\anaconda3\\lib\\site-packages\\statsmodels\\tsa\\base\\tsa_model.py:471: ValueWarning: No frequency information was provided, so inferred frequency D will be used.\n",
      "  self._init_dates(dates, freq)\n",
      "C:\\Users\\86173\\anaconda3\\lib\\site-packages\\statsmodels\\tsa\\base\\tsa_model.py:471: ValueWarning: No frequency information was provided, so inferred frequency D will be used.\n",
      "  self._init_dates(dates, freq)\n"
     ]
    },
    {
     "name": "stdout",
     "output_type": "stream",
     "text": [
      "Performing stepwise search to minimize aic\n",
      " ARIMA(0,1,0)(0,0,0)[0] intercept   : AIC=16866.200, Time=0.09 sec\n",
      " ARIMA(1,1,0)(0,0,0)[0] intercept   : AIC=16813.556, Time=0.19 sec\n",
      " ARIMA(0,1,1)(0,0,0)[0] intercept   : AIC=16816.671, Time=0.30 sec\n",
      " ARIMA(0,1,0)(0,0,0)[0]             : AIC=16864.914, Time=0.06 sec\n",
      " ARIMA(2,1,0)(0,0,0)[0] intercept   : AIC=16814.724, Time=0.25 sec\n",
      " ARIMA(1,1,1)(0,0,0)[0] intercept   : AIC=16806.538, Time=1.90 sec\n",
      " ARIMA(2,1,1)(0,0,0)[0] intercept   : AIC=16802.044, Time=2.63 sec\n",
      " ARIMA(3,1,1)(0,0,0)[0] intercept   : AIC=16811.826, Time=1.14 sec\n",
      " ARIMA(2,1,2)(0,0,0)[0] intercept   : AIC=16799.766, Time=2.40 sec\n",
      " ARIMA(1,1,2)(0,0,0)[0] intercept   : AIC=16800.785, Time=2.78 sec\n",
      " ARIMA(3,1,2)(0,0,0)[0] intercept   : AIC=16800.676, Time=3.68 sec\n",
      " ARIMA(2,1,3)(0,0,0)[0] intercept   : AIC=inf, Time=5.87 sec\n",
      " ARIMA(1,1,3)(0,0,0)[0] intercept   : AIC=16797.439, Time=2.84 sec\n",
      " ARIMA(0,1,3)(0,0,0)[0] intercept   : AIC=16812.947, Time=1.41 sec\n",
      " ARIMA(0,1,2)(0,0,0)[0] intercept   : AIC=16817.137, Time=0.38 sec\n",
      " ARIMA(1,1,3)(0,0,0)[0]             : AIC=16796.522, Time=1.32 sec\n",
      " ARIMA(0,1,3)(0,0,0)[0]             : AIC=16812.092, Time=0.66 sec\n",
      " ARIMA(1,1,2)(0,0,0)[0]             : AIC=16799.792, Time=0.84 sec\n",
      " ARIMA(2,1,3)(0,0,0)[0]             : AIC=inf, Time=3.38 sec\n",
      " ARIMA(0,1,2)(0,0,0)[0]             : AIC=16816.140, Time=0.19 sec\n",
      " ARIMA(2,1,2)(0,0,0)[0]             : AIC=16798.889, Time=1.31 sec\n",
      "\n",
      "Best model:  ARIMA(1,1,3)(0,0,0)[0]          \n",
      "Total fit time: 33.665 seconds\n"
     ]
    },
    {
     "name": "stderr",
     "output_type": "stream",
     "text": [
      "C:\\Users\\86173\\anaconda3\\lib\\site-packages\\statsmodels\\tsa\\base\\tsa_model.py:471: ValueWarning: No frequency information was provided, so inferred frequency D will be used.\n",
      "  self._init_dates(dates, freq)\n",
      "C:\\Users\\86173\\anaconda3\\lib\\site-packages\\statsmodels\\tsa\\base\\tsa_model.py:471: ValueWarning: No frequency information was provided, so inferred frequency D will be used.\n",
      "  self._init_dates(dates, freq)\n",
      "C:\\Users\\86173\\anaconda3\\lib\\site-packages\\statsmodels\\tsa\\base\\tsa_model.py:471: ValueWarning: No frequency information was provided, so inferred frequency D will be used.\n",
      "  self._init_dates(dates, freq)\n"
     ]
    },
    {
     "name": "stdout",
     "output_type": "stream",
     "text": [
      "Performing stepwise search to minimize aic\n",
      " ARIMA(0,1,0)(0,0,0)[0] intercept   : AIC=6.680, Time=0.06 sec\n",
      " ARIMA(1,1,0)(0,0,0)[0] intercept   : AIC=8.590, Time=0.11 sec\n",
      " ARIMA(0,1,1)(0,0,0)[0] intercept   : AIC=8.518, Time=0.14 sec\n",
      " ARIMA(0,1,0)(0,0,0)[0]             : AIC=4.694, Time=0.04 sec\n",
      " ARIMA(1,1,1)(0,0,0)[0] intercept   : AIC=9.840, Time=0.35 sec\n",
      "\n",
      "Best model:  ARIMA(0,1,0)(0,0,0)[0]          \n",
      "Total fit time: 0.706 seconds\n"
     ]
    },
    {
     "name": "stderr",
     "output_type": "stream",
     "text": [
      "C:\\Users\\86173\\anaconda3\\lib\\site-packages\\statsmodels\\tsa\\base\\tsa_model.py:471: ValueWarning: No frequency information was provided, so inferred frequency D will be used.\n",
      "  self._init_dates(dates, freq)\n",
      "C:\\Users\\86173\\anaconda3\\lib\\site-packages\\statsmodels\\tsa\\base\\tsa_model.py:471: ValueWarning: No frequency information was provided, so inferred frequency D will be used.\n",
      "  self._init_dates(dates, freq)\n",
      "C:\\Users\\86173\\anaconda3\\lib\\site-packages\\statsmodels\\tsa\\base\\tsa_model.py:471: ValueWarning: No frequency information was provided, so inferred frequency D will be used.\n",
      "  self._init_dates(dates, freq)\n"
     ]
    },
    {
     "name": "stdout",
     "output_type": "stream",
     "text": [
      "Performing stepwise search to minimize aic\n",
      " ARIMA(0,1,0)(0,0,0)[0] intercept   : AIC=17564.355, Time=0.14 sec\n",
      " ARIMA(1,1,0)(0,0,0)[0] intercept   : AIC=17475.687, Time=0.33 sec\n",
      " ARIMA(0,1,1)(0,0,0)[0] intercept   : AIC=17483.523, Time=0.88 sec\n",
      " ARIMA(0,1,0)(0,0,0)[0]             : AIC=17562.825, Time=0.13 sec\n",
      " ARIMA(2,1,0)(0,0,0)[0] intercept   : AIC=17474.564, Time=0.92 sec\n",
      " ARIMA(3,1,0)(0,0,0)[0] intercept   : AIC=17474.769, Time=1.23 sec\n",
      " ARIMA(2,1,1)(0,0,0)[0] intercept   : AIC=17474.135, Time=2.41 sec\n",
      " ARIMA(1,1,1)(0,0,0)[0] intercept   : AIC=17473.674, Time=1.01 sec\n",
      " ARIMA(1,1,2)(0,0,0)[0] intercept   : AIC=17474.022, Time=3.00 sec\n",
      " ARIMA(0,1,2)(0,0,0)[0] intercept   : AIC=17477.725, Time=1.57 sec\n",
      " ARIMA(2,1,2)(0,0,0)[0] intercept   : AIC=17475.965, Time=5.91 sec\n",
      " ARIMA(1,1,1)(0,0,0)[0]             : AIC=17472.302, Time=0.47 sec\n",
      " ARIMA(0,1,1)(0,0,0)[0]             : AIC=17482.226, Time=0.35 sec\n",
      " ARIMA(1,1,0)(0,0,0)[0]             : AIC=17474.364, Time=0.18 sec\n",
      " ARIMA(2,1,1)(0,0,0)[0]             : AIC=17472.779, Time=0.94 sec\n",
      " ARIMA(1,1,2)(0,0,0)[0]             : AIC=17472.675, Time=1.03 sec\n",
      " ARIMA(0,1,2)(0,0,0)[0]             : AIC=17476.345, Time=0.51 sec\n",
      " ARIMA(2,1,0)(0,0,0)[0]             : AIC=17473.194, Time=0.42 sec\n",
      " ARIMA(2,1,2)(0,0,0)[0]             : AIC=17474.632, Time=1.80 sec\n",
      "\n",
      "Best model:  ARIMA(1,1,1)(0,0,0)[0]          \n",
      "Total fit time: 23.281 seconds\n"
     ]
    },
    {
     "name": "stderr",
     "output_type": "stream",
     "text": [
      "C:\\Users\\86173\\anaconda3\\lib\\site-packages\\statsmodels\\tsa\\base\\tsa_model.py:471: ValueWarning: No frequency information was provided, so inferred frequency D will be used.\n",
      "  self._init_dates(dates, freq)\n",
      "C:\\Users\\86173\\anaconda3\\lib\\site-packages\\statsmodels\\tsa\\base\\tsa_model.py:471: ValueWarning: No frequency information was provided, so inferred frequency D will be used.\n",
      "  self._init_dates(dates, freq)\n",
      "C:\\Users\\86173\\anaconda3\\lib\\site-packages\\statsmodels\\tsa\\base\\tsa_model.py:471: ValueWarning: No frequency information was provided, so inferred frequency D will be used.\n",
      "  self._init_dates(dates, freq)\n"
     ]
    },
    {
     "name": "stdout",
     "output_type": "stream",
     "text": [
      "Performing stepwise search to minimize aic\n",
      " ARIMA(0,1,0)(0,0,0)[0] intercept   : AIC=155.678, Time=0.13 sec\n",
      " ARIMA(1,1,0)(0,0,0)[0] intercept   : AIC=152.546, Time=0.28 sec\n",
      " ARIMA(0,1,1)(0,0,0)[0] intercept   : AIC=153.261, Time=0.17 sec\n",
      " ARIMA(0,1,0)(0,0,0)[0]             : AIC=154.267, Time=0.10 sec\n",
      " ARIMA(2,1,0)(0,0,0)[0] intercept   : AIC=152.653, Time=0.16 sec\n",
      " ARIMA(1,1,1)(0,0,0)[0] intercept   : AIC=150.997, Time=0.33 sec\n",
      " ARIMA(2,1,1)(0,0,0)[0] intercept   : AIC=152.953, Time=0.41 sec\n",
      " ARIMA(1,1,2)(0,0,0)[0] intercept   : AIC=152.949, Time=0.45 sec\n",
      " ARIMA(0,1,2)(0,0,0)[0] intercept   : AIC=153.265, Time=0.21 sec\n",
      " ARIMA(2,1,2)(0,0,0)[0] intercept   : AIC=148.893, Time=1.02 sec\n",
      " ARIMA(3,1,2)(0,0,0)[0] intercept   : AIC=150.494, Time=1.56 sec\n",
      " ARIMA(2,1,3)(0,0,0)[0] intercept   : AIC=150.880, Time=1.65 sec\n",
      " ARIMA(1,1,3)(0,0,0)[0] intercept   : AIC=154.645, Time=0.74 sec\n",
      " ARIMA(3,1,1)(0,0,0)[0] intercept   : AIC=154.821, Time=1.07 sec\n",
      " ARIMA(3,1,3)(0,0,0)[0] intercept   : AIC=153.688, Time=1.77 sec\n",
      " ARIMA(2,1,2)(0,0,0)[0]             : AIC=147.525, Time=0.80 sec\n",
      " ARIMA(1,1,2)(0,0,0)[0]             : AIC=151.602, Time=0.20 sec\n",
      " ARIMA(2,1,1)(0,0,0)[0]             : AIC=151.607, Time=0.26 sec\n",
      " ARIMA(3,1,2)(0,0,0)[0]             : AIC=149.171, Time=1.00 sec\n",
      " ARIMA(2,1,3)(0,0,0)[0]             : AIC=149.171, Time=0.89 sec\n",
      " ARIMA(1,1,1)(0,0,0)[0]             : AIC=149.670, Time=0.14 sec\n",
      " ARIMA(1,1,3)(0,0,0)[0]             : AIC=153.337, Time=0.32 sec\n",
      " ARIMA(3,1,1)(0,0,0)[0]             : AIC=153.502, Time=0.40 sec\n",
      " ARIMA(3,1,3)(0,0,0)[0]             : AIC=151.413, Time=1.24 sec\n",
      "\n",
      "Best model:  ARIMA(2,1,2)(0,0,0)[0]          \n",
      "Total fit time: 15.334 seconds\n"
     ]
    },
    {
     "name": "stderr",
     "output_type": "stream",
     "text": [
      "C:\\Users\\86173\\anaconda3\\lib\\site-packages\\statsmodels\\tsa\\base\\tsa_model.py:471: ValueWarning: No frequency information was provided, so inferred frequency D will be used.\n",
      "  self._init_dates(dates, freq)\n",
      "C:\\Users\\86173\\anaconda3\\lib\\site-packages\\statsmodels\\tsa\\base\\tsa_model.py:471: ValueWarning: No frequency information was provided, so inferred frequency D will be used.\n",
      "  self._init_dates(dates, freq)\n",
      "C:\\Users\\86173\\anaconda3\\lib\\site-packages\\statsmodels\\tsa\\base\\tsa_model.py:471: ValueWarning: No frequency information was provided, so inferred frequency D will be used.\n",
      "  self._init_dates(dates, freq)\n"
     ]
    },
    {
     "name": "stdout",
     "output_type": "stream",
     "text": [
      "Performing stepwise search to minimize aic\n",
      " ARIMA(0,1,0)(0,0,0)[0] intercept   : AIC=-5412.568, Time=0.36 sec\n",
      " ARIMA(1,1,0)(0,0,0)[0] intercept   : AIC=-5425.104, Time=0.31 sec\n",
      " ARIMA(0,1,1)(0,0,0)[0] intercept   : AIC=-5426.281, Time=0.86 sec\n",
      " ARIMA(0,1,0)(0,0,0)[0]             : AIC=-5414.568, Time=0.21 sec\n",
      " ARIMA(1,1,1)(0,0,0)[0] intercept   : AIC=-5424.652, Time=1.71 sec\n",
      " ARIMA(0,1,2)(0,0,0)[0] intercept   : AIC=-5425.168, Time=1.54 sec\n",
      " ARIMA(1,1,2)(0,0,0)[0] intercept   : AIC=-5422.352, Time=3.25 sec\n",
      " ARIMA(0,1,1)(0,0,0)[0]             : AIC=-5428.241, Time=0.16 sec\n",
      " ARIMA(1,1,1)(0,0,0)[0]             : AIC=-5426.466, Time=0.20 sec\n",
      " ARIMA(0,1,2)(0,0,0)[0]             : AIC=-5427.166, Time=0.39 sec\n",
      " ARIMA(1,1,0)(0,0,0)[0]             : AIC=-5427.104, Time=0.17 sec\n",
      " ARIMA(1,1,2)(0,0,0)[0]             : AIC=-5424.349, Time=1.29 sec\n",
      "\n",
      "Best model:  ARIMA(0,1,1)(0,0,0)[0]          \n",
      "Total fit time: 10.490 seconds\n"
     ]
    },
    {
     "name": "stderr",
     "output_type": "stream",
     "text": [
      "C:\\Users\\86173\\anaconda3\\lib\\site-packages\\statsmodels\\tsa\\base\\tsa_model.py:471: ValueWarning: No frequency information was provided, so inferred frequency D will be used.\n",
      "  self._init_dates(dates, freq)\n",
      "C:\\Users\\86173\\anaconda3\\lib\\site-packages\\statsmodels\\tsa\\base\\tsa_model.py:471: ValueWarning: No frequency information was provided, so inferred frequency D will be used.\n",
      "  self._init_dates(dates, freq)\n",
      "C:\\Users\\86173\\anaconda3\\lib\\site-packages\\statsmodels\\tsa\\base\\tsa_model.py:471: ValueWarning: No frequency information was provided, so inferred frequency D will be used.\n",
      "  self._init_dates(dates, freq)\n"
     ]
    },
    {
     "name": "stdout",
     "output_type": "stream",
     "text": [
      "Performing stepwise search to minimize aic\n",
      " ARIMA(0,1,0)(0,0,0)[0] intercept   : AIC=7622.684, Time=0.11 sec\n",
      " ARIMA(1,1,0)(0,0,0)[0] intercept   : AIC=7621.735, Time=0.25 sec\n",
      " ARIMA(0,1,1)(0,0,0)[0] intercept   : AIC=7621.665, Time=0.36 sec\n",
      " ARIMA(0,1,0)(0,0,0)[0]             : AIC=7620.712, Time=0.09 sec\n",
      " ARIMA(1,1,1)(0,0,0)[0] intercept   : AIC=7623.352, Time=0.76 sec\n",
      "\n",
      "Best model:  ARIMA(0,1,0)(0,0,0)[0]          \n",
      "Total fit time: 1.646 seconds\n"
     ]
    },
    {
     "name": "stderr",
     "output_type": "stream",
     "text": [
      "C:\\Users\\86173\\anaconda3\\lib\\site-packages\\statsmodels\\tsa\\base\\tsa_model.py:471: ValueWarning: No frequency information was provided, so inferred frequency D will be used.\n",
      "  self._init_dates(dates, freq)\n",
      "C:\\Users\\86173\\anaconda3\\lib\\site-packages\\statsmodels\\tsa\\base\\tsa_model.py:471: ValueWarning: No frequency information was provided, so inferred frequency D will be used.\n",
      "  self._init_dates(dates, freq)\n",
      "C:\\Users\\86173\\anaconda3\\lib\\site-packages\\statsmodels\\tsa\\base\\tsa_model.py:471: ValueWarning: No frequency information was provided, so inferred frequency D will be used.\n",
      "  self._init_dates(dates, freq)\n"
     ]
    },
    {
     "name": "stdout",
     "output_type": "stream",
     "text": [
      "Performing stepwise search to minimize aic\n",
      " ARIMA(0,0,0)(0,0,0)[0]             : AIC=1632.634, Time=0.13 sec\n",
      " ARIMA(1,0,0)(0,0,0)[0]             : AIC=inf, Time=0.60 sec\n",
      " ARIMA(0,0,1)(0,0,0)[0]             : AIC=inf, Time=0.32 sec\n",
      " ARIMA(1,0,1)(0,0,0)[0]             : AIC=-3984.086, Time=0.91 sec\n",
      " ARIMA(2,0,1)(0,0,0)[0]             : AIC=-3855.220, Time=0.77 sec\n",
      " ARIMA(1,0,2)(0,0,0)[0]             : AIC=-4004.978, Time=1.11 sec\n",
      " ARIMA(0,0,2)(0,0,0)[0]             : AIC=118.696, Time=0.45 sec\n",
      " ARIMA(2,0,2)(0,0,0)[0]             : AIC=inf, Time=1.24 sec\n",
      " ARIMA(1,0,3)(0,0,0)[0]             : AIC=-4002.469, Time=0.61 sec\n",
      " ARIMA(0,0,3)(0,0,0)[0]             : AIC=-486.213, Time=0.77 sec\n",
      " ARIMA(2,0,3)(0,0,0)[0]             : AIC=inf, Time=1.55 sec\n",
      " ARIMA(1,0,2)(0,0,0)[0] intercept   : AIC=-4021.326, Time=2.12 sec\n",
      " ARIMA(0,0,2)(0,0,0)[0] intercept   : AIC=-3967.947, Time=1.04 sec\n",
      " ARIMA(1,0,1)(0,0,0)[0] intercept   : AIC=-4013.941, Time=0.55 sec\n",
      " ARIMA(2,0,2)(0,0,0)[0] intercept   : AIC=-4021.546, Time=2.99 sec\n",
      " ARIMA(2,0,1)(0,0,0)[0] intercept   : AIC=-4020.807, Time=4.53 sec\n",
      " ARIMA(3,0,2)(0,0,0)[0] intercept   : AIC=-4025.311, Time=7.03 sec\n",
      " ARIMA(3,0,1)(0,0,0)[0] intercept   : AIC=-4018.642, Time=0.66 sec\n",
      " ARIMA(3,0,3)(0,0,0)[0] intercept   : AIC=-4020.139, Time=3.18 sec\n",
      " ARIMA(2,0,3)(0,0,0)[0] intercept   : AIC=-4020.329, Time=3.04 sec\n",
      " ARIMA(3,0,2)(0,0,0)[0]             : AIC=-3856.983, Time=2.05 sec\n",
      "\n",
      "Best model:  ARIMA(3,0,2)(0,0,0)[0] intercept\n",
      "Total fit time: 35.647 seconds\n"
     ]
    },
    {
     "name": "stderr",
     "output_type": "stream",
     "text": [
      "C:\\Users\\86173\\anaconda3\\lib\\site-packages\\statsmodels\\tsa\\base\\tsa_model.py:471: ValueWarning: No frequency information was provided, so inferred frequency D will be used.\n",
      "  self._init_dates(dates, freq)\n",
      "C:\\Users\\86173\\anaconda3\\lib\\site-packages\\statsmodels\\tsa\\base\\tsa_model.py:471: ValueWarning: No frequency information was provided, so inferred frequency D will be used.\n",
      "  self._init_dates(dates, freq)\n",
      "C:\\Users\\86173\\anaconda3\\lib\\site-packages\\statsmodels\\tsa\\base\\tsa_model.py:471: ValueWarning: No frequency information was provided, so inferred frequency D will be used.\n",
      "  self._init_dates(dates, freq)\n"
     ]
    },
    {
     "name": "stdout",
     "output_type": "stream",
     "text": [
      "Performing stepwise search to minimize aic\n",
      " ARIMA(0,1,0)(0,0,0)[0] intercept   : AIC=-3068.227, Time=0.31 sec\n",
      " ARIMA(1,1,0)(0,0,0)[0] intercept   : AIC=-3115.240, Time=0.32 sec\n",
      " ARIMA(0,1,1)(0,0,0)[0] intercept   : AIC=-3101.820, Time=0.61 sec\n",
      " ARIMA(0,1,0)(0,0,0)[0]             : AIC=-3069.687, Time=0.19 sec\n",
      " ARIMA(2,1,0)(0,0,0)[0] intercept   : AIC=-3154.418, Time=1.20 sec\n",
      " ARIMA(3,1,0)(0,0,0)[0] intercept   : AIC=-3157.471, Time=1.64 sec\n",
      " ARIMA(3,1,1)(0,0,0)[0] intercept   : AIC=-3177.687, Time=3.18 sec\n",
      " ARIMA(2,1,1)(0,0,0)[0] intercept   : AIC=-3179.559, Time=2.24 sec\n",
      " ARIMA(1,1,1)(0,0,0)[0] intercept   : AIC=-3179.499, Time=1.51 sec\n",
      " ARIMA(2,1,2)(0,0,0)[0] intercept   : AIC=-3180.811, Time=2.54 sec\n",
      " ARIMA(1,1,2)(0,0,0)[0] intercept   : AIC=-3179.518, Time=2.19 sec\n",
      " ARIMA(3,1,2)(0,0,0)[0] intercept   : AIC=-3178.812, Time=4.45 sec\n",
      " ARIMA(2,1,3)(0,0,0)[0] intercept   : AIC=-3175.841, Time=3.70 sec\n",
      " ARIMA(1,1,3)(0,0,0)[0] intercept   : AIC=-3177.526, Time=2.07 sec\n",
      " ARIMA(3,1,3)(0,0,0)[0] intercept   : AIC=-3184.717, Time=5.85 sec\n",
      " ARIMA(3,1,3)(0,0,0)[0]             : AIC=-3198.544, Time=2.99 sec\n",
      " ARIMA(2,1,3)(0,0,0)[0]             : AIC=-3180.537, Time=2.26 sec\n",
      " ARIMA(3,1,2)(0,0,0)[0]             : AIC=-3180.812, Time=2.15 sec\n",
      " ARIMA(2,1,2)(0,0,0)[0]             : AIC=-3182.349, Time=1.12 sec\n",
      "\n",
      "Best model:  ARIMA(3,1,3)(0,0,0)[0]          \n",
      "Total fit time: 40.591 seconds\n"
     ]
    },
    {
     "name": "stderr",
     "output_type": "stream",
     "text": [
      "C:\\Users\\86173\\anaconda3\\lib\\site-packages\\statsmodels\\tsa\\base\\tsa_model.py:471: ValueWarning: A date index has been provided, but it has no associated frequency information and so will be ignored when e.g. forecasting.\n",
      "  self._init_dates(dates, freq)\n",
      "C:\\Users\\86173\\anaconda3\\lib\\site-packages\\statsmodels\\tsa\\base\\tsa_model.py:471: ValueWarning: A date index has been provided, but it has no associated frequency information and so will be ignored when e.g. forecasting.\n",
      "  self._init_dates(dates, freq)\n",
      "C:\\Users\\86173\\anaconda3\\lib\\site-packages\\statsmodels\\tsa\\base\\tsa_model.py:471: ValueWarning: A date index has been provided, but it has no associated frequency information and so will be ignored when e.g. forecasting.\n",
      "  self._init_dates(dates, freq)\n",
      "C:\\Users\\86173\\anaconda3\\lib\\site-packages\\statsmodels\\tsa\\base\\tsa_model.py:834: ValueWarning: No supported index is available. Prediction results will be given with an integer index beginning at `start`.\n",
      "  return get_prediction_index(\n"
     ]
    },
    {
     "name": "stdout",
     "output_type": "stream",
     "text": [
      "Performing stepwise search to minimize aic\n",
      " ARIMA(0,0,0)(0,0,0)[0]             : AIC=6296.920, Time=0.05 sec\n",
      " ARIMA(1,0,0)(0,0,0)[0]             : AIC=inf, Time=0.25 sec\n",
      " ARIMA(0,0,1)(0,0,0)[0]             : AIC=5248.580, Time=0.21 sec\n",
      " ARIMA(1,0,1)(0,0,0)[0]             : AIC=2343.934, Time=0.34 sec\n",
      " ARIMA(2,0,1)(0,0,0)[0]             : AIC=2338.543, Time=0.59 sec\n",
      " ARIMA(2,0,0)(0,0,0)[0]             : AIC=inf, Time=0.29 sec\n",
      " ARIMA(3,0,1)(0,0,0)[0]             : AIC=2308.493, Time=0.69 sec\n",
      " ARIMA(3,0,0)(0,0,0)[0]             : AIC=inf, Time=0.43 sec\n",
      " ARIMA(3,0,2)(0,0,0)[0]             : AIC=2302.850, Time=0.53 sec\n",
      " ARIMA(2,0,2)(0,0,0)[0]             : AIC=2302.109, Time=0.68 sec\n",
      " ARIMA(1,0,2)(0,0,0)[0]             : AIC=2301.253, Time=0.47 sec\n",
      " ARIMA(0,0,2)(0,0,0)[0]             : AIC=4470.278, Time=0.38 sec\n",
      " ARIMA(1,0,3)(0,0,0)[0]             : AIC=2301.763, Time=0.55 sec\n",
      " ARIMA(0,0,3)(0,0,0)[0]             : AIC=3982.437, Time=0.51 sec\n",
      " ARIMA(2,0,3)(0,0,0)[0]             : AIC=2303.513, Time=1.08 sec\n",
      " ARIMA(1,0,2)(0,0,0)[0] intercept   : AIC=2299.188, Time=0.90 sec\n",
      " ARIMA(0,0,2)(0,0,0)[0] intercept   : AIC=3962.607, Time=0.79 sec\n",
      " ARIMA(1,0,1)(0,0,0)[0] intercept   : AIC=2342.912, Time=0.25 sec\n",
      " ARIMA(2,0,2)(0,0,0)[0] intercept   : AIC=2299.747, Time=1.21 sec\n",
      " ARIMA(1,0,3)(0,0,0)[0] intercept   : AIC=2299.375, Time=1.06 sec\n",
      " ARIMA(0,0,1)(0,0,0)[0] intercept   : AIC=4641.810, Time=0.37 sec\n",
      " ARIMA(0,0,3)(0,0,0)[0] intercept   : AIC=3509.514, Time=1.39 sec\n",
      " ARIMA(2,0,1)(0,0,0)[0] intercept   : AIC=2337.699, Time=1.08 sec\n",
      " ARIMA(2,0,3)(0,0,0)[0] intercept   : AIC=2301.181, Time=2.06 sec\n",
      "\n",
      "Best model:  ARIMA(1,0,2)(0,0,0)[0] intercept\n",
      "Total fit time: 16.200 seconds\n"
     ]
    },
    {
     "name": "stderr",
     "output_type": "stream",
     "text": [
      "C:\\Users\\86173\\anaconda3\\lib\\site-packages\\statsmodels\\tsa\\base\\tsa_model.py:471: ValueWarning: No frequency information was provided, so inferred frequency D will be used.\n",
      "  self._init_dates(dates, freq)\n",
      "C:\\Users\\86173\\anaconda3\\lib\\site-packages\\statsmodels\\tsa\\base\\tsa_model.py:471: ValueWarning: No frequency information was provided, so inferred frequency D will be used.\n",
      "  self._init_dates(dates, freq)\n",
      "C:\\Users\\86173\\anaconda3\\lib\\site-packages\\statsmodels\\tsa\\base\\tsa_model.py:471: ValueWarning: No frequency information was provided, so inferred frequency D will be used.\n",
      "  self._init_dates(dates, freq)\n"
     ]
    },
    {
     "name": "stdout",
     "output_type": "stream",
     "text": [
      "Performing stepwise search to minimize aic\n",
      " ARIMA(0,1,0)(0,0,0)[0] intercept   : AIC=1206.758, Time=0.05 sec\n",
      " ARIMA(1,1,0)(0,0,0)[0] intercept   : AIC=1196.484, Time=0.11 sec\n",
      " ARIMA(0,1,1)(0,0,0)[0] intercept   : AIC=1198.542, Time=0.14 sec\n",
      " ARIMA(0,1,0)(0,0,0)[0]             : AIC=1205.617, Time=0.03 sec\n",
      " ARIMA(2,1,0)(0,0,0)[0] intercept   : AIC=1197.265, Time=0.17 sec\n",
      " ARIMA(1,1,1)(0,0,0)[0] intercept   : AIC=1197.991, Time=0.22 sec\n",
      " ARIMA(2,1,1)(0,0,0)[0] intercept   : AIC=1194.338, Time=0.46 sec\n",
      " ARIMA(3,1,1)(0,0,0)[0] intercept   : AIC=1192.363, Time=0.41 sec\n",
      " ARIMA(3,1,0)(0,0,0)[0] intercept   : AIC=1191.330, Time=0.17 sec\n",
      " ARIMA(3,1,0)(0,0,0)[0]             : AIC=1190.151, Time=0.10 sec\n",
      " ARIMA(2,1,0)(0,0,0)[0]             : AIC=1196.367, Time=0.08 sec\n",
      " ARIMA(3,1,1)(0,0,0)[0]             : AIC=1191.110, Time=0.21 sec\n",
      " ARIMA(2,1,1)(0,0,0)[0]             : AIC=1192.996, Time=0.24 sec\n",
      "\n",
      "Best model:  ARIMA(3,1,0)(0,0,0)[0]          \n",
      "Total fit time: 2.399 seconds\n"
     ]
    },
    {
     "name": "stderr",
     "output_type": "stream",
     "text": [
      "C:\\Users\\86173\\anaconda3\\lib\\site-packages\\statsmodels\\tsa\\base\\tsa_model.py:471: ValueWarning: No frequency information was provided, so inferred frequency D will be used.\n",
      "  self._init_dates(dates, freq)\n",
      "C:\\Users\\86173\\anaconda3\\lib\\site-packages\\statsmodels\\tsa\\base\\tsa_model.py:471: ValueWarning: No frequency information was provided, so inferred frequency D will be used.\n",
      "  self._init_dates(dates, freq)\n",
      "C:\\Users\\86173\\anaconda3\\lib\\site-packages\\statsmodels\\tsa\\base\\tsa_model.py:471: ValueWarning: No frequency information was provided, so inferred frequency D will be used.\n",
      "  self._init_dates(dates, freq)\n"
     ]
    },
    {
     "name": "stdout",
     "output_type": "stream",
     "text": [
      "Performing stepwise search to minimize aic\n",
      " ARIMA(0,0,0)(0,0,0)[0]             : AIC=3033.033, Time=0.05 sec\n",
      " ARIMA(1,0,0)(0,0,0)[0]             : AIC=inf, Time=0.11 sec\n",
      " ARIMA(0,0,1)(0,0,0)[0]             : AIC=inf, Time=0.44 sec\n",
      " ARIMA(1,0,1)(0,0,0)[0]             : AIC=-8844.261, Time=0.82 sec\n",
      " ARIMA(2,0,1)(0,0,0)[0]             : AIC=-8518.001, Time=1.53 sec\n",
      " ARIMA(1,0,2)(0,0,0)[0]             : AIC=-8872.330, Time=0.42 sec\n",
      " ARIMA(0,0,2)(0,0,0)[0]             : AIC=193.847, Time=0.70 sec\n",
      " ARIMA(2,0,2)(0,0,0)[0]             : AIC=-8873.044, Time=1.20 sec\n",
      " ARIMA(3,0,2)(0,0,0)[0]             : AIC=-8862.070, Time=0.62 sec\n",
      " ARIMA(2,0,3)(0,0,0)[0]             : AIC=-8865.385, Time=0.62 sec\n",
      " ARIMA(1,0,3)(0,0,0)[0]             : AIC=-8866.234, Time=0.60 sec\n",
      " ARIMA(3,0,1)(0,0,0)[0]             : AIC=-8806.789, Time=0.43 sec\n",
      " ARIMA(3,0,3)(0,0,0)[0]             : AIC=inf, Time=4.27 sec\n",
      " ARIMA(2,0,2)(0,0,0)[0] intercept   : AIC=-8887.171, Time=10.70 sec\n",
      " ARIMA(1,0,2)(0,0,0)[0] intercept   : AIC=-8848.829, Time=1.31 sec\n",
      " ARIMA(2,0,1)(0,0,0)[0] intercept   : AIC=-8875.988, Time=7.28 sec\n",
      " ARIMA(3,0,2)(0,0,0)[0] intercept   : AIC=-8889.862, Time=13.42 sec\n",
      " ARIMA(3,0,1)(0,0,0)[0] intercept   : AIC=-8873.065, Time=1.20 sec\n",
      " ARIMA(3,0,3)(0,0,0)[0] intercept   : AIC=inf, Time=7.18 sec\n",
      " ARIMA(2,0,3)(0,0,0)[0] intercept   : AIC=-8854.995, Time=1.35 sec\n",
      "\n",
      "Best model:  ARIMA(3,0,2)(0,0,0)[0] intercept\n",
      "Total fit time: 54.398 seconds\n"
     ]
    },
    {
     "name": "stderr",
     "output_type": "stream",
     "text": [
      "C:\\Users\\86173\\anaconda3\\lib\\site-packages\\statsmodels\\tsa\\base\\tsa_model.py:471: ValueWarning: No frequency information was provided, so inferred frequency D will be used.\n",
      "  self._init_dates(dates, freq)\n",
      "C:\\Users\\86173\\anaconda3\\lib\\site-packages\\statsmodels\\tsa\\base\\tsa_model.py:471: ValueWarning: No frequency information was provided, so inferred frequency D will be used.\n",
      "  self._init_dates(dates, freq)\n",
      "C:\\Users\\86173\\anaconda3\\lib\\site-packages\\statsmodels\\tsa\\base\\tsa_model.py:471: ValueWarning: No frequency information was provided, so inferred frequency D will be used.\n",
      "  self._init_dates(dates, freq)\n"
     ]
    },
    {
     "name": "stdout",
     "output_type": "stream",
     "text": [
      "Performing stepwise search to minimize aic\n",
      " ARIMA(0,1,0)(0,0,0)[0] intercept   : AIC=6320.931, Time=0.06 sec\n",
      " ARIMA(1,1,0)(0,0,0)[0] intercept   : AIC=6292.368, Time=0.14 sec\n",
      " ARIMA(0,1,1)(0,0,0)[0] intercept   : AIC=6291.002, Time=0.26 sec\n",
      " ARIMA(0,1,0)(0,0,0)[0]             : AIC=6319.208, Time=0.05 sec\n",
      " ARIMA(1,1,1)(0,0,0)[0] intercept   : AIC=6293.000, Time=0.47 sec\n",
      " ARIMA(0,1,2)(0,0,0)[0] intercept   : AIC=6293.001, Time=0.50 sec\n",
      " ARIMA(1,1,2)(0,0,0)[0] intercept   : AIC=6291.670, Time=0.64 sec\n",
      " ARIMA(0,1,1)(0,0,0)[0]             : AIC=6289.453, Time=0.13 sec\n",
      " ARIMA(1,1,1)(0,0,0)[0]             : AIC=6291.452, Time=0.25 sec\n",
      " ARIMA(0,1,2)(0,0,0)[0]             : AIC=6291.452, Time=0.24 sec\n",
      " ARIMA(1,1,0)(0,0,0)[0]             : AIC=6290.774, Time=0.07 sec\n",
      " ARIMA(1,1,2)(0,0,0)[0]             : AIC=6290.442, Time=0.43 sec\n",
      "\n",
      "Best model:  ARIMA(0,1,1)(0,0,0)[0]          \n",
      "Total fit time: 3.271 seconds\n"
     ]
    },
    {
     "name": "stderr",
     "output_type": "stream",
     "text": [
      "C:\\Users\\86173\\anaconda3\\lib\\site-packages\\statsmodels\\tsa\\base\\tsa_model.py:471: ValueWarning: No frequency information was provided, so inferred frequency D will be used.\n",
      "  self._init_dates(dates, freq)\n",
      "C:\\Users\\86173\\anaconda3\\lib\\site-packages\\statsmodels\\tsa\\base\\tsa_model.py:471: ValueWarning: No frequency information was provided, so inferred frequency D will be used.\n",
      "  self._init_dates(dates, freq)\n",
      "C:\\Users\\86173\\anaconda3\\lib\\site-packages\\statsmodels\\tsa\\base\\tsa_model.py:471: ValueWarning: No frequency information was provided, so inferred frequency D will be used.\n",
      "  self._init_dates(dates, freq)\n"
     ]
    },
    {
     "name": "stdout",
     "output_type": "stream",
     "text": [
      "Performing stepwise search to minimize aic\n",
      " ARIMA(0,1,0)(0,0,0)[0] intercept   : AIC=1464.010, Time=0.05 sec\n",
      " ARIMA(1,1,0)(0,0,0)[0] intercept   : AIC=1460.764, Time=0.11 sec\n",
      " ARIMA(0,1,1)(0,0,0)[0] intercept   : AIC=1461.644, Time=0.16 sec\n",
      " ARIMA(0,1,0)(0,0,0)[0]             : AIC=1462.506, Time=0.05 sec\n",
      " ARIMA(2,1,0)(0,0,0)[0] intercept   : AIC=1459.495, Time=0.19 sec\n",
      " ARIMA(3,1,0)(0,0,0)[0] intercept   : AIC=1461.466, Time=0.21 sec\n",
      " ARIMA(2,1,1)(0,0,0)[0] intercept   : AIC=1461.365, Time=0.36 sec\n",
      " ARIMA(1,1,1)(0,0,0)[0] intercept   : AIC=1456.772, Time=0.31 sec\n",
      " ARIMA(1,1,2)(0,0,0)[0] intercept   : AIC=1460.808, Time=0.43 sec\n",
      " ARIMA(0,1,2)(0,0,0)[0] intercept   : AIC=1459.526, Time=0.19 sec\n",
      " ARIMA(2,1,2)(0,0,0)[0] intercept   : AIC=1455.413, Time=1.91 sec\n",
      " ARIMA(3,1,2)(0,0,0)[0] intercept   : AIC=1462.616, Time=1.49 sec\n",
      " ARIMA(2,1,3)(0,0,0)[0] intercept   : AIC=1462.310, Time=0.85 sec\n",
      " ARIMA(1,1,3)(0,0,0)[0] intercept   : AIC=1460.611, Time=0.77 sec\n",
      " ARIMA(3,1,1)(0,0,0)[0] intercept   : AIC=1463.365, Time=0.52 sec\n",
      " ARIMA(3,1,3)(0,0,0)[0] intercept   : AIC=1455.959, Time=1.13 sec\n",
      " ARIMA(2,1,2)(0,0,0)[0]             : AIC=1453.923, Time=0.86 sec\n",
      " ARIMA(1,1,2)(0,0,0)[0]             : AIC=1459.265, Time=0.22 sec\n",
      " ARIMA(2,1,1)(0,0,0)[0]             : AIC=1459.850, Time=0.21 sec\n",
      " ARIMA(3,1,2)(0,0,0)[0]             : AIC=1461.187, Time=0.69 sec\n",
      " ARIMA(2,1,3)(0,0,0)[0]             : AIC=1460.797, Time=0.49 sec\n",
      " ARIMA(1,1,1)(0,0,0)[0]             : AIC=1455.329, Time=0.16 sec\n",
      " ARIMA(1,1,3)(0,0,0)[0]             : AIC=1459.164, Time=0.37 sec\n",
      " ARIMA(3,1,1)(0,0,0)[0]             : AIC=1461.850, Time=0.27 sec\n",
      " ARIMA(3,1,3)(0,0,0)[0]             : AIC=1454.442, Time=0.63 sec\n",
      "\n",
      "Best model:  ARIMA(2,1,2)(0,0,0)[0]          \n",
      "Total fit time: 12.680 seconds\n"
     ]
    },
    {
     "name": "stderr",
     "output_type": "stream",
     "text": [
      "C:\\Users\\86173\\anaconda3\\lib\\site-packages\\statsmodels\\tsa\\base\\tsa_model.py:471: ValueWarning: No frequency information was provided, so inferred frequency D will be used.\n",
      "  self._init_dates(dates, freq)\n",
      "C:\\Users\\86173\\anaconda3\\lib\\site-packages\\statsmodels\\tsa\\base\\tsa_model.py:471: ValueWarning: No frequency information was provided, so inferred frequency D will be used.\n",
      "  self._init_dates(dates, freq)\n",
      "C:\\Users\\86173\\anaconda3\\lib\\site-packages\\statsmodels\\tsa\\base\\tsa_model.py:471: ValueWarning: No frequency information was provided, so inferred frequency D will be used.\n",
      "  self._init_dates(dates, freq)\n"
     ]
    },
    {
     "name": "stdout",
     "output_type": "stream",
     "text": [
      "Performing stepwise search to minimize aic\n",
      " ARIMA(0,1,0)(0,0,0)[0] intercept   : AIC=-2107.046, Time=0.26 sec\n",
      " ARIMA(1,1,0)(0,0,0)[0] intercept   : AIC=-2129.484, Time=0.30 sec\n",
      " ARIMA(0,1,1)(0,0,0)[0] intercept   : AIC=-2125.454, Time=0.42 sec\n",
      " ARIMA(0,1,0)(0,0,0)[0]             : AIC=-2108.350, Time=0.17 sec\n",
      " ARIMA(2,1,0)(0,0,0)[0] intercept   : AIC=-2136.380, Time=0.58 sec\n",
      " ARIMA(3,1,0)(0,0,0)[0] intercept   : AIC=-2144.604, Time=0.34 sec\n",
      " ARIMA(3,1,1)(0,0,0)[0] intercept   : AIC=-2160.533, Time=2.93 sec\n",
      " ARIMA(2,1,1)(0,0,0)[0] intercept   : AIC=-2152.826, Time=2.08 sec\n",
      " ARIMA(3,1,2)(0,0,0)[0] intercept   : AIC=-2160.519, Time=3.04 sec\n",
      " ARIMA(2,1,2)(0,0,0)[0] intercept   : AIC=-2157.842, Time=3.02 sec\n",
      " ARIMA(3,1,1)(0,0,0)[0]             : AIC=-2160.784, Time=0.94 sec\n",
      " ARIMA(2,1,1)(0,0,0)[0]             : AIC=-2154.003, Time=0.80 sec\n",
      " ARIMA(3,1,0)(0,0,0)[0]             : AIC=-2145.632, Time=0.16 sec\n",
      " ARIMA(3,1,2)(0,0,0)[0]             : AIC=-2162.293, Time=1.53 sec\n",
      " ARIMA(2,1,2)(0,0,0)[0]             : AIC=-2158.420, Time=1.36 sec\n",
      " ARIMA(3,1,3)(0,0,0)[0]             : AIC=-2164.131, Time=2.10 sec\n",
      " ARIMA(2,1,3)(0,0,0)[0]             : AIC=-2161.269, Time=1.80 sec\n",
      " ARIMA(3,1,3)(0,0,0)[0] intercept   : AIC=-2161.421, Time=3.46 sec\n",
      "\n",
      "Best model:  ARIMA(3,1,3)(0,0,0)[0]          \n",
      "Total fit time: 25.369 seconds\n"
     ]
    },
    {
     "name": "stderr",
     "output_type": "stream",
     "text": [
      "C:\\Users\\86173\\anaconda3\\lib\\site-packages\\statsmodels\\tsa\\base\\tsa_model.py:471: ValueWarning: No frequency information was provided, so inferred frequency D will be used.\n",
      "  self._init_dates(dates, freq)\n",
      "C:\\Users\\86173\\anaconda3\\lib\\site-packages\\statsmodels\\tsa\\base\\tsa_model.py:471: ValueWarning: No frequency information was provided, so inferred frequency D will be used.\n",
      "  self._init_dates(dates, freq)\n",
      "C:\\Users\\86173\\anaconda3\\lib\\site-packages\\statsmodels\\tsa\\base\\tsa_model.py:471: ValueWarning: No frequency information was provided, so inferred frequency D will be used.\n",
      "  self._init_dates(dates, freq)\n",
      "C:\\Users\\86173\\anaconda3\\lib\\site-packages\\statsmodels\\base\\model.py:604: ConvergenceWarning: Maximum Likelihood optimization failed to converge. Check mle_retvals\n",
      "  warnings.warn(\"Maximum Likelihood optimization failed to \"\n"
     ]
    },
    {
     "name": "stdout",
     "output_type": "stream",
     "text": [
      "Performing stepwise search to minimize aic\n",
      " ARIMA(0,1,0)(0,0,0)[0] intercept   : AIC=5633.064, Time=0.09 sec\n",
      " ARIMA(1,1,0)(0,0,0)[0] intercept   : AIC=5629.096, Time=0.29 sec\n",
      " ARIMA(0,1,1)(0,0,0)[0] intercept   : AIC=5624.262, Time=0.29 sec\n",
      " ARIMA(0,1,0)(0,0,0)[0]             : AIC=5631.064, Time=0.10 sec\n",
      " ARIMA(1,1,1)(0,0,0)[0] intercept   : AIC=5595.916, Time=0.76 sec\n",
      " ARIMA(2,1,1)(0,0,0)[0] intercept   : AIC=5557.653, Time=1.03 sec\n",
      " ARIMA(2,1,0)(0,0,0)[0] intercept   : AIC=5556.285, Time=0.47 sec\n",
      " ARIMA(3,1,0)(0,0,0)[0] intercept   : AIC=5558.152, Time=0.56 sec\n",
      " ARIMA(3,1,1)(0,0,0)[0] intercept   : AIC=5557.741, Time=1.81 sec\n",
      " ARIMA(2,1,0)(0,0,0)[0]             : AIC=5554.285, Time=0.19 sec\n",
      " ARIMA(1,1,0)(0,0,0)[0]             : AIC=5627.096, Time=0.13 sec\n",
      " ARIMA(3,1,0)(0,0,0)[0]             : AIC=5556.153, Time=0.26 sec\n",
      " ARIMA(2,1,1)(0,0,0)[0]             : AIC=5555.654, Time=0.47 sec\n",
      " ARIMA(1,1,1)(0,0,0)[0]             : AIC=5593.916, Time=0.34 sec\n",
      " ARIMA(3,1,1)(0,0,0)[0]             : AIC=5555.741, Time=0.98 sec\n",
      "\n",
      "Best model:  ARIMA(2,1,0)(0,0,0)[0]          \n",
      "Total fit time: 7.846 seconds\n"
     ]
    },
    {
     "name": "stderr",
     "output_type": "stream",
     "text": [
      "C:\\Users\\86173\\anaconda3\\lib\\site-packages\\statsmodels\\tsa\\base\\tsa_model.py:471: ValueWarning: No frequency information was provided, so inferred frequency D will be used.\n",
      "  self._init_dates(dates, freq)\n",
      "C:\\Users\\86173\\anaconda3\\lib\\site-packages\\statsmodels\\tsa\\base\\tsa_model.py:471: ValueWarning: No frequency information was provided, so inferred frequency D will be used.\n",
      "  self._init_dates(dates, freq)\n",
      "C:\\Users\\86173\\anaconda3\\lib\\site-packages\\statsmodels\\tsa\\base\\tsa_model.py:471: ValueWarning: No frequency information was provided, so inferred frequency D will be used.\n",
      "  self._init_dates(dates, freq)\n"
     ]
    },
    {
     "name": "stdout",
     "output_type": "stream",
     "text": [
      "Performing stepwise search to minimize aic\n",
      " ARIMA(0,1,0)(0,0,0)[0] intercept   : AIC=5526.352, Time=0.09 sec\n",
      " ARIMA(1,1,0)(0,0,0)[0] intercept   : AIC=5499.018, Time=0.21 sec\n",
      " ARIMA(0,1,1)(0,0,0)[0] intercept   : AIC=5499.669, Time=0.29 sec\n",
      " ARIMA(0,1,0)(0,0,0)[0]             : AIC=5528.444, Time=0.08 sec\n",
      " ARIMA(2,1,0)(0,0,0)[0] intercept   : AIC=5499.799, Time=0.38 sec\n",
      " ARIMA(1,1,1)(0,0,0)[0] intercept   : AIC=5500.665, Time=0.54 sec\n",
      " ARIMA(2,1,1)(0,0,0)[0] intercept   : AIC=5466.590, Time=1.34 sec\n",
      " ARIMA(3,1,1)(0,0,0)[0] intercept   : AIC=5457.897, Time=0.89 sec\n",
      " ARIMA(3,1,0)(0,0,0)[0] intercept   : AIC=5458.255, Time=0.42 sec\n",
      " ARIMA(3,1,2)(0,0,0)[0] intercept   : AIC=5453.476, Time=1.83 sec\n",
      " ARIMA(2,1,2)(0,0,0)[0] intercept   : AIC=inf, Time=4.00 sec\n",
      " ARIMA(3,1,3)(0,0,0)[0] intercept   : AIC=5436.641, Time=4.54 sec\n",
      " ARIMA(2,1,3)(0,0,0)[0] intercept   : AIC=5454.658, Time=2.88 sec\n",
      " ARIMA(3,1,3)(0,0,0)[0]             : AIC=5440.174, Time=1.41 sec\n",
      "\n",
      "Best model:  ARIMA(3,1,3)(0,0,0)[0] intercept\n",
      "Total fit time: 18.930 seconds\n"
     ]
    },
    {
     "name": "stderr",
     "output_type": "stream",
     "text": [
      "C:\\Users\\86173\\anaconda3\\lib\\site-packages\\statsmodels\\tsa\\base\\tsa_model.py:471: ValueWarning: No frequency information was provided, so inferred frequency D will be used.\n",
      "  self._init_dates(dates, freq)\n",
      "C:\\Users\\86173\\anaconda3\\lib\\site-packages\\statsmodels\\tsa\\base\\tsa_model.py:471: ValueWarning: No frequency information was provided, so inferred frequency D will be used.\n",
      "  self._init_dates(dates, freq)\n",
      "C:\\Users\\86173\\anaconda3\\lib\\site-packages\\statsmodels\\tsa\\base\\tsa_model.py:471: ValueWarning: No frequency information was provided, so inferred frequency D will be used.\n",
      "  self._init_dates(dates, freq)\n"
     ]
    },
    {
     "name": "stdout",
     "output_type": "stream",
     "text": [
      "Performing stepwise search to minimize aic\n",
      " ARIMA(0,0,0)(0,0,0)[0]             : AIC=-8323.679, Time=0.37 sec\n",
      " ARIMA(1,0,0)(0,0,0)[0]             : AIC=-9355.129, Time=0.29 sec\n",
      " ARIMA(0,0,1)(0,0,0)[0]             : AIC=-8713.337, Time=0.35 sec\n",
      " ARIMA(2,0,0)(0,0,0)[0]             : AIC=-9393.634, Time=0.39 sec\n",
      " ARIMA(3,0,0)(0,0,0)[0]             : AIC=-9392.434, Time=0.55 sec\n",
      " ARIMA(2,0,1)(0,0,0)[0]             : AIC=-9389.658, Time=0.46 sec\n",
      " ARIMA(1,0,1)(0,0,0)[0]             : AIC=-9393.028, Time=0.41 sec\n",
      " ARIMA(3,0,1)(0,0,0)[0]             : AIC=-9389.141, Time=0.55 sec\n",
      " ARIMA(2,0,0)(0,0,0)[0] intercept   : AIC=-8380.742, Time=1.01 sec\n",
      "\n",
      "Best model:  ARIMA(2,0,0)(0,0,0)[0]          \n",
      "Total fit time: 4.376 seconds\n"
     ]
    },
    {
     "name": "stderr",
     "output_type": "stream",
     "text": [
      "C:\\Users\\86173\\anaconda3\\lib\\site-packages\\statsmodels\\tsa\\base\\tsa_model.py:471: ValueWarning: No frequency information was provided, so inferred frequency D will be used.\n",
      "  self._init_dates(dates, freq)\n",
      "C:\\Users\\86173\\anaconda3\\lib\\site-packages\\statsmodels\\tsa\\base\\tsa_model.py:471: ValueWarning: No frequency information was provided, so inferred frequency D will be used.\n",
      "  self._init_dates(dates, freq)\n",
      "C:\\Users\\86173\\anaconda3\\lib\\site-packages\\statsmodels\\tsa\\base\\tsa_model.py:471: ValueWarning: No frequency information was provided, so inferred frequency D will be used.\n",
      "  self._init_dates(dates, freq)\n",
      "C:\\Users\\86173\\anaconda3\\lib\\site-packages\\statsmodels\\base\\model.py:604: ConvergenceWarning: Maximum Likelihood optimization failed to converge. Check mle_retvals\n",
      "  warnings.warn(\"Maximum Likelihood optimization failed to \"\n"
     ]
    },
    {
     "name": "stdout",
     "output_type": "stream",
     "text": [
      "Performing stepwise search to minimize aic\n",
      " ARIMA(0,1,0)(0,0,0)[0] intercept   : AIC=1974.042, Time=0.05 sec\n",
      " ARIMA(1,1,0)(0,0,0)[0] intercept   : AIC=1959.660, Time=0.15 sec\n",
      " ARIMA(0,1,1)(0,0,0)[0] intercept   : AIC=1962.783, Time=0.18 sec\n",
      " ARIMA(0,1,0)(0,0,0)[0]             : AIC=1975.578, Time=0.06 sec\n",
      " ARIMA(2,1,0)(0,0,0)[0] intercept   : AIC=1958.430, Time=0.22 sec\n",
      " ARIMA(3,1,0)(0,0,0)[0] intercept   : AIC=1957.585, Time=0.30 sec\n",
      " ARIMA(3,1,1)(0,0,0)[0] intercept   : AIC=1958.490, Time=0.42 sec\n",
      " ARIMA(2,1,1)(0,0,0)[0] intercept   : AIC=1955.518, Time=0.83 sec\n",
      " ARIMA(1,1,1)(0,0,0)[0] intercept   : AIC=1959.476, Time=0.32 sec\n",
      " ARIMA(2,1,2)(0,0,0)[0] intercept   : AIC=1948.151, Time=1.43 sec\n",
      " ARIMA(1,1,2)(0,0,0)[0] intercept   : AIC=1955.046, Time=0.42 sec\n",
      " ARIMA(3,1,2)(0,0,0)[0] intercept   : AIC=1959.290, Time=1.58 sec\n",
      " ARIMA(2,1,3)(0,0,0)[0] intercept   : AIC=1949.912, Time=1.15 sec\n",
      " ARIMA(1,1,3)(0,0,0)[0] intercept   : AIC=1956.140, Time=0.66 sec\n",
      " ARIMA(3,1,3)(0,0,0)[0] intercept   : AIC=1940.144, Time=2.27 sec\n",
      " ARIMA(3,1,3)(0,0,0)[0]             : AIC=1943.169, Time=1.26 sec\n",
      "\n",
      "Best model:  ARIMA(3,1,3)(0,0,0)[0] intercept\n",
      "Total fit time: 11.363 seconds\n"
     ]
    },
    {
     "name": "stderr",
     "output_type": "stream",
     "text": [
      "C:\\Users\\86173\\anaconda3\\lib\\site-packages\\statsmodels\\tsa\\base\\tsa_model.py:471: ValueWarning: A date index has been provided, but it has no associated frequency information and so will be ignored when e.g. forecasting.\n",
      "  self._init_dates(dates, freq)\n",
      "C:\\Users\\86173\\anaconda3\\lib\\site-packages\\statsmodels\\tsa\\base\\tsa_model.py:471: ValueWarning: A date index has been provided, but it has no associated frequency information and so will be ignored when e.g. forecasting.\n",
      "  self._init_dates(dates, freq)\n",
      "C:\\Users\\86173\\anaconda3\\lib\\site-packages\\statsmodels\\tsa\\base\\tsa_model.py:471: ValueWarning: A date index has been provided, but it has no associated frequency information and so will be ignored when e.g. forecasting.\n",
      "  self._init_dates(dates, freq)\n",
      "C:\\Users\\86173\\anaconda3\\lib\\site-packages\\statsmodels\\tsa\\base\\tsa_model.py:834: ValueWarning: No supported index is available. Prediction results will be given with an integer index beginning at `start`.\n",
      "  return get_prediction_index(\n"
     ]
    },
    {
     "name": "stdout",
     "output_type": "stream",
     "text": [
      "Performing stepwise search to minimize aic\n",
      " ARIMA(0,1,0)(0,0,0)[0] intercept   : AIC=-1426.071, Time=0.17 sec\n",
      " ARIMA(1,1,0)(0,0,0)[0] intercept   : AIC=-1436.980, Time=0.26 sec\n",
      " ARIMA(0,1,1)(0,0,0)[0] intercept   : AIC=-1444.173, Time=0.58 sec\n",
      " ARIMA(0,1,0)(0,0,0)[0]             : AIC=-1427.751, Time=0.27 sec\n",
      " ARIMA(1,1,1)(0,0,0)[0] intercept   : AIC=-1454.624, Time=0.87 sec\n",
      " ARIMA(2,1,1)(0,0,0)[0] intercept   : AIC=-1459.100, Time=1.35 sec\n",
      " ARIMA(2,1,0)(0,0,0)[0] intercept   : AIC=-1458.751, Time=0.23 sec\n",
      " ARIMA(3,1,1)(0,0,0)[0] intercept   : AIC=-1457.252, Time=2.22 sec\n",
      " ARIMA(2,1,2)(0,0,0)[0] intercept   : AIC=-1457.276, Time=1.73 sec\n",
      " ARIMA(1,1,2)(0,0,0)[0] intercept   : AIC=-1458.984, Time=1.18 sec\n",
      " ARIMA(3,1,0)(0,0,0)[0] intercept   : AIC=-1458.366, Time=0.27 sec\n",
      " ARIMA(3,1,2)(0,0,0)[0] intercept   : AIC=-1455.224, Time=2.39 sec\n",
      " ARIMA(2,1,1)(0,0,0)[0]             : AIC=-1460.354, Time=0.63 sec\n",
      " ARIMA(1,1,1)(0,0,0)[0]             : AIC=-1455.856, Time=0.37 sec\n",
      " ARIMA(2,1,0)(0,0,0)[0]             : AIC=-1460.133, Time=0.13 sec\n",
      " ARIMA(3,1,1)(0,0,0)[0]             : AIC=-1458.499, Time=0.72 sec\n",
      " ARIMA(2,1,2)(0,0,0)[0]             : AIC=-1458.520, Time=1.20 sec\n",
      " ARIMA(1,1,0)(0,0,0)[0]             : AIC=-1438.562, Time=0.16 sec\n",
      " ARIMA(1,1,2)(0,0,0)[0]             : AIC=-1460.207, Time=0.27 sec\n",
      " ARIMA(3,1,0)(0,0,0)[0]             : AIC=-1459.684, Time=0.13 sec\n",
      " ARIMA(3,1,2)(0,0,0)[0]             : AIC=-1456.529, Time=1.26 sec\n",
      "\n",
      "Best model:  ARIMA(2,1,1)(0,0,0)[0]          \n",
      "Total fit time: 16.460 seconds\n"
     ]
    },
    {
     "name": "stderr",
     "output_type": "stream",
     "text": [
      "C:\\Users\\86173\\anaconda3\\lib\\site-packages\\statsmodels\\tsa\\base\\tsa_model.py:471: ValueWarning: No frequency information was provided, so inferred frequency D will be used.\n",
      "  self._init_dates(dates, freq)\n",
      "C:\\Users\\86173\\anaconda3\\lib\\site-packages\\statsmodels\\tsa\\base\\tsa_model.py:471: ValueWarning: No frequency information was provided, so inferred frequency D will be used.\n",
      "  self._init_dates(dates, freq)\n",
      "C:\\Users\\86173\\anaconda3\\lib\\site-packages\\statsmodels\\tsa\\base\\tsa_model.py:471: ValueWarning: No frequency information was provided, so inferred frequency D will be used.\n",
      "  self._init_dates(dates, freq)\n"
     ]
    },
    {
     "name": "stdout",
     "output_type": "stream",
     "text": [
      "Performing stepwise search to minimize aic\n",
      " ARIMA(0,1,0)(0,0,0)[0] intercept   : AIC=-8224.881, Time=0.56 sec\n",
      " ARIMA(1,1,0)(0,0,0)[0] intercept   : AIC=-8233.005, Time=0.91 sec\n",
      " ARIMA(0,1,1)(0,0,0)[0] intercept   : AIC=-8232.235, Time=0.62 sec\n",
      " ARIMA(0,1,0)(0,0,0)[0]             : AIC=-8226.687, Time=0.23 sec\n",
      " ARIMA(2,1,0)(0,0,0)[0] intercept   : AIC=-8232.890, Time=1.11 sec\n",
      " ARIMA(1,1,1)(0,0,0)[0] intercept   : AIC=-8231.858, Time=1.07 sec\n",
      " ARIMA(2,1,1)(0,0,0)[0] intercept   : AIC=-8231.043, Time=2.38 sec\n",
      " ARIMA(1,1,0)(0,0,0)[0]             : AIC=-8234.780, Time=0.37 sec\n",
      " ARIMA(2,1,0)(0,0,0)[0]             : AIC=-8234.680, Time=0.46 sec\n",
      " ARIMA(1,1,1)(0,0,0)[0]             : AIC=-8233.631, Time=0.59 sec\n",
      " ARIMA(0,1,1)(0,0,0)[0]             : AIC=-8234.011, Time=0.38 sec\n",
      " ARIMA(2,1,1)(0,0,0)[0]             : AIC=-8232.834, Time=0.94 sec\n",
      "\n",
      "Best model:  ARIMA(1,1,0)(0,0,0)[0]          \n",
      "Total fit time: 9.651 seconds\n"
     ]
    },
    {
     "name": "stderr",
     "output_type": "stream",
     "text": [
      "C:\\Users\\86173\\anaconda3\\lib\\site-packages\\statsmodels\\tsa\\base\\tsa_model.py:471: ValueWarning: No frequency information was provided, so inferred frequency D will be used.\n",
      "  self._init_dates(dates, freq)\n",
      "C:\\Users\\86173\\anaconda3\\lib\\site-packages\\statsmodels\\tsa\\base\\tsa_model.py:471: ValueWarning: No frequency information was provided, so inferred frequency D will be used.\n",
      "  self._init_dates(dates, freq)\n",
      "C:\\Users\\86173\\anaconda3\\lib\\site-packages\\statsmodels\\tsa\\base\\tsa_model.py:471: ValueWarning: No frequency information was provided, so inferred frequency D will be used.\n",
      "  self._init_dates(dates, freq)\n"
     ]
    },
    {
     "name": "stdout",
     "output_type": "stream",
     "text": [
      "Performing stepwise search to minimize aic\n",
      " ARIMA(0,0,0)(0,0,0)[0]             : AIC=1353.220, Time=0.03 sec\n",
      " ARIMA(1,0,0)(0,0,0)[0]             : AIC=inf, Time=0.06 sec\n",
      " ARIMA(0,0,1)(0,0,0)[0]             : AIC=1207.712, Time=0.09 sec\n",
      " ARIMA(1,0,1)(0,0,0)[0]             : AIC=833.935, Time=0.14 sec\n",
      " ARIMA(2,0,1)(0,0,0)[0]             : AIC=835.429, Time=0.16 sec\n",
      " ARIMA(1,0,2)(0,0,0)[0]             : AIC=834.027, Time=0.18 sec\n",
      " ARIMA(0,0,2)(0,0,0)[0]             : AIC=1092.313, Time=0.26 sec\n",
      " ARIMA(2,0,0)(0,0,0)[0]             : AIC=inf, Time=0.10 sec\n",
      " ARIMA(2,0,2)(0,0,0)[0]             : AIC=824.915, Time=0.22 sec\n",
      " ARIMA(3,0,2)(0,0,0)[0]             : AIC=822.426, Time=0.59 sec\n",
      " ARIMA(3,0,1)(0,0,0)[0]             : AIC=834.702, Time=0.25 sec\n",
      " ARIMA(3,0,3)(0,0,0)[0]             : AIC=828.855, Time=0.73 sec\n",
      " ARIMA(2,0,3)(0,0,0)[0]             : AIC=821.660, Time=0.34 sec\n",
      " ARIMA(1,0,3)(0,0,0)[0]             : AIC=820.882, Time=0.25 sec\n",
      " ARIMA(0,0,3)(0,0,0)[0]             : AIC=1024.379, Time=0.59 sec\n",
      " ARIMA(1,0,3)(0,0,0)[0] intercept   : AIC=821.431, Time=0.36 sec\n",
      "\n",
      "Best model:  ARIMA(1,0,3)(0,0,0)[0]          \n",
      "Total fit time: 4.368 seconds\n"
     ]
    },
    {
     "name": "stderr",
     "output_type": "stream",
     "text": [
      "C:\\Users\\86173\\anaconda3\\lib\\site-packages\\statsmodels\\tsa\\base\\tsa_model.py:471: ValueWarning: No frequency information was provided, so inferred frequency D will be used.\n",
      "  self._init_dates(dates, freq)\n",
      "C:\\Users\\86173\\anaconda3\\lib\\site-packages\\statsmodels\\tsa\\base\\tsa_model.py:471: ValueWarning: No frequency information was provided, so inferred frequency D will be used.\n",
      "  self._init_dates(dates, freq)\n",
      "C:\\Users\\86173\\anaconda3\\lib\\site-packages\\statsmodels\\tsa\\base\\tsa_model.py:471: ValueWarning: No frequency information was provided, so inferred frequency D will be used.\n",
      "  self._init_dates(dates, freq)\n"
     ]
    },
    {
     "name": "stdout",
     "output_type": "stream",
     "text": [
      "Performing stepwise search to minimize aic\n",
      " ARIMA(0,1,0)(0,0,0)[0] intercept   : AIC=2178.163, Time=0.26 sec\n",
      " ARIMA(1,1,0)(0,0,0)[0] intercept   : AIC=2155.063, Time=0.24 sec\n",
      " ARIMA(0,1,1)(0,0,0)[0] intercept   : AIC=2152.426, Time=0.45 sec\n",
      " ARIMA(0,1,0)(0,0,0)[0]             : AIC=2176.496, Time=0.11 sec\n",
      " ARIMA(1,1,1)(0,0,0)[0] intercept   : AIC=2153.096, Time=0.96 sec\n",
      " ARIMA(0,1,2)(0,0,0)[0] intercept   : AIC=2152.967, Time=0.65 sec\n",
      " ARIMA(1,1,2)(0,0,0)[0] intercept   : AIC=2154.934, Time=1.42 sec\n",
      " ARIMA(0,1,1)(0,0,0)[0]             : AIC=2150.895, Time=0.20 sec\n",
      " ARIMA(1,1,1)(0,0,0)[0]             : AIC=2151.597, Time=0.36 sec\n",
      " ARIMA(0,1,2)(0,0,0)[0]             : AIC=2151.468, Time=0.26 sec\n",
      " ARIMA(1,1,0)(0,0,0)[0]             : AIC=2153.498, Time=0.11 sec\n",
      " ARIMA(1,1,2)(0,0,0)[0]             : AIC=2153.437, Time=0.57 sec\n",
      "\n",
      "Best model:  ARIMA(0,1,1)(0,0,0)[0]          \n",
      "Total fit time: 5.660 seconds\n"
     ]
    },
    {
     "name": "stderr",
     "output_type": "stream",
     "text": [
      "C:\\Users\\86173\\anaconda3\\lib\\site-packages\\statsmodels\\tsa\\base\\tsa_model.py:471: ValueWarning: No frequency information was provided, so inferred frequency D will be used.\n",
      "  self._init_dates(dates, freq)\n",
      "C:\\Users\\86173\\anaconda3\\lib\\site-packages\\statsmodels\\tsa\\base\\tsa_model.py:471: ValueWarning: No frequency information was provided, so inferred frequency D will be used.\n",
      "  self._init_dates(dates, freq)\n",
      "C:\\Users\\86173\\anaconda3\\lib\\site-packages\\statsmodels\\tsa\\base\\tsa_model.py:471: ValueWarning: No frequency information was provided, so inferred frequency D will be used.\n",
      "  self._init_dates(dates, freq)\n"
     ]
    },
    {
     "name": "stdout",
     "output_type": "stream",
     "text": [
      "Performing stepwise search to minimize aic\n",
      " ARIMA(0,0,0)(0,0,0)[0]             : AIC=4530.595, Time=0.08 sec\n",
      " ARIMA(1,0,0)(0,0,0)[0]             : AIC=inf, Time=0.78 sec\n",
      " ARIMA(0,0,1)(0,0,0)[0]             : AIC=inf, Time=0.66 sec\n",
      " ARIMA(1,0,1)(0,0,0)[0]             : AIC=-12507.832, Time=2.26 sec\n",
      " ARIMA(2,0,1)(0,0,0)[0]             : AIC=-12319.265, Time=1.63 sec\n",
      " ARIMA(1,0,2)(0,0,0)[0]             : AIC=-12490.744, Time=2.30 sec\n",
      " ARIMA(0,0,2)(0,0,0)[0]             : AIC=inf, Time=1.46 sec\n",
      " ARIMA(2,0,0)(0,0,0)[0]             : AIC=inf, Time=0.52 sec\n",
      " ARIMA(2,0,2)(0,0,0)[0]             : AIC=inf, Time=2.60 sec\n",
      " ARIMA(1,0,1)(0,0,0)[0] intercept   : AIC=-12536.655, Time=1.17 sec\n",
      " ARIMA(0,0,1)(0,0,0)[0] intercept   : AIC=-11025.628, Time=1.75 sec\n",
      " ARIMA(1,0,0)(0,0,0)[0] intercept   : AIC=-12418.819, Time=0.85 sec\n",
      " ARIMA(2,0,1)(0,0,0)[0] intercept   : AIC=-12536.112, Time=1.56 sec\n",
      " ARIMA(1,0,2)(0,0,0)[0] intercept   : AIC=-12527.485, Time=1.75 sec\n",
      " ARIMA(0,0,0)(0,0,0)[0] intercept   : AIC=-9910.416, Time=0.53 sec\n",
      " ARIMA(0,0,2)(0,0,0)[0] intercept   : AIC=-11582.336, Time=3.28 sec\n",
      " ARIMA(2,0,0)(0,0,0)[0] intercept   : AIC=-12531.146, Time=1.14 sec\n",
      " ARIMA(2,0,2)(0,0,0)[0] intercept   : AIC=-12363.261, Time=3.56 sec\n",
      "\n",
      "Best model:  ARIMA(1,0,1)(0,0,0)[0] intercept\n",
      "Total fit time: 27.964 seconds\n"
     ]
    },
    {
     "name": "stderr",
     "output_type": "stream",
     "text": [
      "C:\\Users\\86173\\anaconda3\\lib\\site-packages\\statsmodels\\tsa\\base\\tsa_model.py:471: ValueWarning: A date index has been provided, but it has no associated frequency information and so will be ignored when e.g. forecasting.\n",
      "  self._init_dates(dates, freq)\n",
      "C:\\Users\\86173\\anaconda3\\lib\\site-packages\\statsmodels\\tsa\\base\\tsa_model.py:471: ValueWarning: A date index has been provided, but it has no associated frequency information and so will be ignored when e.g. forecasting.\n",
      "  self._init_dates(dates, freq)\n",
      "C:\\Users\\86173\\anaconda3\\lib\\site-packages\\statsmodels\\tsa\\base\\tsa_model.py:471: ValueWarning: A date index has been provided, but it has no associated frequency information and so will be ignored when e.g. forecasting.\n",
      "  self._init_dates(dates, freq)\n",
      "C:\\Users\\86173\\anaconda3\\lib\\site-packages\\statsmodels\\tsa\\base\\tsa_model.py:834: ValueWarning: No supported index is available. Prediction results will be given with an integer index beginning at `start`.\n",
      "  return get_prediction_index(\n"
     ]
    },
    {
     "name": "stdout",
     "output_type": "stream",
     "text": [
      "Performing stepwise search to minimize aic\n",
      " ARIMA(0,1,0)(0,0,0)[0] intercept   : AIC=337.541, Time=0.41 sec\n",
      " ARIMA(1,1,0)(0,0,0)[0] intercept   : AIC=331.495, Time=0.30 sec\n",
      " ARIMA(0,1,1)(0,0,0)[0] intercept   : AIC=332.469, Time=0.50 sec\n",
      " ARIMA(0,1,0)(0,0,0)[0]             : AIC=335.661, Time=0.23 sec\n",
      " ARIMA(2,1,0)(0,0,0)[0] intercept   : AIC=325.326, Time=0.45 sec\n",
      " ARIMA(3,1,0)(0,0,0)[0] intercept   : AIC=293.816, Time=0.73 sec\n",
      " ARIMA(3,1,1)(0,0,0)[0] intercept   : AIC=295.359, Time=1.80 sec\n",
      " ARIMA(2,1,1)(0,0,0)[0] intercept   : AIC=307.682, Time=1.93 sec\n",
      " ARIMA(3,1,0)(0,0,0)[0]             : AIC=291.964, Time=0.34 sec\n",
      " ARIMA(2,1,0)(0,0,0)[0]             : AIC=323.443, Time=0.17 sec\n",
      " ARIMA(3,1,1)(0,0,0)[0]             : AIC=293.501, Time=0.77 sec\n",
      " ARIMA(2,1,1)(0,0,0)[0]             : AIC=305.796, Time=0.72 sec\n",
      "\n",
      "Best model:  ARIMA(3,1,0)(0,0,0)[0]          \n",
      "Total fit time: 8.424 seconds\n"
     ]
    },
    {
     "name": "stderr",
     "output_type": "stream",
     "text": [
      "C:\\Users\\86173\\anaconda3\\lib\\site-packages\\statsmodels\\tsa\\base\\tsa_model.py:471: ValueWarning: No frequency information was provided, so inferred frequency D will be used.\n",
      "  self._init_dates(dates, freq)\n",
      "C:\\Users\\86173\\anaconda3\\lib\\site-packages\\statsmodels\\tsa\\base\\tsa_model.py:471: ValueWarning: No frequency information was provided, so inferred frequency D will be used.\n",
      "  self._init_dates(dates, freq)\n",
      "C:\\Users\\86173\\anaconda3\\lib\\site-packages\\statsmodels\\tsa\\base\\tsa_model.py:471: ValueWarning: No frequency information was provided, so inferred frequency D will be used.\n",
      "  self._init_dates(dates, freq)\n"
     ]
    },
    {
     "name": "stdout",
     "output_type": "stream",
     "text": [
      "Performing stepwise search to minimize aic\n",
      " ARIMA(0,1,0)(0,0,0)[0] intercept   : AIC=-1480.045, Time=0.19 sec\n",
      " ARIMA(1,1,0)(0,0,0)[0] intercept   : AIC=-1480.646, Time=0.18 sec\n",
      " ARIMA(0,1,1)(0,0,0)[0] intercept   : AIC=-1480.215, Time=0.43 sec\n",
      " ARIMA(0,1,0)(0,0,0)[0]             : AIC=-1481.103, Time=0.09 sec\n",
      " ARIMA(1,1,1)(0,0,0)[0] intercept   : AIC=-1487.902, Time=0.67 sec\n",
      " ARIMA(2,1,1)(0,0,0)[0] intercept   : AIC=-1488.449, Time=1.04 sec\n",
      " ARIMA(2,1,0)(0,0,0)[0] intercept   : AIC=-1482.836, Time=0.14 sec\n",
      " ARIMA(3,1,1)(0,0,0)[0] intercept   : AIC=-1489.314, Time=1.41 sec\n",
      " ARIMA(3,1,0)(0,0,0)[0] intercept   : AIC=-1487.380, Time=0.44 sec\n",
      " ARIMA(3,1,2)(0,0,0)[0] intercept   : AIC=-1489.795, Time=1.63 sec\n",
      " ARIMA(2,1,2)(0,0,0)[0] intercept   : AIC=-1490.490, Time=1.61 sec\n",
      " ARIMA(1,1,2)(0,0,0)[0] intercept   : AIC=-1489.327, Time=1.06 sec\n",
      " ARIMA(2,1,3)(0,0,0)[0] intercept   : AIC=-1489.431, Time=1.58 sec\n",
      " ARIMA(1,1,3)(0,0,0)[0] intercept   : AIC=-1490.874, Time=1.53 sec\n",
      " ARIMA(0,1,3)(0,0,0)[0] intercept   : AIC=-1485.383, Time=0.83 sec\n",
      " ARIMA(0,1,2)(0,0,0)[0] intercept   : AIC=-1480.842, Time=0.53 sec\n",
      " ARIMA(1,1,3)(0,0,0)[0]             : AIC=-1491.843, Time=0.74 sec\n",
      " ARIMA(0,1,3)(0,0,0)[0]             : AIC=-1486.275, Time=0.40 sec\n",
      " ARIMA(1,1,2)(0,0,0)[0]             : AIC=-1490.470, Time=0.45 sec\n",
      " ARIMA(2,1,3)(0,0,0)[0]             : AIC=-1490.418, Time=1.06 sec\n",
      " ARIMA(0,1,2)(0,0,0)[0]             : AIC=-1481.929, Time=0.24 sec\n",
      " ARIMA(2,1,2)(0,0,0)[0]             : AIC=-1491.580, Time=1.11 sec\n",
      "\n",
      "Best model:  ARIMA(1,1,3)(0,0,0)[0]          \n",
      "Total fit time: 17.424 seconds\n"
     ]
    },
    {
     "name": "stderr",
     "output_type": "stream",
     "text": [
      "C:\\Users\\86173\\anaconda3\\lib\\site-packages\\statsmodels\\tsa\\base\\tsa_model.py:471: ValueWarning: No frequency information was provided, so inferred frequency D will be used.\n",
      "  self._init_dates(dates, freq)\n",
      "C:\\Users\\86173\\anaconda3\\lib\\site-packages\\statsmodels\\tsa\\base\\tsa_model.py:471: ValueWarning: No frequency information was provided, so inferred frequency D will be used.\n",
      "  self._init_dates(dates, freq)\n",
      "C:\\Users\\86173\\anaconda3\\lib\\site-packages\\statsmodels\\tsa\\base\\tsa_model.py:471: ValueWarning: No frequency information was provided, so inferred frequency D will be used.\n",
      "  self._init_dates(dates, freq)\n"
     ]
    },
    {
     "name": "stdout",
     "output_type": "stream",
     "text": [
      "Performing stepwise search to minimize aic\n",
      " ARIMA(0,1,0)(0,0,0)[0] intercept   : AIC=254.341, Time=0.32 sec\n",
      " ARIMA(1,1,0)(0,0,0)[0] intercept   : AIC=227.878, Time=0.26 sec\n",
      " ARIMA(0,1,1)(0,0,0)[0] intercept   : AIC=230.197, Time=0.48 sec\n",
      " ARIMA(0,1,0)(0,0,0)[0]             : AIC=252.832, Time=0.23 sec\n",
      " ARIMA(2,1,0)(0,0,0)[0] intercept   : AIC=227.565, Time=0.34 sec\n",
      " ARIMA(3,1,0)(0,0,0)[0] intercept   : AIC=225.213, Time=0.41 sec\n",
      " ARIMA(3,1,1)(0,0,0)[0] intercept   : AIC=226.389, Time=1.93 sec\n",
      " ARIMA(2,1,1)(0,0,0)[0] intercept   : AIC=226.559, Time=1.89 sec\n",
      " ARIMA(3,1,0)(0,0,0)[0]             : AIC=223.882, Time=0.20 sec\n",
      " ARIMA(2,1,0)(0,0,0)[0]             : AIC=226.159, Time=0.18 sec\n",
      " ARIMA(3,1,1)(0,0,0)[0]             : AIC=225.043, Time=1.14 sec\n",
      " ARIMA(2,1,1)(0,0,0)[0]             : AIC=225.157, Time=0.86 sec\n",
      "\n",
      "Best model:  ARIMA(3,1,0)(0,0,0)[0]          \n",
      "Total fit time: 8.306 seconds\n"
     ]
    },
    {
     "name": "stderr",
     "output_type": "stream",
     "text": [
      "C:\\Users\\86173\\anaconda3\\lib\\site-packages\\statsmodels\\tsa\\base\\tsa_model.py:471: ValueWarning: No frequency information was provided, so inferred frequency D will be used.\n",
      "  self._init_dates(dates, freq)\n",
      "C:\\Users\\86173\\anaconda3\\lib\\site-packages\\statsmodels\\tsa\\base\\tsa_model.py:471: ValueWarning: No frequency information was provided, so inferred frequency D will be used.\n",
      "  self._init_dates(dates, freq)\n",
      "C:\\Users\\86173\\anaconda3\\lib\\site-packages\\statsmodels\\tsa\\base\\tsa_model.py:471: ValueWarning: No frequency information was provided, so inferred frequency D will be used.\n",
      "  self._init_dates(dates, freq)\n"
     ]
    },
    {
     "name": "stdout",
     "output_type": "stream",
     "text": [
      "Performing stepwise search to minimize aic\n",
      " ARIMA(0,1,0)(0,0,0)[0] intercept   : AIC=1336.508, Time=0.21 sec\n",
      " ARIMA(1,1,0)(0,0,0)[0] intercept   : AIC=1290.830, Time=0.25 sec\n",
      " ARIMA(0,1,1)(0,0,0)[0] intercept   : AIC=1300.363, Time=0.42 sec\n",
      " ARIMA(0,1,0)(0,0,0)[0]             : AIC=1334.927, Time=0.08 sec\n",
      " ARIMA(2,1,0)(0,0,0)[0] intercept   : AIC=1281.705, Time=0.33 sec\n",
      " ARIMA(3,1,0)(0,0,0)[0] intercept   : AIC=1275.222, Time=0.42 sec\n",
      " ARIMA(3,1,1)(0,0,0)[0] intercept   : AIC=1272.364, Time=1.04 sec\n",
      " ARIMA(2,1,1)(0,0,0)[0] intercept   : AIC=1294.258, Time=1.26 sec\n",
      " ARIMA(3,1,2)(0,0,0)[0] intercept   : AIC=1275.314, Time=2.20 sec\n",
      " ARIMA(2,1,2)(0,0,0)[0] intercept   : AIC=1274.589, Time=1.77 sec\n",
      " ARIMA(3,1,1)(0,0,0)[0]             : AIC=1270.987, Time=0.50 sec\n",
      " ARIMA(2,1,1)(0,0,0)[0]             : AIC=1271.632, Time=0.89 sec\n",
      " ARIMA(3,1,0)(0,0,0)[0]             : AIC=1273.874, Time=0.17 sec\n",
      " ARIMA(3,1,2)(0,0,0)[0]             : AIC=1274.008, Time=0.93 sec\n",
      " ARIMA(2,1,0)(0,0,0)[0]             : AIC=1280.231, Time=0.14 sec\n",
      " ARIMA(2,1,2)(0,0,0)[0]             : AIC=1273.254, Time=0.73 sec\n",
      "\n",
      "Best model:  ARIMA(3,1,1)(0,0,0)[0]          \n",
      "Total fit time: 11.411 seconds\n"
     ]
    },
    {
     "name": "stderr",
     "output_type": "stream",
     "text": [
      "C:\\Users\\86173\\anaconda3\\lib\\site-packages\\statsmodels\\tsa\\base\\tsa_model.py:471: ValueWarning: No frequency information was provided, so inferred frequency D will be used.\n",
      "  self._init_dates(dates, freq)\n",
      "C:\\Users\\86173\\anaconda3\\lib\\site-packages\\statsmodels\\tsa\\base\\tsa_model.py:471: ValueWarning: No frequency information was provided, so inferred frequency D will be used.\n",
      "  self._init_dates(dates, freq)\n",
      "C:\\Users\\86173\\anaconda3\\lib\\site-packages\\statsmodels\\tsa\\base\\tsa_model.py:471: ValueWarning: No frequency information was provided, so inferred frequency D will be used.\n",
      "  self._init_dates(dates, freq)\n"
     ]
    },
    {
     "name": "stdout",
     "output_type": "stream",
     "text": [
      "Performing stepwise search to minimize aic\n",
      " ARIMA(0,1,0)(0,0,0)[0] intercept   : AIC=-10801.667, Time=0.59 sec\n",
      " ARIMA(1,1,0)(0,0,0)[0] intercept   : AIC=-10800.774, Time=0.63 sec\n",
      " ARIMA(0,1,1)(0,0,0)[0] intercept   : AIC=-10800.088, Time=0.95 sec\n",
      " ARIMA(0,1,0)(0,0,0)[0]             : AIC=-10803.440, Time=0.23 sec\n",
      " ARIMA(1,1,1)(0,0,0)[0] intercept   : AIC=-10799.242, Time=3.04 sec\n",
      "\n",
      "Best model:  ARIMA(0,1,0)(0,0,0)[0]          \n",
      "Total fit time: 5.501 seconds\n"
     ]
    },
    {
     "name": "stderr",
     "output_type": "stream",
     "text": [
      "C:\\Users\\86173\\anaconda3\\lib\\site-packages\\statsmodels\\tsa\\base\\tsa_model.py:471: ValueWarning: No frequency information was provided, so inferred frequency D will be used.\n",
      "  self._init_dates(dates, freq)\n",
      "C:\\Users\\86173\\anaconda3\\lib\\site-packages\\statsmodels\\tsa\\base\\tsa_model.py:471: ValueWarning: No frequency information was provided, so inferred frequency D will be used.\n",
      "  self._init_dates(dates, freq)\n",
      "C:\\Users\\86173\\anaconda3\\lib\\site-packages\\statsmodels\\tsa\\base\\tsa_model.py:471: ValueWarning: No frequency information was provided, so inferred frequency D will be used.\n",
      "  self._init_dates(dates, freq)\n"
     ]
    },
    {
     "name": "stdout",
     "output_type": "stream",
     "text": [
      "Performing stepwise search to minimize aic\n",
      " ARIMA(0,0,0)(0,0,0)[0]             : AIC=3617.375, Time=0.05 sec\n",
      " ARIMA(1,0,0)(0,0,0)[0]             : AIC=inf, Time=0.28 sec\n",
      " ARIMA(0,0,1)(0,0,0)[0]             : AIC=inf, Time=0.71 sec\n",
      " ARIMA(1,0,1)(0,0,0)[0]             : AIC=-10017.749, Time=0.45 sec\n",
      " ARIMA(2,0,1)(0,0,0)[0]             : AIC=-10000.726, Time=0.64 sec\n",
      " ARIMA(1,0,2)(0,0,0)[0]             : AIC=-10024.705, Time=0.81 sec\n",
      " ARIMA(0,0,2)(0,0,0)[0]             : AIC=253.999, Time=1.07 sec\n",
      " ARIMA(2,0,2)(0,0,0)[0]             : AIC=-10031.179, Time=1.01 sec\n",
      " ARIMA(3,0,2)(0,0,0)[0]             : AIC=-10033.532, Time=1.61 sec\n",
      " ARIMA(3,0,1)(0,0,0)[0]             : AIC=-9956.808, Time=0.73 sec\n",
      " ARIMA(3,0,3)(0,0,0)[0]             : AIC=-10021.653, Time=0.82 sec\n",
      " ARIMA(2,0,3)(0,0,0)[0]             : AIC=-9856.790, Time=2.90 sec\n",
      " ARIMA(3,0,2)(0,0,0)[0] intercept   : AIC=-10034.826, Time=2.10 sec\n",
      " ARIMA(2,0,2)(0,0,0)[0] intercept   : AIC=-10055.402, Time=1.41 sec\n",
      " ARIMA(1,0,2)(0,0,0)[0] intercept   : AIC=-10028.577, Time=1.25 sec\n",
      " ARIMA(2,0,1)(0,0,0)[0] intercept   : AIC=-10031.718, Time=1.11 sec\n",
      " ARIMA(2,0,3)(0,0,0)[0] intercept   : AIC=-10043.304, Time=1.93 sec\n",
      " ARIMA(1,0,1)(0,0,0)[0] intercept   : AIC=-9981.842, Time=0.74 sec\n",
      " ARIMA(1,0,3)(0,0,0)[0] intercept   : AIC=-10016.185, Time=1.67 sec\n",
      " ARIMA(3,0,1)(0,0,0)[0] intercept   : AIC=-10034.957, Time=1.71 sec\n",
      " ARIMA(3,0,3)(0,0,0)[0] intercept   : AIC=-10061.165, Time=2.11 sec\n",
      "\n",
      "Best model:  ARIMA(3,0,3)(0,0,0)[0] intercept\n",
      "Total fit time: 25.171 seconds\n"
     ]
    },
    {
     "name": "stderr",
     "output_type": "stream",
     "text": [
      "C:\\Users\\86173\\anaconda3\\lib\\site-packages\\statsmodels\\tsa\\base\\tsa_model.py:471: ValueWarning: No frequency information was provided, so inferred frequency D will be used.\n",
      "  self._init_dates(dates, freq)\n",
      "C:\\Users\\86173\\anaconda3\\lib\\site-packages\\statsmodels\\tsa\\base\\tsa_model.py:471: ValueWarning: No frequency information was provided, so inferred frequency D will be used.\n",
      "  self._init_dates(dates, freq)\n",
      "C:\\Users\\86173\\anaconda3\\lib\\site-packages\\statsmodels\\tsa\\base\\tsa_model.py:471: ValueWarning: No frequency information was provided, so inferred frequency D will be used.\n",
      "  self._init_dates(dates, freq)\n",
      "C:\\Users\\86173\\anaconda3\\lib\\site-packages\\statsmodels\\base\\model.py:604: ConvergenceWarning: Maximum Likelihood optimization failed to converge. Check mle_retvals\n",
      "  warnings.warn(\"Maximum Likelihood optimization failed to \"\n"
     ]
    },
    {
     "name": "stdout",
     "output_type": "stream",
     "text": [
      "Performing stepwise search to minimize aic\n",
      " ARIMA(0,1,0)(0,0,0)[0] intercept   : AIC=-1376.856, Time=0.13 sec\n",
      " ARIMA(1,1,0)(0,0,0)[0] intercept   : AIC=-1377.666, Time=0.21 sec\n",
      " ARIMA(0,1,1)(0,0,0)[0] intercept   : AIC=-1377.511, Time=0.27 sec\n",
      " ARIMA(0,1,0)(0,0,0)[0]             : AIC=-1377.698, Time=0.09 sec\n",
      " ARIMA(1,1,1)(0,0,0)[0] intercept   : AIC=-1375.707, Time=0.61 sec\n",
      "\n",
      "Best model:  ARIMA(0,1,0)(0,0,0)[0]          \n",
      "Total fit time: 1.318 seconds\n"
     ]
    },
    {
     "name": "stderr",
     "output_type": "stream",
     "text": [
      "C:\\Users\\86173\\anaconda3\\lib\\site-packages\\statsmodels\\tsa\\base\\tsa_model.py:471: ValueWarning: No frequency information was provided, so inferred frequency D will be used.\n",
      "  self._init_dates(dates, freq)\n",
      "C:\\Users\\86173\\anaconda3\\lib\\site-packages\\statsmodels\\tsa\\base\\tsa_model.py:471: ValueWarning: No frequency information was provided, so inferred frequency D will be used.\n",
      "  self._init_dates(dates, freq)\n",
      "C:\\Users\\86173\\anaconda3\\lib\\site-packages\\statsmodels\\tsa\\base\\tsa_model.py:471: ValueWarning: No frequency information was provided, so inferred frequency D will be used.\n",
      "  self._init_dates(dates, freq)\n"
     ]
    },
    {
     "name": "stdout",
     "output_type": "stream",
     "text": [
      "Performing stepwise search to minimize aic\n",
      " ARIMA(0,1,0)(0,0,0)[0] intercept   : AIC=1175.700, Time=0.05 sec\n",
      " ARIMA(1,1,0)(0,0,0)[0] intercept   : AIC=1169.821, Time=0.11 sec\n",
      " ARIMA(0,1,1)(0,0,0)[0] intercept   : AIC=1171.064, Time=0.12 sec\n",
      " ARIMA(0,1,0)(0,0,0)[0]             : AIC=1174.365, Time=0.05 sec\n",
      " ARIMA(2,1,0)(0,0,0)[0] intercept   : AIC=1169.328, Time=0.14 sec\n",
      " ARIMA(3,1,0)(0,0,0)[0] intercept   : AIC=1169.845, Time=0.17 sec\n",
      " ARIMA(2,1,1)(0,0,0)[0] intercept   : AIC=1164.835, Time=0.36 sec\n",
      " ARIMA(1,1,1)(0,0,0)[0] intercept   : AIC=1162.842, Time=0.23 sec\n",
      " ARIMA(1,1,2)(0,0,0)[0] intercept   : AIC=1164.834, Time=0.46 sec\n",
      " ARIMA(0,1,2)(0,0,0)[0] intercept   : AIC=1170.516, Time=0.17 sec\n",
      " ARIMA(2,1,2)(0,0,0)[0] intercept   : AIC=1166.565, Time=0.69 sec\n",
      " ARIMA(1,1,1)(0,0,0)[0]             : AIC=1161.636, Time=0.13 sec\n",
      " ARIMA(0,1,1)(0,0,0)[0]             : AIC=1169.963, Time=0.06 sec\n",
      " ARIMA(1,1,0)(0,0,0)[0]             : AIC=1168.725, Time=0.07 sec\n",
      " ARIMA(2,1,1)(0,0,0)[0]             : AIC=1163.620, Time=0.16 sec\n",
      " ARIMA(1,1,2)(0,0,0)[0]             : AIC=1163.618, Time=0.26 sec\n",
      " ARIMA(0,1,2)(0,0,0)[0]             : AIC=1169.261, Time=0.09 sec\n",
      " ARIMA(2,1,0)(0,0,0)[0]             : AIC=1168.081, Time=0.08 sec\n",
      " ARIMA(2,1,2)(0,0,0)[0]             : AIC=1165.504, Time=0.37 sec\n",
      "\n",
      "Best model:  ARIMA(1,1,1)(0,0,0)[0]          \n",
      "Total fit time: 3.802 seconds\n"
     ]
    },
    {
     "name": "stderr",
     "output_type": "stream",
     "text": [
      "C:\\Users\\86173\\anaconda3\\lib\\site-packages\\statsmodels\\tsa\\base\\tsa_model.py:471: ValueWarning: No frequency information was provided, so inferred frequency D will be used.\n",
      "  self._init_dates(dates, freq)\n",
      "C:\\Users\\86173\\anaconda3\\lib\\site-packages\\statsmodels\\tsa\\base\\tsa_model.py:471: ValueWarning: No frequency information was provided, so inferred frequency D will be used.\n",
      "  self._init_dates(dates, freq)\n",
      "C:\\Users\\86173\\anaconda3\\lib\\site-packages\\statsmodels\\tsa\\base\\tsa_model.py:471: ValueWarning: No frequency information was provided, so inferred frequency D will be used.\n",
      "  self._init_dates(dates, freq)\n"
     ]
    },
    {
     "name": "stdout",
     "output_type": "stream",
     "text": [
      "Performing stepwise search to minimize aic\n",
      " ARIMA(0,1,0)(0,0,0)[0] intercept   : AIC=-1960.350, Time=0.27 sec\n",
      " ARIMA(1,1,0)(0,0,0)[0] intercept   : AIC=-1965.052, Time=0.18 sec\n",
      " ARIMA(0,1,1)(0,0,0)[0] intercept   : AIC=-1965.707, Time=0.43 sec\n",
      " ARIMA(0,1,0)(0,0,0)[0]             : AIC=-1961.970, Time=0.27 sec\n",
      " ARIMA(1,1,1)(0,0,0)[0] intercept   : AIC=-1960.777, Time=1.15 sec\n",
      " ARIMA(0,1,2)(0,0,0)[0] intercept   : AIC=-1964.937, Time=1.12 sec\n",
      " ARIMA(1,1,2)(0,0,0)[0] intercept   : AIC=-1961.715, Time=1.13 sec\n",
      " ARIMA(0,1,1)(0,0,0)[0]             : AIC=-1967.241, Time=0.18 sec\n",
      " ARIMA(1,1,1)(0,0,0)[0]             : AIC=-1966.348, Time=0.51 sec\n",
      " ARIMA(0,1,2)(0,0,0)[0]             : AIC=-1966.439, Time=0.20 sec\n",
      " ARIMA(1,1,0)(0,0,0)[0]             : AIC=-1966.603, Time=0.17 sec\n",
      " ARIMA(1,1,2)(0,0,0)[0]             : AIC=-1963.259, Time=0.47 sec\n",
      "\n",
      "Best model:  ARIMA(0,1,1)(0,0,0)[0]          \n",
      "Total fit time: 6.140 seconds\n"
     ]
    },
    {
     "name": "stderr",
     "output_type": "stream",
     "text": [
      "C:\\Users\\86173\\anaconda3\\lib\\site-packages\\statsmodels\\tsa\\base\\tsa_model.py:471: ValueWarning: No frequency information was provided, so inferred frequency D will be used.\n",
      "  self._init_dates(dates, freq)\n",
      "C:\\Users\\86173\\anaconda3\\lib\\site-packages\\statsmodels\\tsa\\base\\tsa_model.py:471: ValueWarning: No frequency information was provided, so inferred frequency D will be used.\n",
      "  self._init_dates(dates, freq)\n",
      "C:\\Users\\86173\\anaconda3\\lib\\site-packages\\statsmodels\\tsa\\base\\tsa_model.py:471: ValueWarning: No frequency information was provided, so inferred frequency D will be used.\n",
      "  self._init_dates(dates, freq)\n"
     ]
    },
    {
     "name": "stdout",
     "output_type": "stream",
     "text": [
      "Performing stepwise search to minimize aic\n",
      " ARIMA(0,0,0)(0,0,0)[0]             : AIC=2827.748, Time=0.17 sec\n",
      " ARIMA(1,0,0)(0,0,0)[0]             : AIC=inf, Time=0.25 sec\n",
      " ARIMA(0,0,1)(0,0,0)[0]             : AIC=1477.237, Time=0.34 sec\n",
      " ARIMA(1,0,1)(0,0,0)[0]             : AIC=-6531.788, Time=0.49 sec\n",
      " ARIMA(2,0,1)(0,0,0)[0]             : AIC=-6536.841, Time=0.82 sec\n",
      " ARIMA(2,0,0)(0,0,0)[0]             : AIC=inf, Time=0.44 sec\n",
      " ARIMA(3,0,1)(0,0,0)[0]             : AIC=-6448.706, Time=0.50 sec\n",
      " ARIMA(2,0,2)(0,0,0)[0]             : AIC=-6517.783, Time=0.48 sec\n",
      " ARIMA(1,0,2)(0,0,0)[0]             : AIC=-6537.596, Time=0.79 sec\n",
      " ARIMA(0,0,2)(0,0,0)[0]             : AIC=inf, Time=1.93 sec\n",
      " ARIMA(1,0,3)(0,0,0)[0]             : AIC=-6558.605, Time=1.20 sec\n",
      " ARIMA(0,0,3)(0,0,0)[0]             : AIC=inf, Time=2.25 sec\n",
      " ARIMA(2,0,3)(0,0,0)[0]             : AIC=-6556.231, Time=0.56 sec\n",
      " ARIMA(1,0,3)(0,0,0)[0] intercept   : AIC=-6608.027, Time=3.38 sec\n",
      " ARIMA(0,0,3)(0,0,0)[0] intercept   : AIC=-6595.516, Time=2.42 sec\n",
      " ARIMA(1,0,2)(0,0,0)[0] intercept   : AIC=-6606.994, Time=2.39 sec\n",
      " ARIMA(2,0,3)(0,0,0)[0] intercept   : AIC=-6606.373, Time=4.63 sec\n",
      " ARIMA(0,0,2)(0,0,0)[0] intercept   : AIC=-6583.500, Time=1.79 sec\n",
      " ARIMA(2,0,2)(0,0,0)[0] intercept   : AIC=-6612.060, Time=1.48 sec\n",
      " ARIMA(2,0,1)(0,0,0)[0] intercept   : AIC=-6611.386, Time=0.70 sec\n",
      " ARIMA(3,0,2)(0,0,0)[0] intercept   : AIC=-6611.578, Time=6.32 sec\n",
      " ARIMA(1,0,1)(0,0,0)[0] intercept   : AIC=-6595.153, Time=6.58 sec\n",
      " ARIMA(3,0,1)(0,0,0)[0] intercept   : AIC=-6608.196, Time=2.29 sec\n",
      " ARIMA(3,0,3)(0,0,0)[0] intercept   : AIC=-6606.022, Time=16.56 sec\n",
      "\n",
      "Best model:  ARIMA(2,0,2)(0,0,0)[0] intercept\n",
      "Total fit time: 58.790 seconds\n"
     ]
    },
    {
     "name": "stderr",
     "output_type": "stream",
     "text": [
      "C:\\Users\\86173\\anaconda3\\lib\\site-packages\\statsmodels\\tsa\\base\\tsa_model.py:471: ValueWarning: No frequency information was provided, so inferred frequency D will be used.\n",
      "  self._init_dates(dates, freq)\n",
      "C:\\Users\\86173\\anaconda3\\lib\\site-packages\\statsmodels\\tsa\\base\\tsa_model.py:471: ValueWarning: No frequency information was provided, so inferred frequency D will be used.\n",
      "  self._init_dates(dates, freq)\n",
      "C:\\Users\\86173\\anaconda3\\lib\\site-packages\\statsmodels\\tsa\\base\\tsa_model.py:471: ValueWarning: No frequency information was provided, so inferred frequency D will be used.\n",
      "  self._init_dates(dates, freq)\n"
     ]
    },
    {
     "name": "stdout",
     "output_type": "stream",
     "text": [
      "Performing stepwise search to minimize aic\n",
      " ARIMA(0,1,0)(0,0,0)[0] intercept   : AIC=-8658.184, Time=0.52 sec\n",
      " ARIMA(1,1,0)(0,0,0)[0] intercept   : AIC=-8708.597, Time=0.53 sec\n",
      " ARIMA(0,1,1)(0,0,0)[0] intercept   : AIC=-8692.923, Time=0.74 sec\n",
      " ARIMA(0,1,0)(0,0,0)[0]             : AIC=-8659.740, Time=0.14 sec\n",
      " ARIMA(2,1,0)(0,0,0)[0] intercept   : AIC=-8744.248, Time=0.58 sec\n",
      " ARIMA(3,1,0)(0,0,0)[0] intercept   : AIC=-8742.335, Time=0.97 sec\n",
      " ARIMA(2,1,1)(0,0,0)[0] intercept   : AIC=-8742.372, Time=1.10 sec\n",
      " ARIMA(1,1,1)(0,0,0)[0] intercept   : AIC=-8734.394, Time=1.41 sec\n",
      " ARIMA(3,1,1)(0,0,0)[0] intercept   : AIC=-8740.388, Time=1.84 sec\n",
      " ARIMA(2,1,0)(0,0,0)[0]             : AIC=-8745.790, Time=0.26 sec\n",
      " ARIMA(1,1,0)(0,0,0)[0]             : AIC=-8709.934, Time=0.15 sec\n",
      " ARIMA(3,1,0)(0,0,0)[0]             : AIC=-8743.885, Time=0.85 sec\n",
      " ARIMA(2,1,1)(0,0,0)[0]             : AIC=-8743.927, Time=0.52 sec\n",
      " ARIMA(1,1,1)(0,0,0)[0]             : AIC=-8734.698, Time=0.45 sec\n",
      " ARIMA(3,1,1)(0,0,0)[0]             : AIC=-8741.942, Time=0.38 sec\n",
      "\n",
      "Best model:  ARIMA(2,1,0)(0,0,0)[0]          \n",
      "Total fit time: 10.499 seconds\n"
     ]
    },
    {
     "name": "stderr",
     "output_type": "stream",
     "text": [
      "C:\\Users\\86173\\anaconda3\\lib\\site-packages\\statsmodels\\tsa\\base\\tsa_model.py:471: ValueWarning: No frequency information was provided, so inferred frequency D will be used.\n",
      "  self._init_dates(dates, freq)\n",
      "C:\\Users\\86173\\anaconda3\\lib\\site-packages\\statsmodels\\tsa\\base\\tsa_model.py:471: ValueWarning: No frequency information was provided, so inferred frequency D will be used.\n",
      "  self._init_dates(dates, freq)\n",
      "C:\\Users\\86173\\anaconda3\\lib\\site-packages\\statsmodels\\tsa\\base\\tsa_model.py:471: ValueWarning: No frequency information was provided, so inferred frequency D will be used.\n",
      "  self._init_dates(dates, freq)\n"
     ]
    },
    {
     "name": "stdout",
     "output_type": "stream",
     "text": [
      "Performing stepwise search to minimize aic\n",
      " ARIMA(0,1,0)(0,0,0)[0] intercept   : AIC=2870.782, Time=0.54 sec\n",
      " ARIMA(1,1,0)(0,0,0)[0] intercept   : AIC=2856.086, Time=0.23 sec\n",
      " ARIMA(0,1,1)(0,0,0)[0] intercept   : AIC=2858.020, Time=0.37 sec\n",
      " ARIMA(0,1,0)(0,0,0)[0]             : AIC=2869.388, Time=0.11 sec\n",
      " ARIMA(2,1,0)(0,0,0)[0] intercept   : AIC=2853.425, Time=0.44 sec\n",
      " ARIMA(3,1,0)(0,0,0)[0] intercept   : AIC=2855.166, Time=0.63 sec\n",
      " ARIMA(2,1,1)(0,0,0)[0] intercept   : AIC=2844.047, Time=1.67 sec\n",
      " ARIMA(1,1,1)(0,0,0)[0] intercept   : AIC=2846.324, Time=1.00 sec\n",
      " ARIMA(3,1,1)(0,0,0)[0] intercept   : AIC=2845.539, Time=2.38 sec\n",
      " ARIMA(2,1,2)(0,0,0)[0] intercept   : AIC=inf, Time=3.38 sec\n",
      " ARIMA(1,1,2)(0,0,0)[0] intercept   : AIC=2848.283, Time=1.37 sec\n",
      " ARIMA(3,1,2)(0,0,0)[0] intercept   : AIC=2842.607, Time=3.95 sec\n",
      " ARIMA(3,1,3)(0,0,0)[0] intercept   : AIC=2828.084, Time=5.66 sec\n",
      " ARIMA(2,1,3)(0,0,0)[0] intercept   : AIC=2840.735, Time=3.23 sec\n",
      " ARIMA(3,1,3)(0,0,0)[0]             : AIC=2826.594, Time=2.92 sec\n",
      " ARIMA(2,1,3)(0,0,0)[0]             : AIC=2839.147, Time=1.26 sec\n",
      " ARIMA(3,1,2)(0,0,0)[0]             : AIC=2841.034, Time=1.44 sec\n",
      " ARIMA(2,1,2)(0,0,0)[0]             : AIC=2835.015, Time=3.07 sec\n",
      "\n",
      "Best model:  ARIMA(3,1,3)(0,0,0)[0]          \n",
      "Total fit time: 33.739 seconds\n"
     ]
    },
    {
     "name": "stderr",
     "output_type": "stream",
     "text": [
      "C:\\Users\\86173\\anaconda3\\lib\\site-packages\\statsmodels\\tsa\\base\\tsa_model.py:471: ValueWarning: No frequency information was provided, so inferred frequency D will be used.\n",
      "  self._init_dates(dates, freq)\n",
      "C:\\Users\\86173\\anaconda3\\lib\\site-packages\\statsmodels\\tsa\\base\\tsa_model.py:471: ValueWarning: No frequency information was provided, so inferred frequency D will be used.\n",
      "  self._init_dates(dates, freq)\n",
      "C:\\Users\\86173\\anaconda3\\lib\\site-packages\\statsmodels\\tsa\\base\\tsa_model.py:471: ValueWarning: No frequency information was provided, so inferred frequency D will be used.\n",
      "  self._init_dates(dates, freq)\n"
     ]
    },
    {
     "name": "stdout",
     "output_type": "stream",
     "text": [
      "Performing stepwise search to minimize aic\n",
      " ARIMA(0,0,0)(0,0,0)[0]             : AIC=3066.169, Time=0.31 sec\n",
      " ARIMA(1,0,0)(0,0,0)[0]             : AIC=inf, Time=0.37 sec\n",
      " ARIMA(0,0,1)(0,0,0)[0]             : AIC=-35.429, Time=1.09 sec\n",
      " ARIMA(1,0,1)(0,0,0)[0]             : AIC=-8278.689, Time=0.71 sec\n",
      " ARIMA(2,0,1)(0,0,0)[0]             : AIC=-8297.314, Time=2.81 sec\n",
      " ARIMA(2,0,0)(0,0,0)[0]             : AIC=inf, Time=1.23 sec\n",
      " ARIMA(3,0,1)(0,0,0)[0]             : AIC=-8274.741, Time=1.29 sec\n",
      " ARIMA(2,0,2)(0,0,0)[0]             : AIC=inf, Time=7.22 sec\n",
      " ARIMA(1,0,2)(0,0,0)[0]             : AIC=-8277.208, Time=0.37 sec\n",
      " ARIMA(3,0,0)(0,0,0)[0]             : AIC=inf, Time=0.92 sec\n",
      " ARIMA(3,0,2)(0,0,0)[0]             : AIC=-8273.645, Time=4.44 sec\n",
      " ARIMA(2,0,1)(0,0,0)[0] intercept   : AIC=-8294.621, Time=7.16 sec\n",
      "\n",
      "Best model:  ARIMA(2,0,1)(0,0,0)[0]          \n",
      "Total fit time: 27.968 seconds\n"
     ]
    },
    {
     "name": "stderr",
     "output_type": "stream",
     "text": [
      "C:\\Users\\86173\\anaconda3\\lib\\site-packages\\statsmodels\\tsa\\base\\tsa_model.py:471: ValueWarning: No frequency information was provided, so inferred frequency D will be used.\n",
      "  self._init_dates(dates, freq)\n",
      "C:\\Users\\86173\\anaconda3\\lib\\site-packages\\statsmodels\\tsa\\base\\tsa_model.py:471: ValueWarning: No frequency information was provided, so inferred frequency D will be used.\n",
      "  self._init_dates(dates, freq)\n",
      "C:\\Users\\86173\\anaconda3\\lib\\site-packages\\statsmodels\\tsa\\base\\tsa_model.py:471: ValueWarning: No frequency information was provided, so inferred frequency D will be used.\n",
      "  self._init_dates(dates, freq)\n",
      "C:\\Users\\86173\\anaconda3\\lib\\site-packages\\statsmodels\\base\\model.py:604: ConvergenceWarning: Maximum Likelihood optimization failed to converge. Check mle_retvals\n",
      "  warnings.warn(\"Maximum Likelihood optimization failed to \"\n"
     ]
    },
    {
     "name": "stdout",
     "output_type": "stream",
     "text": [
      "Performing stepwise search to minimize aic\n",
      " ARIMA(0,1,0)(0,0,0)[0] intercept   : AIC=11506.106, Time=0.10 sec\n",
      " ARIMA(1,1,0)(0,0,0)[0] intercept   : AIC=11499.768, Time=0.43 sec\n",
      " ARIMA(0,1,1)(0,0,0)[0] intercept   : AIC=11498.417, Time=0.53 sec\n",
      " ARIMA(0,1,0)(0,0,0)[0]             : AIC=11504.143, Time=0.08 sec\n",
      " ARIMA(1,1,1)(0,0,0)[0] intercept   : AIC=11497.775, Time=1.08 sec\n",
      " ARIMA(2,1,1)(0,0,0)[0] intercept   : AIC=11491.530, Time=1.33 sec\n",
      " ARIMA(2,1,0)(0,0,0)[0] intercept   : AIC=11493.412, Time=0.31 sec\n",
      " ARIMA(3,1,1)(0,0,0)[0] intercept   : AIC=11492.020, Time=2.02 sec\n",
      " ARIMA(2,1,2)(0,0,0)[0] intercept   : AIC=11435.377, Time=5.02 sec\n",
      " ARIMA(1,1,2)(0,0,0)[0] intercept   : AIC=11493.432, Time=1.24 sec\n",
      " ARIMA(3,1,2)(0,0,0)[0] intercept   : AIC=11432.496, Time=5.43 sec\n",
      " ARIMA(3,1,3)(0,0,0)[0] intercept   : AIC=11437.335, Time=3.88 sec\n",
      " ARIMA(2,1,3)(0,0,0)[0] intercept   : AIC=11432.681, Time=4.72 sec\n",
      " ARIMA(3,1,2)(0,0,0)[0]             : AIC=11430.519, Time=2.39 sec\n",
      " ARIMA(2,1,2)(0,0,0)[0]             : AIC=11433.402, Time=2.67 sec\n",
      " ARIMA(3,1,1)(0,0,0)[0]             : AIC=11490.063, Time=0.77 sec\n",
      " ARIMA(3,1,3)(0,0,0)[0]             : AIC=11435.390, Time=1.70 sec\n",
      " ARIMA(2,1,1)(0,0,0)[0]             : AIC=11489.576, Time=0.60 sec\n",
      " ARIMA(2,1,3)(0,0,0)[0]             : AIC=11430.719, Time=2.17 sec\n",
      "\n",
      "Best model:  ARIMA(3,1,2)(0,0,0)[0]          \n",
      "Total fit time: 36.620 seconds\n"
     ]
    },
    {
     "name": "stderr",
     "output_type": "stream",
     "text": [
      "C:\\Users\\86173\\anaconda3\\lib\\site-packages\\statsmodels\\tsa\\base\\tsa_model.py:471: ValueWarning: No frequency information was provided, so inferred frequency D will be used.\n",
      "  self._init_dates(dates, freq)\n",
      "C:\\Users\\86173\\anaconda3\\lib\\site-packages\\statsmodels\\tsa\\base\\tsa_model.py:471: ValueWarning: No frequency information was provided, so inferred frequency D will be used.\n",
      "  self._init_dates(dates, freq)\n",
      "C:\\Users\\86173\\anaconda3\\lib\\site-packages\\statsmodels\\tsa\\base\\tsa_model.py:471: ValueWarning: No frequency information was provided, so inferred frequency D will be used.\n",
      "  self._init_dates(dates, freq)\n"
     ]
    },
    {
     "name": "stdout",
     "output_type": "stream",
     "text": [
      "Performing stepwise search to minimize aic\n",
      " ARIMA(0,1,0)(0,0,0)[0] intercept   : AIC=-9625.335, Time=0.34 sec\n",
      " ARIMA(1,1,0)(0,0,0)[0] intercept   : AIC=-9666.291, Time=1.30 sec\n",
      " ARIMA(0,1,1)(0,0,0)[0] intercept   : AIC=-9659.943, Time=1.02 sec\n",
      " ARIMA(0,1,0)(0,0,0)[0]             : AIC=-9627.324, Time=0.25 sec\n",
      " ARIMA(2,1,0)(0,0,0)[0] intercept   : AIC=-9670.648, Time=1.23 sec\n",
      " ARIMA(3,1,0)(0,0,0)[0] intercept   : AIC=-9670.335, Time=2.39 sec\n",
      " ARIMA(2,1,1)(0,0,0)[0] intercept   : AIC=-9676.845, Time=2.05 sec\n",
      " ARIMA(1,1,1)(0,0,0)[0] intercept   : AIC=-9675.265, Time=2.09 sec\n",
      " ARIMA(3,1,1)(0,0,0)[0] intercept   : AIC=-9667.739, Time=4.67 sec\n",
      " ARIMA(2,1,2)(0,0,0)[0] intercept   : AIC=-9676.966, Time=2.99 sec\n",
      " ARIMA(1,1,2)(0,0,0)[0] intercept   : AIC=-9681.094, Time=3.05 sec\n",
      " ARIMA(0,1,2)(0,0,0)[0] intercept   : AIC=-9667.351, Time=3.03 sec\n",
      " ARIMA(1,1,3)(0,0,0)[0] intercept   : AIC=-9677.140, Time=2.10 sec\n",
      " ARIMA(0,1,3)(0,0,0)[0] intercept   : AIC=-9665.320, Time=1.41 sec\n",
      " ARIMA(2,1,3)(0,0,0)[0] intercept   : AIC=-9674.634, Time=3.80 sec\n",
      " ARIMA(1,1,2)(0,0,0)[0]             : AIC=-9681.158, Time=0.44 sec\n",
      " ARIMA(0,1,2)(0,0,0)[0]             : AIC=-9669.339, Time=1.01 sec\n",
      " ARIMA(1,1,1)(0,0,0)[0]             : AIC=-9677.092, Time=0.97 sec\n",
      " ARIMA(2,1,2)(0,0,0)[0]             : AIC=-9678.953, Time=1.80 sec\n",
      " ARIMA(1,1,3)(0,0,0)[0]             : AIC=-9677.930, Time=0.73 sec\n",
      " ARIMA(0,1,1)(0,0,0)[0]             : AIC=-9661.929, Time=0.98 sec\n",
      " ARIMA(0,1,3)(0,0,0)[0]             : AIC=-9667.309, Time=1.63 sec\n",
      " ARIMA(2,1,1)(0,0,0)[0]             : AIC=-9677.837, Time=1.52 sec\n",
      " ARIMA(2,1,3)(0,0,0)[0]             : AIC=-9674.149, Time=0.59 sec\n",
      "\n",
      "Best model:  ARIMA(1,1,2)(0,0,0)[0]          \n",
      "Total fit time: 41.434 seconds\n"
     ]
    },
    {
     "name": "stderr",
     "output_type": "stream",
     "text": [
      "C:\\Users\\86173\\anaconda3\\lib\\site-packages\\statsmodels\\tsa\\base\\tsa_model.py:471: ValueWarning: No frequency information was provided, so inferred frequency D will be used.\n",
      "  self._init_dates(dates, freq)\n",
      "C:\\Users\\86173\\anaconda3\\lib\\site-packages\\statsmodels\\tsa\\base\\tsa_model.py:471: ValueWarning: No frequency information was provided, so inferred frequency D will be used.\n",
      "  self._init_dates(dates, freq)\n",
      "C:\\Users\\86173\\anaconda3\\lib\\site-packages\\statsmodels\\tsa\\base\\tsa_model.py:471: ValueWarning: No frequency information was provided, so inferred frequency D will be used.\n",
      "  self._init_dates(dates, freq)\n"
     ]
    },
    {
     "name": "stdout",
     "output_type": "stream",
     "text": [
      "[3.2150890827178955, 372.9949340820313, 1.0661139488220217, 38.53634643554688, 50.11, 73.68887329101562, 0.8451420068740845, 0.9999639987945556, 48269.0, 635.97, 69.49895477294922, 161.7786102294922, 49062.8, 0.0042869998142123, 494.6706237792969, 2.946, 4.163629055023193, 5.866648197174072, 26.04, 0.37813600897789, 7.002458095550537, 20.4457, 0.1568839997053146, 2.1836259365081787, 0.9997, 242.52386474609372, 0.930428981781006, 179.07078552246094, 0.289669, 9.40000027185306e-05, 141.037841796875, 2.0037429332733154, 5.090341091156006, 64.0815, 3273.78, 0.4923639893531799, 0.9929310083389282, 75.22450256347656, 22.166019439697266, 49.4881, 0.0313020013272762, 299.32391357421875, 0.2540949881076813, 22.797870635986328, 0.0140479998663067, 14.368988990783691, 62.76066589355469, 1.0427169799804688, 8.160792350769043, 1.7443510293960571, 13.344459533691406, 306.1820678710937, 6.071691036224365, 176.13, 0.4978469908237457, 3752.0244140625, 2.963104009628296, 315.037, 5.315, 0.199875995516777, 55.52012634277344, 1.0006569623947144, 1.9310970306396484, 20.875673294067383, 26.134057998657227, 1.000010967254639, 1822.7208251953125, 26.524, 1.517, 12.87425422668457, 195.5912170410156, 7.000000096013537e-06, 87.897, 1.4311269521713257, 0.35733, 9.369864463806152, 12.245244026184082, 1.0006, 5.2435078620910645, 0.7104529738426208, 6.95447301864624, 10.379725456237791, 0.088285, 0.9999459981918336, 0.8999069929122925, 27.43, 2.9858, 0.9994, 0.1282150000333786, 24.67637252807617, 1.19129, 152.33831787109375, 0.1128389984369278]\n",
      "[3.211493015289306, 365.7692792775561, 1.0498461210894456, 36.344392814233636, 45.70914507044049, 71.98673271367657, 0.8401709501863522, 1.0006107317112425, 48045.12355336293, 644.0912311105202, 68.75606406204653, 160.7595292731162, 48771.066641566016, 0.004187159364305569, 491.46638931826834, 2.8788237739857028, 4.000706731706245, 5.837204295016621, 25.213588890832153, 0.375482142708855, 7.123207222865912, 19.848931492839135, 0.1558684691574219, 2.1715418646456848, 1.0000747848814278, 241.32612551612272, 0.9136550437985316, 178.09036640457987, 0.2838416612335031, 9.40000027185306e-05, 141.06983947753906, 1.950301362758647, 5.023457754954903, 64.1054, 3217.3179801719457, 0.47562101595367645, 0.9927940278399342, 75.15064239501953, 22.16410255432129, 48.34599812117489, 0.0312700010836124, 300.9458241859143, 0.24887346495853224, 22.028509328835163, 0.014538378664850192, 14.029374929064335, 66.24522335886641, 1.0405230522155762, 8.03278494537676, 1.735423723467922, 13.235589349333527, 305.9044494628906, 6.082600116729736, 175.70591058379648, 0.4967879951000213, 3698.349922361634, 2.963354110717773, 309.7147714124452, 5.2340265996125535, 0.19904657113422777, 55.42911911010742, 0.9986507458608362, 1.9177101410197959, 20.49577795667493, 26.164978686426686, 1.000416344421515, 1817.2245187911128, 25.841170192135948, 1.4694048528972816, 13.186466028530614, 191.26927086276027, 6.790420788423966e-06, 84.75765002043588, 1.4381298530796054, 0.35560296615511167, 9.581497078658689, 12.125234045656859, 1.0004424072158082, 4.967573155831618, 0.6750830627012407, 6.8649226696651455, 10.048011420458744, 0.088295, 1.0003341015106575, 0.8980910181999207, 26.90217435679147, 2.9811522726897697, 0.9995487178155676, 0.12392958832709768, 24.685904279721864, 1.200172392421222, 153.42197344013053, 0.11054210095661005]\n"
     ]
    }
   ],
   "source": [
    "aug28_actual_price=[]\n",
    "aug28_pred_price=[]\n",
    "\n",
    "for file in names:\n",
    "    df = pd.read_csv(\"data/\"+ file,index_col='Date')\n",
    "    df.index = pd.to_datetime(df.index) \n",
    "    ts_open=df['Open'] \n",
    "    ts_close=df['Close'] \n",
    "   \n",
    "        # Test for stationarity\n",
    "    def test_stationarity(timeseries):\n",
    "        # Determing rolling statistics\n",
    "        rolmean = timeseries.rolling(12).mean()\n",
    "        rolstd = timeseries.rolling(12).std()\n",
    "        adft = adfuller(timeseries,autolag='AIC')\n",
    "        output = pd.Series(adft[0:4],index=['Test Statistics','p-value','No. of lags used','Number of observations used'])\n",
    "        for key,values in adft[4].items():\n",
    "            output['critical value (%s)'%key] =  values\n",
    "    test_stationarity(ts_open)\n",
    "    test_stationarity(ts_close)\n",
    "    \n",
    "    #if not stationary then eliminate trend\n",
    "    #Eliminate trend\n",
    "    moving_avg = ts_open.rolling(12).mean()\n",
    "    std_dev = ts_open.rolling(12).std()\n",
    "    \n",
    "    moving_avg = ts_close.rolling(12).mean()\n",
    "    std_dev = ts_close.rolling(12).std()\n",
    "    \n",
    "     #split data into train and test set\n",
    "    train_data, test_data = ts_close[:pd.to_datetime('2021-08-27')], ts_close[pd.to_datetime('2021-08-27'):]\n",
    "\n",
    "    model_autoARIMA = auto_arima(train_data, start_p=0, start_q=0,\n",
    "                      test='adf',       # use adftest to find optimal 'd'\n",
    "                      max_p=3, max_q=3, # maximum p and q\n",
    "                      m=1,              # frequency of series\n",
    "                      d=None,           # let model determine 'd'\n",
    "                      seasonal=False,   # No Seasonality\n",
    "                      start_P=0, \n",
    "                      D=0, \n",
    "                      trace=True,\n",
    "                      error_action='ignore',  \n",
    "                      suppress_warnings=True, \n",
    "                      stepwise=True)\n",
    "    \n",
    "    model = sm.tsa.arima.ARIMA(train_data, order=model_autoARIMA.order)\n",
    "    fitted = model.fit()\n",
    "    \n",
    "    close_pred = fitted.forecast(test_data.size, alpha=0.05)\n",
    "    # close_pred_series = pd.Series(close_pred, index=test_data.index)\n",
    "    \n",
    "    open_actual = pd.Series(ts_open, index=ts_open.index)\n",
    "     \n",
    "    aug28_actual_price.append(open_actual.get(key = '2021-08-28'))\n",
    "    aug28_pred_price.append(close_pred.iloc[0])\n",
    "    \n",
    "print(aug28_actual_price)\n",
    "print(aug28_pred_price)"
   ]
  },
  {
   "cell_type": "code",
   "execution_count": 5,
   "id": "3b18ac26",
   "metadata": {},
   "outputs": [
    {
     "data": {
      "text/html": [
       "<div>\n",
       "<style scoped>\n",
       "    .dataframe tbody tr th:only-of-type {\n",
       "        vertical-align: middle;\n",
       "    }\n",
       "\n",
       "    .dataframe tbody tr th {\n",
       "        vertical-align: top;\n",
       "    }\n",
       "\n",
       "    .dataframe thead th {\n",
       "        text-align: right;\n",
       "    }\n",
       "</style>\n",
       "<table border=\"1\" class=\"dataframe\">\n",
       "  <thead>\n",
       "    <tr style=\"text-align: right;\">\n",
       "      <th></th>\n",
       "      <th>crypto</th>\n",
       "      <th>actual price 8.28</th>\n",
       "      <th>pred price 8.28</th>\n",
       "    </tr>\n",
       "  </thead>\n",
       "  <tbody>\n",
       "    <tr>\n",
       "      <th>12</th>\n",
       "      <td>bitcoin</td>\n",
       "      <td>49062.800000</td>\n",
       "      <td>48771.066642</td>\n",
       "    </tr>\n",
       "    <tr>\n",
       "      <th>8</th>\n",
       "      <td>Bitcoin BEP2</td>\n",
       "      <td>48269.000000</td>\n",
       "      <td>48045.123553</td>\n",
       "    </tr>\n",
       "    <tr>\n",
       "      <th>55</th>\n",
       "      <td>Maker</td>\n",
       "      <td>3752.024414</td>\n",
       "      <td>3698.349922</td>\n",
       "    </tr>\n",
       "    <tr>\n",
       "      <th>34</th>\n",
       "      <td>ethereum</td>\n",
       "      <td>3273.780000</td>\n",
       "      <td>3217.317980</td>\n",
       "    </tr>\n",
       "    <tr>\n",
       "      <th>66</th>\n",
       "      <td>PAX Gold</td>\n",
       "      <td>1822.720825</td>\n",
       "      <td>1817.224519</td>\n",
       "    </tr>\n",
       "    <tr>\n",
       "      <th>...</th>\n",
       "      <td>...</td>\n",
       "      <td>...</td>\n",
       "      <td>...</td>\n",
       "    </tr>\n",
       "    <tr>\n",
       "      <th>40</th>\n",
       "      <td>Gala</td>\n",
       "      <td>0.031302</td>\n",
       "      <td>0.031270</td>\n",
       "    </tr>\n",
       "    <tr>\n",
       "      <th>44</th>\n",
       "      <td>Holo</td>\n",
       "      <td>0.014048</td>\n",
       "      <td>0.014538</td>\n",
       "    </tr>\n",
       "    <tr>\n",
       "      <th>13</th>\n",
       "      <td>BitTorrent (New)</td>\n",
       "      <td>0.004287</td>\n",
       "      <td>0.004187</td>\n",
       "    </tr>\n",
       "    <tr>\n",
       "      <th>29</th>\n",
       "      <td>eCash</td>\n",
       "      <td>0.000094</td>\n",
       "      <td>0.000094</td>\n",
       "    </tr>\n",
       "    <tr>\n",
       "      <th>71</th>\n",
       "      <td>Shiba Inu</td>\n",
       "      <td>0.000007</td>\n",
       "      <td>0.000007</td>\n",
       "    </tr>\n",
       "  </tbody>\n",
       "</table>\n",
       "<p>93 rows × 3 columns</p>\n",
       "</div>"
      ],
      "text/plain": [
       "              crypto  actual price 8.28  pred price 8.28\n",
       "12           bitcoin       49062.800000     48771.066642\n",
       "8       Bitcoin BEP2       48269.000000     48045.123553\n",
       "55             Maker        3752.024414      3698.349922\n",
       "34          ethereum        3273.780000      3217.317980\n",
       "66          PAX Gold        1822.720825      1817.224519\n",
       "..               ...                ...              ...\n",
       "40              Gala           0.031302         0.031270\n",
       "44              Holo           0.014048         0.014538\n",
       "13  BitTorrent (New)           0.004287         0.004187\n",
       "29             eCash           0.000094         0.000094\n",
       "71         Shiba Inu           0.000007         0.000007\n",
       "\n",
       "[93 rows x 3 columns]"
      ]
     },
     "execution_count": 5,
     "metadata": {},
     "output_type": "execute_result"
    }
   ],
   "source": [
    "out = pd.DataFrame(list(zip(names, aug28_actual_price, aug28_pred_price)),\n",
    "                    columns=['crypto', 'actual price 8.28','pred price 8.28'])\n",
    "                    \n",
    "out['actual price 8.28'] = out['actual price 8.28'].astype('float64')\n",
    "out['pred price 8.28'] = out['pred price 8.28'].astype('float64')\n",
    "out['crypto'] = out['crypto'].str[:-4]\n",
    "out.to_csv('output_arima_final.csv')\n",
    "out.sort_values(by=['actual price 8.28'], ascending=False)\n",
    "out.sort_values(by=['pred price 8.28'], ascending=False)"
   ]
  }
 ],
 "metadata": {
  "kernelspec": {
   "display_name": "Python 3",
   "language": "python",
   "name": "python3"
  },
  "language_info": {
   "codemirror_mode": {
    "name": "ipython",
    "version": 3
   },
   "file_extension": ".py",
   "mimetype": "text/x-python",
   "name": "python",
   "nbconvert_exporter": "python",
   "pygments_lexer": "ipython3",
   "version": "3.8.8"
  },
  "vscode": {
   "interpreter": {
    "hash": "5b0a8a4ca0d97cff04a206145cf8d764a2c67dd87829ef23d96e35843f93170c"
   }
  }
 },
 "nbformat": 4,
 "nbformat_minor": 5
}
